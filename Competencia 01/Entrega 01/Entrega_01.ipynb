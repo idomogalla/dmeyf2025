{
 "cells": [
  {
   "cell_type": "code",
   "execution_count": null,
   "id": "150c43ca",
   "metadata": {
    "vscode": {
     "languageId": "r"
    }
   },
   "outputs": [],
   "source": [
    "# cargo las librerias que necesito\n",
    "if(!require(\"data.table\")) install.packages(\"data.table\")\n",
    "require(\"data.table\")\n",
    "\n",
    "if(!require(\"parallel\")) install.packages(\"parallel\")\n",
    "require(\"parallel\")\n",
    "\n",
    "if(!require(\"R.utils\")) install.packages(\"R.utils\")\n",
    "require(\"R.utils\")\n",
    "\n",
    "if( !require(\"primes\") ) install.packages(\"primes\")\n",
    "require(\"primes\")\n",
    "\n",
    "if( !require(\"utils\") ) install.packages(\"utils\")\n",
    "require(\"utils\")\n",
    "\n",
    "if( !require(\"rlist\") ) install.packages(\"rlist\")\n",
    "require(\"rlist\")\n",
    "\n",
    "if( !require(\"yaml\")) install.packages(\"yaml\")\n",
    "require(\"yaml\")\n",
    "\n",
    "if( !require(\"lightgbm\") ) install.packages(\"lightgbm\")\n",
    "require(\"lightgbm\")\n",
    "\n",
    "if( !require(\"DiceKriging\") ) install.packages(\"DiceKriging\")\n",
    "require(\"DiceKriging\")\n",
    "\n",
    "if( !require(\"mlrMBO\") ) install.packages(\"mlrMBO\")\n",
    "require(\"mlrMBO\")\n",
    "\n",
    "if( !require(\"ggplot2\") ) install.packages(\"ggplot2\")\n",
    "require(\"ggplot2\")"
   ]
  },
  {
   "cell_type": "markdown",
   "id": "6b7e3717",
   "metadata": {},
   "source": [
    "# Clase Ternaria"
   ]
  },
  {
   "cell_type": "code",
   "execution_count": 2,
   "id": "32d2211f",
   "metadata": {
    "vscode": {
     "languageId": "r"
    }
   },
   "outputs": [],
   "source": [
    "# Genero clase ternaria\n",
    "# leo el dataset\n",
    "dataset <- fread(\"../competencia_01_crudo.csv\" )\n",
    "\n",
    "# calculo el periodo0 consecutivo\n",
    "dsimple <- dataset[, list(\n",
    "    \"pos\" = .I,\n",
    "    numero_de_cliente,\n",
    "    periodo0 = as.integer(foto_mes/100)*12 +  foto_mes%%100 ) ]\n",
    "\n",
    "\n",
    "# ordeno\n",
    "setorder( dsimple, numero_de_cliente, periodo0 )\n",
    "\n",
    "# calculo topes\n",
    "periodo_ultimo <- dsimple[, max(periodo0) ]\n",
    "periodo_anteultimo <- periodo_ultimo - 1\n",
    "\n",
    "\n",
    "# calculo los leads de orden 1 y 2\n",
    "dsimple[, c(\"periodo1\", \"periodo2\") :=\n",
    "    shift(periodo0, n=1:2, fill=NA, type=\"lead\"),  numero_de_cliente ]\n",
    "\n",
    "# assign most common class values = \"CONTINUA\"\n",
    "dsimple[ periodo0 < periodo_anteultimo, clase_ternaria := \"CONTINUA\" ]\n",
    "\n",
    "# calculo BAJA+1\n",
    "dsimple[ periodo0 < periodo_ultimo &\n",
    "    ( is.na(periodo1) | periodo0 + 1 < periodo1 ),\n",
    "    clase_ternaria := \"BAJA+1\" ]\n",
    "\n",
    "# calculo BAJA+2\n",
    "dsimple[ periodo0 < periodo_anteultimo & (periodo0+1 == periodo1 )\n",
    "    & ( is.na(periodo2) | periodo0 + 2 < periodo2 ),\n",
    "    clase_ternaria := \"BAJA+2\" ]\n",
    "\n",
    "\n",
    "# pego el resultado en el dataset original y grabo\n",
    "setorder( dsimple, pos )\n",
    "dataset[, clase_ternaria := dsimple$clase_ternaria ]\n",
    "\n",
    "fwrite( dataset,\n",
    "    file =  \"./competencia_01.csv.gz\",\n",
    "    sep = \",\"\n",
    ")"
   ]
  },
  {
   "cell_type": "markdown",
   "id": "fc7b50e8",
   "metadata": {},
   "source": [
    "# Parámetros"
   ]
  },
  {
   "cell_type": "code",
   "execution_count": 3,
   "id": "209462b4",
   "metadata": {
    "vscode": {
     "languageId": "r"
    }
   },
   "outputs": [],
   "source": [
    "# Parámetros\n",
    "PARAM <- list()\n",
    "PARAM$experimento <- \"expC01_01\"\n",
    "PARAM$semilla_primigenia <- 200003\n",
    "\n",
    "# training y future\n",
    "PARAM$train <- c(202101, 202102)\n",
    "PARAM$train_final <- c(202101, 202102)\n",
    "PARAM$future <- c(202104)\n",
    "PARAM$train_final_kaggle <- c(202101, 202102, 202103, 202104)\n",
    "PARAM$entrega_kaggle <- c(202106)\n",
    "PARAM$semilla_kaggle <- 314159 #Semilla para el modelo final que va a Kaggle, primeros números de pi que sean primos.\n",
    "PARAM$cortes <- seq(0, 20000, by= 100)\n",
    "\n",
    "# un undersampling de 0.1  toma solo el 10% de los CONTINUA\n",
    "# undersampling de 1.0  implica tomar TODOS los datos\n",
    "\n",
    "PARAM$trainingstrategy$undersampling <- 0.5\n",
    "\n",
    "# Parametros LightGBM\n",
    "\n",
    "PARAM$hyperparametertuning$xval_folds <- 5\n",
    "\n",
    "# parametros fijos del LightGBM que se pisaran con la parte variable de la BO\n",
    "PARAM$lgbm$param_fijos <-  list(\n",
    "  boosting= \"gbdt\", # puede ir dart, ni pruebe random_forest\n",
    "  objective= \"binary\", #default regression\n",
    "  metric= \"auc\", # default \"\" \n",
    "  first_metric_only= FALSE, # default FALSE\n",
    "  boost_from_average= TRUE, # default TRUE\n",
    "  feature_pre_filter= FALSE, # default TRUE\n",
    "  force_row_wise= TRUE, # para reducir warnings\n",
    "  verbosity= -100,\n",
    "\n",
    "  seed= PARAM$semilla_primigenia,\n",
    "\n",
    "  max_depth= -1L, # -1 significa no limitar,  por ahora lo dejo fijo\n",
    "  min_gain_to_split= 0, # min_gain_to_split >= 0\n",
    "  min_sum_hessian_in_leaf= 0.001, #  min_sum_hessian_in_leaf >= 0.0\n",
    "  lambda_l1= 0.0, # lambda_l1 >= 0.0\n",
    "  lambda_l2= 0.0, # lambda_l2 >= 0.0\n",
    "  max_bin= 31L, # lo debo dejar fijo, no participa de la BO\n",
    "\n",
    "  bagging_fraction= 1.0, # 0.0 < bagging_fraction <= 1.0\n",
    "  pos_bagging_fraction= 1.0, # 0.0 < pos_bagging_fraction <= 1.0\n",
    "  neg_bagging_fraction= 1.0, # 0.0 < neg_bagging_fraction <= 1.0\n",
    "  is_unbalance= FALSE, # Default FALSE\n",
    "  scale_pos_weight= 1.0, # scale_pos_weight > 0.0\n",
    "\n",
    "  drop_rate= 0.1, # 0.0 < neg_bagging_fraction <= 1.0\n",
    "  max_drop= 50, # <=0 means no limit\n",
    "  skip_drop= 0.5, # 0.0 <= skip_drop <= 1.0\n",
    "\n",
    "  extra_trees= TRUE, # default FALSE\n",
    "\n",
    "  num_iterations= 1200, # default 100\n",
    "  learning_rate= 0.02, # default 0.1\n",
    "  feature_fraction= 0.5, # default 1\n",
    "  num_leaves= 750, # default 31\n",
    "  min_data_in_leaf= 5000 # default 20\n",
    ")\n",
    "\n",
    "# Aqui se cargan los bordes de los hiperparametros de la BO\n",
    "PARAM$hypeparametertuning$hs <- makeParamSet(\n",
    "  makeNumericParam(\"min_sum_hessian_in_leaf\", lower= 0.001, upper= 0.1),\n",
    "  makeNumericParam(\"learning_rate\", lower= 0.005, upper= 0.1),\n",
    "  makeNumericParam(\"feature_fraction\", lower= 0.1, upper= 1.0),\n",
    "  makeNumericParam(\"bagging_fraction\", lower= 0.0, upper= 1.0),\n",
    "  makeNumericParam(\"lambda_l1\", lower= 0.0, upper= 10.0),\n",
    "  makeNumericParam(\"lambda_l2\", lower= 0.0, upper= 10.0),\n",
    "  makeNumericParam(\"min_gain_to_split\", lower= 0.0, upper= 15.0),\n",
    "  makeIntegerParam(\"bagging_freq\", lower= 1L, upper= 10L),\n",
    "  makeIntegerParam(\"num_iterations\", lower= 50L, upper= 3000L),\n",
    "  makeIntegerParam(\"max_depth\", lower= -1L, upper= 15),\n",
    "  makeIntegerParam(\"num_leaves\", lower= 2L, upper= 2048L),\n",
    "  makeIntegerParam(\"min_data_in_leaf\", lower= 1L, upper= 8000L)\n",
    ")\n",
    "\n",
    "PARAM$hyperparametertuning$iteraciones <- 100 # iteraciones bayesianas"
   ]
  },
  {
   "cell_type": "markdown",
   "id": "dfb8db72",
   "metadata": {},
   "source": [
    "# Funciones"
   ]
  },
  {
   "cell_type": "code",
   "execution_count": 4,
   "id": "e0ab6486",
   "metadata": {
    "vscode": {
     "languageId": "r"
    }
   },
   "outputs": [],
   "source": [
    "# particionar agrega una columna llamada fold a un dataset\n",
    "#   que consiste en una particion estratificada segun agrupa\n",
    "# particionar( data=dataset, division=c(70,30),\n",
    "#  agrupa=clase_ternaria, seed=semilla)   crea una particion 70, 30\n",
    "\n",
    "particionar <- function(data, division, agrupa= \"\", campo= \"fold\", start= 1, seed= NA) {\n",
    "  if (!is.na(seed)) set.seed(seed, \"L'Ecuyer-CMRG\")\n",
    "\n",
    "  bloque <- unlist(mapply(\n",
    "    function(x, y) {rep(y, x)},division, seq(from= start, length.out= length(division))))\n",
    "\n",
    "  data[, (campo) := sample(rep(bloque,ceiling(.N / length(bloque))))[1:.N],by= agrupa]\n",
    "}"
   ]
  },
  {
   "cell_type": "code",
   "execution_count": 5,
   "id": "506eed41",
   "metadata": {
    "vscode": {
     "languageId": "r"
    }
   },
   "outputs": [],
   "source": [
    "# iniciliazo el dataset de realidad, para medir ganancia\n",
    "realidad_inicializar <- function( pfuture, pparam) {\n",
    "\n",
    "  # datos para verificar la ganancia\n",
    "  drealidad <- pfuture[, list(numero_de_cliente, foto_mes, clase_ternaria)]\n",
    "\n",
    "  particionar(drealidad,\n",
    "    division= c(3, 7),\n",
    "    agrupa= \"clase_ternaria\",\n",
    "    seed= PARAM$semilla_kaggle\n",
    "  )\n",
    "\n",
    "  return( drealidad )\n",
    "}"
   ]
  },
  {
   "cell_type": "code",
   "execution_count": 6,
   "id": "0d09def7",
   "metadata": {
    "vscode": {
     "languageId": "r"
    }
   },
   "outputs": [],
   "source": [
    "# evaluo ganancia en los datos de la realidad\n",
    "\n",
    "realidad_evaluar <- function( prealidad, pprediccion) {\n",
    "\n",
    "  prealidad[ pprediccion,\n",
    "    on= c(\"numero_de_cliente\", \"foto_mes\"),\n",
    "    predicted:= i.Predicted\n",
    "  ]\n",
    "\n",
    "  tbl <- prealidad[, list(\"qty\"=.N), list(fold, predicted, clase_ternaria)]\n",
    "\n",
    "  res <- list()\n",
    "  res$public  <- tbl[fold==1 & predicted==1L, sum(qty*ifelse(clase_ternaria==\"BAJA+2\", 780000, -20000))]/0.3\n",
    "  res$private <- tbl[fold==2 & predicted==1L, sum(qty*ifelse(clase_ternaria==\"BAJA+2\", 780000, -20000))]/0.7\n",
    "  res$total <- tbl[predicted==1L, sum(qty*ifelse(clase_ternaria==\"BAJA+2\", 780000, -20000))]\n",
    "\n",
    "  prealidad[, predicted:=NULL]\n",
    "  return( res )\n",
    "}"
   ]
  },
  {
   "cell_type": "markdown",
   "id": "7774b9d7",
   "metadata": {},
   "source": [
    "# Configuración del Dataset"
   ]
  },
  {
   "cell_type": "code",
   "execution_count": 7,
   "id": "b998f5d3",
   "metadata": {
    "vscode": {
     "languageId": "r"
    }
   },
   "outputs": [],
   "source": [
    "# lectura del dataset\n",
    "dataset <- fread(\"./competencia_01.csv.gz\", stringsAsFactors= TRUE)"
   ]
  },
  {
   "cell_type": "code",
   "execution_count": 8,
   "id": "a3519f78",
   "metadata": {
    "vscode": {
     "languageId": "r"
    }
   },
   "outputs": [],
   "source": [
    "# Selecciono los datos de training\n",
    "dataset_train <- dataset[foto_mes %in% PARAM$train]"
   ]
  },
  {
   "cell_type": "code",
   "execution_count": 9,
   "id": "0e9e959b",
   "metadata": {
    "vscode": {
     "languageId": "r"
    }
   },
   "outputs": [],
   "source": [
    "# paso la clase a binaria que tome valores {0,1}  enteros\n",
    "#  BAJA+1 y BAJA+2  son  1,   CONTINUA es 0\n",
    "#  a partir de ahora ya NO puedo cortar  por prob(BAJA+2) > 1/40\n",
    "\n",
    "dataset_train[,\n",
    "  clase01 := ifelse(clase_ternaria %in% c(\"BAJA+2\",\"BAJA+1\"), 1L, 0L)\n",
    "]"
   ]
  },
  {
   "cell_type": "code",
   "execution_count": 10,
   "id": "df466eab",
   "metadata": {
    "vscode": {
     "languageId": "r"
    }
   },
   "outputs": [],
   "source": [
    "# defino los datos que forma parte del training\n",
    "# aqui se hace el undersampling de los CONTINUA\n",
    "# notar que para esto utilizo la SEGUNDA semilla\n",
    "\n",
    "set.seed(PARAM$semilla_primigenia, kind = \"L'Ecuyer-CMRG\")\n",
    "dataset_train[, azar := runif(nrow(dataset_train))]\n",
    "dataset_train[, training := 0L]\n",
    "\n",
    "dataset_train[\n",
    "  foto_mes %in%  PARAM$train &\n",
    "    (azar <= PARAM$trainingstrategy$undersampling | clase_ternaria %in% c(\"BAJA+1\", \"BAJA+2\")),\n",
    "  training := 1L\n",
    "]"
   ]
  },
  {
   "cell_type": "code",
   "execution_count": 11,
   "id": "9887427e",
   "metadata": {
    "vscode": {
     "languageId": "r"
    }
   },
   "outputs": [],
   "source": [
    "# Me quedo con los campos a ser utilizados en el entrenamiento\n",
    "\n",
    "campos_buenos <- setdiff(\n",
    "  colnames(dataset_train),\n",
    "  c(\"clase_ternaria\", \"clase01\", \"azar\", \"training\")\n",
    ")"
   ]
  },
  {
   "cell_type": "code",
   "execution_count": 12,
   "id": "c944ff93",
   "metadata": {
    "vscode": {
     "languageId": "r"
    }
   },
   "outputs": [
    {
     "data": {
      "text/html": [
       "163737"
      ],
      "text/latex": [
       "163737"
      ],
      "text/markdown": [
       "163737"
      ],
      "text/plain": [
       "[1] 163737"
      ]
     },
     "metadata": {},
     "output_type": "display_data"
    },
    {
     "data": {
      "text/html": [
       "154"
      ],
      "text/latex": [
       "154"
      ],
      "text/markdown": [
       "154"
      ],
      "text/plain": [
       "[1] 154"
      ]
     },
     "metadata": {},
     "output_type": "display_data"
    }
   ],
   "source": [
    "# dejo los datos en el formato que necesita LightGBM\n",
    "\n",
    "dtrain <- lgb.Dataset(\n",
    "  data= data.matrix(dataset_train[training == 1L, campos_buenos, with= FALSE]),\n",
    "  label= dataset_train[training == 1L, clase01],\n",
    "  free_raw_data= FALSE\n",
    ")\n",
    "\n",
    "nrow(dtrain)\n",
    "ncol(dtrain)"
   ]
  },
  {
   "cell_type": "markdown",
   "id": "cd8ba0ef",
   "metadata": {},
   "source": [
    "# Bayesian Optimization"
   ]
  },
  {
   "cell_type": "code",
   "execution_count": 13,
   "id": "c4e963ed",
   "metadata": {
    "vscode": {
     "languageId": "r"
    }
   },
   "outputs": [],
   "source": [
    "# En el argumento x llegan los parmaetros de la bayesiana\n",
    "#  devuelve la AUC en cross validation del modelo entrenado\n",
    "\n",
    "EstimarGanancia_AUC_lightgbm <- function(x) {\n",
    "\n",
    "  # x pisa (o agrega) a param_fijos\n",
    "  param_completo <- modifyList(PARAM$lgbm$param_fijos, x)\n",
    "\n",
    "  # entreno LightGBM\n",
    "  modelocv <- lgb.cv(\n",
    "    data= dtrain,\n",
    "    nfold= PARAM$hyperparametertuning$xval_folds,\n",
    "    stratified= TRUE,\n",
    "    param= param_completo\n",
    "  )\n",
    "\n",
    "  # obtengo la ganancia\n",
    "  AUC <- modelocv$best_score\n",
    "\n",
    "  # hago espacio en la memoria\n",
    "  rm(modelocv)\n",
    "  gc(full= TRUE, verbose= FALSE)\n",
    "\n",
    "  message(format(Sys.time(), \"%a %b %d %X %Y\"), \" AUC \", AUC)\n",
    "\n",
    "  return(AUC)\n",
    "}"
   ]
  },
  {
   "cell_type": "code",
   "execution_count": 14,
   "id": "56fa3453",
   "metadata": {
    "vscode": {
     "languageId": "r"
    }
   },
   "outputs": [],
   "source": [
    "# Aqui comienza la configuracion de la Bayesian Optimization\n",
    "\n",
    "# en este archivo quedan la evolucion binaria de la BO\n",
    "kbayesiana <- paste0(\"bayesiana.RDATA\")\n",
    "\n",
    "funcion_optimizar <- EstimarGanancia_AUC_lightgbm # la funcion que voy a maximizar\n",
    "\n",
    "configureMlr(show.learner.output= FALSE)\n",
    "\n",
    "# configuro la busqueda bayesiana,  los hiperparametros que se van a optimizar\n",
    "# por favor, no desesperarse por lo complejo\n",
    "\n",
    "obj.fun <- makeSingleObjectiveFunction(\n",
    "  fn= funcion_optimizar, # la funcion que voy a maximizar\n",
    "  minimize= FALSE, # estoy Maximizando la ganancia\n",
    "  noisy= TRUE,\n",
    "  par.set= PARAM$hypeparametertuning$hs, # definido al comienzo del programa\n",
    "  has.simple.signature= FALSE # paso los parametros en una lista\n",
    ")\n",
    "\n",
    "# cada 600 segundos guardo el resultado intermedio\n",
    "ctrl <- makeMBOControl(\n",
    "  save.on.disk.at.time= 600, # se graba cada 600 segundos\n",
    "  save.file.path= kbayesiana\n",
    ") # se graba cada 600 segundos\n",
    "\n",
    "# indico la cantidad de iteraciones que va a tener la Bayesian Optimization\n",
    "ctrl <- setMBOControlTermination(\n",
    "  ctrl,\n",
    "  iters= PARAM$hyperparametertuning$iteraciones\n",
    ") # cantidad de iteraciones\n",
    "\n",
    "# defino el método estandar para la creacion de los puntos iniciales,\n",
    "# los \"No Inteligentes\"\n",
    "ctrl <- setMBOControlInfill(ctrl, crit= makeMBOInfillCritEI())\n",
    "\n",
    "# establezco la funcion que busca el maximo\n",
    "surr.km <- makeLearner(\n",
    "  \"regr.km\",\n",
    "  predict.type= \"se\",\n",
    "  covtype= \"matern3_2\",\n",
    "  control= list(trace= TRUE)\n",
    ")\n"
   ]
  },
  {
   "cell_type": "code",
   "execution_count": 15,
   "id": "62d79bf0",
   "metadata": {
    "vscode": {
     "languageId": "r"
    }
   },
   "outputs": [
    {
     "name": "stderr",
     "output_type": "stream",
     "text": [
      "Warning message in mboContinue(kbayesiana):\n",
      "\"Tuning ended with term.iter. No need to continue. Simply returning stored result.\"\n"
     ]
    }
   ],
   "source": [
    "# inicio la optimizacion bayesiana, retomando si ya existe\n",
    "# es la celda mas lenta de todo el notebook\n",
    "\n",
    "if (!file.exists(kbayesiana)) {\n",
    "  bayesiana_salida <- mbo(obj.fun, learner= surr.km, control= ctrl)\n",
    "} else {\n",
    "  bayesiana_salida <- mboContinue(kbayesiana) # retomo en caso que ya exista\n",
    "}"
   ]
  },
  {
   "cell_type": "code",
   "execution_count": 16,
   "id": "e60c2d38",
   "metadata": {
    "vscode": {
     "languageId": "r"
    }
   },
   "outputs": [
    {
     "data": {
      "text/html": [
       "<style>\n",
       ".list-inline {list-style: none; margin:0; padding: 0}\n",
       ".list-inline>li {display: inline-block}\n",
       ".list-inline>li:not(:last-child)::after {content: \"\\00b7\"; padding: 0 .5ex}\n",
       "</style>\n",
       "<ol class=list-inline><li>'min_sum_hessian_in_leaf'</li><li>'learning_rate'</li><li>'feature_fraction'</li><li>'bagging_fraction'</li><li>'lambda_l1'</li><li>'lambda_l2'</li><li>'min_gain_to_split'</li><li>'bagging_freq'</li><li>'num_iterations'</li><li>'max_depth'</li><li>'num_leaves'</li><li>'min_data_in_leaf'</li><li>'y'</li><li>'dob'</li><li>'eol'</li><li>'error.message'</li><li>'exec.time'</li><li>'ei'</li><li>'error.model'</li><li>'train.time'</li><li>'prop.type'</li><li>'propose.time'</li><li>'se'</li><li>'mean'</li></ol>\n"
      ],
      "text/latex": [
       "\\begin{enumerate*}\n",
       "\\item 'min\\_sum\\_hessian\\_in\\_leaf'\n",
       "\\item 'learning\\_rate'\n",
       "\\item 'feature\\_fraction'\n",
       "\\item 'bagging\\_fraction'\n",
       "\\item 'lambda\\_l1'\n",
       "\\item 'lambda\\_l2'\n",
       "\\item 'min\\_gain\\_to\\_split'\n",
       "\\item 'bagging\\_freq'\n",
       "\\item 'num\\_iterations'\n",
       "\\item 'max\\_depth'\n",
       "\\item 'num\\_leaves'\n",
       "\\item 'min\\_data\\_in\\_leaf'\n",
       "\\item 'y'\n",
       "\\item 'dob'\n",
       "\\item 'eol'\n",
       "\\item 'error.message'\n",
       "\\item 'exec.time'\n",
       "\\item 'ei'\n",
       "\\item 'error.model'\n",
       "\\item 'train.time'\n",
       "\\item 'prop.type'\n",
       "\\item 'propose.time'\n",
       "\\item 'se'\n",
       "\\item 'mean'\n",
       "\\end{enumerate*}\n"
      ],
      "text/markdown": [
       "1. 'min_sum_hessian_in_leaf'\n",
       "2. 'learning_rate'\n",
       "3. 'feature_fraction'\n",
       "4. 'bagging_fraction'\n",
       "5. 'lambda_l1'\n",
       "6. 'lambda_l2'\n",
       "7. 'min_gain_to_split'\n",
       "8. 'bagging_freq'\n",
       "9. 'num_iterations'\n",
       "10. 'max_depth'\n",
       "11. 'num_leaves'\n",
       "12. 'min_data_in_leaf'\n",
       "13. 'y'\n",
       "14. 'dob'\n",
       "15. 'eol'\n",
       "16. 'error.message'\n",
       "17. 'exec.time'\n",
       "18. 'ei'\n",
       "19. 'error.model'\n",
       "20. 'train.time'\n",
       "21. 'prop.type'\n",
       "22. 'propose.time'\n",
       "23. 'se'\n",
       "24. 'mean'\n",
       "\n",
       "\n"
      ],
      "text/plain": [
       " [1] \"min_sum_hessian_in_leaf\" \"learning_rate\"          \n",
       " [3] \"feature_fraction\"        \"bagging_fraction\"       \n",
       " [5] \"lambda_l1\"               \"lambda_l2\"              \n",
       " [7] \"min_gain_to_split\"       \"bagging_freq\"           \n",
       " [9] \"num_iterations\"          \"max_depth\"              \n",
       "[11] \"num_leaves\"              \"min_data_in_leaf\"       \n",
       "[13] \"y\"                       \"dob\"                    \n",
       "[15] \"eol\"                     \"error.message\"          \n",
       "[17] \"exec.time\"               \"ei\"                     \n",
       "[19] \"error.model\"             \"train.time\"             \n",
       "[21] \"prop.type\"               \"propose.time\"           \n",
       "[23] \"se\"                      \"mean\"                   "
      ]
     },
     "metadata": {},
     "output_type": "display_data"
    }
   ],
   "source": [
    "tb_bayesiana <- as.data.table(bayesiana_salida$opt.path)\n",
    "colnames( tb_bayesiana)"
   ]
  },
  {
   "cell_type": "code",
   "execution_count": 17,
   "id": "666d5785",
   "metadata": {
    "vscode": {
     "languageId": "r"
    }
   },
   "outputs": [
    {
     "name": "stdout",
     "output_type": "stream",
     "text": [
      "   min_sum_hessian_in_leaf learning_rate feature_fraction bagging_fraction\n",
      "                     <num>         <num>            <num>            <num>\n",
      "1:              0.05738828    0.09004927        0.7601894        0.6914764\n",
      "   lambda_l1 lambda_l2 min_gain_to_split bagging_freq num_iterations max_depth\n",
      "       <num>     <num>             <num>        <int>          <int>     <int>\n",
      "1:  4.477845  1.223634         0.1407073            6           1164         5\n",
      "   num_leaves min_data_in_leaf\n",
      "        <int>            <int>\n",
      "1:       1842              266\n",
      "[1] 0.9336926\n"
     ]
    }
   ],
   "source": [
    "# almaceno los resultados de la Bayesian Optimization\n",
    "# y capturo los mejores hiperparametros encontrados\n",
    "\n",
    "tb_bayesiana <- as.data.table(bayesiana_salida$opt.path)\n",
    "\n",
    "tb_bayesiana[, iter := .I]\n",
    "\n",
    "# ordeno en forma descendente por AUC = y\n",
    "setorder(tb_bayesiana, -y)\n",
    "\n",
    "# grabo para eventualmente poder utilizarlos en OTRA corrida\n",
    "fwrite( tb_bayesiana,\n",
    "  file= \"BO_log.txt\",\n",
    "  sep= \"\\t\"\n",
    ")\n",
    "\n",
    "# los mejores hiperparámetros son los que quedaron en el registro 1 de la tabla\n",
    "PARAM$out$lgbm$mejores_hiperparametros <- tb_bayesiana[\n",
    "  1, # el primero es el de mejor AUC\n",
    "  setdiff(colnames(tb_bayesiana),\n",
    "    c(\"y\",\"dob\",\"eol\",\"error.message\",\"exec.time\",\"ei\",\"error.model\",\n",
    "      \"train.time\",\"prop.type\",\"propose.time\",\"se\",\"mean\",\"iter\")),\n",
    "  with= FALSE\n",
    "]\n",
    "\n",
    "\n",
    "PARAM$out$lgbm$y <- tb_bayesiana[1, y]\n",
    "\n",
    "write_yaml(PARAM, file=\"PARAM.yml\")\n",
    "\n",
    "print(PARAM$out$lgbm$mejores_hiperparametros)\n",
    "print(PARAM$out$lgbm$y)"
   ]
  },
  {
   "cell_type": "markdown",
   "id": "dec8b80f",
   "metadata": {},
   "source": [
    "# Entrenamiento Final"
   ]
  },
  {
   "cell_type": "code",
   "execution_count": 18,
   "id": "d5b207e6",
   "metadata": {
    "vscode": {
     "languageId": "r"
    }
   },
   "outputs": [
    {
     "data": {
      "text/html": [
       "<table class=\"dataframe\">\n",
       "<caption>A data.table: 3 × 2</caption>\n",
       "<thead>\n",
       "\t<tr><th scope=col>clase_ternaria</th><th scope=col>N</th></tr>\n",
       "\t<tr><th scope=col>&lt;fct&gt;</th><th scope=col>&lt;int&gt;</th></tr>\n",
       "</thead>\n",
       "<tbody>\n",
       "\t<tr><td>CONTINUA</td><td>320372</td></tr>\n",
       "\t<tr><td>BAJA+2  </td><td>  1857</td></tr>\n",
       "\t<tr><td>BAJA+1  </td><td>  1453</td></tr>\n",
       "</tbody>\n",
       "</table>\n"
      ],
      "text/latex": [
       "A data.table: 3 × 2\n",
       "\\begin{tabular}{ll}\n",
       " clase\\_ternaria & N\\\\\n",
       " <fct> & <int>\\\\\n",
       "\\hline\n",
       "\t CONTINUA & 320372\\\\\n",
       "\t BAJA+2   &   1857\\\\\n",
       "\t BAJA+1   &   1453\\\\\n",
       "\\end{tabular}\n"
      ],
      "text/markdown": [
       "\n",
       "A data.table: 3 × 2\n",
       "\n",
       "| clase_ternaria &lt;fct&gt; | N &lt;int&gt; |\n",
       "|---|---|\n",
       "| CONTINUA | 320372 |\n",
       "| BAJA+2   |   1857 |\n",
       "| BAJA+1   |   1453 |\n",
       "\n"
      ],
      "text/plain": [
       "  clase_ternaria N     \n",
       "1 CONTINUA       320372\n",
       "2 BAJA+2           1857\n",
       "3 BAJA+1           1453"
      ]
     },
     "metadata": {},
     "output_type": "display_data"
    },
    {
     "data": {
      "text/html": [
       "<dl>\n",
       "\t<dt>$boosting</dt>\n",
       "\t\t<dd>'gbdt'</dd>\n",
       "\t<dt>$objective</dt>\n",
       "\t\t<dd>'binary'</dd>\n",
       "\t<dt>$metric</dt>\n",
       "\t\t<dd>'auc'</dd>\n",
       "\t<dt>$first_metric_only</dt>\n",
       "\t\t<dd>FALSE</dd>\n",
       "\t<dt>$boost_from_average</dt>\n",
       "\t\t<dd>TRUE</dd>\n",
       "\t<dt>$feature_pre_filter</dt>\n",
       "\t\t<dd>FALSE</dd>\n",
       "\t<dt>$force_row_wise</dt>\n",
       "\t\t<dd>TRUE</dd>\n",
       "\t<dt>$verbosity</dt>\n",
       "\t\t<dd>-100</dd>\n",
       "\t<dt>$seed</dt>\n",
       "\t\t<dd>200003</dd>\n",
       "\t<dt>$max_depth</dt>\n",
       "\t\t<dd>5</dd>\n",
       "\t<dt>$min_gain_to_split</dt>\n",
       "\t\t<dd>0.140707323471835</dd>\n",
       "\t<dt>$min_sum_hessian_in_leaf</dt>\n",
       "\t\t<dd>0.0573882802944526</dd>\n",
       "\t<dt>$lambda_l1</dt>\n",
       "\t\t<dd>4.47784490866167</dd>\n",
       "\t<dt>$lambda_l2</dt>\n",
       "\t\t<dd>1.22363444457981</dd>\n",
       "\t<dt>$max_bin</dt>\n",
       "\t\t<dd>31</dd>\n",
       "\t<dt>$bagging_fraction</dt>\n",
       "\t\t<dd>0.69147641081921</dd>\n",
       "\t<dt>$pos_bagging_fraction</dt>\n",
       "\t\t<dd>1</dd>\n",
       "\t<dt>$neg_bagging_fraction</dt>\n",
       "\t\t<dd>1</dd>\n",
       "\t<dt>$is_unbalance</dt>\n",
       "\t\t<dd>FALSE</dd>\n",
       "\t<dt>$scale_pos_weight</dt>\n",
       "\t\t<dd>1</dd>\n",
       "\t<dt>$drop_rate</dt>\n",
       "\t\t<dd>0.1</dd>\n",
       "\t<dt>$max_drop</dt>\n",
       "\t\t<dd>50</dd>\n",
       "\t<dt>$skip_drop</dt>\n",
       "\t\t<dd>0.5</dd>\n",
       "\t<dt>$extra_trees</dt>\n",
       "\t\t<dd>TRUE</dd>\n",
       "\t<dt>$num_iterations</dt>\n",
       "\t\t<dd>1164</dd>\n",
       "\t<dt>$learning_rate</dt>\n",
       "\t\t<dd>0.0900492691344952</dd>\n",
       "\t<dt>$feature_fraction</dt>\n",
       "\t\t<dd>0.760189437129097</dd>\n",
       "\t<dt>$num_leaves</dt>\n",
       "\t\t<dd>1842</dd>\n",
       "\t<dt>$min_data_in_leaf</dt>\n",
       "\t\t<dd>266</dd>\n",
       "\t<dt>$bagging_freq</dt>\n",
       "\t\t<dd>6</dd>\n",
       "</dl>\n"
      ],
      "text/latex": [
       "\\begin{description}\n",
       "\\item[\\$boosting] 'gbdt'\n",
       "\\item[\\$objective] 'binary'\n",
       "\\item[\\$metric] 'auc'\n",
       "\\item[\\$first\\_metric\\_only] FALSE\n",
       "\\item[\\$boost\\_from\\_average] TRUE\n",
       "\\item[\\$feature\\_pre\\_filter] FALSE\n",
       "\\item[\\$force\\_row\\_wise] TRUE\n",
       "\\item[\\$verbosity] -100\n",
       "\\item[\\$seed] 200003\n",
       "\\item[\\$max\\_depth] 5\n",
       "\\item[\\$min\\_gain\\_to\\_split] 0.140707323471835\n",
       "\\item[\\$min\\_sum\\_hessian\\_in\\_leaf] 0.0573882802944526\n",
       "\\item[\\$lambda\\_l1] 4.47784490866167\n",
       "\\item[\\$lambda\\_l2] 1.22363444457981\n",
       "\\item[\\$max\\_bin] 31\n",
       "\\item[\\$bagging\\_fraction] 0.69147641081921\n",
       "\\item[\\$pos\\_bagging\\_fraction] 1\n",
       "\\item[\\$neg\\_bagging\\_fraction] 1\n",
       "\\item[\\$is\\_unbalance] FALSE\n",
       "\\item[\\$scale\\_pos\\_weight] 1\n",
       "\\item[\\$drop\\_rate] 0.1\n",
       "\\item[\\$max\\_drop] 50\n",
       "\\item[\\$skip\\_drop] 0.5\n",
       "\\item[\\$extra\\_trees] TRUE\n",
       "\\item[\\$num\\_iterations] 1164\n",
       "\\item[\\$learning\\_rate] 0.0900492691344952\n",
       "\\item[\\$feature\\_fraction] 0.760189437129097\n",
       "\\item[\\$num\\_leaves] 1842\n",
       "\\item[\\$min\\_data\\_in\\_leaf] 266\n",
       "\\item[\\$bagging\\_freq] 6\n",
       "\\end{description}\n"
      ],
      "text/markdown": [
       "$boosting\n",
       ":   'gbdt'\n",
       "$objective\n",
       ":   'binary'\n",
       "$metric\n",
       ":   'auc'\n",
       "$first_metric_only\n",
       ":   FALSE\n",
       "$boost_from_average\n",
       ":   TRUE\n",
       "$feature_pre_filter\n",
       ":   FALSE\n",
       "$force_row_wise\n",
       ":   TRUE\n",
       "$verbosity\n",
       ":   -100\n",
       "$seed\n",
       ":   200003\n",
       "$max_depth\n",
       ":   5\n",
       "$min_gain_to_split\n",
       ":   0.140707323471835\n",
       "$min_sum_hessian_in_leaf\n",
       ":   0.0573882802944526\n",
       "$lambda_l1\n",
       ":   4.47784490866167\n",
       "$lambda_l2\n",
       ":   1.22363444457981\n",
       "$max_bin\n",
       ":   31\n",
       "$bagging_fraction\n",
       ":   0.69147641081921\n",
       "$pos_bagging_fraction\n",
       ":   1\n",
       "$neg_bagging_fraction\n",
       ":   1\n",
       "$is_unbalance\n",
       ":   FALSE\n",
       "$scale_pos_weight\n",
       ":   1\n",
       "$drop_rate\n",
       ":   0.1\n",
       "$max_drop\n",
       ":   50\n",
       "$skip_drop\n",
       ":   0.5\n",
       "$extra_trees\n",
       ":   TRUE\n",
       "$num_iterations\n",
       ":   1164\n",
       "$learning_rate\n",
       ":   0.0900492691344952\n",
       "$feature_fraction\n",
       ":   0.760189437129097\n",
       "$num_leaves\n",
       ":   1842\n",
       "$min_data_in_leaf\n",
       ":   266\n",
       "$bagging_freq\n",
       ":   6\n",
       "\n",
       "\n"
      ],
      "text/plain": [
       "$boosting\n",
       "[1] \"gbdt\"\n",
       "\n",
       "$objective\n",
       "[1] \"binary\"\n",
       "\n",
       "$metric\n",
       "[1] \"auc\"\n",
       "\n",
       "$first_metric_only\n",
       "[1] FALSE\n",
       "\n",
       "$boost_from_average\n",
       "[1] TRUE\n",
       "\n",
       "$feature_pre_filter\n",
       "[1] FALSE\n",
       "\n",
       "$force_row_wise\n",
       "[1] TRUE\n",
       "\n",
       "$verbosity\n",
       "[1] -100\n",
       "\n",
       "$seed\n",
       "[1] 200003\n",
       "\n",
       "$max_depth\n",
       "[1] 5\n",
       "\n",
       "$min_gain_to_split\n",
       "[1] 0.1407073\n",
       "\n",
       "$min_sum_hessian_in_leaf\n",
       "[1] 0.05738828\n",
       "\n",
       "$lambda_l1\n",
       "[1] 4.477845\n",
       "\n",
       "$lambda_l2\n",
       "[1] 1.223634\n",
       "\n",
       "$max_bin\n",
       "[1] 31\n",
       "\n",
       "$bagging_fraction\n",
       "[1] 0.6914764\n",
       "\n",
       "$pos_bagging_fraction\n",
       "[1] 1\n",
       "\n",
       "$neg_bagging_fraction\n",
       "[1] 1\n",
       "\n",
       "$is_unbalance\n",
       "[1] FALSE\n",
       "\n",
       "$scale_pos_weight\n",
       "[1] 1\n",
       "\n",
       "$drop_rate\n",
       "[1] 0.1\n",
       "\n",
       "$max_drop\n",
       "[1] 50\n",
       "\n",
       "$skip_drop\n",
       "[1] 0.5\n",
       "\n",
       "$extra_trees\n",
       "[1] TRUE\n",
       "\n",
       "$num_iterations\n",
       "[1] 1164\n",
       "\n",
       "$learning_rate\n",
       "[1] 0.09004927\n",
       "\n",
       "$feature_fraction\n",
       "[1] 0.7601894\n",
       "\n",
       "$num_leaves\n",
       "[1] 1842\n",
       "\n",
       "$min_data_in_leaf\n",
       "[1] 266\n",
       "\n",
       "$bagging_freq\n",
       "[1] 6\n"
      ]
     },
     "metadata": {},
     "output_type": "display_data"
    }
   ],
   "source": [
    "# clase01\n",
    "dataset[, clase01 := ifelse(clase_ternaria %in% c(\"BAJA+1\", \"BAJA+2\"), 1L, 0L)]\n",
    "\n",
    "dataset_train <- dataset[foto_mes %in% PARAM$train_final]\n",
    "dataset_train[,.N,clase_ternaria]\n",
    "\n",
    "# dejo los datos en el formato que necesita LightGBM\n",
    "dtrain_final <- lgb.Dataset(\n",
    "  data= data.matrix(dataset_train[, campos_buenos, with= FALSE]),\n",
    "  label= dataset_train[, clase01]\n",
    ")\n",
    "\n",
    "# Entrenamiento final\n",
    "param_final <- modifyList(PARAM$lgbm$param_fijos,\n",
    "  PARAM$out$lgbm$mejores_hiperparametros)\n",
    "\n",
    "param_final"
   ]
  },
  {
   "cell_type": "code",
   "execution_count": 19,
   "id": "8b27f6e6",
   "metadata": {
    "vscode": {
     "languageId": "r"
    }
   },
   "outputs": [],
   "source": [
    "# este punto es muy SUTIL  y será revisado en la Clase 05\n",
    "\n",
    "param_normalizado <- copy(param_final)\n",
    "param_normalizado$min_data_in_leaf <-  round(param_final$min_data_in_leaf / PARAM$trainingstrategy$undersampling)\n",
    "\n",
    "# entreno LightGBM\n",
    "\n",
    "modelo_final <- lgb.train(\n",
    "  data= dtrain_final,\n",
    "  param= param_normalizado\n",
    ")\n",
    "\n",
    "# ahora imprimo la importancia de variables\n",
    "tb_importancia <- as.data.table(lgb.importance(modelo_final))\n",
    "archivo_importancia <- \"impo.txt\"\n",
    "\n",
    "fwrite(tb_importancia,\n",
    "  file= archivo_importancia,\n",
    "  sep= \"\\t\"\n",
    ")"
   ]
  },
  {
   "cell_type": "code",
   "execution_count": 20,
   "id": "38d9a4f8",
   "metadata": {
    "vscode": {
     "languageId": "r"
    }
   },
   "outputs": [],
   "source": [
    "# grabo a disco el modelo en un formato para seres humanos ... ponele ...\n",
    "lgb.save(modelo_final, \"modelo.txt\" )"
   ]
  },
  {
   "cell_type": "markdown",
   "id": "a3f26857",
   "metadata": {},
   "source": [
    "# Validación Final"
   ]
  },
  {
   "cell_type": "code",
   "execution_count": 21,
   "id": "235126c5",
   "metadata": {
    "vscode": {
     "languageId": "r"
    }
   },
   "outputs": [],
   "source": [
    "# aplico el modelo a los datos sin clase\n",
    "dfuture <- dataset[foto_mes %in% PARAM$future]\n",
    "\n",
    "# aplico el modelo a los datos nuevos\n",
    "prediccion <- predict(\n",
    "  modelo_final,\n",
    "  data.matrix(dfuture[, campos_buenos, with= FALSE])\n",
    ")"
   ]
  },
  {
   "cell_type": "code",
   "execution_count": 22,
   "id": "e491d386",
   "metadata": {
    "vscode": {
     "languageId": "r"
    }
   },
   "outputs": [],
   "source": [
    "# inicilizo el dataset  drealidad\n",
    "drealidad <- realidad_inicializar( dfuture, PARAM)"
   ]
  },
  {
   "cell_type": "code",
   "execution_count": 23,
   "id": "3d6f37c6",
   "metadata": {
    "vscode": {
     "languageId": "r"
    }
   },
   "outputs": [],
   "source": [
    "# tabla de prediccion\n",
    "\n",
    "tb_prediccion <- dfuture[, list(numero_de_cliente, foto_mes)]\n",
    "tb_prediccion[, prob := prediccion ]\n",
    "\n",
    "# grabo las probabilidad del modelo\n",
    "fwrite(tb_prediccion,\n",
    "  file= \"prediccion.txt\",\n",
    "  sep= \"\\t\"\n",
    ")"
   ]
  },
  {
   "cell_type": "code",
   "execution_count": null,
   "id": "e6d860d0",
   "metadata": {
    "vscode": {
     "languageId": "r"
    }
   },
   "outputs": [
    {
     "name": "stderr",
     "output_type": "stream",
     "text": [
      "Warning message in dir.create(\"kaggle\"):\n",
      "\"'kaggle' already exists\"\n"
     ]
    },
    {
     "name": "stdout",
     "output_type": "stream",
     "text": [
      "Envios=0\t TOTAL=780000  Public=0 Private=1114286\n",
      "Envios=100\t TOTAL=18000000  Public=8800000 Private=21942857\n",
      "Envios=200\t TOTAL=30400000  Public=28133333 Private=31371429\n",
      "Envios=300\t TOTAL=48400000  Public=37133333 Private=53228571\n",
      "Envios=400\t TOTAL=65600000  Public=51000000 Private=71857143\n",
      "Envios=500\t TOTAL=81200000  Public=59666667 Private=90428571\n",
      "Envios=600\t TOTAL=93600000  Public=73400000 Private=102257143\n",
      "Envios=700\t TOTAL=104400000  Public=79333333 Private=115142857\n",
      "Envios=800\t TOTAL=117600000  Public=87733333 Private=130400000\n",
      "Envios=900\t TOTAL=130000000  Public=96533333 Private=144342857\n",
      "Envios=1000\t TOTAL=138400000  Public=107533333 Private=151628571\n",
      "Envios=1100\t TOTAL=145200000  Public=105733333 Private=162114286\n",
      "Envios=1200\t TOTAL=151200000  Public=111666667 Private=168142857\n",
      "Envios=1300\t TOTAL=157200000  Public=118000000 Private=174000000\n",
      "Envios=1400\t TOTAL=161600000  Public=121066667 Private=178971429\n",
      "Envios=1500\t TOTAL=162800000  Public=127066667 Private=178114286\n",
      "Envios=1600\t TOTAL=171200000  Public=135266667 Private=186600000\n",
      "Envios=1700\t TOTAL=182000000  Public=146533333 Private=197200000\n",
      "Envios=1800\t TOTAL=192000000  Public=160200000 Private=205628571\n",
      "Envios=1900\t TOTAL=196400000  Public=163666667 Private=210428571\n",
      "Envios=2000\t TOTAL=200000000  Public=164200000 Private=215342857\n",
      "Envios=2100\t TOTAL=206000000  Public=169800000 Private=221514286\n",
      "Envios=2200\t TOTAL=210400000  Public=170666667 Private=227428571\n",
      "Envios=2300\t TOTAL=216400000  Public=179000000 Private=232428571\n",
      "Envios=2400\t TOTAL=221600000  Public=181933333 Private=238600000\n",
      "Envios=2500\t TOTAL=226000000  Public=185200000 Private=243485714\n",
      "Envios=2600\t TOTAL=228000000  Public=186333333 Private=245857143\n",
      "Envios=2700\t TOTAL=234000000  Public=199666667 Private=248714286\n",
      "Envios=2800\t TOTAL=239200000  Public=203600000 Private=254457143\n",
      "Envios=2900\t TOTAL=241200000  Public=201600000 Private=258171429\n",
      "Envios=3000\t TOTAL=243200000  Public=204666667 Private=259714286\n",
      "Envios=3100\t TOTAL=248400000  Public=208133333 Private=265657143\n",
      "Envios=3200\t TOTAL=254400000  Public=214000000 Private=271714286\n",
      "Envios=3300\t TOTAL=257200000  Public=217133333 Private=274371429\n",
      "Envios=3400\t TOTAL=260000000  Public=215466667 Private=279085714\n",
      "Envios=3500\t TOTAL=264400000  Public=221800000 Private=282657143\n",
      "Envios=3600\t TOTAL=267200000  Public=225133333 Private=285228571\n",
      "Envios=3700\t TOTAL=273200000  Public=231333333 Private=291142857\n",
      "Envios=3800\t TOTAL=272800000  Public=231866667 Private=290342857\n",
      "Envios=3900\t TOTAL=272400000  Public=229800000 Private=290657143\n",
      "Envios=4000\t TOTAL=280000000  Public=240466667 Private=296942857\n",
      "Envios=4100\t TOTAL=280400000  Public=243533333 Private=296200000\n",
      "Envios=4200\t TOTAL=284800000  Public=249466667 Private=299942857\n",
      "Envios=4300\t TOTAL=287600000  Public=250000000 Private=303714286\n",
      "Envios=4400\t TOTAL=288800000  Public=247733333 Private=306400000\n",
      "Envios=4500\t TOTAL=291600000  Public=253400000 Private=307971429\n",
      "Envios=4600\t TOTAL=296000000  Public=259400000 Private=311685714\n",
      "Envios=4700\t TOTAL=299600000  Public=265266667 Private=314314286\n",
      "Envios=4800\t TOTAL=302400000  Public=270933333 Private=315885714\n",
      "Envios=4900\t TOTAL=305200000  Public=276866667 Private=317342857\n",
      "Envios=5000\t TOTAL=306400000  Public=277000000 Private=319000000\n",
      "Envios=5100\t TOTAL=310000000  Public=285400000 Private=320542857\n",
      "Envios=5200\t TOTAL=309600000  Public=283866667 Private=320628571\n",
      "Envios=5300\t TOTAL=313200000  Public=284400000 Private=325542857\n",
      "Envios=5400\t TOTAL=312800000  Public=282133333 Private=325942857\n",
      "Envios=5500\t TOTAL=314800000  Public=285600000 Private=327314286\n",
      "Envios=5600\t TOTAL=316800000  Public=286333333 Private=329857143\n",
      "Envios=5700\t TOTAL=320400000  Public=290266667 Private=333314286\n",
      "Envios=5800\t TOTAL=320800000  Public=294000000 Private=332285714\n",
      "Envios=5900\t TOTAL=324400000  Public=297600000 Private=335885714\n",
      "Envios=6000\t TOTAL=329600000  Public=298000000 Private=343142857\n",
      "Envios=6100\t TOTAL=334800000  Public=298800000 Private=350228571\n",
      "Envios=6200\t TOTAL=336000000  Public=299600000 Private=351600000\n",
      "Envios=6300\t TOTAL=337200000  Public=300733333 Private=352828571\n",
      "Envios=6400\t TOTAL=336800000  Public=298200000 Private=353342857\n",
      "Envios=6500\t TOTAL=340400000  Public=296466667 Private=359228571\n",
      "Envios=6600\t TOTAL=339200000  Public=295133333 Private=358085714\n",
      "Envios=6700\t TOTAL=338800000  Public=295866667 Private=357200000\n",
      "Envios=6800\t TOTAL=339200000  Public=294000000 Private=358571429\n",
      "Envios=6900\t TOTAL=341200000  Public=296933333 Private=360171429\n",
      "Envios=7000\t TOTAL=342400000  Public=300333333 Private=360428571\n",
      "Envios=7100\t TOTAL=346000000  Public=305933333 Private=363171429\n",
      "Envios=7200\t TOTAL=347200000  Public=304466667 Private=365514286\n",
      "Envios=7300\t TOTAL=347600000  Public=307666667 Private=364714286\n",
      "Envios=7400\t TOTAL=347200000  Public=305400000 Private=365114286\n",
      "Envios=7500\t TOTAL=347600000  Public=308600000 Private=364314286\n",
      "Envios=7600\t TOTAL=347200000  Public=309266667 Private=363457143\n",
      "Envios=7700\t TOTAL=346800000  Public=309800000 Private=362657143\n",
      "Envios=7800\t TOTAL=348800000  Public=308133333 Private=366228571\n",
      "Envios=7900\t TOTAL=349200000  Public=306000000 Private=367714286\n",
      "Envios=8000\t TOTAL=351200000  Public=309266667 Private=369171429\n",
      "Envios=8100\t TOTAL=351600000  Public=309600000 Private=369600000\n",
      "Envios=8200\t TOTAL=353600000  Public=310533333 Private=372057143\n",
      "Envios=8300\t TOTAL=354000000  Public=311200000 Private=372342857\n",
      "Envios=8400\t TOTAL=353600000  Public=311733333 Private=371542857\n",
      "Envios=8500\t TOTAL=354000000  Public=309733333 Private=372971429\n",
      "Envios=8600\t TOTAL=352800000  Public=308000000 Private=372000000\n",
      "Envios=8700\t TOTAL=351600000  Public=309133333 Private=369800000\n",
      "Envios=8800\t TOTAL=351200000  Public=309666667 Private=369000000\n",
      "Envios=8900\t TOTAL=352400000  Public=315800000 Private=368085714\n",
      "Envios=9000\t TOTAL=352000000  Public=316200000 Private=367342857\n",
      "Envios=9100\t TOTAL=353200000  Public=317266667 Private=368600000\n",
      "Envios=9200\t TOTAL=352000000  Public=317800000 Private=366657143\n",
      "Envios=9300\t TOTAL=352400000  Public=315800000 Private=368085714\n",
      "Envios=9400\t TOTAL=354400000  Public=313600000 Private=371885714\n",
      "Envios=9500\t TOTAL=354000000  Public=311800000 Private=372085714\n",
      "Envios=9600\t TOTAL=356800000  Public=317933333 Private=373457143\n",
      "Envios=9700\t TOTAL=359600000  Public=321133333 Private=376085714\n",
      "Envios=9800\t TOTAL=358400000  Public=319000000 Private=375285714\n",
      "Envios=9900\t TOTAL=356400000  Public=317666667 Private=373000000\n",
      "Envios=10000\t TOTAL=356800000  Public=318266667 Private=373314286\n",
      "Envios=10100\t TOTAL=355600000  Public=316400000 Private=372400000\n",
      "Envios=10200\t TOTAL=355200000  Public=317000000 Private=371571429\n",
      "Envios=10300\t TOTAL=355600000  Public=322666667 Private=369714286\n",
      "Envios=10400\t TOTAL=359200000  Public=333933333 Private=370028571\n",
      "Envios=10500\t TOTAL=357200000  Public=331733333 Private=368114286\n",
      "Envios=10600\t TOTAL=360000000  Public=342533333 Private=367485714\n",
      "Envios=10700\t TOTAL=360400000  Public=345533333 Private=366771429\n",
      "Envios=10800\t TOTAL=360800000  Public=349200000 Private=365771429\n",
      "Envios=10900\t TOTAL=362000000  Public=354800000 Private=365085714\n",
      "Envios=11000\t TOTAL=364000000  Public=353200000 Private=368628571\n",
      "Envios=11100\t TOTAL=363600000  Public=353600000 Private=367885714\n",
      "Envios=11200\t TOTAL=364000000  Public=354400000 Private=368114286\n",
      "Envios=11300\t TOTAL=366000000  Public=358000000 Private=369428571\n",
      "Envios=11400\t TOTAL=368000000  Public=356266667 Private=373028571\n",
      "Envios=11500\t TOTAL=367600000  Public=354066667 Private=373400000\n",
      "Envios=11600\t TOTAL=367200000  Public=354600000 Private=372600000\n",
      "Envios=11700\t TOTAL=366000000  Public=352400000 Private=371828571\n",
      "Envios=11800\t TOTAL=364800000  Public=353200000 Private=369771429\n",
      "Envios=11900\t TOTAL=362800000  Public=351200000 Private=367771429\n",
      "Envios=12000\t TOTAL=361600000  Public=352000000 Private=365714286\n",
      "Envios=12100\t TOTAL=361200000  Public=350066667 Private=365971429\n",
      "Envios=12200\t TOTAL=362400000  Public=348666667 Private=368285714\n",
      "Envios=12300\t TOTAL=361200000  Public=346066667 Private=367685714\n",
      "Envios=12400\t TOTAL=359200000  Public=344133333 Private=365657143\n",
      "Envios=12500\t TOTAL=358000000  Public=342000000 Private=364857143\n",
      "Envios=12600\t TOTAL=357600000  Public=339800000 Private=365228571\n",
      "Envios=12700\t TOTAL=358000000  Public=340266667 Private=365600000\n",
      "Envios=12800\t TOTAL=356000000  Public=338133333 Private=363657143\n",
      "Envios=12900\t TOTAL=354000000  Public=335933333 Private=361742857\n",
      "Envios=13000\t TOTAL=352800000  Public=336266667 Private=359885714\n",
      "Envios=13100\t TOTAL=351600000  Public=334400000 Private=358971429\n",
      "Envios=13200\t TOTAL=349600000  Public=332466667 Private=356942857\n",
      "Envios=13300\t TOTAL=352400000  Public=333000000 Private=360714286\n",
      "Envios=13400\t TOTAL=352000000  Public=330800000 Private=361085714\n",
      "Envios=13500\t TOTAL=350800000  Public=329000000 Private=360142857\n",
      "Envios=13600\t TOTAL=352000000  Public=326800000 Private=362800000\n",
      "Envios=13700\t TOTAL=350000000  Public=324800000 Private=360800000\n",
      "Envios=13800\t TOTAL=349600000  Public=325200000 Private=360057143\n",
      "Envios=13900\t TOTAL=347600000  Public=323266667 Private=358028571\n",
      "Envios=14000\t TOTAL=347200000  Public=324066667 Private=357114286\n",
      "Envios=14100\t TOTAL=346000000  Public=324800000 Private=355085714\n",
      "Envios=14200\t TOTAL=344000000  Public=323200000 Private=352914286\n",
      "Envios=14300\t TOTAL=342000000  Public=320800000 Private=351085714\n",
      "Envios=14400\t TOTAL=340800000  Public=318666667 Private=350285714\n",
      "Envios=14500\t TOTAL=339600000  Public=316466667 Private=349514286\n",
      "Envios=14600\t TOTAL=339200000  Public=314533333 Private=349771429\n",
      "Envios=14700\t TOTAL=338000000  Public=315200000 Private=347771429\n",
      "Envios=14800\t TOTAL=336800000  Public=315333333 Private=346000000\n",
      "Envios=14900\t TOTAL=337200000  Public=313666667 Private=347285714\n",
      "Envios=15000\t TOTAL=337600000  Public=313733333 Private=347828571\n",
      "Envios=15100\t TOTAL=336400000  Public=311000000 Private=347285714\n",
      "Envios=15200\t TOTAL=334400000  Public=308733333 Private=345400000\n",
      "Envios=15300\t TOTAL=332400000  Public=306933333 Private=343314286\n",
      "Envios=15400\t TOTAL=332800000  Public=305200000 Private=344628571\n",
      "Envios=15500\t TOTAL=332400000  Public=303200000 Private=344914286\n",
      "Envios=15600\t TOTAL=331200000  Public=303333333 Private=343142857\n",
      "Envios=15700\t TOTAL=330800000  Public=303666667 Private=342428571\n",
      "Envios=15800\t TOTAL=329600000  Public=301266667 Private=341742857\n",
      "Envios=15900\t TOTAL=328400000  Public=301466667 Private=339942857\n",
      "Envios=16000\t TOTAL=327200000  Public=299666667 Private=339000000\n",
      "Envios=16100\t TOTAL=325200000  Public=297800000 Private=336942857\n",
      "Envios=16200\t TOTAL=324000000  Public=295933333 Private=336028571\n",
      "Envios=16300\t TOTAL=322000000  Public=293866667 Private=334057143\n",
      "Envios=16400\t TOTAL=320800000  Public=291733333 Private=333257143\n",
      "Envios=16500\t TOTAL=319600000  Public=289666667 Private=332428571\n",
      "Envios=16600\t TOTAL=317600000  Public=287133333 Private=330657143\n",
      "Envios=16700\t TOTAL=315600000  Public=284733333 Private=328828571\n",
      "Envios=16800\t TOTAL=313600000  Public=282800000 Private=326800000\n",
      "Envios=16900\t TOTAL=311600000  Public=280666667 Private=324857143\n",
      "Envios=17000\t TOTAL=310400000  Public=278866667 Private=323914286\n",
      "Envios=17100\t TOTAL=310000000  Public=276866667 Private=324200000\n",
      "Envios=17200\t TOTAL=308800000  Public=277466667 Private=322228571\n",
      "Envios=17300\t TOTAL=308400000  Public=280933333 Private=320171429\n",
      "Envios=17400\t TOTAL=308000000  Public=281266667 Private=319457143\n",
      "Envios=17500\t TOTAL=307600000  Public=282200000 Private=318485714\n",
      "Envios=17600\t TOTAL=307200000  Public=279933333 Private=318885714\n",
      "Envios=17700\t TOTAL=306000000  Public=280333333 Private=317000000\n",
      "Envios=17800\t TOTAL=304800000  Public=281000000 Private=315000000\n",
      "Envios=17900\t TOTAL=305200000  Public=283933333 Private=314314286\n",
      "Envios=18000\t TOTAL=305600000  Public=282200000 Private=315628571\n",
      "Envios=18100\t TOTAL=304400000  Public=280533333 Private=314628571\n",
      "Envios=18200\t TOTAL=302400000  Public=278400000 Private=312685714\n",
      "Envios=18300\t TOTAL=300400000  Public=276733333 Private=310542857\n",
      "Envios=18400\t TOTAL=299200000  Public=277266667 Private=308600000\n",
      "Envios=18500\t TOTAL=298000000  Public=275200000 Private=307771429\n",
      "Envios=18600\t TOTAL=296800000  Public=275533333 Private=305914286\n",
      "Envios=18700\t TOTAL=295600000  Public=273066667 Private=305257143\n",
      "Envios=18800\t TOTAL=294400000  Public=271066667 Private=304400000\n",
      "Envios=18900\t TOTAL=293200000  Public=268866667 Private=303628571\n",
      "Envios=19000\t TOTAL=291200000  Public=266866667 Private=301628571\n",
      "Envios=19100\t TOTAL=290000000  Public=264733333 Private=300828571\n",
      "Envios=19200\t TOTAL=288000000  Public=262800000 Private=298800000\n",
      "Envios=19300\t TOTAL=286800000  Public=261000000 Private=297857143\n",
      "Envios=19400\t TOTAL=285600000  Public=259333333 Private=296857143\n",
      "Envios=19500\t TOTAL=285200000  Public=260333333 Private=295857143\n",
      "Envios=19600\t TOTAL=284000000  Public=261400000 Private=293685714\n",
      "Envios=19700\t TOTAL=282800000  Public=261733333 Private=291828571\n",
      "Envios=19800\t TOTAL=281600000  Public=259933333 Private=290885714\n",
      "Envios=19900\t TOTAL=279600000  Public=258266667 Private=288742857\n",
      "Envios=20000\t TOTAL=279200000  Public=255733333 Private=289257143\n"
     ]
    }
   ],
   "source": [
    "# genero archivos con los  \"envios\" mejores\n",
    "# suba TODOS los archivos a Kaggle\n",
    "\n",
    "# ordeno por probabilidad descendente\n",
    "setorder(tb_prediccion, -prob)\n",
    "\n",
    "dir.create(\"kaggle\")\n",
    "resultados <- data.table()\n",
    "\n",
    "for (envios in PARAM$cortes) {\n",
    "\n",
    "  tb_prediccion[, Predicted := 0L] # seteo inicial a 0\n",
    "  tb_prediccion[1:envios, Predicted := 1L] # marco los primeros\n",
    "\n",
    "  archivo_kaggle <- paste0(\"./kaggle/\", PARAM$experimento, \"_\", envios, \".csv\")\n",
    "\n",
    "  # grabo el archivo\n",
    "  fwrite(tb_prediccion[, list(numero_de_cliente, Predicted)],\n",
    "    file= archivo_kaggle,\n",
    "    sep= \",\"\n",
    "  )\n",
    "\n",
    "  res <- realidad_evaluar( drealidad, tb_prediccion)\n",
    "\n",
    "  s\n",
    "\n",
    "  options(scipen = 999)\n",
    "  cat( \"Envios=\", envios, \"\\t\",\n",
    "    \" TOTAL=\", res$total,\n",
    "    \"  Public=\", res$public,\n",
    "    \" Private=\", res$private,\n",
    "    \"\\n\",\n",
    "    sep= \"\"\n",
    "  )\n",
    "\n",
    "}"
   ]
  },
  {
   "cell_type": "code",
   "execution_count": 53,
   "id": "486c114c",
   "metadata": {
    "vscode": {
     "languageId": "r"
    }
   },
   "outputs": [
    {
     "data": {
      "image/png": "[encoded data removed]",
      "text/plain": [
       "plot without title"
      ]
     },
     "metadata": {
      "image/png": {
       "height": 420,
       "width": 420
      }
     },
     "output_type": "display_data"
    }
   ],
   "source": [
    "# pasamos a formato largo\n",
    "resultados_long <- melt(\n",
    "  resultados,\n",
    "  id.vars = \"clientes\",\n",
    "  measure.vars = c(\"ganancia_total\", \"ganancia_public\", \"ganancia_private\"),\n",
    "  variable.name = \"tipo\",\n",
    "  value.name = \"ganancia\"\n",
    ")\n",
    "\n",
    "# calcular máximos por tipo\n",
    "maximos <- resultados_long[, .SD[which.max(ganancia)], by = tipo]\n",
    "\n",
    "# crear etiquetas personalizadas para la leyenda\n",
    "etiquetas <- paste0(\n",
    "  maximos$tipo,\n",
    "  \" (envíos = \", maximos$clientes, \", máx = \", format(maximos$ganancia, big.mark = \",\"), \")\"\n",
    ")\n",
    "names(etiquetas) <- maximos$tipo\n",
    "\n",
    "# gráfico\n",
    "ggplot(resultados_long, aes(x = clientes, y = ganancia, color = tipo)) +\n",
    "  geom_line(size = 1) +\n",
    "  # agregar puntos en los máximos\n",
    "  geom_point(data = maximos, aes(x = clientes, y = ganancia, color = tipo), size = 3) +\n",
    "  labs(\n",
    "    title = \"Curvas de Ganancia\",\n",
    "    x = \"Clientes\",\n",
    "    y = \"Ganancia\",\n",
    "    color = \"Máximos\"\n",
    "  ) +\n",
    "  scale_color_manual(values = c(\"ganancia_total\" = \"steelblue\",\n",
    "                                \"ganancia_public\" = \"forestgreen\",\n",
    "                                \"ganancia_private\" = \"firebrick\"),\n",
    "                     labels = etiquetas) +\n",
    "  theme_minimal() +\n",
    "  theme(\n",
    "    plot.margin = margin(10, 10, 10, 10),  # top, right, bottom, left\n",
    "    legend.position = \"bottom\")+\n",
    "  guides(color = guide_legend(nrow = 3, byrow = TRUE))\n",
    "  #+ ggsave(\"curvas.png\", width = 10, height = 6)"
   ]
  },
  {
   "cell_type": "code",
   "execution_count": 54,
   "id": "d7c4f420",
   "metadata": {
    "vscode": {
     "languageId": "r"
    }
   },
   "outputs": [],
   "source": [
    "write_yaml( PARAM, file=\"PARAM.yml\")"
   ]
  },
  {
   "cell_type": "code",
   "execution_count": 55,
   "id": "70050a36",
   "metadata": {
    "vscode": {
     "languageId": "r"
    }
   },
   "outputs": [
    {
     "data": {
      "text/html": [
       "'dom sept 28 13:29:58 2025'"
      ],
      "text/latex": [
       "'dom sept 28 13:29:58 2025'"
      ],
      "text/markdown": [
       "'dom sept 28 13:29:58 2025'"
      ],
      "text/plain": [
       "[1] \"dom sept 28 13:29:58 2025\""
      ]
     },
     "metadata": {},
     "output_type": "display_data"
    }
   ],
   "source": [
    "format(Sys.time(), \"%a %b %d %X %Y\")"
   ]
  },
  {
   "cell_type": "markdown",
   "id": "a2244557",
   "metadata": {},
   "source": [
    "# Ensemble"
   ]
  },
  {
   "cell_type": "code",
   "execution_count": 56,
   "id": "1a2be6b1",
   "metadata": {
    "vscode": {
     "languageId": "r"
    }
   },
   "outputs": [
    {
     "name": "stdout",
     "output_type": "stream",
     "text": [
      "Envios=0\t TOTAL=-20000  Public=0 Private=-28571.43\n",
      "Envios=100\t TOTAL=18000000  Public=8600000 Private=22028571\n",
      "Envios=200\t TOTAL=31200000  Public=30600000 Private=31457143\n",
      "Envios=300\t TOTAL=52400000  Public=36866667 Private=59057143\n",
      "Envios=400\t TOTAL=68000000  Public=58200000 Private=72200000\n",
      "Envios=500\t TOTAL=78800000  Public=64600000 Private=84885714\n",
      "Envios=600\t TOTAL=90400000  Public=68200000 Private=99914286\n",
      "Envios=700\t TOTAL=105200000  Public=81800000 Private=115228571\n",
      "Envios=800\t TOTAL=116000000  Public=87666667 Private=128142857\n",
      "Envios=900\t TOTAL=127600000  Public=96400000 Private=140971429\n",
      "Envios=1000\t TOTAL=134400000  Public=97333333 Private=150285714\n",
      "Envios=1100\t TOTAL=143600000  Public=105733333 Private=159828571\n",
      "Envios=1200\t TOTAL=152800000  Public=109200000 Private=171485714\n",
      "Envios=1300\t TOTAL=158800000  Public=120133333 Private=175371429\n",
      "Envios=1400\t TOTAL=166400000  Public=134066667 Private=180257143\n",
      "Envios=1500\t TOTAL=171600000  Public=137666667 Private=186142857\n",
      "Envios=1600\t TOTAL=183200000  Public=148733333 Private=197971429\n",
      "Envios=1700\t TOTAL=191600000  Public=154600000 Private=207457143\n",
      "Envios=1800\t TOTAL=197600000  Public=157933333 Private=214600000\n",
      "Envios=1900\t TOTAL=200400000  Public=158466667 Private=218371429\n",
      "Envios=2000\t TOTAL=208000000  Public=169600000 Private=224457143\n",
      "Envios=2100\t TOTAL=211600000  Public=167733333 Private=230400000\n",
      "Envios=2200\t TOTAL=214400000  Public=168333333 Private=234142857\n",
      "Envios=2300\t TOTAL=219600000  Public=174133333 Private=239085714\n",
      "Envios=2400\t TOTAL=230400000  Public=182266667 Private=251028571\n",
      "Envios=2500\t TOTAL=235600000  Public=188133333 Private=255942857\n",
      "Envios=2600\t TOTAL=238400000  Public=188200000 Private=259914286\n",
      "Envios=2700\t TOTAL=238800000  Public=189333333 Private=260000000\n",
      "Envios=2800\t TOTAL=240000000  Public=192666667 Private=260285714\n",
      "Envios=2900\t TOTAL=243600000  Public=198866667 Private=262771429\n",
      "Envios=3000\t TOTAL=252800000  Public=215400000 Private=268828571\n",
      "Envios=3100\t TOTAL=261200000  Public=224400000 Private=276971429\n",
      "Envios=3200\t TOTAL=264800000  Public=228066667 Private=280542857\n",
      "Envios=3300\t TOTAL=266800000  Public=234066667 Private=280828571\n",
      "Envios=3400\t TOTAL=270400000  Public=234400000 Private=285828571\n",
      "Envios=3500\t TOTAL=274800000  Public=237866667 Private=290628571\n",
      "Envios=3600\t TOTAL=275200000  Public=236133333 Private=291942857\n",
      "Envios=3700\t TOTAL=278800000  Public=241333333 Private=294857143\n",
      "Envios=3800\t TOTAL=282400000  Public=242200000 Private=299628571\n",
      "Envios=3900\t TOTAL=286800000  Public=248400000 Private=303257143\n",
      "Envios=4000\t TOTAL=286400000  Public=251533333 Private=301342857\n",
      "Envios=4100\t TOTAL=288400000  Public=254866667 Private=302771429\n",
      "Envios=4200\t TOTAL=290400000  Public=258466667 Private=304085714\n",
      "Envios=4300\t TOTAL=294000000  Public=267066667 Private=305542857\n",
      "Envios=4400\t TOTAL=296000000  Public=272800000 Private=305942857\n",
      "Envios=4500\t TOTAL=300400000  Public=273066667 Private=312114286\n",
      "Envios=4600\t TOTAL=302400000  Public=270800000 Private=315942857\n",
      "Envios=4700\t TOTAL=304400000  Public=271133333 Private=318657143\n",
      "Envios=4800\t TOTAL=309600000  Public=271733333 Private=325828571\n",
      "Envios=4900\t TOTAL=310800000  Public=275133333 Private=326085714\n",
      "Envios=5000\t TOTAL=316800000  Public=280533333 Private=332342857\n",
      "Envios=5100\t TOTAL=320400000  Public=286666667 Private=334857143\n",
      "Envios=5200\t TOTAL=320000000  Public=284200000 Private=335342857\n",
      "Envios=5300\t TOTAL=321200000  Public=282466667 Private=337800000\n",
      "Envios=5400\t TOTAL=324000000  Public=285533333 Private=340485714\n",
      "Envios=5500\t TOTAL=325200000  Public=286400000 Private=341828571\n",
      "Envios=5600\t TOTAL=327200000  Public=287133333 Private=344371429\n",
      "Envios=5700\t TOTAL=328400000  Public=287533333 Private=345914286\n",
      "Envios=5800\t TOTAL=331200000  Public=290933333 Private=348457143\n",
      "Envios=5900\t TOTAL=335600000  Public=297266667 Private=352028571\n",
      "Envios=6000\t TOTAL=339200000  Public=298133333 Private=356800000\n",
      "Envios=6100\t TOTAL=341200000  Public=298733333 Private=359400000\n",
      "Envios=6200\t TOTAL=343200000  Public=299400000 Private=361971429\n",
      "Envios=6300\t TOTAL=342000000  Public=298000000 Private=360857143\n",
      "Envios=6400\t TOTAL=341600000  Public=295400000 Private=361400000\n",
      "Envios=6500\t TOTAL=342000000  Public=295933333 Private=361742857\n",
      "Envios=6600\t TOTAL=344000000  Public=298666667 Private=363428571\n",
      "Envios=6700\t TOTAL=344400000  Public=299466667 Private=363657143\n",
      "Envios=6800\t TOTAL=348800000  Public=308400000 Private=366114286\n",
      "Envios=6900\t TOTAL=349200000  Public=308933333 Private=366457143\n",
      "Envios=7000\t TOTAL=347200000  Public=307133333 Private=364371429\n",
      "Envios=7100\t TOTAL=346800000  Public=304933333 Private=364742857\n",
      "Envios=7200\t TOTAL=348000000  Public=308533333 Private=364914286\n",
      "Envios=7300\t TOTAL=350000000  Public=306933333 Private=368457143\n",
      "Envios=7400\t TOTAL=349600000  Public=304933333 Private=368742857\n",
      "Envios=7500\t TOTAL=353200000  Public=306133333 Private=373371429\n",
      "Envios=7600\t TOTAL=351200000  Public=304400000 Private=371257143\n",
      "Envios=7700\t TOTAL=354000000  Public=305400000 Private=374828571\n",
      "Envios=7800\t TOTAL=355200000  Public=303400000 Private=377400000\n",
      "Envios=7900\t TOTAL=354000000  Public=301400000 Private=376542857\n",
      "Envios=8000\t TOTAL=355200000  Public=304533333 Private=376914286\n",
      "Envios=8100\t TOTAL=358000000  Public=313400000 Private=377114286\n",
      "Envios=8200\t TOTAL=360000000  Public=314200000 Private=379628571\n",
      "Envios=8300\t TOTAL=360400000  Public=314666667 Private=380000000\n",
      "Envios=8400\t TOTAL=361600000  Public=312800000 Private=382514286\n",
      "Envios=8500\t TOTAL=361200000  Public=313266667 Private=381742857\n",
      "Envios=8600\t TOTAL=361600000  Public=313866667 Private=382057143\n",
      "Envios=8700\t TOTAL=361200000  Public=317466667 Private=379942857\n",
      "Envios=8800\t TOTAL=360800000  Public=316000000 Private=380000000\n",
      "Envios=8900\t TOTAL=360400000  Public=313866667 Private=380342857\n",
      "Envios=9000\t TOTAL=360800000  Public=314266667 Private=380742857\n",
      "Envios=9100\t TOTAL=359600000  Public=312266667 Private=379885714\n",
      "Envios=9200\t TOTAL=357600000  Public=310000000 Private=378000000\n",
      "Envios=9300\t TOTAL=358800000  Public=316066667 Private=377114286\n",
      "Envios=9400\t TOTAL=360800000  Public=317333333 Private=379428571\n",
      "Envios=9500\t TOTAL=361200000  Public=318266667 Private=379600000\n",
      "Envios=9600\t TOTAL=362400000  Public=321600000 Private=379885714\n",
      "Envios=9700\t TOTAL=362000000  Public=322200000 Private=379057143\n",
      "Envios=9800\t TOTAL=360800000  Public=320000000 Private=378285714\n",
      "Envios=9900\t TOTAL=360400000  Public=320600000 Private=377457143\n",
      "Envios=10000\t TOTAL=362400000  Public=321133333 Private=380085714\n",
      "Envios=10100\t TOTAL=362800000  Public=327000000 Private=378142857\n",
      "Envios=10200\t TOTAL=363200000  Public=330400000 Private=377257143\n",
      "Envios=10300\t TOTAL=362000000  Public=331066667 Private=375257143\n",
      "Envios=10400\t TOTAL=361600000  Public=331666667 Private=374428571\n",
      "Envios=10500\t TOTAL=361200000  Public=330000000 Private=374571429\n",
      "Envios=10600\t TOTAL=361600000  Public=333600000 Private=373600000\n",
      "Envios=10700\t TOTAL=360400000  Public=331666667 Private=372714286\n",
      "Envios=10800\t TOTAL=359200000  Public=329800000 Private=371800000\n",
      "Envios=10900\t TOTAL=359600000  Public=330600000 Private=372028571\n",
      "Envios=11000\t TOTAL=359200000  Public=328600000 Private=372314286\n",
      "Envios=11100\t TOTAL=361200000  Public=331666667 Private=373857143\n",
      "Envios=11200\t TOTAL=360800000  Public=332000000 Private=373142857\n",
      "Envios=11300\t TOTAL=360400000  Public=334933333 Private=371314286\n",
      "Envios=11400\t TOTAL=360000000  Public=335400000 Private=370542857\n",
      "Envios=11500\t TOTAL=358800000  Public=333400000 Private=369685714\n",
      "Envios=11600\t TOTAL=357600000  Public=331066667 Private=368971429\n",
      "Envios=11700\t TOTAL=355600000  Public=329200000 Private=366914286\n",
      "Envios=11800\t TOTAL=354400000  Public=327800000 Private=365800000\n",
      "Envios=11900\t TOTAL=354000000  Public=328533333 Private=364914286\n",
      "Envios=12000\t TOTAL=355200000  Public=328866667 Private=366485714\n",
      "Envios=12100\t TOTAL=354000000  Public=329466667 Private=364514286\n",
      "Envios=12200\t TOTAL=353600000  Public=329533333 Private=363914286\n",
      "Envios=12300\t TOTAL=352400000  Public=327666667 Private=363000000\n",
      "Envios=12400\t TOTAL=352000000  Public=325400000 Private=363400000\n",
      "Envios=12500\t TOTAL=350800000  Public=323333333 Private=362571429\n",
      "Envios=12600\t TOTAL=349600000  Public=324133333 Private=360514286\n",
      "Envios=12700\t TOTAL=347600000  Public=321733333 Private=358685714\n",
      "Envios=12800\t TOTAL=347200000  Public=322400000 Private=357828571\n",
      "Envios=12900\t TOTAL=346000000  Public=320266667 Private=357028571\n",
      "Envios=13000\t TOTAL=346400000  Public=322866667 Private=356485714\n",
      "Envios=13100\t TOTAL=345200000  Public=320133333 Private=355942857\n",
      "Envios=13200\t TOTAL=346400000  Public=321333333 Private=357142857\n",
      "Envios=13300\t TOTAL=346800000  Public=322000000 Private=357428571\n",
      "Envios=13400\t TOTAL=347200000  Public=320266667 Private=358742857\n",
      "Envios=13500\t TOTAL=349200000  Public=320533333 Private=361485714\n",
      "Envios=13600\t TOTAL=349600000  Public=318733333 Private=362828571\n",
      "Envios=13700\t TOTAL=347600000  Public=316000000 Private=361142857\n",
      "Envios=13800\t TOTAL=345600000  Public=314000000 Private=359142857\n",
      "Envios=13900\t TOTAL=346000000  Public=314600000 Private=359457143\n",
      "Envios=14000\t TOTAL=344000000  Public=312666667 Private=357428571\n",
      "Envios=14100\t TOTAL=344400000  Public=316000000 Private=356571429\n",
      "Envios=14200\t TOTAL=343200000  Public=313666667 Private=355857143\n",
      "Envios=14300\t TOTAL=342800000  Public=311466667 Private=356228571\n",
      "Envios=14400\t TOTAL=346400000  Public=311800000 Private=361228571\n",
      "Envios=14500\t TOTAL=345200000  Public=312333333 Private=359285714\n",
      "Envios=14600\t TOTAL=344000000  Public=313666667 Private=357000000\n",
      "Envios=14700\t TOTAL=342800000  Public=314333333 Private=355000000\n",
      "Envios=14800\t TOTAL=341600000  Public=312400000 Private=354114286\n",
      "Envios=14900\t TOTAL=340400000  Public=312733333 Private=352257143\n",
      "Envios=15000\t TOTAL=338400000  Public=310333333 Private=350428571\n",
      "Envios=15100\t TOTAL=338000000  Public=308200000 Private=350771429\n",
      "Envios=15200\t TOTAL=336800000  Public=306866667 Private=349628571\n",
      "Envios=15300\t TOTAL=335600000  Public=305133333 Private=348657143\n",
      "Envios=15400\t TOTAL=336000000  Public=305133333 Private=349228571\n",
      "Envios=15500\t TOTAL=334000000  Public=303333333 Private=347142857\n",
      "Envios=15600\t TOTAL=332000000  Public=300866667 Private=345342857\n",
      "Envios=15700\t TOTAL=330800000  Public=298466667 Private=344657143\n",
      "Envios=15800\t TOTAL=328800000  Public=296333333 Private=342714286\n",
      "Envios=15900\t TOTAL=329200000  Public=299400000 Private=341971429\n",
      "Envios=16000\t TOTAL=328000000  Public=299600000 Private=340171429\n",
      "Envios=16100\t TOTAL=326800000  Public=297933333 Private=339171429\n",
      "Envios=16200\t TOTAL=325600000  Public=295866667 Private=338342857\n",
      "Envios=16300\t TOTAL=324400000  Public=293866667 Private=337485714\n",
      "Envios=16400\t TOTAL=323200000  Public=294933333 Private=335314286\n",
      "Envios=16500\t TOTAL=322800000  Public=293400000 Private=335400000\n",
      "Envios=16600\t TOTAL=321600000  Public=291266667 Private=334600000\n",
      "Envios=16700\t TOTAL=320400000  Public=289666667 Private=333571429\n",
      "Envios=16800\t TOTAL=319200000  Public=287133333 Private=332942857\n",
      "Envios=16900\t TOTAL=317200000  Public=285066667 Private=330971429\n",
      "Envios=17000\t TOTAL=316000000  Public=285333333 Private=329142857\n",
      "Envios=17100\t TOTAL=314800000  Public=283400000 Private=328257143\n",
      "Envios=17200\t TOTAL=313600000  Public=281400000 Private=327400000\n",
      "Envios=17300\t TOTAL=312400000  Public=279400000 Private=326542857\n",
      "Envios=17400\t TOTAL=311200000  Public=280133333 Private=324514286\n",
      "Envios=17500\t TOTAL=311600000  Public=280733333 Private=324828571\n",
      "Envios=17600\t TOTAL=311200000  Public=281333333 Private=324000000\n",
      "Envios=17700\t TOTAL=309200000  Public=279000000 Private=322142857\n",
      "Envios=17800\t TOTAL=308000000  Public=277066667 Private=321257143\n",
      "Envios=17900\t TOTAL=307600000  Public=277666667 Private=320428571\n",
      "Envios=18000\t TOTAL=305600000  Public=275600000 Private=318457143\n",
      "Envios=18100\t TOTAL=304400000  Public=276600000 Private=316314286\n",
      "Envios=18200\t TOTAL=302400000  Public=274133333 Private=314514286\n",
      "Envios=18300\t TOTAL=302000000  Public=271600000 Private=315028571\n",
      "Envios=18400\t TOTAL=300800000  Public=269533333 Private=314200000\n",
      "Envios=18500\t TOTAL=300400000  Public=267733333 Private=314400000\n",
      "Envios=18600\t TOTAL=298400000  Public=265733333 Private=312400000\n",
      "Envios=18700\t TOTAL=296400000  Public=263333333 Private=310571429\n",
      "Envios=18800\t TOTAL=295200000  Public=264533333 Private=308342857\n",
      "Envios=18900\t TOTAL=294800000  Public=261800000 Private=308942857\n",
      "Envios=19000\t TOTAL=294400000  Public=262133333 Private=308228571\n",
      "Envios=19100\t TOTAL=293200000  Public=260600000 Private=307171429\n",
      "Envios=19200\t TOTAL=291200000  Public=258800000 Private=305085714\n",
      "Envios=19300\t TOTAL=290000000  Public=259466667 Private=303085714\n",
      "Envios=19400\t TOTAL=290400000  Public=259666667 Private=303571429\n",
      "Envios=19500\t TOTAL=289200000  Public=257800000 Private=302657143\n",
      "Envios=19600\t TOTAL=288800000  Public=255666667 Private=303000000\n",
      "Envios=19700\t TOTAL=286800000  Public=253733333 Private=300971429\n",
      "Envios=19800\t TOTAL=284800000  Public=251666667 Private=299000000\n",
      "Envios=19900\t TOTAL=283600000  Public=249933333 Private=298028571\n",
      "Envios=20000\t TOTAL=282400000  Public=250866667 Private=295914286\n"
     ]
    }
   ],
   "source": [
    "# Definir las 5 semillas fijas para el ensemble\n",
    "semillas_fijas <- c(200003,300007,400009,500009,600011)\n",
    "\n",
    "# Inicializar una lista para almacenar las predicciones de cada modelo\n",
    "list_predicciones <- list()\n",
    "\n",
    "# Iniciar el bucle para entrenar y predecir con cada una de las semillas\n",
    "for (semilla in semillas_fijas) {\n",
    "\n",
    "  # Asignar la semilla actual a los parámetros del modelo\n",
    "  param_normalizado$seed <- semilla\n",
    "  \n",
    "  # Entrenar el modelo LightGBM\n",
    "  modelo_temp <- lgb.train(\n",
    "    data = dtrain_final,\n",
    "    param = param_normalizado\n",
    "  )\n",
    "  \n",
    "  # Preparar los datos sin clase para la predicción\n",
    "  dfuture <- dataset[foto_mes %in% PARAM$future]\n",
    "  \n",
    "  # Realizar la predicción con el modelo actual\n",
    "  prediccion_temp <- predict(\n",
    "    modelo_temp,\n",
    "    data.matrix(dfuture[, campos_buenos, with = FALSE])\n",
    "  )\n",
    "  \n",
    "  # Guardar la predicción en la lista\n",
    "  list_predicciones[[length(list_predicciones) + 1]] <- prediccion_temp\n",
    "}\n",
    "\n",
    "# Unir las predicciones de todos los modelos en una sola matriz\n",
    "matriz_predicciones <- do.call(cbind, list_predicciones)\n",
    "\n",
    "# Calcular el promedio de las predicciones para obtener el resultado final del ensemble\n",
    "prediccion_ensemble <- rowMeans(matriz_predicciones)\n",
    "\n",
    "# Ahora, la variable 'prediccion_ensemble' contiene el resultado final del ensemble.\n",
    "# A partir de aquí, el código continúa usando esta nueva variable.\n",
    "\n",
    "# Inicilizo el dataset drealidad\n",
    "drealidad <- realidad_inicializar( dfuture, PARAM)\n",
    "\n",
    "# Crear la tabla de predicción\n",
    "tb_prediccion <- dfuture[, list(numero_de_cliente, foto_mes)]\n",
    "tb_prediccion[, prob := prediccion_ensemble ]\n",
    "\n",
    "# Generar los \"envios\" para los mejores resultados\n",
    "# Ordenar por probabilidad descendente\n",
    "setorder(tb_prediccion, -prob)\n",
    "\n",
    "# Crear el directorio 'kaggle' si no existe\n",
    "dir.create(\"kaggle_promediado\")\n",
    "\n",
    "for (envios in PARAM$cortes) {\n",
    "\n",
    "  tb_prediccion[, Predicted := 0L] # seteo inicial a 0\n",
    "  tb_prediccion[1:envios, Predicted := 1L] # marcar los primeros envíos\n",
    "  \n",
    "  # Nombre del archivo para Kaggle\n",
    "  archivo_kaggle <- paste0(\"./kaggle_promediado/KA\", PARAM$experimento, \"_\", envios, \".csv\")\n",
    "  \n",
    "  # Guardar el archivo CSV\n",
    "  fwrite(tb_prediccion[, list(numero_de_cliente, Predicted)],\n",
    "         file = archivo_kaggle,\n",
    "         sep = \",\"\n",
    "  )\n",
    "  \n",
    "  # Evaluar el resultado\n",
    "  res <- realidad_evaluar( drealidad, tb_prediccion)\n",
    "\n",
    "  resultados <- rbind(\n",
    "    resultados,\n",
    "    data.table(\n",
    "      clientes = envios,\n",
    "      ganancia_total = res$total,\n",
    "      ganancia_public = res$public,\n",
    "      ganancia_private = res$private\n",
    "    )\n",
    "  )\n",
    "  \n",
    "  # Imprimir los resultados en la consola\n",
    "  options(scipen = 999)\n",
    "  cat( \"Envios=\", envios, \"\\t\",\n",
    "       \" TOTAL=\", res$total,\n",
    "       \"  Public=\", res$public,\n",
    "       \" Private=\", res$private,\n",
    "       \"\\n\",\n",
    "       sep= \"\"\n",
    "  )\n",
    "}"
   ]
  },
  {
   "cell_type": "code",
   "execution_count": 57,
   "id": "99f4aa88",
   "metadata": {
    "vscode": {
     "languageId": "r"
    }
   },
   "outputs": [
    {
     "data": {
      "image/png": "[encoded data removed]",
      "text/plain": [
       "plot without title"
      ]
     },
     "metadata": {
      "image/png": {
       "height": 420,
       "width": 420
      }
     },
     "output_type": "display_data"
    }
   ],
   "source": [
    "# pasamos a formato largo\n",
    "resultados_long <- melt(\n",
    "  resultados,\n",
    "  id.vars = \"clientes\",\n",
    "  measure.vars = c(\"ganancia_total\", \"ganancia_public\", \"ganancia_private\"),\n",
    "  variable.name = \"tipo\",\n",
    "  value.name = \"ganancia\"\n",
    ")\n",
    "\n",
    "# calcular máximos por tipo\n",
    "maximos <- resultados_long[, .SD[which.max(ganancia)], by = tipo]\n",
    "\n",
    "# crear etiquetas personalizadas para la leyenda\n",
    "etiquetas <- paste0(\n",
    "  maximos$tipo,\n",
    "  \" (envíos = \", maximos$clientes, \", máx = \", format(maximos$ganancia, big.mark = \",\"), \")\"\n",
    ")\n",
    "names(etiquetas) <- maximos$tipo\n",
    "\n",
    "# gráfico\n",
    "ggplot(resultados_long, aes(x = clientes, y = ganancia, color = tipo)) +\n",
    "  geom_line(size = 1) +\n",
    "  # agregar puntos en los máximos\n",
    "  geom_point(data = maximos, aes(x = clientes, y = ganancia, color = tipo), size = 3) +\n",
    "  labs(\n",
    "    title = \"Curvas de Ganancia\",\n",
    "    x = \"Clientes\",\n",
    "    y = \"Ganancia\",\n",
    "    color = \"Máximos\"\n",
    "  ) +\n",
    "  scale_color_manual(values = c(\"ganancia_total\" = \"steelblue\",\n",
    "                                \"ganancia_public\" = \"forestgreen\",\n",
    "                                \"ganancia_private\" = \"firebrick\"),\n",
    "                     labels = etiquetas) +\n",
    "  theme_minimal() +\n",
    "  theme(\n",
    "    plot.margin = margin(10, 10, 10, 10),  # top, right, bottom, left\n",
    "    legend.position = \"bottom\")+\n",
    "  guides(color = guide_legend(nrow = 3, byrow = TRUE))\n",
    "  #+ ggsave(\"curvas.png\", width = 10, height = 6)"
   ]
  },
  {
   "cell_type": "markdown",
   "id": "fc5ff671",
   "metadata": {},
   "source": [
    "# Entrega final 1"
   ]
  },
  {
   "cell_type": "code",
   "execution_count": 1,
   "id": "53d0d641",
   "metadata": {
    "vscode": {
     "languageId": "r"
    }
   },
   "outputs": [
    {
     "ename": "ERROR",
     "evalue": "Error: objeto 'dataset' no encontrado\n",
     "output_type": "error",
     "traceback": [
      "Error: objeto 'dataset' no encontrado\nTraceback:\n"
     ]
    }
   ],
   "source": [
    "# clase01\n",
    "dataset[, clase01 := ifelse(clase_ternaria %in% c(\"BAJA+1\", \"BAJA+2\"), 1L, 0L)]\n",
    "\n",
    "dataset_train <- dataset[foto_mes %in% PARAM$train_final_kaggle]\n",
    "dataset_train[,.N,clase_ternaria]\n",
    "\n",
    "# dejo los datos en el formato que necesita LightGBM\n",
    "dtrain_final <- lgb.Dataset(\n",
    "  data= data.matrix(dataset_train[, campos_buenos, with= FALSE]),\n",
    "  label= dataset_train[, clase01]\n",
    ")\n",
    "\n",
    "# entreno LightGBM\n",
    "modelo_final <- lgb.train(\n",
    "  data= dtrain_final,\n",
    "  param= param_normalizado\n",
    ")\n",
    "\n",
    "# ahora imprimo la importancia de variables\n",
    "tb_importancia <- as.data.table(lgb.importance(modelo_final))\n",
    "archivo_importancia <- \"impo.txt\"\n",
    "\n",
    "fwrite(tb_importancia,\n",
    "  file= archivo_importancia,\n",
    "  sep= \"\\t\"\n",
    ")\n",
    "\n",
    "# aplico el modelo a los datos sin clase\n",
    "dfuture <- dataset[foto_mes %in% PARAM$entrega_kaggle]\n",
    "# aplico el modelo a los datos nuevos\n",
    "prediccion <- predict(\n",
    "  modelo_final,\n",
    "  data.matrix(dfuture[, campos_buenos, with= FALSE])\n",
    ")\n",
    "\n",
    "# tabla de prediccion\n",
    "tb_prediccion <- dfuture[, list(numero_de_cliente, foto_mes)]\n",
    "tb_prediccion[, prob := prediccion ]\n",
    "\n",
    "# ordeno por probabilidad descendente\n",
    "setorder(tb_prediccion, -prob)\n",
    "\n",
    "dir.create(\"kaggle_entrega\")\n",
    "\n",
    "tb_prediccion[, Predicted := 0L] # seteo inicial a 0\n",
    "tb_prediccion[1:11300, Predicted := 1L] # marco los primeros\n",
    "\n",
    "archivo_kaggle <- paste0(\"./kaggle_entrega/Entrega1_11300_envios.csv\")\n",
    "\n",
    "# grabo el archivo\n",
    "fwrite(tb_prediccion[, list(numero_de_cliente, Predicted)],\n",
    "  file= archivo_kaggle,\n",
    "  sep= \",\"\n",
    ")"
   ]
  },
  {
   "cell_type": "markdown",
   "id": "41668ea7",
   "metadata": {},
   "source": [
    "# Entrega Final 1a"
   ]
  },
  {
   "cell_type": "code",
   "execution_count": 21,
   "id": "0179b529",
   "metadata": {
    "vscode": {
     "languageId": "r"
    }
   },
   "outputs": [
    {
     "data": {
      "text/html": [
       "<table class=\"dataframe\">\n",
       "<caption>A data.table: 3 × 2</caption>\n",
       "<thead>\n",
       "\t<tr><th scope=col>clase_ternaria</th><th scope=col>N</th></tr>\n",
       "\t<tr><th scope=col>&lt;fct&gt;</th><th scope=col>&lt;int&gt;</th></tr>\n",
       "</thead>\n",
       "<tbody>\n",
       "\t<tr><td>CONTINUA</td><td>642824</td></tr>\n",
       "\t<tr><td>BAJA+2  </td><td>  3938</td></tr>\n",
       "\t<tr><td>BAJA+1  </td><td>  3447</td></tr>\n",
       "</tbody>\n",
       "</table>\n"
      ],
      "text/latex": [
       "A data.table: 3 × 2\n",
       "\\begin{tabular}{ll}\n",
       " clase\\_ternaria & N\\\\\n",
       " <fct> & <int>\\\\\n",
       "\\hline\n",
       "\t CONTINUA & 642824\\\\\n",
       "\t BAJA+2   &   3938\\\\\n",
       "\t BAJA+1   &   3447\\\\\n",
       "\\end{tabular}\n"
      ],
      "text/markdown": [
       "\n",
       "A data.table: 3 × 2\n",
       "\n",
       "| clase_ternaria &lt;fct&gt; | N &lt;int&gt; |\n",
       "|---|---|\n",
       "| CONTINUA | 642824 |\n",
       "| BAJA+2   |   3938 |\n",
       "| BAJA+1   |   3447 |\n",
       "\n"
      ],
      "text/plain": [
       "  clase_ternaria N     \n",
       "1 CONTINUA       642824\n",
       "2 BAJA+2           3938\n",
       "3 BAJA+1           3447"
      ]
     },
     "metadata": {},
     "output_type": "display_data"
    },
    {
     "name": "stderr",
     "output_type": "stream",
     "text": [
      "Warning message in dir.create(\"kaggle_entrega\"):\n",
      "\"'kaggle_entrega' already exists\"\n"
     ]
    }
   ],
   "source": [
    "# clase01\n",
    "dataset[, clase01 := ifelse(clase_ternaria %in% c(\"BAJA+1\", \"BAJA+2\"), 1L, 0L)]\n",
    "\n",
    "dataset_train <- dataset[foto_mes %in% PARAM$train_final_kaggle]\n",
    "dataset_train[,.N,clase_ternaria]\n",
    "\n",
    "# dejo los datos en el formato que necesita LightGBM\n",
    "dtrain_final <- lgb.Dataset(\n",
    "  data= data.matrix(dataset_train[, campos_buenos, with= FALSE]),\n",
    "  label= dataset_train[, clase01]\n",
    ")\n",
    "\n",
    "# entreno LightGBM\n",
    "modelo_final <- lgb.train(\n",
    "  data= dtrain_final,\n",
    "  param= param_normalizado\n",
    ")\n",
    "\n",
    "# ahora imprimo la importancia de variables\n",
    "tb_importancia <- as.data.table(lgb.importance(modelo_final))\n",
    "archivo_importancia <- \"impo.txt\"\n",
    "\n",
    "fwrite(tb_importancia,\n",
    "  file= archivo_importancia,\n",
    "  sep= \"\\t\"\n",
    ")\n",
    "\n",
    "# aplico el modelo a los datos sin clase\n",
    "dfuture <- dataset[foto_mes %in% PARAM$entrega_kaggle]\n",
    "# aplico el modelo a los datos nuevos\n",
    "prediccion <- predict(\n",
    "  modelo_final,\n",
    "  data.matrix(dfuture[, campos_buenos, with= FALSE])\n",
    ")\n",
    "\n",
    "# tabla de prediccion\n",
    "tb_prediccion <- dfuture[, list(numero_de_cliente, foto_mes)]\n",
    "tb_prediccion[, prob := prediccion ]\n",
    "\n",
    "# ordeno por probabilidad descendente\n",
    "setorder(tb_prediccion, -prob)\n",
    "\n",
    "tb_prediccion[, Predicted := 0L] # seteo inicial a 0\n",
    "tb_prediccion[1:9700, Predicted := 1L] # marco los primeros\n",
    "\n",
    "archivo_kaggle <- paste0(\"./kaggle_entrega/Entrega1a_9700_envios.csv\")\n",
    "\n",
    "# grabo el archivo\n",
    "fwrite(tb_prediccion[, list(numero_de_cliente, Predicted)],\n",
    "  file= archivo_kaggle,\n",
    "  sep= \",\"\n",
    ")"
   ]
  },
  {
   "cell_type": "markdown",
   "id": "ea4c9a0f",
   "metadata": {},
   "source": [
    "# Entrega Final 1b"
   ]
  },
  {
   "cell_type": "code",
   "execution_count": 25,
   "id": "521c74e6",
   "metadata": {
    "vscode": {
     "languageId": "r"
    }
   },
   "outputs": [
    {
     "data": {
      "text/html": [
       "<table class=\"dataframe\">\n",
       "<caption>A data.table: 3 × 2</caption>\n",
       "<thead>\n",
       "\t<tr><th scope=col>clase_ternaria</th><th scope=col>N</th></tr>\n",
       "\t<tr><th scope=col>&lt;fct&gt;</th><th scope=col>&lt;int&gt;</th></tr>\n",
       "</thead>\n",
       "<tbody>\n",
       "\t<tr><td>CONTINUA</td><td>642824</td></tr>\n",
       "\t<tr><td>BAJA+2  </td><td>  3938</td></tr>\n",
       "\t<tr><td>BAJA+1  </td><td>  3447</td></tr>\n",
       "</tbody>\n",
       "</table>\n"
      ],
      "text/latex": [
       "A data.table: 3 × 2\n",
       "\\begin{tabular}{ll}\n",
       " clase\\_ternaria & N\\\\\n",
       " <fct> & <int>\\\\\n",
       "\\hline\n",
       "\t CONTINUA & 642824\\\\\n",
       "\t BAJA+2   &   3938\\\\\n",
       "\t BAJA+1   &   3447\\\\\n",
       "\\end{tabular}\n"
      ],
      "text/markdown": [
       "\n",
       "A data.table: 3 × 2\n",
       "\n",
       "| clase_ternaria &lt;fct&gt; | N &lt;int&gt; |\n",
       "|---|---|\n",
       "| CONTINUA | 642824 |\n",
       "| BAJA+2   |   3938 |\n",
       "| BAJA+1   |   3447 |\n",
       "\n"
      ],
      "text/plain": [
       "  clase_ternaria N     \n",
       "1 CONTINUA       642824\n",
       "2 BAJA+2           3938\n",
       "3 BAJA+1           3447"
      ]
     },
     "metadata": {},
     "output_type": "display_data"
    }
   ],
   "source": [
    "# Definir las 5 semillas fijas para el ensemble\n",
    "semillas_fijas <- c(200003,300007,400009,500009,600011)\n",
    "\n",
    "# clase01\n",
    "dataset[, clase01 := ifelse(clase_ternaria %in% c(\"BAJA+1\", \"BAJA+2\"), 1L, 0L)]\n",
    "\n",
    "dataset_train <- dataset[foto_mes %in% PARAM$train_final_kaggle]\n",
    "dataset_train[,.N,clase_ternaria]\n",
    "\n",
    "# dejo los datos en el formato que necesita LightGBM\n",
    "dtrain_final <- lgb.Dataset(\n",
    "  data= data.matrix(dataset_train[, campos_buenos, with= FALSE]),\n",
    "  label= dataset_train[, clase01]\n",
    ")\n",
    "\n",
    "# Inicializar una lista para almacenar las predicciones de cada modelo\n",
    "list_predicciones <- list()\n",
    "\n",
    "# Iniciar el bucle para entrenar y predecir con cada una de las semillas\n",
    "for (semilla in semillas_fijas) {\n",
    "\n",
    "  # Asignar la semilla actual a los parámetros del modelo\n",
    "  param_normalizado$seed <- semilla\n",
    "  \n",
    "  # Entrenar el modelo LightGBM\n",
    "  modelo_temp <- lgb.train(\n",
    "    data = dtrain_final,\n",
    "    param = param_normalizado\n",
    "  )\n",
    "  \n",
    "  # Preparar los datos sin clase para la predicción\n",
    "  dfuture <- dataset[foto_mes %in% PARAM$entrega_kaggle]\n",
    "  \n",
    "  # Realizar la predicción con el modelo actual\n",
    "  prediccion_temp <- predict(\n",
    "    modelo_temp,\n",
    "    data.matrix(dfuture[, campos_buenos, with = FALSE])\n",
    "  )\n",
    "  \n",
    "  # Guardar la predicción en la lista\n",
    "  list_predicciones[[length(list_predicciones) + 1]] <- prediccion_temp\n",
    "}\n",
    "\n",
    "# Unir las predicciones de todos los modelos en una sola matriz\n",
    "matriz_predicciones <- do.call(cbind, list_predicciones)\n",
    "\n",
    "# Calcular el promedio de las predicciones para obtener el resultado final del ensemble\n",
    "prediccion_ensemble <- rowMeans(matriz_predicciones)\n",
    "\n",
    "# Crear la tabla de predicción\n",
    "tb_prediccion <- dfuture[, list(numero_de_cliente, foto_mes)]\n",
    "tb_prediccion[, prob := prediccion_ensemble ]\n",
    "\n",
    "# Generar los \"envios\" para los mejores resultados\n",
    "# Ordenar por probabilidad descendente\n",
    "setorder(tb_prediccion, -prob)\n",
    "\n",
    "tb_prediccion[, Predicted := 0L] # seteo inicial a 0\n",
    "tb_prediccion[1:11400, Predicted := 1L] # marco los primeros\n",
    "\n",
    "archivo_kaggle <- paste0(\"./kaggle_entrega/Entrega1b_11400_envios.csv\")\n",
    "\n",
    "# grabo el archivo\n",
    "fwrite(tb_prediccion[, list(numero_de_cliente, Predicted)],\n",
    "  file= archivo_kaggle,\n",
    "  sep= \",\"\n",
    ")"
   ]
  },
  {
   "cell_type": "markdown",
   "id": "f405ff39",
   "metadata": {},
   "source": [
    "# Entrega 1c"
   ]
  },
  {
   "cell_type": "code",
   "execution_count": 26,
   "id": "8771cbcc",
   "metadata": {
    "vscode": {
     "languageId": "r"
    }
   },
   "outputs": [
    {
     "data": {
      "text/html": [
       "<table class=\"dataframe\">\n",
       "<caption>A data.table: 3 × 2</caption>\n",
       "<thead>\n",
       "\t<tr><th scope=col>clase_ternaria</th><th scope=col>N</th></tr>\n",
       "\t<tr><th scope=col>&lt;fct&gt;</th><th scope=col>&lt;int&gt;</th></tr>\n",
       "</thead>\n",
       "<tbody>\n",
       "\t<tr><td>CONTINUA</td><td>642824</td></tr>\n",
       "\t<tr><td>BAJA+2  </td><td>  3938</td></tr>\n",
       "\t<tr><td>BAJA+1  </td><td>  3447</td></tr>\n",
       "</tbody>\n",
       "</table>\n"
      ],
      "text/latex": [
       "A data.table: 3 × 2\n",
       "\\begin{tabular}{ll}\n",
       " clase\\_ternaria & N\\\\\n",
       " <fct> & <int>\\\\\n",
       "\\hline\n",
       "\t CONTINUA & 642824\\\\\n",
       "\t BAJA+2   &   3938\\\\\n",
       "\t BAJA+1   &   3447\\\\\n",
       "\\end{tabular}\n"
      ],
      "text/markdown": [
       "\n",
       "A data.table: 3 × 2\n",
       "\n",
       "| clase_ternaria &lt;fct&gt; | N &lt;int&gt; |\n",
       "|---|---|\n",
       "| CONTINUA | 642824 |\n",
       "| BAJA+2   |   3938 |\n",
       "| BAJA+1   |   3447 |\n",
       "\n"
      ],
      "text/plain": [
       "  clase_ternaria N     \n",
       "1 CONTINUA       642824\n",
       "2 BAJA+2           3938\n",
       "3 BAJA+1           3447"
      ]
     },
     "metadata": {},
     "output_type": "display_data"
    }
   ],
   "source": [
    "# Definir las 5 semillas fijas para el ensemble\n",
    "semillas_fijas <- c(200003,300007,400009,500009,600011)\n",
    "\n",
    "# clase01\n",
    "dataset[, clase01 := ifelse(clase_ternaria %in% c(\"BAJA+1\", \"BAJA+2\"), 1L, 0L)]\n",
    "\n",
    "dataset_train <- dataset[foto_mes %in% PARAM$train_final_kaggle]\n",
    "dataset_train[,.N,clase_ternaria]\n",
    "\n",
    "# dejo los datos en el formato que necesita LightGBM\n",
    "dtrain_final <- lgb.Dataset(\n",
    "  data= data.matrix(dataset_train[, campos_buenos, with= FALSE]),\n",
    "  label= dataset_train[, clase01]\n",
    ")\n",
    "\n",
    "# Inicializar una lista para almacenar las predicciones de cada modelo\n",
    "list_predicciones <- list()\n",
    "\n",
    "# Iniciar el bucle para entrenar y predecir con cada una de las semillas\n",
    "for (semilla in semillas_fijas) {\n",
    "\n",
    "  # Asignar la semilla actual a los parámetros del modelo\n",
    "  param_normalizado$seed <- semilla\n",
    "  \n",
    "  # Entrenar el modelo LightGBM\n",
    "  modelo_temp <- lgb.train(\n",
    "    data = dtrain_final,\n",
    "    param = param_normalizado\n",
    "  )\n",
    "  \n",
    "  # Preparar los datos sin clase para la predicción\n",
    "  dfuture <- dataset[foto_mes %in% PARAM$entrega_kaggle]\n",
    "  \n",
    "  # Realizar la predicción con el modelo actual\n",
    "  prediccion_temp <- predict(\n",
    "    modelo_temp,\n",
    "    data.matrix(dfuture[, campos_buenos, with = FALSE])\n",
    "  )\n",
    "  \n",
    "  # Guardar la predicción en la lista\n",
    "  list_predicciones[[length(list_predicciones) + 1]] <- prediccion_temp\n",
    "}\n",
    "\n",
    "# Unir las predicciones de todos los modelos en una sola matriz\n",
    "matriz_predicciones <- do.call(cbind, list_predicciones)\n",
    "\n",
    "# Calcular el promedio de las predicciones para obtener el resultado final del ensemble\n",
    "prediccion_ensemble <- rowMeans(matriz_predicciones)\n",
    "\n",
    "# Crear la tabla de predicción\n",
    "tb_prediccion <- dfuture[, list(numero_de_cliente, foto_mes)]\n",
    "tb_prediccion[, prob := prediccion_ensemble ]\n",
    "\n",
    "# Generar los \"envios\" para los mejores resultados\n",
    "# Ordenar por probabilidad descendente\n",
    "setorder(tb_prediccion, -prob)\n",
    "\n",
    "tb_prediccion[, Predicted := 0L] # seteo inicial a 0\n",
    "tb_prediccion[1:8400, Predicted := 1L] # marco los primeros\n",
    "\n",
    "archivo_kaggle <- paste0(\"./kaggle_entrega/Entrega1c_8400_envios.csv\")\n",
    "\n",
    "# grabo el archivo\n",
    "fwrite(tb_prediccion[, list(numero_de_cliente, Predicted)],\n",
    "  file= archivo_kaggle,\n",
    "  sep= \",\"\n",
    ")"
   ]
  }
 ],
 "metadata": {
  "kernelspec": {
   "display_name": "R",
   "language": "R",
   "name": "ir"
  },
  "language_info": {
   "codemirror_mode": "r",
   "file_extension": ".r",
   "mimetype": "text/x-r-source",
   "name": "R",
   "pygments_lexer": "r",
   "version": "4.4.3"
  }
 },
 "nbformat": 4,
 "nbformat_minor": 5
}

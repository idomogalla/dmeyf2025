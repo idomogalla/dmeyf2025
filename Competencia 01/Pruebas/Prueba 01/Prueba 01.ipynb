{
 "cells": [
  {
   "cell_type": "code",
   "execution_count": 1,
   "id": "150c43ca",
   "metadata": {
    "vscode": {
     "languageId": "r"
    }
   },
   "outputs": [
    {
     "name": "stderr",
     "output_type": "stream",
     "text": [
      "Cargando paquete requerido: data.table\n",
      "\n",
      "Cargando paquete requerido: parallel\n",
      "\n",
      "Cargando paquete requerido: R.utils\n",
      "\n",
      "Cargando paquete requerido: R.oo\n",
      "\n",
      "Cargando paquete requerido: R.methodsS3\n",
      "\n",
      "R.methodsS3 v1.8.2 (2022-06-13 22:00:14 UTC) successfully loaded. See ?R.methodsS3 for help.\n",
      "\n",
      "R.oo v1.27.1 (2025-05-02 21:00:05 UTC) successfully loaded. See ?R.oo for help.\n",
      "\n",
      "\n",
      "Adjuntando el paquete: 'R.oo'\n",
      "\n",
      "\n",
      "The following object is masked from 'package:R.methodsS3':\n",
      "\n",
      "    throw\n",
      "\n",
      "\n",
      "The following objects are masked from 'package:methods':\n",
      "\n",
      "    getClasses, getMethods\n",
      "\n",
      "\n",
      "The following objects are masked from 'package:base':\n",
      "\n",
      "    attach, detach, load, save\n",
      "\n",
      "\n",
      "R.utils v2.13.0 (2025-02-24 21:20:02 UTC) successfully loaded. See ?R.utils for help.\n",
      "\n",
      "\n",
      "Adjuntando el paquete: 'R.utils'\n",
      "\n",
      "\n",
      "The following object is masked from 'package:utils':\n",
      "\n",
      "    timestamp\n",
      "\n",
      "\n",
      "The following objects are masked from 'package:base':\n",
      "\n",
      "    cat, commandArgs, getOption, isOpen, nullfile, parse, use, warnings\n",
      "\n",
      "\n",
      "Cargando paquete requerido: primes\n",
      "\n",
      "Cargando paquete requerido: rlist\n",
      "\n",
      "Cargando paquete requerido: yaml\n",
      "\n",
      "Cargando paquete requerido: lightgbm\n",
      "\n",
      "Cargando paquete requerido: DiceKriging\n",
      "\n",
      "Cargando paquete requerido: mlrMBO\n",
      "\n",
      "Cargando paquete requerido: mlr\n",
      "\n",
      "Cargando paquete requerido: ParamHelpers\n",
      "\n",
      "\n",
      "Adjuntando el paquete: 'ParamHelpers'\n",
      "\n",
      "\n",
      "The following object is masked from 'package:R.utils':\n",
      "\n",
      "    isVector\n",
      "\n",
      "\n",
      "\n",
      "Adjuntando el paquete: 'mlr'\n",
      "\n",
      "\n",
      "The following objects are masked from 'package:R.utils':\n",
      "\n",
      "    resample, setThreshold\n",
      "\n",
      "\n",
      "Cargando paquete requerido: smoof\n",
      "\n",
      "Cargando paquete requerido: checkmate\n",
      "\n",
      "\n",
      "Adjuntando el paquete: 'checkmate'\n",
      "\n",
      "\n",
      "The following object is masked from 'package:DiceKriging':\n",
      "\n",
      "    checkNames\n",
      "\n",
      "\n",
      "The following object is masked from 'package:R.utils':\n",
      "\n",
      "    asInt\n",
      "\n",
      "\n",
      "\n",
      "Adjuntando el paquete: 'smoof'\n",
      "\n",
      "\n",
      "The following objects are masked from 'package:R.oo':\n",
      "\n",
      "    getDescription, getName\n",
      "\n",
      "\n",
      "Cargando paquete requerido: ggplot2\n",
      "\n"
     ]
    }
   ],
   "source": [
    "# cargo las librerias que necesito\n",
    "if(!require(\"data.table\")) install.packages(\"data.table\")\n",
    "require(\"data.table\")\n",
    "\n",
    "if(!require(\"parallel\")) install.packages(\"parallel\")\n",
    "require(\"parallel\")\n",
    "\n",
    "if(!require(\"R.utils\")) install.packages(\"R.utils\")\n",
    "require(\"R.utils\")\n",
    "\n",
    "if( !require(\"primes\") ) install.packages(\"primes\")\n",
    "require(\"primes\")\n",
    "\n",
    "if( !require(\"utils\") ) install.packages(\"utils\")\n",
    "require(\"utils\")\n",
    "\n",
    "if( !require(\"rlist\") ) install.packages(\"rlist\")\n",
    "require(\"rlist\")\n",
    "\n",
    "if( !require(\"yaml\")) install.packages(\"yaml\")\n",
    "require(\"yaml\")\n",
    "\n",
    "if( !require(\"lightgbm\") ) install.packages(\"lightgbm\")\n",
    "require(\"lightgbm\")\n",
    "\n",
    "if( !require(\"DiceKriging\") ) install.packages(\"DiceKriging\")\n",
    "require(\"DiceKriging\")\n",
    "\n",
    "if( !require(\"mlrMBO\") ) install.packages(\"mlrMBO\")\n",
    "require(\"mlrMBO\")\n",
    "\n",
    "if( !require(\"ggplot2\") ) install.packages(\"ggplot2\")\n",
    "require(\"ggplot2\")"
   ]
  },
  {
   "cell_type": "code",
   "execution_count": 2,
   "id": "54cddfce",
   "metadata": {
    "vscode": {
     "languageId": "r"
    }
   },
   "outputs": [
    {
     "data": {
      "text/html": [
       "<table class=\"dataframe\">\n",
       "<caption>A matrix: 2 × 6 of type dbl</caption>\n",
       "<thead>\n",
       "\t<tr><th></th><th scope=col>used</th><th scope=col>(Mb)</th><th scope=col>gc trigger</th><th scope=col>(Mb)</th><th scope=col>max used</th><th scope=col>(Mb)</th></tr>\n",
       "</thead>\n",
       "<tbody>\n",
       "\t<tr><th scope=row>Ncells</th><td>2088449</td><td>111.6</td><td>4054794</td><td>216.6</td><td>2937254</td><td>156.9</td></tr>\n",
       "\t<tr><th scope=row>Vcells</th><td>3612812</td><td> 27.6</td><td>8388608</td><td> 64.0</td><td>5742620</td><td> 43.9</td></tr>\n",
       "</tbody>\n",
       "</table>\n"
      ],
      "text/latex": [
       "A matrix: 2 × 6 of type dbl\n",
       "\\begin{tabular}{r|llllll}\n",
       "  & used & (Mb) & gc trigger & (Mb) & max used & (Mb)\\\\\n",
       "\\hline\n",
       "\tNcells & 2088449 & 111.6 & 4054794 & 216.6 & 2937254 & 156.9\\\\\n",
       "\tVcells & 3612812 &  27.6 & 8388608 &  64.0 & 5742620 &  43.9\\\\\n",
       "\\end{tabular}\n"
      ],
      "text/markdown": [
       "\n",
       "A matrix: 2 × 6 of type dbl\n",
       "\n",
       "| <!--/--> | used | (Mb) | gc trigger | (Mb) | max used | (Mb) |\n",
       "|---|---|---|---|---|---|---|\n",
       "| Ncells | 2088449 | 111.6 | 4054794 | 216.6 | 2937254 | 156.9 |\n",
       "| Vcells | 3612812 |  27.6 | 8388608 |  64.0 | 5742620 |  43.9 |\n",
       "\n"
      ],
      "text/plain": [
       "       used    (Mb)  gc trigger (Mb)  max used (Mb) \n",
       "Ncells 2088449 111.6 4054794    216.6 2937254  156.9\n",
       "Vcells 3612812  27.6 8388608     64.0 5742620   43.9"
      ]
     },
     "metadata": {},
     "output_type": "display_data"
    }
   ],
   "source": [
    "# limpio la memoria\n",
    "rm(list=ls(all.names=TRUE)) # remove all objects\n",
    "gc(full=TRUE, verbose=FALSE) # garbage collection"
   ]
  },
  {
   "cell_type": "markdown",
   "id": "fc7b50e8",
   "metadata": {},
   "source": [
    "# Parámetros"
   ]
  },
  {
   "cell_type": "code",
   "execution_count": 3,
   "id": "209462b4",
   "metadata": {
    "vscode": {
     "languageId": "r"
    }
   },
   "outputs": [],
   "source": [
    "# Parámetros\n",
    "PARAM <- list()\n",
    "PARAM$experimento <- \"expC01_Prueba01\"\n",
    "PARAM$semilla_primigenia <- 200003\n",
    "\n",
    "# training y future\n",
    "PARAM$train <- c(202101, 202102)\n",
    "PARAM$train_final <- c(202101, 202102)\n",
    "PARAM$future <- c(202104)\n",
    "PARAM$train_final_kaggle <- c(202101, 202102, 202103, 202104)\n",
    "PARAM$entrega_kaggle <- c(202106)\n",
    "PARAM$semilla_kaggle <- 314159 #Semilla para el modelo final que va a Kaggle, primeros números de pi que sean primos.\n",
    "PARAM$cortes <- seq(0, 20000, by= 100)\n",
    "\n",
    "# un undersampling de 0.1  toma solo el 10% de los CONTINUA\n",
    "# undersampling de 1.0  implica tomar TODOS los datos\n",
    "\n",
    "PARAM$trainingstrategy$undersampling <- 0.5\n",
    "\n",
    "# Parametros LightGBM\n",
    "\n",
    "PARAM$hyperparametertuning$xval_folds <- 5\n",
    "\n",
    "# parametros fijos del LightGBM que se pisaran con la parte variable de la BO\n",
    "PARAM$lgbm$param_fijos <-  list(\n",
    "  boosting= \"gbdt\", # puede ir dart, ni pruebe random_forest\n",
    "  objective= \"binary\", #default regression\n",
    "  metric= \"auc\", # default \"\" \n",
    "  first_metric_only= FALSE, # default FALSE\n",
    "  boost_from_average= TRUE, # default TRUE\n",
    "  feature_pre_filter= FALSE, # default TRUE\n",
    "  force_row_wise= TRUE, # para reducir warnings\n",
    "  verbosity= -100, # default 1\n",
    "\n",
    "  seed= PARAM$semilla_primigenia, # Relacionado con data_random_seed, feature_fraction_seed, entre otros \n",
    "\n",
    "  max_depth= -1L, # -1 significa no limitar,  por ahora lo dejo fijo\n",
    "  min_gain_to_split= 0, # min_gain_to_split >= 0\n",
    "  min_sum_hessian_in_leaf= 0.001, #  min_sum_hessian_in_leaf >= 0.0\n",
    "  lambda_l1= 0.0, # lambda_l1 >= 0.0\n",
    "  lambda_l2= 0.0, # lambda_l2 >= 0.0\n",
    "  max_bin= 31L, # lo debo dejar fijo, no participa de la BO\n",
    "\n",
    "  bagging_fraction= 1.0, # 0.0 < bagging_fraction <= 1.0\n",
    "  pos_bagging_fraction= 1.0, # 0.0 < pos_bagging_fraction <= 1.0\n",
    "  neg_bagging_fraction= 1.0, # 0.0 < neg_bagging_fraction <= 1.0\n",
    "  is_unbalance= FALSE, # Default FALSE\n",
    "  scale_pos_weight= 1.0, # scale_pos_weight > 0.0\n",
    "\n",
    "  drop_rate= 0.1, # 0.0 < neg_bagging_fraction <= 1.0\n",
    "  max_drop= 50, # <=0 means no limit\n",
    "  skip_drop= 0.5, # 0.0 <= skip_drop <= 1.0\n",
    "\n",
    "  extra_trees= FALSE, # default FALSE\n",
    "\n",
    "  num_iterations= 1200, # default 100\n",
    "  learning_rate= 0.02, # default 0.1\n",
    "  feature_fraction= 0.5, # default 1\n",
    "  num_leaves= 750, # default 31\n",
    "  min_data_in_leaf= 5000 # default 20\n",
    ")\n",
    "\n",
    "# Aqui se cargan los bordes de los hiperparametros de la BO\n",
    "PARAM$hypeparametertuning$hs <- makeParamSet(\n",
    "  makeIntegerParam(\"num_iterations\", lower= 50L, upper= 3000L),\n",
    "  makeNumericParam(\"learning_rate\", lower= 0.005, upper= 0.1),\n",
    "  makeNumericParam(\"feature_fraction\", lower= 0.1, upper= 1.0),\n",
    "  makeIntegerParam(\"num_leaves\", lower= 1L, upper= 2048L),\n",
    "  makeIntegerParam(\"min_data_in_leaf\", lower= 1L, upper= 8000L)\n",
    ")\n",
    "\n",
    "PARAM$hyperparametertuning$iteraciones <- 100 # iteraciones bayesianas"
   ]
  },
  {
   "cell_type": "markdown",
   "id": "dfb8db72",
   "metadata": {},
   "source": [
    "# Funciones"
   ]
  },
  {
   "cell_type": "code",
   "execution_count": 4,
   "id": "e0ab6486",
   "metadata": {
    "vscode": {
     "languageId": "r"
    }
   },
   "outputs": [],
   "source": [
    "# particionar agrega una columna llamada fold a un dataset\n",
    "#   que consiste en una particion estratificada segun agrupa\n",
    "# particionar( data=dataset, division=c(70,30),\n",
    "#  agrupa=clase_ternaria, seed=semilla)   crea una particion 70, 30\n",
    "\n",
    "particionar <- function(data, division, agrupa= \"\", campo= \"fold\", start= 1, seed= NA) {\n",
    "  if (!is.na(seed)) set.seed(seed, \"L'Ecuyer-CMRG\")\n",
    "\n",
    "  bloque <- unlist(mapply(\n",
    "    function(x, y) {rep(y, x)},division, seq(from= start, length.out= length(division))))\n",
    "\n",
    "  data[, (campo) := sample(rep(bloque,ceiling(.N / length(bloque))))[1:.N],by= agrupa]\n",
    "}"
   ]
  },
  {
   "cell_type": "code",
   "execution_count": 5,
   "id": "506eed41",
   "metadata": {
    "vscode": {
     "languageId": "r"
    }
   },
   "outputs": [],
   "source": [
    "# iniciliazo el dataset de realidad, para medir ganancia\n",
    "realidad_inicializar <- function( pfuture, pparam) {\n",
    "\n",
    "  # datos para verificar la ganancia\n",
    "  drealidad <- pfuture[, list(numero_de_cliente, foto_mes, clase_ternaria)]\n",
    "\n",
    "  particionar(drealidad,\n",
    "    division= c(3, 7),\n",
    "    agrupa= \"clase_ternaria\",\n",
    "    seed= PARAM$semilla_kaggle\n",
    "  )\n",
    "\n",
    "  return( drealidad )\n",
    "}"
   ]
  },
  {
   "cell_type": "code",
   "execution_count": 6,
   "id": "0d09def7",
   "metadata": {
    "vscode": {
     "languageId": "r"
    }
   },
   "outputs": [],
   "source": [
    "# evaluo ganancia en los datos de la realidad\n",
    "\n",
    "realidad_evaluar <- function( prealidad, pprediccion) {\n",
    "\n",
    "  prealidad[ pprediccion,\n",
    "    on= c(\"numero_de_cliente\", \"foto_mes\"),\n",
    "    predicted:= i.Predicted\n",
    "  ]\n",
    "\n",
    "  tbl <- prealidad[, list(\"qty\"=.N), list(fold, predicted, clase_ternaria)]\n",
    "\n",
    "  res <- list()\n",
    "  res$public  <- tbl[fold==1 & predicted==1L, sum(qty*ifelse(clase_ternaria==\"BAJA+2\", 780000, -20000))]/0.3\n",
    "  res$private <- tbl[fold==2 & predicted==1L, sum(qty*ifelse(clase_ternaria==\"BAJA+2\", 780000, -20000))]/0.7\n",
    "  res$total <- tbl[predicted==1L, sum(qty*ifelse(clase_ternaria==\"BAJA+2\", 780000, -20000))]\n",
    "\n",
    "  prealidad[, predicted:=NULL]\n",
    "  return( res )\n",
    "}"
   ]
  },
  {
   "cell_type": "markdown",
   "id": "7774b9d7",
   "metadata": {},
   "source": [
    "# Configuración del Dataset"
   ]
  },
  {
   "cell_type": "code",
   "execution_count": 7,
   "id": "b998f5d3",
   "metadata": {
    "vscode": {
     "languageId": "r"
    }
   },
   "outputs": [],
   "source": [
    "# lectura del dataset\n",
    "dataset <- fread(\"../../competencia_01.csv.gz\", stringsAsFactors= TRUE)"
   ]
  },
  {
   "cell_type": "code",
   "execution_count": 8,
   "id": "a3519f78",
   "metadata": {
    "vscode": {
     "languageId": "r"
    }
   },
   "outputs": [],
   "source": [
    "# Selecciono los datos de training\n",
    "dataset_train <- dataset[foto_mes %in% PARAM$train]"
   ]
  },
  {
   "cell_type": "code",
   "execution_count": 9,
   "id": "0e9e959b",
   "metadata": {
    "vscode": {
     "languageId": "r"
    }
   },
   "outputs": [],
   "source": [
    "# paso la clase a binaria que tome valores {0,1}  enteros\n",
    "#  BAJA+1 y BAJA+2  son  1,   CONTINUA es 0\n",
    "#  a partir de ahora ya NO puedo cortar  por prob(BAJA+2) > 1/40\n",
    "\n",
    "dataset_train[,\n",
    "  clase01 := ifelse(clase_ternaria %in% c(\"BAJA+2\",\"BAJA+1\"), 1L, 0L)\n",
    "]"
   ]
  },
  {
   "cell_type": "code",
   "execution_count": 10,
   "id": "df466eab",
   "metadata": {
    "vscode": {
     "languageId": "r"
    }
   },
   "outputs": [],
   "source": [
    "# defino los datos que forma parte del training\n",
    "# aqui se hace el undersampling de los CONTINUA\n",
    "# notar que para esto utilizo la SEGUNDA semilla\n",
    "\n",
    "set.seed(PARAM$semilla_primigenia, kind = \"L'Ecuyer-CMRG\")\n",
    "dataset_train[, azar := runif(nrow(dataset_train))]\n",
    "dataset_train[, training := 0L]\n",
    "\n",
    "dataset_train[\n",
    "  foto_mes %in%  PARAM$train &\n",
    "    (azar <= PARAM$trainingstrategy$undersampling | clase_ternaria %in% c(\"BAJA+1\", \"BAJA+2\")),\n",
    "  training := 1L\n",
    "]"
   ]
  },
  {
   "cell_type": "code",
   "execution_count": 11,
   "id": "9887427e",
   "metadata": {
    "vscode": {
     "languageId": "r"
    }
   },
   "outputs": [],
   "source": [
    "# Me quedo con los campos a ser utilizados en el entrenamiento\n",
    "\n",
    "campos_buenos <- setdiff(\n",
    "  colnames(dataset_train),\n",
    "  c(\"clase_ternaria\", \"clase01\", \"azar\", \"training\")\n",
    ")"
   ]
  },
  {
   "cell_type": "code",
   "execution_count": 12,
   "id": "c944ff93",
   "metadata": {
    "vscode": {
     "languageId": "r"
    }
   },
   "outputs": [
    {
     "data": {
      "text/html": [
       "163737"
      ],
      "text/latex": [
       "163737"
      ],
      "text/markdown": [
       "163737"
      ],
      "text/plain": [
       "[1] 163737"
      ]
     },
     "metadata": {},
     "output_type": "display_data"
    },
    {
     "data": {
      "text/html": [
       "154"
      ],
      "text/latex": [
       "154"
      ],
      "text/markdown": [
       "154"
      ],
      "text/plain": [
       "[1] 154"
      ]
     },
     "metadata": {},
     "output_type": "display_data"
    }
   ],
   "source": [
    "# dejo los datos en el formato que necesita LightGBM\n",
    "\n",
    "dtrain <- lgb.Dataset(\n",
    "  data= data.matrix(dataset_train[training == 1L, campos_buenos, with= FALSE]),\n",
    "  label= dataset_train[training == 1L, clase01],\n",
    "  free_raw_data= FALSE\n",
    ")\n",
    "\n",
    "nrow(dtrain)\n",
    "ncol(dtrain)"
   ]
  },
  {
   "cell_type": "markdown",
   "id": "cd8ba0ef",
   "metadata": {},
   "source": [
    "# Bayesian Optimization"
   ]
  },
  {
   "cell_type": "code",
   "execution_count": 13,
   "id": "c4e963ed",
   "metadata": {
    "vscode": {
     "languageId": "r"
    }
   },
   "outputs": [],
   "source": [
    "# En el argumento x llegan los parmaetros de la bayesiana\n",
    "#  devuelve la AUC en cross validation del modelo entrenado\n",
    "\n",
    "EstimarGanancia_AUC_lightgbm <- function(x) {\n",
    "\n",
    "  # x pisa (o agrega) a param_fijos\n",
    "  param_completo <- modifyList(PARAM$lgbm$param_fijos, x)\n",
    "\n",
    "  # entreno LightGBM\n",
    "  modelocv <- lgb.cv(\n",
    "    data= dtrain,\n",
    "    nfold= PARAM$hyperparametertuning$xval_folds,\n",
    "    stratified= TRUE,\n",
    "    param= param_completo\n",
    "  )\n",
    "\n",
    "  # obtengo la ganancia\n",
    "  AUC <- modelocv$best_score\n",
    "\n",
    "  # hago espacio en la memoria\n",
    "  rm(modelocv)\n",
    "  gc(full= TRUE, verbose= FALSE)\n",
    "\n",
    "  message(format(Sys.time(), \"%a %b %d %X %Y\"), \" AUC \", AUC)\n",
    "\n",
    "  return(AUC)\n",
    "}"
   ]
  },
  {
   "cell_type": "code",
   "execution_count": null,
   "id": "56fa3453",
   "metadata": {
    "vscode": {
     "languageId": "r"
    }
   },
   "outputs": [
    {
     "ename": "",
     "evalue": "",
     "output_type": "error",
     "traceback": [
      "\u001b[1;31mThe Kernel crashed while executing code in the current cell or a previous cell. \n",
      "\u001b[1;31mPlease review the code in the cell(s) to identify a possible cause of the failure. \n",
      "\u001b[1;31mClick <a href='https://aka.ms/vscodeJupyterKernelCrash'>here</a> for more info. \n",
      "\u001b[1;31mView Jupyter <a href='command:jupyter.viewOutput'>log</a> for further details."
     ]
    }
   ],
   "source": [
    "# Aqui comienza la configuracion de la Bayesian Optimization\n",
    "\n",
    "# en este archivo quedan la evolucion binaria de la BO\n",
    "dir.create(\"Archivos Bayesiana\", showWarnings=FALSE)\n",
    "kbayesiana <- paste0(\"./Archivos Bayesiana/bayesiana.RDATA\")\n",
    "\n",
    "funcion_optimizar <- EstimarGanancia_AUC_lightgbm # la funcion que voy a maximizar\n",
    "\n",
    "configureMlr(show.learner.output= FALSE)\n",
    "\n",
    "# configuro la busqueda bayesiana,  los hiperparametros que se van a optimizar\n",
    "# por favor, no desesperarse por lo complejo\n",
    "\n",
    "obj.fun <- makeSingleObjectiveFunction(\n",
    "  fn= funcion_optimizar, # la funcion que voy a maximizar\n",
    "  minimize= FALSE, # estoy Maximizando la ganancia\n",
    "  noisy= TRUE,\n",
    "  par.set= PARAM$hypeparametertuning$hs, # definido al comienzo del programa\n",
    "  has.simple.signature= FALSE # paso los parametros en una lista\n",
    ")\n",
    "\n",
    "# cada 600 segundos guardo el resultado intermedio\n",
    "ctrl <- makeMBOControl(\n",
    "  save.on.disk.at.time= 600, # se graba cada 600 segundos\n",
    "  save.file.path= kbayesiana\n",
    ") # se graba cada 600 segundos\n",
    "\n",
    "# indico la cantidad de iteraciones que va a tener la Bayesian Optimization\n",
    "ctrl <- setMBOControlTermination(\n",
    "  ctrl,\n",
    "  iters= PARAM$hyperparametertuning$iteraciones\n",
    ") # cantidad de iteraciones\n",
    "\n",
    "# defino el método estandar para la creacion de los puntos iniciales,\n",
    "# los \"No Inteligentes\"\n",
    "ctrl <- setMBOControlInfill(ctrl, crit= makeMBOInfillCritEI())\n",
    "\n",
    "# establezco la funcion que busca el maximo\n",
    "surr.km <- makeLearner(\n",
    "  \"regr.km\",\n",
    "  predict.type= \"se\",\n",
    "  covtype= \"matern3_2\",\n",
    "  control= list(trace= TRUE)\n",
    ")\n"
   ]
  },
  {
   "cell_type": "code",
   "execution_count": null,
   "id": "62d79bf0",
   "metadata": {
    "vscode": {
     "languageId": "r"
    }
   },
   "outputs": [],
   "source": [
    "# inicio la optimizacion bayesiana, retomando si ya existe\n",
    "# es la celda mas lenta de todo el notebook\n",
    "\n",
    "if (!file.exists(kbayesiana)) {\n",
    "  bayesiana_salida <- mbo(obj.fun, learner= surr.km, control= ctrl)\n",
    "} else {\n",
    "  bayesiana_salida <- mboContinue(kbayesiana) # retomo en caso que ya exista\n",
    "}"
   ]
  },
  {
   "cell_type": "code",
   "execution_count": null,
   "id": "e60c2d38",
   "metadata": {
    "vscode": {
     "languageId": "r"
    }
   },
   "outputs": [],
   "source": [
    "tb_bayesiana <- as.data.table(bayesiana_salida$opt.path)\n",
    "colnames( tb_bayesiana)"
   ]
  },
  {
   "cell_type": "code",
   "execution_count": null,
   "id": "666d5785",
   "metadata": {
    "vscode": {
     "languageId": "r"
    }
   },
   "outputs": [],
   "source": [
    "# almaceno los resultados de la Bayesian Optimization\n",
    "# y capturo los mejores hiperparametros encontrados\n",
    "\n",
    "tb_bayesiana <- as.data.table(bayesiana_salida$opt.path)\n",
    "\n",
    "tb_bayesiana[, iter := .I]\n",
    "\n",
    "# ordeno en forma descendente por AUC = y\n",
    "setorder(tb_bayesiana, -y)\n",
    "\n",
    "# grabo para eventualmente poder utilizarlos en OTRA corrida\n",
    "fwrite( tb_bayesiana,\n",
    "  file= \"./Archivos Bayesiana/BO_log.txt\",\n",
    "  sep= \"\\t\"\n",
    ")\n",
    "\n",
    "# los mejores hiperparámetros son los que quedaron en el registro 1 de la tabla\n",
    "PARAM$out$lgbm$mejores_hiperparametros <- tb_bayesiana[\n",
    "  1, # el primero es el de mejor AUC\n",
    "  setdiff(colnames(tb_bayesiana),\n",
    "    c(\"y\",\"dob\",\"eol\",\"error.message\",\"exec.time\",\"ei\",\"error.model\",\n",
    "      \"train.time\",\"prop.type\",\"propose.time\",\"se\",\"mean\",\"iter\")),\n",
    "  with= FALSE\n",
    "]\n",
    "\n",
    "\n",
    "PARAM$out$lgbm$y <- tb_bayesiana[1, y]\n",
    "\n",
    "write_yaml(PARAM, file=\"./Archivos Bayesiana/PARAM.yml\")\n",
    "\n",
    "print(PARAM$out$lgbm$mejores_hiperparametros)\n",
    "print(PARAM$out$lgbm$y)"
   ]
  },
  {
   "cell_type": "markdown",
   "id": "dec8b80f",
   "metadata": {},
   "source": [
    "# Entrenamiento Mejores hiperparámetros"
   ]
  },
  {
   "cell_type": "code",
   "execution_count": null,
   "id": "d5b207e6",
   "metadata": {
    "vscode": {
     "languageId": "r"
    }
   },
   "outputs": [],
   "source": [
    "# clase01\n",
    "dataset[, clase01 := ifelse(clase_ternaria %in% c(\"BAJA+1\", \"BAJA+2\"), 1L, 0L)]\n",
    "\n",
    "dataset_train <- dataset[foto_mes %in% PARAM$train_final]\n",
    "dataset_train[,.N,clase_ternaria]\n",
    "\n",
    "# dejo los datos en el formato que necesita LightGBM\n",
    "dtrain_final <- lgb.Dataset(\n",
    "  data= data.matrix(dataset_train[, campos_buenos, with= FALSE]),\n",
    "  label= dataset_train[, clase01]\n",
    ")\n",
    "\n",
    "# Entrenamiento final\n",
    "param_final <- modifyList(PARAM$lgbm$param_fijos,\n",
    "  PARAM$out$lgbm$mejores_hiperparametros)\n",
    "\n",
    "param_final"
   ]
  },
  {
   "cell_type": "code",
   "execution_count": null,
   "id": "8b27f6e6",
   "metadata": {
    "vscode": {
     "languageId": "r"
    }
   },
   "outputs": [],
   "source": [
    "# este punto es muy SUTIL  y será revisado en la Clase 05\n",
    "\n",
    "param_normalizado <- copy(param_final)\n",
    "param_normalizado$min_data_in_leaf <-  round(param_final$min_data_in_leaf / PARAM$trainingstrategy$undersampling)\n",
    "\n",
    "# entreno LightGBM\n",
    "\n",
    "modelo_final <- lgb.train(\n",
    "  data= dtrain_final,\n",
    "  param= param_normalizado\n",
    ")\n",
    "\n",
    "# ahora imprimo la importancia de variables\n",
    "tb_importancia <- as.data.table(lgb.importance(modelo_final))\n",
    "archivo_importancia <- \"./Archivos Bayesiana/impo.txt\"\n",
    "\n",
    "fwrite(tb_importancia,\n",
    "  file= archivo_importancia,\n",
    "  sep= \"\\t\"\n",
    ")"
   ]
  },
  {
   "cell_type": "code",
   "execution_count": null,
   "id": "38d9a4f8",
   "metadata": {
    "vscode": {
     "languageId": "r"
    }
   },
   "outputs": [],
   "source": [
    "# grabo a disco el modelo en un formato para seres humanos ... ponele ...\n",
    "lgb.save(modelo_final, \"./Archivos Bayesiana/modelo.txt\" )"
   ]
  },
  {
   "cell_type": "markdown",
   "id": "a3f26857",
   "metadata": {},
   "source": [
    "# Validación Final"
   ]
  },
  {
   "cell_type": "code",
   "execution_count": null,
   "id": "235126c5",
   "metadata": {
    "vscode": {
     "languageId": "r"
    }
   },
   "outputs": [],
   "source": [
    "# aplico el modelo a los datos sin clase\n",
    "dfuture <- dataset[foto_mes %in% PARAM$future]\n",
    "\n",
    "# aplico el modelo a los datos nuevos\n",
    "prediccion <- predict(\n",
    "  modelo_final,\n",
    "  data.matrix(dfuture[, campos_buenos, with= FALSE])\n",
    ")"
   ]
  },
  {
   "cell_type": "code",
   "execution_count": null,
   "id": "e491d386",
   "metadata": {
    "vscode": {
     "languageId": "r"
    }
   },
   "outputs": [],
   "source": [
    "# inicilizo el dataset  drealidad\n",
    "drealidad <- realidad_inicializar( dfuture, PARAM)"
   ]
  },
  {
   "cell_type": "code",
   "execution_count": null,
   "id": "3d6f37c6",
   "metadata": {
    "vscode": {
     "languageId": "r"
    }
   },
   "outputs": [],
   "source": [
    "# tabla de prediccion\n",
    "\n",
    "tb_prediccion <- dfuture[, list(numero_de_cliente, foto_mes)]\n",
    "tb_prediccion[, prob := prediccion ]\n",
    "\n",
    "# grabo las probabilidad del modelo\n",
    "fwrite(tb_prediccion,\n",
    "  file= \"./Archivos Bayesiana/prediccion.txt\",\n",
    "  sep= \"\\t\"\n",
    ")"
   ]
  },
  {
   "cell_type": "code",
   "execution_count": null,
   "id": "e6d860d0",
   "metadata": {
    "vscode": {
     "languageId": "r"
    }
   },
   "outputs": [],
   "source": [
    "# genero archivos con los  \"envios\" mejores\n",
    "# suba TODOS los archivos a Kaggle\n",
    "\n",
    "# ordeno por probabilidad descendente\n",
    "setorder(tb_prediccion, -prob)\n",
    "\n",
    "dir.create(\"kaggle\", showWarnings=FALSE)\n",
    "resultados <- data.table()\n",
    "\n",
    "for (envios in PARAM$cortes) {\n",
    "\n",
    "  tb_prediccion[, Predicted := 0L] # seteo inicial a 0\n",
    "  tb_prediccion[1:envios, Predicted := 1L] # marco los primeros\n",
    "\n",
    "  archivo_kaggle <- paste0(\"./kaggle/\", PARAM$experimento, \"_\", envios, \".csv\")\n",
    "\n",
    "  # grabo el archivo\n",
    "  fwrite(tb_prediccion[, list(numero_de_cliente, Predicted)],\n",
    "    file= archivo_kaggle,\n",
    "    sep= \",\"\n",
    "  )\n",
    "\n",
    "  res <- realidad_evaluar( drealidad, tb_prediccion)\n",
    "  resultados <- rbind(\n",
    "    resultados,\n",
    "    data.table(\n",
    "      clientes = envios,\n",
    "      ganancia_total = res$total,\n",
    "      ganancia_public = res$public,\n",
    "      ganancia_private = res$private\n",
    "    )\n",
    "  )\n",
    "  \n",
    "\n",
    "  options(scipen = 999)\n",
    "  cat( \"Envios=\", envios, \"\\t\",\n",
    "    \" TOTAL=\", res$total,\n",
    "    \"  Public=\", res$public,\n",
    "    \" Private=\", res$private,\n",
    "    \"\\n\",\n",
    "    sep= \"\"\n",
    "  )\n",
    "\n",
    "}"
   ]
  },
  {
   "cell_type": "code",
   "execution_count": null,
   "id": "486c114c",
   "metadata": {
    "vscode": {
     "languageId": "r"
    }
   },
   "outputs": [],
   "source": [
    "# pasamos a formato largo\n",
    "resultados_long <- melt(\n",
    "  resultados,\n",
    "  id.vars = \"clientes\",\n",
    "  measure.vars = c(\"ganancia_total\", \"ganancia_public\", \"ganancia_private\"),\n",
    "  variable.name = \"tipo\",\n",
    "  value.name = \"ganancia\"\n",
    ")\n",
    "\n",
    "# calcular máximos por tipo\n",
    "maximos <- resultados_long[, .SD[which.max(ganancia)], by = tipo]\n",
    "\n",
    "# crear etiquetas personalizadas para la leyenda\n",
    "etiquetas <- paste0(\n",
    "  maximos$tipo,\n",
    "  \" (envíos = \", maximos$clientes, \", máx = \", format(maximos$ganancia, big.mark = \",\"), \")\"\n",
    ")\n",
    "names(etiquetas) <- maximos$tipo\n",
    "\n",
    "# gráfico\n",
    "ggplot(resultados_long, aes(x = clientes, y = ganancia, color = tipo)) +\n",
    "  geom_line(linewidth = 1) +\n",
    "  # agregar puntos en los máximos\n",
    "  geom_point(data = maximos, aes(x = clientes, y = ganancia, color = tipo), size = 3) +\n",
    "  labs(\n",
    "    title = \"Curvas de Ganancia\",\n",
    "    x = \"Clientes\",\n",
    "    y = \"Ganancia\",\n",
    "    color = \"Máximos\"\n",
    "  ) +\n",
    "  scale_color_manual(values = c(\"ganancia_total\" = \"steelblue\",\n",
    "                                \"ganancia_public\" = \"forestgreen\",\n",
    "                                \"ganancia_private\" = \"firebrick\"),\n",
    "                     labels = etiquetas) +\n",
    "  theme_minimal() +\n",
    "  theme(\n",
    "    plot.margin = margin(10, 10, 10, 10),  # top, right, bottom, left\n",
    "    legend.position = \"bottom\")+\n",
    "  guides(color = guide_legend(nrow = 3, byrow = TRUE))\n",
    "  + ggsave(\"curvas.png\", width = 10, height = 6)"
   ]
  },
  {
   "cell_type": "code",
   "execution_count": null,
   "id": "70050a36",
   "metadata": {
    "vscode": {
     "languageId": "r"
    }
   },
   "outputs": [],
   "source": [
    "format(Sys.time(), \"%a %b %d %X %Y\")"
   ]
  },
  {
   "cell_type": "markdown",
   "id": "a2244557",
   "metadata": {},
   "source": [
    "# Ensemble"
   ]
  },
  {
   "cell_type": "code",
   "execution_count": null,
   "id": "1a2be6b1",
   "metadata": {
    "vscode": {
     "languageId": "r"
    }
   },
   "outputs": [],
   "source": [
    "# Definir las 5 semillas fijas para el ensemble\n",
    "semillas <- c(200003,300007,400009,500009,600011)\n",
    "\n",
    "# Lista vacía para ir guardando la predicción de cada modelo\n",
    "lista_predicciones <- list()\n",
    "\n",
    "# clase01\n",
    "dataset[, clase01 := ifelse(clase_ternaria %in% c(\"BAJA+1\", \"BAJA+2\"), 1L, 0L)]\n",
    "\n",
    "dataset_train <- dataset[foto_mes %in% PARAM$train_final]\n",
    "\n",
    "# dejo los datos en el formato que necesita LightGBM\n",
    "dtrain_final <- lgb.Dataset(\n",
    "  data = data.matrix(dataset_train[, campos_buenos, with = FALSE]),\n",
    "  label = dataset_train[, clase01]\n",
    ")\n",
    "\n",
    "# Entrenamiento final\n",
    "param_final <- modifyList(PARAM$lgbm$param_fijos,\n",
    "                          PARAM$out$lgbm$mejores_hiperparametros)\n",
    "\n",
    "# este punto es muy SUTIL  y será revisado en la Clase 05\n",
    "param_normalizado <- copy(param_final)\n",
    "param_normalizado$min_data_in_leaf <- round(param_final$min_data_in_leaf / PARAM$trainingstrategy$undersampling)\n",
    "\n",
    "# Dataset de predicción (lo definimos una sola vez fuera del bucle)\n",
    "dfuture <- dataset[foto_mes %in% PARAM$future]\n",
    "\n",
    "cat(\"Iniciando entrenamiento del ensamble con\", length(semillas), \"semillas...\\n\")\n",
    "\n",
    "### Bucle para entrenar un modelo por cada semilla\n",
    "for (semilla_actual in semillas) {\n",
    "  print(paste0(\"\\nEntrenando modelo con semilla: \", semilla_actual, \"\\n\"))\n",
    "\n",
    "  param_normalizado$seed <- semilla_actual\n",
    "  \n",
    "  # entreno LightGBM\n",
    "  modelo_final <- lgb.train(\n",
    "    data = dtrain_final,\n",
    "    param = param_normalizado\n",
    "  )\n",
    "  \n",
    "  # aplico el modelo a los datos nuevos\n",
    "  prediccion_individual <- predict(\n",
    "    modelo_final,\n",
    "    data.matrix(dfuture[, campos_buenos, with = FALSE])\n",
    "  )\n",
    "  \n",
    "  # Creamos una tabla con la predicción de esta semilla\n",
    "  tb_prediccion_individual <- dfuture[, list(numero_de_cliente, foto_mes)] \n",
    "  tb_prediccion_individual[, prob := prediccion_individual]\n",
    "  \n",
    "  ### Guardamos la predicción en nuestra lista\n",
    "  lista_predicciones[[as.character(semilla_actual)]] <- tb_prediccion_individual\n",
    "  \n",
    "} # Fin del bucle de semillas\n",
    "\n",
    "cat(\"\\nTodas las semillas procesadas. Creando el ensamble final...\\n\")\n",
    "\n",
    "# Juntamos todas las tablas de la lista en una sola\n",
    "predicciones_todas <- rbindlist(lista_predicciones)\n",
    "\n",
    "# Agrupamos por cliente y calculamos la probabilidad promedio\n",
    "tb_prediccion <- predicciones_todas[, .(prob = mean(prob)), by = .(numero_de_cliente, foto_mes)]\n",
    "\n",
    "cat(\"Ensamble creado con éxito. Probabilidades promediadas.\\n\\n\")\n",
    "\n",
    "# inicilizo el dataset  drealidad\n",
    "drealidad <- realidad_inicializar(dfuture, PARAM)\n",
    "\n",
    "# ordeno por probabilidad descendente\n",
    "setorder(tb_prediccion, -prob)\n",
    "\n",
    "dir.create(\"kaggle_promedidado\")\n",
    "resultados <- data.table()\n",
    "\n",
    "for (envios in PARAM$cortes) {\n",
    "  \n",
    "  tb_prediccion[, Predicted := 0L] # seteo inicial a 0\n",
    "  tb_prediccion[1:envios, Predicted := 1L] # marco los primeros\n",
    "  \n",
    "  archivo_kaggle <- paste0(\"./kaggle_promedidado/\", PARAM$experimento, \"_\", envios, \".csv\")\n",
    "  \n",
    "  # grabo el archivo\n",
    "  fwrite(tb_prediccion[, list(numero_de_cliente, Predicted)],\n",
    "         file = archivo_kaggle,\n",
    "         sep = \",\"\n",
    "  )\n",
    "  \n",
    "  res <- realidad_evaluar(drealidad, tb_prediccion)\n",
    "  resultados <- rbind(\n",
    "    resultados,\n",
    "    data.table(\n",
    "      clientes = envios,\n",
    "      ganancia_total = res$total,\n",
    "      ganancia_public = res$public,\n",
    "      ganancia_private = res$private\n",
    "    )\n",
    "  )\n",
    "  \n",
    "  options(scipen = 999)\n",
    "  cat(\"Envios=\", envios, \"\\t\",\n",
    "      \" TOTAL=\", res$total,\n",
    "      \"  Public=\", res$public,\n",
    "      \"  Private=\", res$private,\n",
    "      \"\\n\",\n",
    "      sep = \"\"\n",
    "  )\n",
    "}"
   ]
  },
  {
   "cell_type": "code",
   "execution_count": null,
   "id": "99f4aa88",
   "metadata": {
    "vscode": {
     "languageId": "r"
    }
   },
   "outputs": [],
   "source": [
    "# pasamos a formato largo\n",
    "resultados_long <- melt(\n",
    "  resultados,\n",
    "  id.vars = \"clientes\",\n",
    "  measure.vars = c(\"ganancia_total\", \"ganancia_public\", \"ganancia_private\"),\n",
    "  variable.name = \"tipo\",\n",
    "  value.name = \"ganancia\"\n",
    ")\n",
    "\n",
    "# calcular máximos por tipo\n",
    "maximos <- resultados_long[, .SD[which.max(ganancia)], by = tipo]\n",
    "\n",
    "# crear etiquetas personalizadas para la leyenda\n",
    "etiquetas <- paste0(\n",
    "  maximos$tipo,\n",
    "  \" (envíos = \", maximos$clientes, \", máx = \", format(maximos$ganancia, big.mark = \",\"), \")\"\n",
    ")\n",
    "names(etiquetas) <- maximos$tipo\n",
    "\n",
    "# gráfico\n",
    "ggplot(resultados_long, aes(x = clientes, y = ganancia, color = tipo)) +\n",
    "  geom_line(linewidth  = 1) +\n",
    "  # agregar puntos en los máximos\n",
    "  geom_point(data = maximos, aes(x = clientes, y = ganancia, color = tipo), size  = 3) +\n",
    "  labs(\n",
    "    title = \"Curvas de Ganancia\",\n",
    "    x = \"Clientes\",\n",
    "    y = \"Ganancia\",\n",
    "    color = \"Máximos\"\n",
    "  ) +\n",
    "  scale_color_manual(values = c(\"ganancia_total\" = \"steelblue\",\n",
    "                                \"ganancia_public\" = \"forestgreen\",\n",
    "                                \"ganancia_private\" = \"firebrick\"),\n",
    "                     labels = etiquetas) +\n",
    "  theme_minimal() +\n",
    "  theme(\n",
    "    plot.margin = margin(10, 10, 10, 10),  # top, right, bottom, left\n",
    "    legend.position = \"bottom\")+\n",
    "  guides(color = guide_legend(nrow = 3, byrow = TRUE))\n",
    "  + ggsave(\"curvas_ensemble.png\", width = 10, height = 6)"
   ]
  }
 ],
 "metadata": {
  "kernelspec": {
   "display_name": "R",
   "language": "R",
   "name": "ir"
  },
  "language_info": {
   "codemirror_mode": "r",
   "file_extension": ".r",
   "mimetype": "text/x-r-source",
   "name": "R",
   "pygments_lexer": "r",
   "version": "4.4.3"
  }
 },
 "nbformat": 4,
 "nbformat_minor": 5
}

{
 "cells": [
  {
   "cell_type": "code",
   "execution_count": 1,
   "id": "150c43ca",
   "metadata": {
    "vscode": {
     "languageId": "r"
    }
   },
   "outputs": [
    {
     "name": "stderr",
     "output_type": "stream",
     "text": [
      "Cargando paquete requerido: data.table\n",
      "\n",
      "Cargando paquete requerido: parallel\n",
      "\n",
      "Cargando paquete requerido: R.utils\n",
      "\n",
      "Cargando paquete requerido: R.oo\n",
      "\n",
      "Cargando paquete requerido: R.methodsS3\n",
      "\n",
      "R.methodsS3 v1.8.2 (2022-06-13 22:00:14 UTC) successfully loaded. See ?R.methodsS3 for help.\n",
      "\n",
      "R.oo v1.27.1 (2025-05-02 21:00:05 UTC) successfully loaded. See ?R.oo for help.\n",
      "\n",
      "\n",
      "Adjuntando el paquete: 'R.oo'\n",
      "\n",
      "\n",
      "The following object is masked from 'package:R.methodsS3':\n",
      "\n",
      "    throw\n",
      "\n",
      "\n",
      "The following objects are masked from 'package:methods':\n",
      "\n",
      "    getClasses, getMethods\n",
      "\n",
      "\n",
      "The following objects are masked from 'package:base':\n",
      "\n",
      "    attach, detach, load, save\n",
      "\n",
      "\n",
      "R.utils v2.13.0 (2025-02-24 21:20:02 UTC) successfully loaded. See ?R.utils for help.\n",
      "\n",
      "\n",
      "Adjuntando el paquete: 'R.utils'\n",
      "\n",
      "\n",
      "The following object is masked from 'package:utils':\n",
      "\n",
      "    timestamp\n",
      "\n",
      "\n",
      "The following objects are masked from 'package:base':\n",
      "\n",
      "    cat, commandArgs, getOption, isOpen, nullfile, parse, use, warnings\n",
      "\n",
      "\n",
      "Cargando paquete requerido: primes\n",
      "\n",
      "Cargando paquete requerido: rlist\n",
      "\n",
      "Cargando paquete requerido: yaml\n",
      "\n",
      "Cargando paquete requerido: lightgbm\n",
      "\n",
      "Cargando paquete requerido: DiceKriging\n",
      "\n",
      "Cargando paquete requerido: mlrMBO\n",
      "\n",
      "Cargando paquete requerido: mlr\n",
      "\n",
      "Cargando paquete requerido: ParamHelpers\n",
      "\n",
      "\n",
      "Adjuntando el paquete: 'ParamHelpers'\n",
      "\n",
      "\n",
      "The following object is masked from 'package:R.utils':\n",
      "\n",
      "    isVector\n",
      "\n",
      "\n",
      "\n",
      "Adjuntando el paquete: 'mlr'\n",
      "\n",
      "\n",
      "The following objects are masked from 'package:R.utils':\n",
      "\n",
      "    resample, setThreshold\n",
      "\n",
      "\n",
      "Cargando paquete requerido: smoof\n",
      "\n",
      "Cargando paquete requerido: checkmate\n",
      "\n",
      "\n",
      "Adjuntando el paquete: 'checkmate'\n",
      "\n",
      "\n",
      "The following object is masked from 'package:DiceKriging':\n",
      "\n",
      "    checkNames\n",
      "\n",
      "\n",
      "The following object is masked from 'package:R.utils':\n",
      "\n",
      "    asInt\n",
      "\n",
      "\n",
      "\n",
      "Adjuntando el paquete: 'smoof'\n",
      "\n",
      "\n",
      "The following objects are masked from 'package:R.oo':\n",
      "\n",
      "    getDescription, getName\n",
      "\n",
      "\n",
      "Cargando paquete requerido: ggplot2\n",
      "\n"
     ]
    }
   ],
   "source": [
    "# cargo las librerias que necesito\n",
    "if(!require(\"data.table\")) install.packages(\"data.table\")\n",
    "require(\"data.table\")\n",
    "\n",
    "if(!require(\"parallel\")) install.packages(\"parallel\")\n",
    "require(\"parallel\")\n",
    "\n",
    "if(!require(\"R.utils\")) install.packages(\"R.utils\")\n",
    "require(\"R.utils\")\n",
    "\n",
    "if( !require(\"primes\") ) install.packages(\"primes\")\n",
    "require(\"primes\")\n",
    "\n",
    "if( !require(\"utils\") ) install.packages(\"utils\")\n",
    "require(\"utils\")\n",
    "\n",
    "if( !require(\"rlist\") ) install.packages(\"rlist\")\n",
    "require(\"rlist\")\n",
    "\n",
    "if( !require(\"yaml\")) install.packages(\"yaml\")\n",
    "require(\"yaml\")\n",
    "\n",
    "if( !require(\"lightgbm\") ) install.packages(\"lightgbm\")\n",
    "require(\"lightgbm\")\n",
    "\n",
    "if( !require(\"DiceKriging\") ) install.packages(\"DiceKriging\")\n",
    "require(\"DiceKriging\")\n",
    "\n",
    "if( !require(\"mlrMBO\") ) install.packages(\"mlrMBO\")\n",
    "require(\"mlrMBO\")\n",
    "\n",
    "if( !require(\"ggplot2\") ) install.packages(\"ggplot2\")\n",
    "require(\"ggplot2\")"
   ]
  },
  {
   "cell_type": "code",
   "execution_count": 2,
   "id": "54cddfce",
   "metadata": {
    "vscode": {
     "languageId": "r"
    }
   },
   "outputs": [
    {
     "data": {
      "text/html": [
       "<table class=\"dataframe\">\n",
       "<caption>A matrix: 2 × 6 of type dbl</caption>\n",
       "<thead>\n",
       "\t<tr><th></th><th scope=col>used</th><th scope=col>(Mb)</th><th scope=col>gc trigger</th><th scope=col>(Mb)</th><th scope=col>max used</th><th scope=col>(Mb)</th></tr>\n",
       "</thead>\n",
       "<tbody>\n",
       "\t<tr><th scope=row>Ncells</th><td>2088449</td><td>111.6</td><td>4054784</td><td>216.6</td><td>2937288</td><td>156.9</td></tr>\n",
       "\t<tr><th scope=row>Vcells</th><td>3612812</td><td> 27.6</td><td>8388608</td><td> 64.0</td><td>5742622</td><td> 43.9</td></tr>\n",
       "</tbody>\n",
       "</table>\n"
      ],
      "text/latex": [
       "A matrix: 2 × 6 of type dbl\n",
       "\\begin{tabular}{r|llllll}\n",
       "  & used & (Mb) & gc trigger & (Mb) & max used & (Mb)\\\\\n",
       "\\hline\n",
       "\tNcells & 2088449 & 111.6 & 4054784 & 216.6 & 2937288 & 156.9\\\\\n",
       "\tVcells & 3612812 &  27.6 & 8388608 &  64.0 & 5742622 &  43.9\\\\\n",
       "\\end{tabular}\n"
      ],
      "text/markdown": [
       "\n",
       "A matrix: 2 × 6 of type dbl\n",
       "\n",
       "| <!--/--> | used | (Mb) | gc trigger | (Mb) | max used | (Mb) |\n",
       "|---|---|---|---|---|---|---|\n",
       "| Ncells | 2088449 | 111.6 | 4054784 | 216.6 | 2937288 | 156.9 |\n",
       "| Vcells | 3612812 |  27.6 | 8388608 |  64.0 | 5742622 |  43.9 |\n",
       "\n"
      ],
      "text/plain": [
       "       used    (Mb)  gc trigger (Mb)  max used (Mb) \n",
       "Ncells 2088449 111.6 4054784    216.6 2937288  156.9\n",
       "Vcells 3612812  27.6 8388608     64.0 5742622   43.9"
      ]
     },
     "metadata": {},
     "output_type": "display_data"
    }
   ],
   "source": [
    "# limpio la memoria\n",
    "rm(list=ls(all.names=TRUE)) # remove all objects\n",
    "gc(full=TRUE, verbose=FALSE) # garbage collection"
   ]
  },
  {
   "cell_type": "markdown",
   "id": "6b7e3717",
   "metadata": {},
   "source": [
    "# Clase Ternaria"
   ]
  },
  {
   "cell_type": "code",
   "execution_count": null,
   "id": "32d2211f",
   "metadata": {
    "vscode": {
     "languageId": "r"
    }
   },
   "outputs": [],
   "source": [
    "# Genero clase ternaria\n",
    "# leo el dataset\n",
    "setwd(\"~/buckets/b1/datasets\")\n",
    "dataset <- fread(\"./competencia_01_crudo.csv\" )\n",
    "\n",
    "# calculo el periodo0 consecutivo\n",
    "dsimple <- dataset[, list(\n",
    "    \"pos\" = .I,\n",
    "    numero_de_cliente,\n",
    "    periodo0 = as.integer(foto_mes/100)*12 +  foto_mes%%100 ) ]\n",
    "\n",
    "\n",
    "# ordeno\n",
    "setorder( dsimple, numero_de_cliente, periodo0 )\n",
    "\n",
    "# calculo topes\n",
    "periodo_ultimo <- dsimple[, max(periodo0) ]\n",
    "periodo_anteultimo <- periodo_ultimo - 1\n",
    "\n",
    "\n",
    "# calculo los leads de orden 1 y 2\n",
    "dsimple[, c(\"periodo1\", \"periodo2\") :=\n",
    "    shift(periodo0, n=1:2, fill=NA, type=\"lead\"),  numero_de_cliente ]\n",
    "\n",
    "# assign most common class values = \"CONTINUA\"\n",
    "dsimple[ periodo0 < periodo_anteultimo, clase_ternaria := \"CONTINUA\" ]\n",
    "\n",
    "# calculo BAJA+1\n",
    "dsimple[ periodo0 < periodo_ultimo &\n",
    "    ( is.na(periodo1) | periodo0 + 1 < periodo1 ),\n",
    "    clase_ternaria := \"BAJA+1\" ]\n",
    "\n",
    "# calculo BAJA+2\n",
    "dsimple[ periodo0 < periodo_anteultimo & (periodo0+1 == periodo1 )\n",
    "    & ( is.na(periodo2) | periodo0 + 2 < periodo2 ),\n",
    "    clase_ternaria := \"BAJA+2\" ]\n",
    "\n",
    "\n",
    "# pego el resultado en el dataset original y grabo\n",
    "setorder( dsimple, pos )\n",
    "dataset[, clase_ternaria := dsimple$clase_ternaria ]\n",
    "\n",
    "fwrite( dataset,\n",
    "    file =  \"./competencia_01.csv.gz\",\n",
    "    sep = \",\"\n",
    ")"
   ]
  },
  {
   "cell_type": "markdown",
   "id": "fc7b50e8",
   "metadata": {},
   "source": [
    "# Parámetros"
   ]
  },
  {
   "cell_type": "code",
   "execution_count": null,
   "id": "209462b4",
   "metadata": {
    "vscode": {
     "languageId": "r"
    }
   },
   "outputs": [],
   "source": [
    "# Parámetros\n",
    "PARAM <- list()\n",
    "PARAM$experimento <- \"expC01_Prueba03\"\n",
    "PARAM$semillas_primigenias <- c(200003, 300007, 400009, 500009, 600011)\n",
    "\n",
    "# training y future\n",
    "PARAM$train <- c(202101, 202102)\n",
    "PARAM$train_final <- c(202101, 202102)\n",
    "PARAM$future <- c(202104)\n",
    "PARAM$train_final_kaggle <- c(202101, 202102, 202103, 202104)\n",
    "PARAM$entrega_kaggle <- c(202106)\n",
    "PARAM$semilla_kaggle <- 314159 #Semilla para el modelo final que va a Kaggle, primeros números de pi que sean primos.\n",
    "PARAM$cortes <- seq(0, 20000, by= 100)\n",
    "\n",
    "# un undersampling de 0.1  toma solo el 10% de los CONTINUA\n",
    "# undersampling de 1.0  implica tomar TODOS los datos\n",
    "\n",
    "PARAM$trainingstrategy$undersampling <- 0.5\n",
    "\n",
    "# Parametros LightGBM\n",
    "\n",
    "PARAM$hyperparametertuning$xval_folds <- 5\n",
    "\n",
    "# parametros fijos del LightGBM que se pisaran con la parte variable de la BO\n",
    "PARAM$lgbm$param_fijos <-  list(\n",
    "  boosting= \"gbdt\", # puede ir dart, ni pruebe random_forest\n",
    "  objective= \"binary\", #default regression\n",
    "  metric= \"auc\", # default \"\" \n",
    "  first_metric_only= FALSE, # default FALSE\n",
    "  boost_from_average= TRUE, # default TRUE\n",
    "  feature_pre_filter= FALSE, # default TRUE\n",
    "  force_row_wise= TRUE, # para reducir warnings\n",
    "  verbosity= -100, # default 1\n",
    "\n",
    "  seed= 1, # Relacionado con data_random_seed, feature_fraction_seed, entre otros \n",
    "\n",
    "  max_depth= -1L, # -1 significa no limitar,  por ahora lo dejo fijo\n",
    "  min_gain_to_split= 0, # min_gain_to_split >= 0\n",
    "  min_sum_hessian_in_leaf= 0.001, #  min_sum_hessian_in_leaf >= 0.0\n",
    "  lambda_l1= 0.0, # lambda_l1 >= 0.0\n",
    "  lambda_l2= 0.0, # lambda_l2 >= 0.0\n",
    "  max_bin= 31L, # lo debo dejar fijo, no participa de la BO\n",
    "\n",
    "  bagging_fraction= 1.0, # 0.0 < bagging_fraction <= 1.0\n",
    "  pos_bagging_fraction= 1.0, # 0.0 < pos_bagging_fraction <= 1.0\n",
    "  neg_bagging_fraction= 1.0, # 0.0 < neg_bagging_fraction <= 1.0\n",
    "  is_unbalance= FALSE, # Default FALSE\n",
    "  scale_pos_weight= 1.0, # scale_pos_weight > 0.0\n",
    "\n",
    "  drop_rate= 0.1, # 0.0 < neg_bagging_fraction <= 1.0\n",
    "  max_drop= 50, # <=0 means no limit\n",
    "  skip_drop= 0.5, # 0.0 <= skip_drop <= 1.0\n",
    "\n",
    "  extra_trees= FALSE, # default FALSE\n",
    "\n",
    "  num_iterations= 1200, # default 100\n",
    "  learning_rate= 0.02, # default 0.1\n",
    "  feature_fraction= 0.5, # default 1\n",
    "  num_leaves= 750, # default 31\n",
    "  min_data_in_leaf= 5000 # default 20\n",
    ")\n",
    "\n",
    "# Aqui se cargan los bordes de los hiperparametros de la BO\n",
    "PARAM$hypeparametertuning$hs <- makeParamSet(\n",
    "  makeIntegerParam(\"num_iterations\", lower= 50L, upper= 3000L),\n",
    "  makeNumericParam(\"learning_rate\", lower= 0.005, upper= 0.1),\n",
    "  makeNumericParam(\"feature_fraction\", lower= 0.1, upper= 1.0),\n",
    "  makeIntegerParam(\"num_leaves\", lower= 1L, upper= 2048L),\n",
    "  makeIntegerParam(\"min_data_in_leaf\", lower= 1L, upper= 8000L)\n",
    ")\n",
    "\n",
    "PARAM$hyperparametertuning$iteraciones <- 100 # iteraciones bayesianas"
   ]
  },
  {
   "cell_type": "markdown",
   "id": "dfb8db72",
   "metadata": {},
   "source": [
    "# Funciones"
   ]
  },
  {
   "cell_type": "code",
   "execution_count": 3,
   "id": "e0ab6486",
   "metadata": {
    "vscode": {
     "languageId": "r"
    }
   },
   "outputs": [],
   "source": [
    "# particionar agrega una columna llamada fold a un dataset\n",
    "#   que consiste en una particion estratificada segun agrupa\n",
    "# particionar( data=dataset, division=c(70,30),\n",
    "#  agrupa=clase_ternaria, seed=semilla)   crea una particion 70, 30\n",
    "\n",
    "particionar <- function(data, division, agrupa= \"\", campo= \"fold\", start= 1, seed= NA) {\n",
    "  if (!is.na(seed)) set.seed(seed, \"L'Ecuyer-CMRG\")\n",
    "\n",
    "  bloque <- unlist(mapply(\n",
    "    function(x, y) {rep(y, x)},division, seq(from= start, length.out= length(division))))\n",
    "\n",
    "  data[, (campo) := sample(rep(bloque,ceiling(.N / length(bloque))))[1:.N],by= agrupa]\n",
    "}"
   ]
  },
  {
   "cell_type": "code",
   "execution_count": 4,
   "id": "506eed41",
   "metadata": {
    "vscode": {
     "languageId": "r"
    }
   },
   "outputs": [],
   "source": [
    "# iniciliazo el dataset de realidad, para medir ganancia\n",
    "realidad_inicializar <- function( pfuture, pparam) {\n",
    "\n",
    "  # datos para verificar la ganancia\n",
    "  drealidad <- pfuture[, list(numero_de_cliente, foto_mes, clase_ternaria)]\n",
    "\n",
    "  particionar(drealidad,\n",
    "    division= c(3, 7),\n",
    "    agrupa= \"clase_ternaria\",\n",
    "    seed= PARAM$semilla_kaggle\n",
    "  )\n",
    "\n",
    "  return( drealidad )\n",
    "}"
   ]
  },
  {
   "cell_type": "code",
   "execution_count": 5,
   "id": "0d09def7",
   "metadata": {
    "vscode": {
     "languageId": "r"
    }
   },
   "outputs": [],
   "source": [
    "# evaluo ganancia en los datos de la realidad\n",
    "\n",
    "realidad_evaluar <- function( prealidad, pprediccion) {\n",
    "\n",
    "  prealidad[ pprediccion,\n",
    "    on= c(\"numero_de_cliente\", \"foto_mes\"),\n",
    "    predicted:= i.Predicted\n",
    "  ]\n",
    "\n",
    "  tbl <- prealidad[, list(\"qty\"=.N), list(fold, predicted, clase_ternaria)]\n",
    "\n",
    "  res <- list()\n",
    "  res$public  <- tbl[fold==1 & predicted==1L, sum(qty*ifelse(clase_ternaria==\"BAJA+2\", 780000, -20000))]/0.3\n",
    "  res$private <- tbl[fold==2 & predicted==1L, sum(qty*ifelse(clase_ternaria==\"BAJA+2\", 780000, -20000))]/0.7\n",
    "  res$total <- tbl[predicted==1L, sum(qty*ifelse(clase_ternaria==\"BAJA+2\", 780000, -20000))]\n",
    "\n",
    "  prealidad[, predicted:=NULL]\n",
    "  return( res )\n",
    "}"
   ]
  },
  {
   "cell_type": "markdown",
   "id": "7774b9d7",
   "metadata": {},
   "source": [
    "# Configuración del Dataset"
   ]
  },
  {
   "cell_type": "code",
   "execution_count": 6,
   "id": "b998f5d3",
   "metadata": {
    "vscode": {
     "languageId": "r"
    }
   },
   "outputs": [],
   "source": [
    "# lectura del dataset\n",
    "dataset <- fread(\"./competencia_01.csv.gz\", stringsAsFactors= TRUE)"
   ]
  },
  {
   "cell_type": "code",
   "execution_count": null,
   "id": "bdbb8cda",
   "metadata": {
    "vscode": {
     "languageId": "r"
    }
   },
   "outputs": [],
   "source": [
    "# Genero los lags de orden 1\n",
    "# Columnas que quieres excluir\n",
    "cols_a_excluir <- c(\"numero_de_cliente\", \"foto_mes\", \"clase_ternaria\")\n",
    "\n",
    "# Nombres de las columnas a las que se les aplicará el lag\n",
    "cols_con_lag <- setdiff(names(dataset), cols_a_excluir)\n",
    "\n",
    "# Nombres para las nuevas columnas de lags\n",
    "nombres_nuevas_cols_lag <- paste0(cols_con_lag, \"_lag1\")\n",
    "\n",
    "# Calcular los lags de orden 1\n",
    "dataset[, (nombres_nuevas_cols_lag) := shift(.SD, 1, NA, \"lag\"), by = numero_de_cliente, .SDcols = cols_con_lag]\n",
    "\n",
    "# Nombres para las nuevas columnas de delta lags\n",
    "nombres_nuevas_cols_delta <- paste0(cols_con_lag, \"_delta1\")\n",
    "\n",
    "# Calcular los delta lags (valor actual - valor del lag)\n",
    "dataset[, (nombres_nuevas_cols_delta) := .SD - mget(nombres_nuevas_cols_lag), .SDcols = cols_con_lag]"
   ]
  },
  {
   "cell_type": "markdown",
   "id": "0d1ee358",
   "metadata": {},
   "source": [
    "# Entrenamiento del ensemble"
   ]
  },
  {
   "cell_type": "code",
   "execution_count": null,
   "id": "102b0988",
   "metadata": {
    "vscode": {
     "languageId": "r"
    }
   },
   "outputs": [],
   "source": [
    "# En el argumento x llegan los parmaetros de la bayesiana\n",
    "#  devuelve la AUC en cross validation del modelo entrenado\n",
    "\n",
    "EstimarGanancia_AUC_lightgbm <- function(x) {\n",
    "\n",
    "  # x pisa (o agrega) a param_fijos\n",
    "  param_completo <- modifyList(PARAM$lgbm$param_fijos, x)\n",
    "\n",
    "  # entreno LightGBM\n",
    "  modelocv <- lgb.cv(\n",
    "    data= dtrain,\n",
    "    nfold= PARAM$hyperparametertuning$xval_folds,\n",
    "    stratified= TRUE,\n",
    "    param= param_completo\n",
    "  )\n",
    "\n",
    "  # obtengo la ganancia\n",
    "  AUC <- modelocv$best_score\n",
    "\n",
    "  # hago espacio en la memoria\n",
    "  rm(modelocv)\n",
    "  gc(full= TRUE, verbose= FALSE)\n",
    "\n",
    "  message(format(Sys.time(), \"%a %b %d %X %Y\"), \" AUC \", AUC)\n",
    "\n",
    "  return(AUC)\n",
    "}"
   ]
  },
  {
   "cell_type": "code",
   "execution_count": null,
   "id": "3064f78e",
   "metadata": {
    "vscode": {
     "languageId": "r"
    }
   },
   "outputs": [],
   "source": [
    "setwd(\"~/buckets/b1/exp/\")\n",
    "dir.create(PARAM$experimento, showWarnings=FALSE)\n",
    "setwd(paste0(\"~/buckets/b1/exp/\",PARAM$experimento))\n",
    "\n",
    "# Lista para almacenar la tabla de predicción de cada modelo\n",
    "predicciones_ensemble <- list()\n",
    "\n",
    "# Recorro cada semilla\n",
    "for (semilla_actual in PARAM$semillas_primigenias) {\n",
    "  \n",
    "  cat(\"\\n\")\n",
    "  cat(\"---------------------------------------------------\\n\")\n",
    "  cat(\"Procesando semilla:\", semilla_actual, \"\\n\")\n",
    "  cat(\"---------------------------------------------------\\n\")\n",
    "\n",
    "  # Asigno la semilla actual al parámetro que usa el resto del script\n",
    "  PARAM$semilla_primigenia <- semilla_actual\n",
    "  \n",
    "  #--- Preparación de datos (undersampling) con la semilla actual ---\n",
    "  dataset_train <- dataset[foto_mes %in% PARAM$train]\n",
    "\n",
    "  dataset_train[,\n",
    "    clase01 := ifelse(clase_ternaria %in% c(\"BAJA+2\",\"BAJA+1\"), 1L, 0L)\n",
    "  ]\n",
    "  \n",
    "  set.seed(PARAM$semilla_primigenia, kind = \"L'Ecuyer-CMRG\")\n",
    "  dataset_train[, azar := runif(nrow(dataset_train))]\n",
    "  dataset_train[, training := 0L]\n",
    "  dataset_train[foto_mes %in% PARAM$train & (azar <= PARAM$trainingstrategy$undersampling | clase_ternaria %in% c(\"BAJA+1\", \"BAJA+2\")),\n",
    "                training := 1L]\n",
    "  \n",
    "  campos_buenos <- setdiff(colnames(dataset_train), c(\"clase_ternaria\", \"clase01\", \"azar\", \"training\"))\n",
    "  \n",
    "  dtrain <- lgb.Dataset(data= data.matrix(dataset_train[training == 1L, campos_buenos, with= FALSE]),\n",
    "                        label= dataset_train[training == 1L, clase01], free_raw_data= FALSE)\n",
    "  \n",
    "  #--- Optimización Bayesiana ---\n",
    "  dir.create(\"Archivos Bayesiana\", showWarnings=FALSE)\n",
    "  kbayesiana <- paste0(\"./Archivos Bayesiana/bayesiana_\", semilla_actual, \".RDATA\")\n",
    "\n",
    "  funcion_optimizar <- EstimarGanancia_AUC_lightgbm\n",
    "  configureMlr(show.learner.output= FALSE)\n",
    "  obj.fun <- makeSingleObjectiveFunction(fn= funcion_optimizar, minimize= FALSE, noisy= TRUE,\n",
    "                                         par.set= PARAM$hypeparametertuning$hs, has.simple.signature= FALSE)\n",
    "  ctrl <- makeMBOControl(save.on.disk.at.time= 600, save.file.path= kbayesiana)\n",
    "  ctrl <- setMBOControlTermination(ctrl, iters= PARAM$hyperparametertuning$iteraciones)\n",
    "  ctrl <- setMBOControlInfill(ctrl, crit= makeMBOInfillCritEI())\n",
    "  surr.km <- makeLearner(\"regr.km\", predict.type= \"se\", covtype= \"matern3_2\", control= list(trace= TRUE))\n",
    "\n",
    "  if (!file.exists(kbayesiana)) {\n",
    "    bayesiana_salida <- mbo(obj.fun, learner= surr.km, control= ctrl)\n",
    "  } else {\n",
    "    bayesiana_salida <- mboContinue(kbayesiana)\n",
    "  }\n",
    "  \n",
    "  tb_bayesiana <- as.data.table(bayesiana_salida$opt.path)\n",
    "  setorder(tb_bayesiana, -y)\n",
    "  \n",
    "  fwrite(tb_bayesiana, file= paste0(\"./Archivos Bayesiana/BO_log_\", semilla_actual, \".txt\"), sep= \"\\t\")\n",
    "  \n",
    "  mejores_hiperparametros <- tb_bayesiana[1, setdiff(colnames(tb_bayesiana),\n",
    "    c(\"y\",\"dob\",\"eol\",\"error.message\",\"exec.time\",\"ei\",\"error.model\", \"train.time\",\n",
    "      \"prop.type\",\"propose.time\",\"se\",\"mean\",\"iter\")), with= FALSE]\n",
    "\n",
    "  PARAM$out$lgbm$mejores_hiperparametros <- mejores_hiperparametros\n",
    "  write_yaml(PARAM, file= paste0(\"./Archivos Bayesiana/PARAM_\", semilla_actual, \".yml\"))\n",
    "\n",
    "  #--- Entrenamiento del modelo final para la semilla actual ---\n",
    "  dtrain_final <- lgb.Dataset(data= data.matrix(dataset[foto_mes %in% PARAM$train_final, campos_buenos, with= FALSE]),\n",
    "                              label= dataset[foto_mes %in% PARAM$train_final, clase01])\n",
    "  \n",
    "  param_final <- modifyList(PARAM$lgbm$param_fijos, mejores_hiperparametros)\n",
    "  param_normalizado <- copy(param_final)\n",
    "  param_normalizado$min_data_in_leaf <- round(param_final$min_data_in_leaf / PARAM$trainingstrategy$undersampling)\n",
    "  \n",
    "  modelo_final <- lgb.train(data= dtrain_final, param= param_normalizado)\n",
    "  \n",
    "  tb_importancia <- as.data.table(lgb.importance(modelo_final))\n",
    "  fwrite(tb_importancia, file= paste0(\"./Archivos Bayesiana/impo_\", semilla_actual, \".txt\"), sep= \"\\t\")\n",
    "  lgb.save(modelo_final, paste0(\"./Archivos Bayesiana/modelo_\", semilla_actual, \".txt\"))\n",
    "  \n",
    "  #--- Predicción y guardado para el ensemble ---\n",
    "  dfuture <- dataset[foto_mes %in% PARAM$future]\n",
    "  prediccion <- predict(modelo_final, data.matrix(dfuture[, campos_buenos, with= FALSE]))\n",
    "\n",
    "  tb_prediccion_individual <- dfuture[, list(numero_de_cliente, foto_mes)]\n",
    "  tb_prediccion_individual[, prob := prediccion]\n",
    "\n",
    "  fwrite(tb_prediccion_individual, file= paste0(\"./Archivos Bayesiana/prediccion_\", semilla_actual, \".txt\"), sep= \"\\t\")\n",
    "  predicciones_ensemble[[as.character(semilla_actual)]] <- tb_prediccion_individual\n",
    "\n",
    "  cat(\"Modelo con semilla\", semilla_actual, \"entrenado y predicción guardada.\\n\")\n",
    "}"
   ]
  },
  {
   "cell_type": "markdown",
   "id": "dec8b80f",
   "metadata": {},
   "source": [
    "# Creo el Ensamble"
   ]
  },
  {
   "cell_type": "code",
   "execution_count": null,
   "id": "42fc11ec",
   "metadata": {
    "vscode": {
     "languageId": "r"
    }
   },
   "outputs": [],
   "source": [
    "# Combino todas las tablas de predicción en una sola\n",
    "tb_ensemble_completa <- rbindlist(predicciones_ensemble)\n",
    "\n",
    "# Calculo el promedio de las probabilidades para cada cliente y mes\n",
    "tb_prediccion <- tb_ensemble_completa[, .(prob = mean(prob)), by = .(numero_de_cliente, foto_mes)]\n",
    "\n",
    "# Guardo la predicción final del ensemble\n",
    "fwrite(tb_prediccion, file= \"./Archivos Bayesiana/prediccion_ensemble.txt\", sep= \"\\t\")\n",
    "\n",
    "cat(\"\\nEnsemble creado promediando las predicciones de los\", length(PARAM$semillas_primigenias), \"modelos.\\n\\n\")"
   ]
  },
  {
   "cell_type": "markdown",
   "id": "a3f26857",
   "metadata": {},
   "source": [
    "# Validación Final"
   ]
  },
  {
   "cell_type": "code",
   "execution_count": null,
   "id": "e6d860d0",
   "metadata": {
    "vscode": {
     "languageId": "r"
    }
   },
   "outputs": [],
   "source": [
    "drealidad <- realidad_inicializar(dataset[foto_mes %in% PARAM$future], PARAM)\n",
    "\n",
    "setorder(tb_prediccion, -prob)\n",
    "dir.create(\"kaggle\", showWarnings = FALSE)\n",
    "resultados <- data.table()\n",
    "\n",
    "for (envios in PARAM$cortes) {\n",
    "  tb_prediccion[, Predicted := 0L]\n",
    "  tb_prediccion[1:envios, Predicted := 1L]\n",
    "\n",
    "  archivo_kaggle <- paste0(\"./kaggle/\", PARAM$experimento, \"_ensemble_\", envios, \".csv\")\n",
    "  fwrite(tb_prediccion[, list(numero_de_cliente, Predicted)], file= archivo_kaggle, sep= \",\")\n",
    "  \n",
    "  res <- realidad_evaluar(drealidad, tb_prediccion)\n",
    "  resultados <- rbind(resultados, data.table(\n",
    "    clientes = envios, ganancia_total = res$total,\n",
    "    ganancia_public = res$public, ganancia_private = res$private))\n",
    "  \n",
    "  options(scipen = 999)\n",
    "  cat(\"Envios=\", envios, \"\\t\", \" TOTAL=\", format(res$total, big.mark=\",\"), \"  Public=\", format(res$public, big.mark=\",\"),\n",
    "      \" Private=\", format(res$private, big.mark=\",\"), \"\\n\", sep= \"\")\n",
    "}"
   ]
  },
  {
   "cell_type": "code",
   "execution_count": null,
   "id": "486c114c",
   "metadata": {
    "vscode": {
     "languageId": "r"
    }
   },
   "outputs": [
    {
     "name": "stderr",
     "output_type": "stream",
     "text": [
      "Warning message:\n",
      "\"\u001b[1m\u001b[22mUsing `size` aesthetic for lines was deprecated in ggplot2 3.4.0.\n",
      "\u001b[36mℹ\u001b[39m Please use `linewidth` instead.\"\n"
     ]
    },
    {
     "data": {
      "image/png": "[encoded data removed]",
      "text/plain": [
       "plot without title"
      ]
     },
     "metadata": {
      "image/png": {
       "height": 420,
       "width": 420
      }
     },
     "output_type": "display_data"
    }
   ],
   "source": [
    "# pasamos a formato largo\n",
    "resultados_long <- melt(\n",
    "  resultados,\n",
    "  id.vars = \"clientes\",\n",
    "  measure.vars = c(\"ganancia_total\", \"ganancia_public\", \"ganancia_private\"),\n",
    "  variable.name = \"tipo\",\n",
    "  value.name = \"ganancia\"\n",
    ")\n",
    "\n",
    "# calcular máximos por tipo\n",
    "maximos <- resultados_long[, .SD[which.max(ganancia)], by = tipo]\n",
    "\n",
    "# crear etiquetas personalizadas para la leyenda\n",
    "etiquetas <- paste0(\n",
    "  maximos$tipo,\n",
    "  \" (envíos = \", maximos$clientes, \", máx = \", format(maximos$ganancia, big.mark = \",\"), \")\"\n",
    ")\n",
    "names(etiquetas) <- maximos$tipo\n",
    "\n",
    "# gráfico\n",
    "ggplot(resultados_long, aes(x = clientes, y = ganancia, color = tipo)) +\n",
    "  geom_line(linewidth = 1) +\n",
    "  # agregar puntos en los máximos\n",
    "  geom_point(data = maximos, aes(x = clientes, y = ganancia, color = tipo), size = 3) +\n",
    "  labs(\n",
    "    title = \"Curvas de Ganancia\",\n",
    "    x = \"Clientes\",\n",
    "    y = \"Ganancia\",\n",
    "    color = \"Máximos\"\n",
    "  ) +\n",
    "  scale_color_manual(values = c(\"ganancia_total\" = \"steelblue\",\n",
    "                                \"ganancia_public\" = \"forestgreen\",\n",
    "                                \"ganancia_private\" = \"firebrick\"),\n",
    "                     labels = etiquetas) +\n",
    "  theme_minimal() +\n",
    "  theme(\n",
    "    plot.margin = margin(10, 10, 10, 10),  # top, right, bottom, left\n",
    "    legend.position = \"bottom\")+\n",
    "  guides(color = guide_legend(nrow = 3, byrow = TRUE))\n",
    "  #+ ggsave(\"curvas.png\", width = 10, height = 6)"
   ]
  },
  {
   "cell_type": "code",
   "execution_count": 31,
   "id": "70050a36",
   "metadata": {
    "vscode": {
     "languageId": "r"
    }
   },
   "outputs": [
    {
     "data": {
      "text/html": [
       "'sáb oct 04 19:43:44 2025'"
      ],
      "text/latex": [
       "'sáb oct 04 19:43:44 2025'"
      ],
      "text/markdown": [
       "'sáb oct 04 19:43:44 2025'"
      ],
      "text/plain": [
       "[1] \"sáb oct 04 19:43:44 2025\""
      ]
     },
     "metadata": {},
     "output_type": "display_data"
    }
   ],
   "source": [
    "format(Sys.time(), \"%a %b %d %X %Y\")"
   ]
  }
 ],
 "metadata": {
  "kernelspec": {
   "display_name": "R",
   "language": "R",
   "name": "ir"
  },
  "language_info": {
   "codemirror_mode": "r",
   "file_extension": ".r",
   "mimetype": "text/x-r-source",
   "name": "R",
   "pygments_lexer": "r",
   "version": "4.4.3"
  }
 },
 "nbformat": 4,
 "nbformat_minor": 5
}

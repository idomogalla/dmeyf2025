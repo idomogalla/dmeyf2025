{
 "cells": [
  {
   "cell_type": "code",
   "execution_count": 1,
   "id": "150c43ca",
   "metadata": {
    "vscode": {
     "languageId": "r"
    }
   },
   "outputs": [],
   "source": [
    "suppressPackageStartupMessages({\n",
    "  if (!require(\"logger\"))\n",
    "    install.packages(\"logger\")\n",
    "  library(\"logger\")\n",
    "  if (!require(\"data.table\"))\n",
    "    install.packages(\"data.table\")\n",
    "  library(\"data.table\")\n",
    "  if (!require(\"parallel\"))\n",
    "    install.packages(\"parallel\")\n",
    "  library(\"parallel\")\n",
    "  if (!require(\"R.utils\"))\n",
    "    install.packages(\"R.utils\")\n",
    "  library(\"R.utils\")\n",
    "  if (!require(\"primes\"))\n",
    "    install.packages(\"primes\")\n",
    "  library(\"primes\")\n",
    "  if (!require(\"utils\"))\n",
    "    install.packages(\"utils\")\n",
    "  library(\"utils\")\n",
    "  if (!require(\"rlist\"))\n",
    "    install.packages(\"rlist\")\n",
    "  library(\"rlist\")\n",
    "  if (!require(\"yaml\"))\n",
    "    install.packages(\"yaml\")\n",
    "  library(\"yaml\")\n",
    "  if (!require(\"lightgbm\"))\n",
    "    install.packages(\"lightgbm\")\n",
    "  library(\"lightgbm\")\n",
    "  if (!require(\"DiceKriging\"))\n",
    "    install.packages(\"DiceKriging\")\n",
    "  library(\"DiceKriging\")\n",
    "  if (!require(\"mlrMBO\"))\n",
    "    install.packages(\"mlrMBO\")\n",
    "  library(\"mlrMBO\")\n",
    "  if (!require(\"ggplot2\"))\n",
    "    install.packages(\"ggplot2\")\n",
    "  library(\"ggplot2\")\n",
    "})"
   ]
  },
  {
   "cell_type": "code",
   "execution_count": 2,
   "id": "54cddfce",
   "metadata": {
    "vscode": {
     "languageId": "r"
    }
   },
   "outputs": [
    {
     "data": {
      "text/html": [
       "<table class=\"dataframe\">\n",
       "<caption>A matrix: 2 × 6 of type dbl</caption>\n",
       "<thead>\n",
       "\t<tr><th></th><th scope=col>used</th><th scope=col>(Mb)</th><th scope=col>gc trigger</th><th scope=col>(Mb)</th><th scope=col>max used</th><th scope=col>(Mb)</th></tr>\n",
       "</thead>\n",
       "<tbody>\n",
       "\t<tr><th scope=row>Ncells</th><td>2339609</td><td>125.0</td><td>4762895</td><td>254.4</td><td>2956161</td><td>157.9</td></tr>\n",
       "\t<tr><th scope=row>Vcells</th><td>4047364</td><td> 30.9</td><td>8388608</td><td> 64.0</td><td>5849901</td><td> 44.7</td></tr>\n",
       "</tbody>\n",
       "</table>\n"
      ],
      "text/latex": [
       "A matrix: 2 × 6 of type dbl\n",
       "\\begin{tabular}{r|llllll}\n",
       "  & used & (Mb) & gc trigger & (Mb) & max used & (Mb)\\\\\n",
       "\\hline\n",
       "\tNcells & 2339609 & 125.0 & 4762895 & 254.4 & 2956161 & 157.9\\\\\n",
       "\tVcells & 4047364 &  30.9 & 8388608 &  64.0 & 5849901 &  44.7\\\\\n",
       "\\end{tabular}\n"
      ],
      "text/markdown": [
       "\n",
       "A matrix: 2 × 6 of type dbl\n",
       "\n",
       "| <!--/--> | used | (Mb) | gc trigger | (Mb) | max used | (Mb) |\n",
       "|---|---|---|---|---|---|---|\n",
       "| Ncells | 2339609 | 125.0 | 4762895 | 254.4 | 2956161 | 157.9 |\n",
       "| Vcells | 4047364 |  30.9 | 8388608 |  64.0 | 5849901 |  44.7 |\n",
       "\n"
      ],
      "text/plain": [
       "       used    (Mb)  gc trigger (Mb)  max used (Mb) \n",
       "Ncells 2339609 125.0 4762895    254.4 2956161  157.9\n",
       "Vcells 4047364  30.9 8388608     64.0 5849901   44.7"
      ]
     },
     "metadata": {},
     "output_type": "display_data"
    }
   ],
   "source": [
    "# limpio la memoria\n",
    "rm(list=ls(all.names=TRUE)) # remove all objects\n",
    "gc(full=TRUE, verbose=FALSE) # garbage collection"
   ]
  },
  {
   "cell_type": "markdown",
   "id": "6b7e3717",
   "metadata": {},
   "source": [
    "# Clase Ternaria"
   ]
  },
  {
   "cell_type": "code",
   "execution_count": 14,
   "id": "32d2211f",
   "metadata": {
    "vscode": {
     "languageId": "r"
    }
   },
   "outputs": [],
   "source": [
    "# Genero clase ternaria\n",
    "# leo el dataset\n",
    "#setwd(\"~/buckets/b1/datasets\")\n",
    "dataset <- fread(\"../../datasets_competencia_01_crudo.csv\" )\n",
    "\n",
    "# calculo el periodo0 consecutivo\n",
    "dsimple <- dataset[, list(\n",
    "    \"pos\" = .I,\n",
    "    numero_de_cliente,\n",
    "    periodo0 = as.integer(foto_mes/100)*12 +  foto_mes%%100 ) ]\n",
    "\n",
    "\n",
    "# ordeno\n",
    "setorder( dsimple, numero_de_cliente, periodo0 )\n",
    "\n",
    "# calculo topes\n",
    "periodo_ultimo <- dsimple[, max(periodo0) ]\n",
    "periodo_anteultimo <- periodo_ultimo - 1\n",
    "\n",
    "\n",
    "# calculo los leads de orden 1 y 2\n",
    "dsimple[, c(\"periodo1\", \"periodo2\") :=\n",
    "    shift(periodo0, n=1:2, fill=NA, type=\"lead\"),  numero_de_cliente ]\n",
    "\n",
    "# assign most common class values = \"CONTINUA\"\n",
    "dsimple[ periodo0 < periodo_anteultimo, clase_ternaria := \"CONTINUA\" ]\n",
    "\n",
    "# calculo BAJA+1\n",
    "dsimple[ periodo0 < periodo_ultimo &\n",
    "    ( is.na(periodo1) | periodo0 + 1 < periodo1 ),\n",
    "    clase_ternaria := \"BAJA+1\" ]\n",
    "\n",
    "# calculo BAJA+2\n",
    "dsimple[ periodo0 < periodo_anteultimo & (periodo0+1 == periodo1 )\n",
    "    & ( is.na(periodo2) | periodo0 + 2 < periodo2 ),\n",
    "    clase_ternaria := \"BAJA+2\" ]\n",
    "\n",
    "\n",
    "# pego el resultado en el dataset original y grabo\n",
    "setorder( dsimple, pos )\n",
    "dataset[, clase_ternaria := dsimple$clase_ternaria ]\n",
    "\n",
    "fwrite( dataset,\n",
    "    file =  \"../../competencia_01.csv.gz\",\n",
    "    sep = \",\"\n",
    ")"
   ]
  },
  {
   "cell_type": "markdown",
   "id": "fc7b50e8",
   "metadata": {},
   "source": [
    "# Parámetros"
   ]
  },
  {
   "cell_type": "code",
   "execution_count": 3,
   "id": "209462b4",
   "metadata": {
    "vscode": {
     "languageId": "r"
    }
   },
   "outputs": [],
   "source": [
    "# Parámetros\n",
    "PARAM <- list()\n",
    "PARAM$experimento <- \"expC01_Prueba04\"\n",
    "PARAM$semilla_primigenia <- 200003\n",
    "\n",
    "# training y future\n",
    "PARAM$train <- c(202101, 202102)\n",
    "PARAM$train_final <- c(202101, 202102)\n",
    "PARAM$future <- c(202104)\n",
    "PARAM$train_final_kaggle <- c(202101, 202102, 202103, 202104)\n",
    "PARAM$entrega_kaggle <- c(202106)\n",
    "PARAM$semilla_kaggle <- 314159 #Semilla para el modelo final que va a Kaggle, primeros números de pi que sean primos.\n",
    "PARAM$cortes <- seq(0, 20000, by= 100)\n",
    "\n",
    "# un undersampling de 0.1  toma solo el 10% de los CONTINUA\n",
    "# undersampling de 1.0  implica tomar TODOS los datos\n",
    "\n",
    "PARAM$trainingstrategy$undersampling <- 0.5\n",
    "\n",
    "# Parametros LightGBM\n",
    "\n",
    "PARAM$hyperparametertuning$xval_folds <- 5\n",
    "\n",
    "# parametros fijos del LightGBM que se pisaran con la parte variable de la BO\n",
    "PARAM$lgbm$param_fijos <-  list(\n",
    "  boosting= \"gbdt\", # puede ir dart, ni pruebe random_forest\n",
    "  objective= \"binary\", #default regression\n",
    "  metric= \"auc\", # default \"\" \n",
    "  first_metric_only= FALSE, # default FALSE\n",
    "  boost_from_average= TRUE, # default TRUE\n",
    "  feature_pre_filter= FALSE, # default TRUE\n",
    "  force_row_wise= TRUE, # para reducir warnings\n",
    "  verbosity= -100, # default 1\n",
    "\n",
    "  seed= PARAM$semilla_primigenia, # Relacionado con data_random_seed, feature_fraction_seed, entre otros \n",
    "\n",
    "  max_depth= -1L, # -1 significa no limitar,  por ahora lo dejo fijo\n",
    "  min_gain_to_split= 0, # min_gain_to_split >= 0\n",
    "  min_sum_hessian_in_leaf= 0.001, #  min_sum_hessian_in_leaf >= 0.0\n",
    "  lambda_l1= 0.0, # lambda_l1 >= 0.0\n",
    "  lambda_l2= 0.0, # lambda_l2 >= 0.0\n",
    "  max_bin= 31L, # lo debo dejar fijo, no participa de la BO\n",
    "\n",
    "  bagging_fraction= 1.0, # 0.0 < bagging_fraction <= 1.0\n",
    "  pos_bagging_fraction= 1.0, # 0.0 < pos_bagging_fraction <= 1.0\n",
    "  neg_bagging_fraction= 1.0, # 0.0 < neg_bagging_fraction <= 1.0\n",
    "  is_unbalance= FALSE, # Default FALSE\n",
    "  scale_pos_weight= 1.0, # scale_pos_weight > 0.0\n",
    "\n",
    "  drop_rate= 0.1, # 0.0 < neg_bagging_fraction <= 1.0\n",
    "  max_drop= 50, # <=0 means no limit\n",
    "  skip_drop= 0.5, # 0.0 <= skip_drop <= 1.0\n",
    "\n",
    "  extra_trees= FALSE, # default FALSE\n",
    "\n",
    "  num_iterations= 1200, # default 100\n",
    "  learning_rate= 0.02, # default 0.1\n",
    "  feature_fraction= 0.5, # default 1\n",
    "  num_leaves= 750, # default 31\n",
    "  min_data_in_leaf= 5000 # default 20\n",
    ")\n",
    "\n",
    "# Aqui se cargan los bordes de los hiperparametros de la BO\n",
    "PARAM$hypeparametertuning$hs <- makeParamSet(\n",
    "    makeNumericParam(\"min_sum_hessian_in_leaf\", lower= 0.001, upper= 0.1),\n",
    "    \n",
    "    makeNumericParam(\"lambda_l1\", lower= 0.0, upper= 100.0),\n",
    "    makeNumericParam(\"lambda_l2\", lower= 0.0, upper= 100.0),\n",
    "    \n",
    "    \n",
    "    makeIntegerParam(\"num_leaves\", lower= 10L, upper= 2048L),\n",
    "    makeIntegerParam(\"max_depth\", lower= -1L, upper= 15),\n",
    "\n",
    "\n",
    "    makeIntegerParam(\"num_iterations\", lower= 50L, upper= 2000L),\n",
    "    makeNumericParam(\"learning_rate\", lower= 0.01, upper= 0.5),\n",
    "\n",
    "    makeNumericParam(\"feature_fraction\", lower= 0.1, upper= 1.0),\n",
    "    makeNumericParam(\"bagging_fraction\", lower= 0.0, upper= 1.0),\n",
    "    makeIntegerParam(\"bagging_freq\", lower= 0L, upper= 10L),\n",
    "    \n",
    "    makeIntegerParam(\"min_data_in_leaf\", lower= 10L, upper= 4000L),\n",
    "    makeNumericParam(\"min_gain_to_split\", lower= 0.0, upper= 15.0)\n",
    ")\n",
    "PARAM$hyperparametertuning$iteraciones <- 80 # iteraciones bayesianas"
   ]
  },
  {
   "cell_type": "markdown",
   "id": "dfb8db72",
   "metadata": {},
   "source": [
    "# Funciones"
   ]
  },
  {
   "cell_type": "code",
   "execution_count": 3,
   "id": "e0ab6486",
   "metadata": {
    "vscode": {
     "languageId": "r"
    }
   },
   "outputs": [],
   "source": [
    "# particionar agrega una columna llamada fold a un dataset\n",
    "#   que consiste en una particion estratificada segun agrupa\n",
    "# particionar( data=dataset, division=c(70,30),\n",
    "#  agrupa=clase_ternaria, seed=semilla)   crea una particion 70, 30\n",
    "\n",
    "particionar <- function(data, division, agrupa= \"\", campo= \"fold\", start= 1, seed= NA) {\n",
    "  if (!is.na(seed)) set.seed(seed, \"L'Ecuyer-CMRG\")\n",
    "\n",
    "  bloque <- unlist(mapply(\n",
    "    function(x, y) {rep(y, x)},division, seq(from= start, length.out= length(division))))\n",
    "\n",
    "  data[, (campo) := sample(rep(bloque,ceiling(.N / length(bloque))))[1:.N],by= agrupa]\n",
    "}"
   ]
  },
  {
   "cell_type": "code",
   "execution_count": 4,
   "id": "506eed41",
   "metadata": {
    "vscode": {
     "languageId": "r"
    }
   },
   "outputs": [],
   "source": [
    "# iniciliazo el dataset de realidad, para medir ganancia\n",
    "realidad_inicializar <- function( pfuture, pparam) {\n",
    "\n",
    "  # datos para verificar la ganancia\n",
    "  drealidad <- pfuture[, list(numero_de_cliente, foto_mes, clase_ternaria)]\n",
    "\n",
    "  particionar(drealidad,\n",
    "    division= c(3, 7),\n",
    "    agrupa= \"clase_ternaria\",\n",
    "    seed= PARAM$semilla_kaggle\n",
    "  )\n",
    "\n",
    "  return( drealidad )\n",
    "}"
   ]
  },
  {
   "cell_type": "code",
   "execution_count": 5,
   "id": "0d09def7",
   "metadata": {
    "vscode": {
     "languageId": "r"
    }
   },
   "outputs": [],
   "source": [
    "# evaluo ganancia en los datos de la realidad\n",
    "\n",
    "realidad_evaluar <- function( prealidad, pprediccion) {\n",
    "\n",
    "  prealidad[ pprediccion,\n",
    "    on= c(\"numero_de_cliente\", \"foto_mes\"),\n",
    "    predicted:= i.Predicted\n",
    "  ]\n",
    "\n",
    "  tbl <- prealidad[, list(\"qty\"=.N), list(fold, predicted, clase_ternaria)]\n",
    "\n",
    "  res <- list()\n",
    "  res$public  <- tbl[fold==1 & predicted==1L, sum(qty*ifelse(clase_ternaria==\"BAJA+2\", 780000, -20000))]/0.3\n",
    "  res$private <- tbl[fold==2 & predicted==1L, sum(qty*ifelse(clase_ternaria==\"BAJA+2\", 780000, -20000))]/0.7\n",
    "  res$total <- tbl[predicted==1L, sum(qty*ifelse(clase_ternaria==\"BAJA+2\", 780000, -20000))]\n",
    "\n",
    "  prealidad[, predicted:=NULL]\n",
    "  return( res )\n",
    "}"
   ]
  },
  {
   "cell_type": "markdown",
   "id": "7774b9d7",
   "metadata": {},
   "source": [
    "# Configuración del Dataset"
   ]
  },
  {
   "cell_type": "code",
   "execution_count": 3,
   "id": "b998f5d3",
   "metadata": {
    "vscode": {
     "languageId": "r"
    }
   },
   "outputs": [],
   "source": [
    "# lectura del dataset\n",
    "#setwd(\"~/buckets/b1/datasets\")\n",
    "dataset <- fread(\"../../competencia_01.csv.gz\", stringsAsFactors= TRUE)"
   ]
  },
  {
   "cell_type": "code",
   "execution_count": 4,
   "id": "608761bb",
   "metadata": {
    "vscode": {
     "languageId": "r"
    }
   },
   "outputs": [],
   "source": [
    "# Ordenar el dataset\n",
    "setkey(dataset, numero_de_cliente, foto_mes)"
   ]
  },
  {
   "cell_type": "code",
   "execution_count": 5,
   "id": "90e51617",
   "metadata": {
    "vscode": {
     "languageId": "r"
    }
   },
   "outputs": [],
   "source": [
    "# Agrego columnas\n",
    "dataset[, `:=`(\n",
    "  # Suma de consumos de tarjetas\n",
    "  mtarjetas_consumo = round(rowSums(.SD[, .(mtarjeta_visa_consumo, mtarjeta_master_consumo)], na.rm = TRUE), 1),\n",
    "  # Suma de beneficios/descuentos\n",
    "  mbeneficios = round(rowSums(.SD[, .(\n",
    "    mcajeros_propios_descuentos,\n",
    "    mtarjeta_visa_descuentos,\n",
    "    mtarjeta_master_descuentos\n",
    "  )], na.rm = TRUE), 1),\n",
    "  # Suma de ingresos\n",
    "  mingresos = round(rowSums(.SD[, .(mpayroll, mpayroll2, mtransferencias_recibidas)], na.rm = TRUE), 1),\n",
    "  # Suma de inversiones\n",
    "  minversiones = round(rowSums(.SD[, .(minversion1_pesos, minversion1_dolares, mplazo_fijo_pesos,mplazo_fijo_dolares, minversion2)], na.rm = TRUE), 1),\n",
    "  # Diferencia: límite menos consumo para MasterCard\n",
    "  diff_master_compra = round(Master_mlimitecompra - Master_mconsumospesos, 2),\n",
    "  # Diferencia: límite menos consumo para Visa\n",
    "  diff_visa_compra = round(Visa_mlimitecompra - Visa_mconsumospesos, 2)\n",
    ")]\n",
    "\n",
    "dataset[, `:=`(\n",
    "  # Diferencia: consumo total menos comisiones\n",
    "  diff_comisiones_consumo = round(mtarjetas_consumo - mcomisiones_mantenimiento, 2),\n",
    "  # Diferencia: beneficios totales menos comisiones\n",
    "  diff_comisiones_beneficios = round(mbeneficios - mcomisiones_mantenimiento, 2)\n",
    ")]\n",
    "\n",
    "# Columnas a las que se les aplicará el ranking\n",
    "cols_a_rankear <- c(\n",
    "  \"mrentabilidad\", \"mrentabilidad_annual\", \"mcomisiones\", \"mactivos_margen\", \"mpasivos_margen\",\n",
    "  \"mcuenta_corriente_adicional\", \"mcuenta_corriente\", \"mcaja_ahorro\", \"mcaja_ahorro_adicional\", \"mcaja_ahorro_dolares\",\n",
    "  \"mcuentas_saldo\", \"mautoservicio\", \"mtarjeta_visa_consumo\", \"mtarjeta_master_consumo\", \"mprestamos_personales\", \"mprestamos_prendarios\",\n",
    "  \"mprestamos_hipotecarios\", \"mplazo_fijo_dolares\", \"mplazo_fijo_pesos\", \"minversion1_pesos\", \"minversion1_dolares\", \"minversion2\", \"mpayroll\", \"mpayroll2\",\n",
    "  \"mcuenta_debitos_automaticos\", \"mttarjeta_visa_debitos_automaticos\", \"mttarjeta_master_debitos_automaticos\", \"mpagodeservicios\", \"mpagomiscuentas\",\n",
    "  \"mcajeros_propios_descuentos\", \"mtarjeta_visa_descuentos\", \"mtarjeta_master_descuentos\", \"mcomisiones_mantenimiento\", \"mcomisiones_otras\", \"mforex_buy\",\n",
    "  \"mforex_sell\", \"mtransferencias_recibidas\", \"mtransferencias_emitidas\", \"mextraccion_autoservicio\", \"mcheques_depositados\", \"mcheques_emitidos\", \n",
    "  \"mcheques_depositados_rechazados\", \"mcheques_emitidos_rechazados\", \"matm\", \"matm_other\", \"Master_mfinanciacion_limite\",\n",
    "  \"Master_msaldototal\", \"Master_msaldopesos\", \"Master_msaldodolares\", \"Master_mconsumospesos\", \"Master_mconsumosdolares\", \"Master_mlimitecompra\", \"Master_madelantopesos\", \"Master_madelantodolares\",\n",
    "  \"Master_mpagado\", \"Master_mpagospesos\", \"Master_mpagosdolares\", \"Master_mconsumototal\", \"Master_mpagominimo\", \"Visa_mfinanciacion_limite\", \n",
    "  \"Visa_msaldototal\", \"Visa_msaldopesos\", \"Visa_msaldodolares\", \"Visa_mconsumospesos\", \"Visa_mconsumosdolares\", \"Visa_mlimitecompra\", \"Visa_madelantopesos\", \"Visa_madelantodolares\",\n",
    "  \"Visa_mpagado\", \"Visa_mpagospesos\", \"Visa_mpagosdolares\", \"Visa_mconsumototal\", \"Visa_mpagominimo\",\n",
    "  \"mtarjetas_consumo\", \"mbeneficios\", \"mingresos\", \"minversiones\", \"diff_master_compra\", \"diff_visa_compra\", \"diff_comisiones_consumo\", \"diff_comisiones_beneficios\"\n",
    ")\n",
    "\n",
    "# Nombres para las nuevas columnas de ranking\n",
    "nuevas_cols_rank <- paste0(cols_a_rankear, \"_rank\")\n",
    "\n",
    "# Funcion para ranking con cero fijo\n",
    "rank_con_cero_fijo <- function(x) {\n",
    "  # Vector para guardar los resultados\n",
    "  resultado <- numeric(length(x))\n",
    "  \n",
    "  # Índices para cada caso\n",
    "  idx_pos <- which(x > 0)\n",
    "  idx_neg <- which(x < 0)\n",
    "  idx_cero <- which(x == 0)\n",
    "  \n",
    "  # 1. Ranking para valores positivos (> 0)\n",
    "  if (length(idx_pos) > 0) {\n",
    "    # Se divide por la cantidad de positivos para obtener el percentil (0 a 1)\n",
    "    resultado[idx_pos] <- frankv(x[idx_pos], ties.method = \"average\") / length(idx_pos)\n",
    "  }\n",
    "  \n",
    "  # 2. Ranking para valores negativos (< 0)\n",
    "  if (length(idx_neg) > 0) {\n",
    "    # Se calcula el percentil para los negativos y se multiplica por -1 (-1 a 0)\n",
    "    resultado[idx_neg] <- (frankv(-x[idx_neg], ties.method = \"average\") / length(idx_neg)) * -1\n",
    "  }\n",
    "  \n",
    "  # 3. Para los valores que son cero, el ranking es cero\n",
    "  if (length(idx_cero) > 0) {\n",
    "    resultado[idx_cero] <- 0\n",
    "  }\n",
    "  \n",
    "  return(resultado)\n",
    "}\n",
    "\n",
    "# Aplicar la función a todas las columnas especificadas, agrupando por mes\n",
    "dataset[, (nuevas_cols_rank) := lapply(.SD, rank_con_cero_fijo), by = foto_mes, .SDcols = cols_a_rankear]\n",
    "# Elimino las columnas que rankee\n",
    "dataset[, (cols_a_rankear) := NULL]\n",
    "\n",
    "# Genero columnas Lags y Delta Lags de orden 1\n",
    "cols_a_excluir <- c(\"numero_de_cliente\", \"foto_mes\", \"clase_ternaria\")\n",
    "cols_con_lag <- setdiff(names(dataset), cols_a_excluir)\n",
    "\n",
    "nombres_nuevas_cols_lag <- paste0(cols_con_lag, \"_lag1\")\n",
    "dataset[, (nombres_nuevas_cols_lag) := shift(.SD, 1, NA, \"lag\"), by = numero_de_cliente, .SDcols = cols_con_lag]\n",
    "\n",
    "nombres_nuevas_cols_delta <- paste0(cols_con_lag, \"_delta1\")\n",
    "dataset[, (nombres_nuevas_cols_delta) :=  Map(function(col, col_lag) get(col) - get(col_lag), cols_con_lag, nombres_nuevas_cols_lag)]\n",
    "nombres_nuevas_cols_delta_pct <- paste0(cols_con_lag, \"_delta_pct1\")\n",
    "dataset[, (nombres_nuevas_cols_delta_pct) := Map(\n",
    "  function(col, col_lag) {\n",
    "    lag_val <- get(col_lag)\n",
    "    curr_val <- get(col)\n",
    "    # Para evitar división por cero\n",
    "    delta_pct <- ifelse(is.na(lag_val) | lag_val == 0, NA, (curr_val - lag_val) / abs(lag_val))\n",
    "    return(delta_pct)\n",
    "  },\n",
    "  cols_con_lag, nombres_nuevas_cols_lag\n",
    ")]"
   ]
  },
  {
   "cell_type": "code",
   "execution_count": 6,
   "id": "8935184d",
   "metadata": {
    "vscode": {
     "languageId": "r"
    }
   },
   "outputs": [
    {
     "data": {
      "text/html": [
       "<table class=\"dataframe\">\n",
       "<caption>A data.table: 30 × 245</caption>\n",
       "<thead>\n",
       "\t<tr><th scope=col>numero_de_cliente</th><th scope=col>foto_mes</th><th scope=col>mrentabilidad_rank</th><th scope=col>mrentabilidad_rank_lag1</th><th scope=col>mrentabilidad_rank_delta1</th><th scope=col>mrentabilidad_annual_rank</th><th scope=col>mrentabilidad_annual_rank_lag1</th><th scope=col>mrentabilidad_annual_rank_delta1</th><th scope=col>mcomisiones_rank</th><th scope=col>mcomisiones_rank_lag1</th><th scope=col>⋯</th><th scope=col>diff_master_compra_rank_delta1</th><th scope=col>diff_visa_compra_rank</th><th scope=col>diff_visa_compra_rank_lag1</th><th scope=col>diff_visa_compra_rank_delta1</th><th scope=col>diff_comisiones_consumo_rank</th><th scope=col>diff_comisiones_consumo_rank_lag1</th><th scope=col>diff_comisiones_consumo_rank_delta1</th><th scope=col>diff_comisiones_beneficios_rank</th><th scope=col>diff_comisiones_beneficios_rank_lag1</th><th scope=col>diff_comisiones_beneficios_rank_delta1</th></tr>\n",
       "\t<tr><th scope=col>&lt;int&gt;</th><th scope=col>&lt;int&gt;</th><th scope=col>&lt;dbl&gt;</th><th scope=col>&lt;dbl&gt;</th><th scope=col>&lt;dbl&gt;</th><th scope=col>&lt;dbl&gt;</th><th scope=col>&lt;dbl&gt;</th><th scope=col>&lt;dbl&gt;</th><th scope=col>&lt;dbl&gt;</th><th scope=col>&lt;dbl&gt;</th><th scope=col>⋯</th><th scope=col>&lt;dbl&gt;</th><th scope=col>&lt;dbl&gt;</th><th scope=col>&lt;dbl&gt;</th><th scope=col>&lt;dbl&gt;</th><th scope=col>&lt;dbl&gt;</th><th scope=col>&lt;dbl&gt;</th><th scope=col>&lt;dbl&gt;</th><th scope=col>&lt;dbl&gt;</th><th scope=col>&lt;dbl&gt;</th><th scope=col>&lt;dbl&gt;</th></tr>\n",
       "</thead>\n",
       "<tbody>\n",
       "\t<tr><td> 280580619</td><td>202101</td><td> 0.41012341</td><td>         NA</td><td>          NA</td><td> 0.51673458</td><td>         NA</td><td>           NA</td><td>0.65763657</td><td>        NA</td><td>⋯</td><td>           NA</td><td>0.33484716</td><td>        NA</td><td>           NA</td><td> 0.13400337</td><td>        NA</td><td>          NA</td><td>-0.3349766</td><td>        NA</td><td>           NA</td></tr>\n",
       "\t<tr><td> 280580619</td><td>202102</td><td> 0.43861277</td><td> 0.41012341</td><td> 0.028489363</td><td> 0.53326384</td><td> 0.51673458</td><td> 0.0165292527</td><td>0.69350489</td><td>0.65763657</td><td>⋯</td><td> 0.0043282835</td><td>0.34178869</td><td>0.33484716</td><td> 0.0069415333</td><td> 0.09807453</td><td>0.13400337</td><td>-0.035928848</td><td>-0.3077655</td><td>-0.3349766</td><td> 0.0272110666</td></tr>\n",
       "\t<tr><td> 280580619</td><td>202103</td><td> 0.42771000</td><td> 0.43861277</td><td>-0.010902776</td><td> 0.52403666</td><td> 0.53326384</td><td>-0.0092271719</td><td>0.66342923</td><td>0.69350489</td><td>⋯</td><td>-0.0059953683</td><td>0.32537330</td><td>0.34178869</td><td>-0.0164153862</td><td> 0.12963177</td><td>0.09807453</td><td> 0.031557239</td><td>-0.3828644</td><td>-0.3077655</td><td>-0.0750988454</td></tr>\n",
       "\t<tr><td> 280580619</td><td>202104</td><td> 0.45949400</td><td> 0.42771000</td><td> 0.031784001</td><td> 0.52096099</td><td> 0.52403666</td><td>-0.0030756721</td><td>0.70900341</td><td>0.66342923</td><td>⋯</td><td> 0.0120469423</td><td>0.32264714</td><td>0.32537330</td><td>-0.0027261637</td><td> 0.12006623</td><td>0.12963177</td><td>-0.009565540</td><td>-0.3795317</td><td>-0.3828644</td><td> 0.0033327064</td></tr>\n",
       "\t<tr><td> 280580619</td><td>202105</td><td> 0.45062190</td><td> 0.45949400</td><td>-0.008872097</td><td> 0.50900925</td><td> 0.52096099</td><td>-0.0119517383</td><td>0.72278328</td><td>0.70900341</td><td>⋯</td><td> 0.0009556479</td><td>0.31699142</td><td>0.32264714</td><td>-0.0056557240</td><td> 0.11210622</td><td>0.12006623</td><td>-0.007960009</td><td>-0.3796927</td><td>-0.3795317</td><td>-0.0001610562</td></tr>\n",
       "\t<tr><td> 280580619</td><td>202106</td><td> 0.44909800</td><td> 0.45062190</td><td>-0.001523902</td><td> 0.50151506</td><td> 0.50900925</td><td>-0.0074941953</td><td>0.68539799</td><td>0.72278328</td><td>⋯</td><td> 0.0037802736</td><td>0.35298841</td><td>0.31699142</td><td> 0.0359969979</td><td>-0.02785842</td><td>0.11210622</td><td>-0.139964635</td><td>-0.3000520</td><td>-0.3796927</td><td> 0.0796407799</td></tr>\n",
       "\t<tr><td> 825967714</td><td>202101</td><td> 0.57139855</td><td>         NA</td><td>          NA</td><td> 0.26168245</td><td>         NA</td><td>           NA</td><td>0.78801188</td><td>        NA</td><td>⋯</td><td>           NA</td><td>0.73190957</td><td>        NA</td><td>           NA</td><td> 0.88571242</td><td>        NA</td><td>          NA</td><td> 0.0000000</td><td>        NA</td><td>           NA</td></tr>\n",
       "\t<tr><td> 825967714</td><td>202102</td><td>-0.74679040</td><td> 0.57139855</td><td>-1.318188943</td><td> 0.22987544</td><td> 0.26168245</td><td>-0.0318070184</td><td>0.25901892</td><td>0.78801188</td><td>⋯</td><td> 0.0031445079</td><td>0.72482848</td><td>0.73190957</td><td>-0.0070810956</td><td> 0.89779792</td><td>0.88571242</td><td> 0.012085500</td><td> 0.0000000</td><td> 0.0000000</td><td> 0.0000000000</td></tr>\n",
       "\t<tr><td> 825967714</td><td>202103</td><td>-0.68937144</td><td>-0.74679040</td><td> 0.057418959</td><td> 0.19715483</td><td> 0.22987544</td><td>-0.0327206083</td><td>0.19009086</td><td>0.25901892</td><td>⋯</td><td> 0.0016834553</td><td>0.72775422</td><td>0.72482848</td><td> 0.0029257449</td><td> 0.89929064</td><td>0.89779792</td><td> 0.001492722</td><td> 0.0000000</td><td> 0.0000000</td><td> 0.0000000000</td></tr>\n",
       "\t<tr><td> 825967714</td><td>202104</td><td> 0.12228227</td><td>-0.68937144</td><td> 0.811653705</td><td> 0.19713892</td><td> 0.19715483</td><td>-0.0000159131</td><td>0.42779272</td><td>0.19009086</td><td>⋯</td><td> 0.0201445994</td><td>0.72814381</td><td>0.72775422</td><td> 0.0003895835</td><td> 0.91103259</td><td>0.89929064</td><td> 0.011741953</td><td> 0.0000000</td><td> 0.0000000</td><td> 0.0000000000</td></tr>\n",
       "\t<tr><td> 825967714</td><td>202105</td><td> 0.47555552</td><td> 0.12228227</td><td> 0.353273251</td><td> 0.22219211</td><td> 0.19713892</td><td> 0.0250531944</td><td>0.43318269</td><td>0.42779272</td><td>⋯</td><td>-0.0010246087</td><td>0.73431591</td><td>0.72814381</td><td> 0.0061721083</td><td> 0.88614680</td><td>0.91103259</td><td>-0.024885786</td><td> 0.0000000</td><td> 0.0000000</td><td> 0.0000000000</td></tr>\n",
       "\t<tr><td> 825967714</td><td>202106</td><td> 0.61504074</td><td> 0.47555552</td><td> 0.139485222</td><td> 0.24903376</td><td> 0.22219211</td><td> 0.0268416545</td><td>0.66736170</td><td>0.43318269</td><td>⋯</td><td> 0.0053596410</td><td>0.73006088</td><td>0.73431591</td><td>-0.0042550376</td><td> 0.89526257</td><td>0.88614680</td><td> 0.009115766</td><td> 0.0000000</td><td> 0.0000000</td><td> 0.0000000000</td></tr>\n",
       "\t<tr><td>1122202989</td><td>202101</td><td> 0.51534232</td><td>         NA</td><td>          NA</td><td> 0.75604630</td><td>         NA</td><td>           NA</td><td>0.46815887</td><td>        NA</td><td>⋯</td><td>           NA</td><td>0.35618919</td><td>        NA</td><td>           NA</td><td> 0.55238393</td><td>        NA</td><td>          NA</td><td> 0.0000000</td><td>        NA</td><td>           NA</td></tr>\n",
       "\t<tr><td>1122202989</td><td>202102</td><td> 0.27278765</td><td> 0.51534232</td><td>-0.242554673</td><td> 0.70374147</td><td> 0.75604630</td><td>-0.0523048308</td><td>0.52428755</td><td>0.46815887</td><td>⋯</td><td> 0.0000000000</td><td>0.34055358</td><td>0.35618919</td><td>-0.0156356053</td><td> 0.65669233</td><td>0.55238393</td><td> 0.104308404</td><td> 0.0000000</td><td> 0.0000000</td><td> 0.0000000000</td></tr>\n",
       "\t<tr><td>1122202989</td><td>202103</td><td> 0.36276340</td><td> 0.27278765</td><td> 0.089975750</td><td> 0.62215235</td><td> 0.70374147</td><td>-0.0815891202</td><td>0.38692500</td><td>0.52428755</td><td>⋯</td><td> 0.0000000000</td><td>0.34585005</td><td>0.34055358</td><td> 0.0052964703</td><td> 0.55307967</td><td>0.65669233</td><td>-0.103612661</td><td> 0.0000000</td><td> 0.0000000</td><td> 0.0000000000</td></tr>\n",
       "\t<tr><td>1122202989</td><td>202104</td><td> 0.54172548</td><td> 0.36276340</td><td> 0.178962083</td><td> 0.51508775</td><td> 0.62215235</td><td>-0.1070645962</td><td>0.43897845</td><td>0.38692500</td><td>⋯</td><td> 0.0000000000</td><td>0.35054415</td><td>0.34585005</td><td> 0.0046940962</td><td> 0.40310200</td><td>0.55307967</td><td>-0.149977676</td><td> 0.0000000</td><td> 0.0000000</td><td> 0.0000000000</td></tr>\n",
       "\t<tr><td>1122202989</td><td>202105</td><td> 0.63482897</td><td> 0.54172548</td><td> 0.093103484</td><td> 0.29521855</td><td> 0.51508775</td><td>-0.2198691990</td><td>0.60639896</td><td>0.43897845</td><td>⋯</td><td> 0.0000000000</td><td>0.30235833</td><td>0.35054415</td><td>-0.0481858164</td><td> 0.48842002</td><td>0.40310200</td><td> 0.085318019</td><td> 0.0000000</td><td> 0.0000000</td><td> 0.0000000000</td></tr>\n",
       "\t<tr><td>1122202989</td><td>202106</td><td> 0.42652421</td><td> 0.63482897</td><td>-0.208304760</td><td> 0.29593872</td><td> 0.29521855</td><td> 0.0007201647</td><td>0.49538007</td><td>0.60639896</td><td>⋯</td><td> 0.0000000000</td><td>0.33619480</td><td>0.30235833</td><td> 0.0338364700</td><td> 0.39323083</td><td>0.48842002</td><td>-0.095189191</td><td> 0.0000000</td><td> 0.0000000</td><td> 0.0000000000</td></tr>\n",
       "\t<tr><td>1142522655</td><td>202101</td><td> 0.25896160</td><td>         NA</td><td>          NA</td><td>-0.06369471</td><td>         NA</td><td>           NA</td><td>0.08804675</td><td>        NA</td><td>⋯</td><td>           NA</td><td>0.08612265</td><td>        NA</td><td>           NA</td><td> 0.27594834</td><td>        NA</td><td>          NA</td><td> 0.0000000</td><td>        NA</td><td>           NA</td></tr>\n",
       "\t<tr><td>1142522655</td><td>202102</td><td> 0.06446532</td><td> 0.25896160</td><td>-0.194496283</td><td> 0.02043844</td><td>-0.06369471</td><td> 0.0841331520</td><td>0.04438504</td><td>0.08804675</td><td>⋯</td><td> 0.0000000000</td><td>0.07437049</td><td>0.08612265</td><td>-0.0117521596</td><td> 0.38760148</td><td>0.27594834</td><td> 0.111653142</td><td> 0.0000000</td><td> 0.0000000</td><td> 0.0000000000</td></tr>\n",
       "\t<tr><td>1142522655</td><td>202103</td><td> 0.23929259</td><td> 0.06446532</td><td> 0.174827273</td><td> 0.06821391</td><td> 0.02043844</td><td> 0.0477754619</td><td>0.23059692</td><td>0.04438504</td><td>⋯</td><td> 0.0000000000</td><td>0.10989237</td><td>0.07437049</td><td> 0.0355218806</td><td> 0.15065313</td><td>0.38760148</td><td>-0.236948345</td><td> 0.0000000</td><td> 0.0000000</td><td> 0.0000000000</td></tr>\n",
       "\t<tr><td>1142522655</td><td>202104</td><td> 0.02088153</td><td> 0.23929259</td><td>-0.218411053</td><td> 0.06263248</td><td> 0.06821391</td><td>-0.0055814314</td><td>0.12511047</td><td>0.23059692</td><td>⋯</td><td> 0.1532342458</td><td>0.10713301</td><td>0.10989237</td><td>-0.0027593619</td><td> 0.21044559</td><td>0.15065313</td><td> 0.059792457</td><td> 0.0000000</td><td> 0.0000000</td><td> 0.0000000000</td></tr>\n",
       "\t<tr><td>1142522655</td><td>202105</td><td>-0.01569309</td><td> 0.02088153</td><td>-0.036574627</td><td> 0.05070270</td><td> 0.06263248</td><td>-0.0119297770</td><td>0.08180166</td><td>0.12511047</td><td>⋯</td><td>-0.0814532519</td><td>0.11896597</td><td>0.10713301</td><td> 0.0118329589</td><td> 0.24706579</td><td>0.21044559</td><td> 0.036620197</td><td> 0.0000000</td><td> 0.0000000</td><td> 0.0000000000</td></tr>\n",
       "\t<tr><td>1142522655</td><td>202106</td><td> 0.02536381</td><td>-0.01569309</td><td> 0.041056904</td><td> 0.04962587</td><td> 0.05070270</td><td>-0.0010768250</td><td>0.14472435</td><td>0.08180166</td><td>⋯</td><td> 0.0111096721</td><td>0.10804158</td><td>0.11896597</td><td>-0.0109243910</td><td> 0.19526328</td><td>0.24706579</td><td>-0.051802509</td><td> 0.0000000</td><td> 0.0000000</td><td> 0.0000000000</td></tr>\n",
       "\t<tr><td>1203084862</td><td>202101</td><td> 0.33776649</td><td>         NA</td><td>          NA</td><td> 0.08379010</td><td>         NA</td><td>           NA</td><td>0.31302010</td><td>        NA</td><td>⋯</td><td>           NA</td><td>0.51305313</td><td>        NA</td><td>           NA</td><td> 0.09259731</td><td>        NA</td><td>          NA</td><td> 0.0000000</td><td>        NA</td><td>           NA</td></tr>\n",
       "\t<tr><td>1203084862</td><td>202102</td><td> 0.17244110</td><td> 0.33776649</td><td>-0.165325395</td><td> 0.10449783</td><td> 0.08379010</td><td> 0.0207077300</td><td>0.24184066</td><td>0.31302010</td><td>⋯</td><td> 0.0000000000</td><td>0.51529246</td><td>0.51305313</td><td> 0.0022393307</td><td> 0.12056360</td><td>0.09259731</td><td> 0.027966289</td><td> 0.0000000</td><td> 0.0000000</td><td> 0.0000000000</td></tr>\n",
       "\t<tr><td>1203084862</td><td>202103</td><td> 0.12280586</td><td> 0.17244110</td><td>-0.049635241</td><td> 0.11072358</td><td> 0.10449783</td><td> 0.0062257527</td><td>0.19459742</td><td>0.24184066</td><td>⋯</td><td> 0.0000000000</td><td>0.50732427</td><td>0.51529246</td><td>-0.0079681958</td><td> 0.12665806</td><td>0.12056360</td><td> 0.006094469</td><td> 0.0000000</td><td> 0.0000000</td><td> 0.0000000000</td></tr>\n",
       "\t<tr><td>1203084862</td><td>202104</td><td> 0.11344520</td><td> 0.12280586</td><td>-0.009360656</td><td> 0.11690984</td><td> 0.11072358</td><td> 0.0061862632</td><td>0.22146963</td><td>0.19459742</td><td>⋯</td><td> 0.0000000000</td><td>0.50456818</td><td>0.50732427</td><td>-0.0027560875</td><td> 0.11571210</td><td>0.12665806</td><td>-0.010945959</td><td> 0.0000000</td><td> 0.0000000</td><td> 0.0000000000</td></tr>\n",
       "\t<tr><td>1203084862</td><td>202105</td><td> 0.08952426</td><td> 0.11344520</td><td>-0.023920939</td><td> 0.12064733</td><td> 0.11690984</td><td> 0.0037374909</td><td>0.11280865</td><td>0.22146963</td><td>⋯</td><td> 0.0000000000</td><td>0.48317336</td><td>0.50456818</td><td>-0.0213948150</td><td> 0.09458650</td><td>0.11571210</td><td>-0.021125604</td><td> 0.0000000</td><td> 0.0000000</td><td> 0.0000000000</td></tr>\n",
       "\t<tr><td>1203084862</td><td>202106</td><td> 0.30089407</td><td> 0.08952426</td><td> 0.211369811</td><td> 0.14956558</td><td> 0.12064733</td><td> 0.0289182460</td><td>0.29533289</td><td>0.11280865</td><td>⋯</td><td> 0.0000000000</td><td>0.47847234</td><td>0.48317336</td><td>-0.0047010256</td><td> 0.09519461</td><td>0.09458650</td><td> 0.000608108</td><td> 0.0000000</td><td> 0.0000000</td><td> 0.0000000000</td></tr>\n",
       "</tbody>\n",
       "</table>\n"
      ],
      "text/latex": [
       "A data.table: 30 × 245\n",
       "\\begin{tabular}{lllllllllllllllllllll}\n",
       " numero\\_de\\_cliente & foto\\_mes & mrentabilidad\\_rank & mrentabilidad\\_rank\\_lag1 & mrentabilidad\\_rank\\_delta1 & mrentabilidad\\_annual\\_rank & mrentabilidad\\_annual\\_rank\\_lag1 & mrentabilidad\\_annual\\_rank\\_delta1 & mcomisiones\\_rank & mcomisiones\\_rank\\_lag1 & ⋯ & diff\\_master\\_compra\\_rank\\_delta1 & diff\\_visa\\_compra\\_rank & diff\\_visa\\_compra\\_rank\\_lag1 & diff\\_visa\\_compra\\_rank\\_delta1 & diff\\_comisiones\\_consumo\\_rank & diff\\_comisiones\\_consumo\\_rank\\_lag1 & diff\\_comisiones\\_consumo\\_rank\\_delta1 & diff\\_comisiones\\_beneficios\\_rank & diff\\_comisiones\\_beneficios\\_rank\\_lag1 & diff\\_comisiones\\_beneficios\\_rank\\_delta1\\\\\n",
       " <int> & <int> & <dbl> & <dbl> & <dbl> & <dbl> & <dbl> & <dbl> & <dbl> & <dbl> & ⋯ & <dbl> & <dbl> & <dbl> & <dbl> & <dbl> & <dbl> & <dbl> & <dbl> & <dbl> & <dbl>\\\\\n",
       "\\hline\n",
       "\t  280580619 & 202101 &  0.41012341 &          NA &           NA &  0.51673458 &          NA &            NA & 0.65763657 &         NA & ⋯ &            NA & 0.33484716 &         NA &            NA &  0.13400337 &         NA &           NA & -0.3349766 &         NA &            NA\\\\\n",
       "\t  280580619 & 202102 &  0.43861277 &  0.41012341 &  0.028489363 &  0.53326384 &  0.51673458 &  0.0165292527 & 0.69350489 & 0.65763657 & ⋯ &  0.0043282835 & 0.34178869 & 0.33484716 &  0.0069415333 &  0.09807453 & 0.13400337 & -0.035928848 & -0.3077655 & -0.3349766 &  0.0272110666\\\\\n",
       "\t  280580619 & 202103 &  0.42771000 &  0.43861277 & -0.010902776 &  0.52403666 &  0.53326384 & -0.0092271719 & 0.66342923 & 0.69350489 & ⋯ & -0.0059953683 & 0.32537330 & 0.34178869 & -0.0164153862 &  0.12963177 & 0.09807453 &  0.031557239 & -0.3828644 & -0.3077655 & -0.0750988454\\\\\n",
       "\t  280580619 & 202104 &  0.45949400 &  0.42771000 &  0.031784001 &  0.52096099 &  0.52403666 & -0.0030756721 & 0.70900341 & 0.66342923 & ⋯ &  0.0120469423 & 0.32264714 & 0.32537330 & -0.0027261637 &  0.12006623 & 0.12963177 & -0.009565540 & -0.3795317 & -0.3828644 &  0.0033327064\\\\\n",
       "\t  280580619 & 202105 &  0.45062190 &  0.45949400 & -0.008872097 &  0.50900925 &  0.52096099 & -0.0119517383 & 0.72278328 & 0.70900341 & ⋯ &  0.0009556479 & 0.31699142 & 0.32264714 & -0.0056557240 &  0.11210622 & 0.12006623 & -0.007960009 & -0.3796927 & -0.3795317 & -0.0001610562\\\\\n",
       "\t  280580619 & 202106 &  0.44909800 &  0.45062190 & -0.001523902 &  0.50151506 &  0.50900925 & -0.0074941953 & 0.68539799 & 0.72278328 & ⋯ &  0.0037802736 & 0.35298841 & 0.31699142 &  0.0359969979 & -0.02785842 & 0.11210622 & -0.139964635 & -0.3000520 & -0.3796927 &  0.0796407799\\\\\n",
       "\t  825967714 & 202101 &  0.57139855 &          NA &           NA &  0.26168245 &          NA &            NA & 0.78801188 &         NA & ⋯ &            NA & 0.73190957 &         NA &            NA &  0.88571242 &         NA &           NA &  0.0000000 &         NA &            NA\\\\\n",
       "\t  825967714 & 202102 & -0.74679040 &  0.57139855 & -1.318188943 &  0.22987544 &  0.26168245 & -0.0318070184 & 0.25901892 & 0.78801188 & ⋯ &  0.0031445079 & 0.72482848 & 0.73190957 & -0.0070810956 &  0.89779792 & 0.88571242 &  0.012085500 &  0.0000000 &  0.0000000 &  0.0000000000\\\\\n",
       "\t  825967714 & 202103 & -0.68937144 & -0.74679040 &  0.057418959 &  0.19715483 &  0.22987544 & -0.0327206083 & 0.19009086 & 0.25901892 & ⋯ &  0.0016834553 & 0.72775422 & 0.72482848 &  0.0029257449 &  0.89929064 & 0.89779792 &  0.001492722 &  0.0000000 &  0.0000000 &  0.0000000000\\\\\n",
       "\t  825967714 & 202104 &  0.12228227 & -0.68937144 &  0.811653705 &  0.19713892 &  0.19715483 & -0.0000159131 & 0.42779272 & 0.19009086 & ⋯ &  0.0201445994 & 0.72814381 & 0.72775422 &  0.0003895835 &  0.91103259 & 0.89929064 &  0.011741953 &  0.0000000 &  0.0000000 &  0.0000000000\\\\\n",
       "\t  825967714 & 202105 &  0.47555552 &  0.12228227 &  0.353273251 &  0.22219211 &  0.19713892 &  0.0250531944 & 0.43318269 & 0.42779272 & ⋯ & -0.0010246087 & 0.73431591 & 0.72814381 &  0.0061721083 &  0.88614680 & 0.91103259 & -0.024885786 &  0.0000000 &  0.0000000 &  0.0000000000\\\\\n",
       "\t  825967714 & 202106 &  0.61504074 &  0.47555552 &  0.139485222 &  0.24903376 &  0.22219211 &  0.0268416545 & 0.66736170 & 0.43318269 & ⋯ &  0.0053596410 & 0.73006088 & 0.73431591 & -0.0042550376 &  0.89526257 & 0.88614680 &  0.009115766 &  0.0000000 &  0.0000000 &  0.0000000000\\\\\n",
       "\t 1122202989 & 202101 &  0.51534232 &          NA &           NA &  0.75604630 &          NA &            NA & 0.46815887 &         NA & ⋯ &            NA & 0.35618919 &         NA &            NA &  0.55238393 &         NA &           NA &  0.0000000 &         NA &            NA\\\\\n",
       "\t 1122202989 & 202102 &  0.27278765 &  0.51534232 & -0.242554673 &  0.70374147 &  0.75604630 & -0.0523048308 & 0.52428755 & 0.46815887 & ⋯ &  0.0000000000 & 0.34055358 & 0.35618919 & -0.0156356053 &  0.65669233 & 0.55238393 &  0.104308404 &  0.0000000 &  0.0000000 &  0.0000000000\\\\\n",
       "\t 1122202989 & 202103 &  0.36276340 &  0.27278765 &  0.089975750 &  0.62215235 &  0.70374147 & -0.0815891202 & 0.38692500 & 0.52428755 & ⋯ &  0.0000000000 & 0.34585005 & 0.34055358 &  0.0052964703 &  0.55307967 & 0.65669233 & -0.103612661 &  0.0000000 &  0.0000000 &  0.0000000000\\\\\n",
       "\t 1122202989 & 202104 &  0.54172548 &  0.36276340 &  0.178962083 &  0.51508775 &  0.62215235 & -0.1070645962 & 0.43897845 & 0.38692500 & ⋯ &  0.0000000000 & 0.35054415 & 0.34585005 &  0.0046940962 &  0.40310200 & 0.55307967 & -0.149977676 &  0.0000000 &  0.0000000 &  0.0000000000\\\\\n",
       "\t 1122202989 & 202105 &  0.63482897 &  0.54172548 &  0.093103484 &  0.29521855 &  0.51508775 & -0.2198691990 & 0.60639896 & 0.43897845 & ⋯ &  0.0000000000 & 0.30235833 & 0.35054415 & -0.0481858164 &  0.48842002 & 0.40310200 &  0.085318019 &  0.0000000 &  0.0000000 &  0.0000000000\\\\\n",
       "\t 1122202989 & 202106 &  0.42652421 &  0.63482897 & -0.208304760 &  0.29593872 &  0.29521855 &  0.0007201647 & 0.49538007 & 0.60639896 & ⋯ &  0.0000000000 & 0.33619480 & 0.30235833 &  0.0338364700 &  0.39323083 & 0.48842002 & -0.095189191 &  0.0000000 &  0.0000000 &  0.0000000000\\\\\n",
       "\t 1142522655 & 202101 &  0.25896160 &          NA &           NA & -0.06369471 &          NA &            NA & 0.08804675 &         NA & ⋯ &            NA & 0.08612265 &         NA &            NA &  0.27594834 &         NA &           NA &  0.0000000 &         NA &            NA\\\\\n",
       "\t 1142522655 & 202102 &  0.06446532 &  0.25896160 & -0.194496283 &  0.02043844 & -0.06369471 &  0.0841331520 & 0.04438504 & 0.08804675 & ⋯ &  0.0000000000 & 0.07437049 & 0.08612265 & -0.0117521596 &  0.38760148 & 0.27594834 &  0.111653142 &  0.0000000 &  0.0000000 &  0.0000000000\\\\\n",
       "\t 1142522655 & 202103 &  0.23929259 &  0.06446532 &  0.174827273 &  0.06821391 &  0.02043844 &  0.0477754619 & 0.23059692 & 0.04438504 & ⋯ &  0.0000000000 & 0.10989237 & 0.07437049 &  0.0355218806 &  0.15065313 & 0.38760148 & -0.236948345 &  0.0000000 &  0.0000000 &  0.0000000000\\\\\n",
       "\t 1142522655 & 202104 &  0.02088153 &  0.23929259 & -0.218411053 &  0.06263248 &  0.06821391 & -0.0055814314 & 0.12511047 & 0.23059692 & ⋯ &  0.1532342458 & 0.10713301 & 0.10989237 & -0.0027593619 &  0.21044559 & 0.15065313 &  0.059792457 &  0.0000000 &  0.0000000 &  0.0000000000\\\\\n",
       "\t 1142522655 & 202105 & -0.01569309 &  0.02088153 & -0.036574627 &  0.05070270 &  0.06263248 & -0.0119297770 & 0.08180166 & 0.12511047 & ⋯ & -0.0814532519 & 0.11896597 & 0.10713301 &  0.0118329589 &  0.24706579 & 0.21044559 &  0.036620197 &  0.0000000 &  0.0000000 &  0.0000000000\\\\\n",
       "\t 1142522655 & 202106 &  0.02536381 & -0.01569309 &  0.041056904 &  0.04962587 &  0.05070270 & -0.0010768250 & 0.14472435 & 0.08180166 & ⋯ &  0.0111096721 & 0.10804158 & 0.11896597 & -0.0109243910 &  0.19526328 & 0.24706579 & -0.051802509 &  0.0000000 &  0.0000000 &  0.0000000000\\\\\n",
       "\t 1203084862 & 202101 &  0.33776649 &          NA &           NA &  0.08379010 &          NA &            NA & 0.31302010 &         NA & ⋯ &            NA & 0.51305313 &         NA &            NA &  0.09259731 &         NA &           NA &  0.0000000 &         NA &            NA\\\\\n",
       "\t 1203084862 & 202102 &  0.17244110 &  0.33776649 & -0.165325395 &  0.10449783 &  0.08379010 &  0.0207077300 & 0.24184066 & 0.31302010 & ⋯ &  0.0000000000 & 0.51529246 & 0.51305313 &  0.0022393307 &  0.12056360 & 0.09259731 &  0.027966289 &  0.0000000 &  0.0000000 &  0.0000000000\\\\\n",
       "\t 1203084862 & 202103 &  0.12280586 &  0.17244110 & -0.049635241 &  0.11072358 &  0.10449783 &  0.0062257527 & 0.19459742 & 0.24184066 & ⋯ &  0.0000000000 & 0.50732427 & 0.51529246 & -0.0079681958 &  0.12665806 & 0.12056360 &  0.006094469 &  0.0000000 &  0.0000000 &  0.0000000000\\\\\n",
       "\t 1203084862 & 202104 &  0.11344520 &  0.12280586 & -0.009360656 &  0.11690984 &  0.11072358 &  0.0061862632 & 0.22146963 & 0.19459742 & ⋯ &  0.0000000000 & 0.50456818 & 0.50732427 & -0.0027560875 &  0.11571210 & 0.12665806 & -0.010945959 &  0.0000000 &  0.0000000 &  0.0000000000\\\\\n",
       "\t 1203084862 & 202105 &  0.08952426 &  0.11344520 & -0.023920939 &  0.12064733 &  0.11690984 &  0.0037374909 & 0.11280865 & 0.22146963 & ⋯ &  0.0000000000 & 0.48317336 & 0.50456818 & -0.0213948150 &  0.09458650 & 0.11571210 & -0.021125604 &  0.0000000 &  0.0000000 &  0.0000000000\\\\\n",
       "\t 1203084862 & 202106 &  0.30089407 &  0.08952426 &  0.211369811 &  0.14956558 &  0.12064733 &  0.0289182460 & 0.29533289 & 0.11280865 & ⋯ &  0.0000000000 & 0.47847234 & 0.48317336 & -0.0047010256 &  0.09519461 & 0.09458650 &  0.000608108 &  0.0000000 &  0.0000000 &  0.0000000000\\\\\n",
       "\\end{tabular}\n"
      ],
      "text/markdown": [
       "\n",
       "A data.table: 30 × 245\n",
       "\n",
       "| numero_de_cliente &lt;int&gt; | foto_mes &lt;int&gt; | mrentabilidad_rank &lt;dbl&gt; | mrentabilidad_rank_lag1 &lt;dbl&gt; | mrentabilidad_rank_delta1 &lt;dbl&gt; | mrentabilidad_annual_rank &lt;dbl&gt; | mrentabilidad_annual_rank_lag1 &lt;dbl&gt; | mrentabilidad_annual_rank_delta1 &lt;dbl&gt; | mcomisiones_rank &lt;dbl&gt; | mcomisiones_rank_lag1 &lt;dbl&gt; | ⋯ ⋯ | diff_master_compra_rank_delta1 &lt;dbl&gt; | diff_visa_compra_rank &lt;dbl&gt; | diff_visa_compra_rank_lag1 &lt;dbl&gt; | diff_visa_compra_rank_delta1 &lt;dbl&gt; | diff_comisiones_consumo_rank &lt;dbl&gt; | diff_comisiones_consumo_rank_lag1 &lt;dbl&gt; | diff_comisiones_consumo_rank_delta1 &lt;dbl&gt; | diff_comisiones_beneficios_rank &lt;dbl&gt; | diff_comisiones_beneficios_rank_lag1 &lt;dbl&gt; | diff_comisiones_beneficios_rank_delta1 &lt;dbl&gt; |\n",
       "|---|---|---|---|---|---|---|---|---|---|---|---|---|---|---|---|---|---|---|---|---|\n",
       "|  280580619 | 202101 |  0.41012341 |          NA |           NA |  0.51673458 |          NA |            NA | 0.65763657 |         NA | ⋯ |            NA | 0.33484716 |         NA |            NA |  0.13400337 |         NA |           NA | -0.3349766 |         NA |            NA |\n",
       "|  280580619 | 202102 |  0.43861277 |  0.41012341 |  0.028489363 |  0.53326384 |  0.51673458 |  0.0165292527 | 0.69350489 | 0.65763657 | ⋯ |  0.0043282835 | 0.34178869 | 0.33484716 |  0.0069415333 |  0.09807453 | 0.13400337 | -0.035928848 | -0.3077655 | -0.3349766 |  0.0272110666 |\n",
       "|  280580619 | 202103 |  0.42771000 |  0.43861277 | -0.010902776 |  0.52403666 |  0.53326384 | -0.0092271719 | 0.66342923 | 0.69350489 | ⋯ | -0.0059953683 | 0.32537330 | 0.34178869 | -0.0164153862 |  0.12963177 | 0.09807453 |  0.031557239 | -0.3828644 | -0.3077655 | -0.0750988454 |\n",
       "|  280580619 | 202104 |  0.45949400 |  0.42771000 |  0.031784001 |  0.52096099 |  0.52403666 | -0.0030756721 | 0.70900341 | 0.66342923 | ⋯ |  0.0120469423 | 0.32264714 | 0.32537330 | -0.0027261637 |  0.12006623 | 0.12963177 | -0.009565540 | -0.3795317 | -0.3828644 |  0.0033327064 |\n",
       "|  280580619 | 202105 |  0.45062190 |  0.45949400 | -0.008872097 |  0.50900925 |  0.52096099 | -0.0119517383 | 0.72278328 | 0.70900341 | ⋯ |  0.0009556479 | 0.31699142 | 0.32264714 | -0.0056557240 |  0.11210622 | 0.12006623 | -0.007960009 | -0.3796927 | -0.3795317 | -0.0001610562 |\n",
       "|  280580619 | 202106 |  0.44909800 |  0.45062190 | -0.001523902 |  0.50151506 |  0.50900925 | -0.0074941953 | 0.68539799 | 0.72278328 | ⋯ |  0.0037802736 | 0.35298841 | 0.31699142 |  0.0359969979 | -0.02785842 | 0.11210622 | -0.139964635 | -0.3000520 | -0.3796927 |  0.0796407799 |\n",
       "|  825967714 | 202101 |  0.57139855 |          NA |           NA |  0.26168245 |          NA |            NA | 0.78801188 |         NA | ⋯ |            NA | 0.73190957 |         NA |            NA |  0.88571242 |         NA |           NA |  0.0000000 |         NA |            NA |\n",
       "|  825967714 | 202102 | -0.74679040 |  0.57139855 | -1.318188943 |  0.22987544 |  0.26168245 | -0.0318070184 | 0.25901892 | 0.78801188 | ⋯ |  0.0031445079 | 0.72482848 | 0.73190957 | -0.0070810956 |  0.89779792 | 0.88571242 |  0.012085500 |  0.0000000 |  0.0000000 |  0.0000000000 |\n",
       "|  825967714 | 202103 | -0.68937144 | -0.74679040 |  0.057418959 |  0.19715483 |  0.22987544 | -0.0327206083 | 0.19009086 | 0.25901892 | ⋯ |  0.0016834553 | 0.72775422 | 0.72482848 |  0.0029257449 |  0.89929064 | 0.89779792 |  0.001492722 |  0.0000000 |  0.0000000 |  0.0000000000 |\n",
       "|  825967714 | 202104 |  0.12228227 | -0.68937144 |  0.811653705 |  0.19713892 |  0.19715483 | -0.0000159131 | 0.42779272 | 0.19009086 | ⋯ |  0.0201445994 | 0.72814381 | 0.72775422 |  0.0003895835 |  0.91103259 | 0.89929064 |  0.011741953 |  0.0000000 |  0.0000000 |  0.0000000000 |\n",
       "|  825967714 | 202105 |  0.47555552 |  0.12228227 |  0.353273251 |  0.22219211 |  0.19713892 |  0.0250531944 | 0.43318269 | 0.42779272 | ⋯ | -0.0010246087 | 0.73431591 | 0.72814381 |  0.0061721083 |  0.88614680 | 0.91103259 | -0.024885786 |  0.0000000 |  0.0000000 |  0.0000000000 |\n",
       "|  825967714 | 202106 |  0.61504074 |  0.47555552 |  0.139485222 |  0.24903376 |  0.22219211 |  0.0268416545 | 0.66736170 | 0.43318269 | ⋯ |  0.0053596410 | 0.73006088 | 0.73431591 | -0.0042550376 |  0.89526257 | 0.88614680 |  0.009115766 |  0.0000000 |  0.0000000 |  0.0000000000 |\n",
       "| 1122202989 | 202101 |  0.51534232 |          NA |           NA |  0.75604630 |          NA |            NA | 0.46815887 |         NA | ⋯ |            NA | 0.35618919 |         NA |            NA |  0.55238393 |         NA |           NA |  0.0000000 |         NA |            NA |\n",
       "| 1122202989 | 202102 |  0.27278765 |  0.51534232 | -0.242554673 |  0.70374147 |  0.75604630 | -0.0523048308 | 0.52428755 | 0.46815887 | ⋯ |  0.0000000000 | 0.34055358 | 0.35618919 | -0.0156356053 |  0.65669233 | 0.55238393 |  0.104308404 |  0.0000000 |  0.0000000 |  0.0000000000 |\n",
       "| 1122202989 | 202103 |  0.36276340 |  0.27278765 |  0.089975750 |  0.62215235 |  0.70374147 | -0.0815891202 | 0.38692500 | 0.52428755 | ⋯ |  0.0000000000 | 0.34585005 | 0.34055358 |  0.0052964703 |  0.55307967 | 0.65669233 | -0.103612661 |  0.0000000 |  0.0000000 |  0.0000000000 |\n",
       "| 1122202989 | 202104 |  0.54172548 |  0.36276340 |  0.178962083 |  0.51508775 |  0.62215235 | -0.1070645962 | 0.43897845 | 0.38692500 | ⋯ |  0.0000000000 | 0.35054415 | 0.34585005 |  0.0046940962 |  0.40310200 | 0.55307967 | -0.149977676 |  0.0000000 |  0.0000000 |  0.0000000000 |\n",
       "| 1122202989 | 202105 |  0.63482897 |  0.54172548 |  0.093103484 |  0.29521855 |  0.51508775 | -0.2198691990 | 0.60639896 | 0.43897845 | ⋯ |  0.0000000000 | 0.30235833 | 0.35054415 | -0.0481858164 |  0.48842002 | 0.40310200 |  0.085318019 |  0.0000000 |  0.0000000 |  0.0000000000 |\n",
       "| 1122202989 | 202106 |  0.42652421 |  0.63482897 | -0.208304760 |  0.29593872 |  0.29521855 |  0.0007201647 | 0.49538007 | 0.60639896 | ⋯ |  0.0000000000 | 0.33619480 | 0.30235833 |  0.0338364700 |  0.39323083 | 0.48842002 | -0.095189191 |  0.0000000 |  0.0000000 |  0.0000000000 |\n",
       "| 1142522655 | 202101 |  0.25896160 |          NA |           NA | -0.06369471 |          NA |            NA | 0.08804675 |         NA | ⋯ |            NA | 0.08612265 |         NA |            NA |  0.27594834 |         NA |           NA |  0.0000000 |         NA |            NA |\n",
       "| 1142522655 | 202102 |  0.06446532 |  0.25896160 | -0.194496283 |  0.02043844 | -0.06369471 |  0.0841331520 | 0.04438504 | 0.08804675 | ⋯ |  0.0000000000 | 0.07437049 | 0.08612265 | -0.0117521596 |  0.38760148 | 0.27594834 |  0.111653142 |  0.0000000 |  0.0000000 |  0.0000000000 |\n",
       "| 1142522655 | 202103 |  0.23929259 |  0.06446532 |  0.174827273 |  0.06821391 |  0.02043844 |  0.0477754619 | 0.23059692 | 0.04438504 | ⋯ |  0.0000000000 | 0.10989237 | 0.07437049 |  0.0355218806 |  0.15065313 | 0.38760148 | -0.236948345 |  0.0000000 |  0.0000000 |  0.0000000000 |\n",
       "| 1142522655 | 202104 |  0.02088153 |  0.23929259 | -0.218411053 |  0.06263248 |  0.06821391 | -0.0055814314 | 0.12511047 | 0.23059692 | ⋯ |  0.1532342458 | 0.10713301 | 0.10989237 | -0.0027593619 |  0.21044559 | 0.15065313 |  0.059792457 |  0.0000000 |  0.0000000 |  0.0000000000 |\n",
       "| 1142522655 | 202105 | -0.01569309 |  0.02088153 | -0.036574627 |  0.05070270 |  0.06263248 | -0.0119297770 | 0.08180166 | 0.12511047 | ⋯ | -0.0814532519 | 0.11896597 | 0.10713301 |  0.0118329589 |  0.24706579 | 0.21044559 |  0.036620197 |  0.0000000 |  0.0000000 |  0.0000000000 |\n",
       "| 1142522655 | 202106 |  0.02536381 | -0.01569309 |  0.041056904 |  0.04962587 |  0.05070270 | -0.0010768250 | 0.14472435 | 0.08180166 | ⋯ |  0.0111096721 | 0.10804158 | 0.11896597 | -0.0109243910 |  0.19526328 | 0.24706579 | -0.051802509 |  0.0000000 |  0.0000000 |  0.0000000000 |\n",
       "| 1203084862 | 202101 |  0.33776649 |          NA |           NA |  0.08379010 |          NA |            NA | 0.31302010 |         NA | ⋯ |            NA | 0.51305313 |         NA |            NA |  0.09259731 |         NA |           NA |  0.0000000 |         NA |            NA |\n",
       "| 1203084862 | 202102 |  0.17244110 |  0.33776649 | -0.165325395 |  0.10449783 |  0.08379010 |  0.0207077300 | 0.24184066 | 0.31302010 | ⋯ |  0.0000000000 | 0.51529246 | 0.51305313 |  0.0022393307 |  0.12056360 | 0.09259731 |  0.027966289 |  0.0000000 |  0.0000000 |  0.0000000000 |\n",
       "| 1203084862 | 202103 |  0.12280586 |  0.17244110 | -0.049635241 |  0.11072358 |  0.10449783 |  0.0062257527 | 0.19459742 | 0.24184066 | ⋯ |  0.0000000000 | 0.50732427 | 0.51529246 | -0.0079681958 |  0.12665806 | 0.12056360 |  0.006094469 |  0.0000000 |  0.0000000 |  0.0000000000 |\n",
       "| 1203084862 | 202104 |  0.11344520 |  0.12280586 | -0.009360656 |  0.11690984 |  0.11072358 |  0.0061862632 | 0.22146963 | 0.19459742 | ⋯ |  0.0000000000 | 0.50456818 | 0.50732427 | -0.0027560875 |  0.11571210 | 0.12665806 | -0.010945959 |  0.0000000 |  0.0000000 |  0.0000000000 |\n",
       "| 1203084862 | 202105 |  0.08952426 |  0.11344520 | -0.023920939 |  0.12064733 |  0.11690984 |  0.0037374909 | 0.11280865 | 0.22146963 | ⋯ |  0.0000000000 | 0.48317336 | 0.50456818 | -0.0213948150 |  0.09458650 | 0.11571210 | -0.021125604 |  0.0000000 |  0.0000000 |  0.0000000000 |\n",
       "| 1203084862 | 202106 |  0.30089407 |  0.08952426 |  0.211369811 |  0.14956558 |  0.12064733 |  0.0289182460 | 0.29533289 | 0.11280865 | ⋯ |  0.0000000000 | 0.47847234 | 0.48317336 | -0.0047010256 |  0.09519461 | 0.09458650 |  0.000608108 |  0.0000000 |  0.0000000 |  0.0000000000 |\n",
       "\n"
      ],
      "text/plain": [
       "   numero_de_cliente foto_mes mrentabilidad_rank mrentabilidad_rank_lag1\n",
       "1   280580619        202101    0.41012341                 NA            \n",
       "2   280580619        202102    0.43861277         0.41012341            \n",
       "3   280580619        202103    0.42771000         0.43861277            \n",
       "4   280580619        202104    0.45949400         0.42771000            \n",
       "5   280580619        202105    0.45062190         0.45949400            \n",
       "6   280580619        202106    0.44909800         0.45062190            \n",
       "7   825967714        202101    0.57139855                 NA            \n",
       "8   825967714        202102   -0.74679040         0.57139855            \n",
       "9   825967714        202103   -0.68937144        -0.74679040            \n",
       "10  825967714        202104    0.12228227        -0.68937144            \n",
       "11  825967714        202105    0.47555552         0.12228227            \n",
       "12  825967714        202106    0.61504074         0.47555552            \n",
       "13 1122202989        202101    0.51534232                 NA            \n",
       "14 1122202989        202102    0.27278765         0.51534232            \n",
       "15 1122202989        202103    0.36276340         0.27278765            \n",
       "16 1122202989        202104    0.54172548         0.36276340            \n",
       "17 1122202989        202105    0.63482897         0.54172548            \n",
       "18 1122202989        202106    0.42652421         0.63482897            \n",
       "19 1142522655        202101    0.25896160                 NA            \n",
       "20 1142522655        202102    0.06446532         0.25896160            \n",
       "21 1142522655        202103    0.23929259         0.06446532            \n",
       "22 1142522655        202104    0.02088153         0.23929259            \n",
       "23 1142522655        202105   -0.01569309         0.02088153            \n",
       "24 1142522655        202106    0.02536381        -0.01569309            \n",
       "25 1203084862        202101    0.33776649                 NA            \n",
       "26 1203084862        202102    0.17244110         0.33776649            \n",
       "27 1203084862        202103    0.12280586         0.17244110            \n",
       "28 1203084862        202104    0.11344520         0.12280586            \n",
       "29 1203084862        202105    0.08952426         0.11344520            \n",
       "30 1203084862        202106    0.30089407         0.08952426            \n",
       "   mrentabilidad_rank_delta1 mrentabilidad_annual_rank\n",
       "1            NA               0.51673458              \n",
       "2   0.028489363               0.53326384              \n",
       "3  -0.010902776               0.52403666              \n",
       "4   0.031784001               0.52096099              \n",
       "5  -0.008872097               0.50900925              \n",
       "6  -0.001523902               0.50151506              \n",
       "7            NA               0.26168245              \n",
       "8  -1.318188943               0.22987544              \n",
       "9   0.057418959               0.19715483              \n",
       "10  0.811653705               0.19713892              \n",
       "11  0.353273251               0.22219211              \n",
       "12  0.139485222               0.24903376              \n",
       "13           NA               0.75604630              \n",
       "14 -0.242554673               0.70374147              \n",
       "15  0.089975750               0.62215235              \n",
       "16  0.178962083               0.51508775              \n",
       "17  0.093103484               0.29521855              \n",
       "18 -0.208304760               0.29593872              \n",
       "19           NA              -0.06369471              \n",
       "20 -0.194496283               0.02043844              \n",
       "21  0.174827273               0.06821391              \n",
       "22 -0.218411053               0.06263248              \n",
       "23 -0.036574627               0.05070270              \n",
       "24  0.041056904               0.04962587              \n",
       "25           NA               0.08379010              \n",
       "26 -0.165325395               0.10449783              \n",
       "27 -0.049635241               0.11072358              \n",
       "28 -0.009360656               0.11690984              \n",
       "29 -0.023920939               0.12064733              \n",
       "30  0.211369811               0.14956558              \n",
       "   mrentabilidad_annual_rank_lag1 mrentabilidad_annual_rank_delta1\n",
       "1           NA                               NA                   \n",
       "2   0.51673458                     0.0165292527                   \n",
       "3   0.53326384                    -0.0092271719                   \n",
       "4   0.52403666                    -0.0030756721                   \n",
       "5   0.52096099                    -0.0119517383                   \n",
       "6   0.50900925                    -0.0074941953                   \n",
       "7           NA                               NA                   \n",
       "8   0.26168245                    -0.0318070184                   \n",
       "9   0.22987544                    -0.0327206083                   \n",
       "10  0.19715483                    -0.0000159131                   \n",
       "11  0.19713892                     0.0250531944                   \n",
       "12  0.22219211                     0.0268416545                   \n",
       "13          NA                               NA                   \n",
       "14  0.75604630                    -0.0523048308                   \n",
       "15  0.70374147                    -0.0815891202                   \n",
       "16  0.62215235                    -0.1070645962                   \n",
       "17  0.51508775                    -0.2198691990                   \n",
       "18  0.29521855                     0.0007201647                   \n",
       "19          NA                               NA                   \n",
       "20 -0.06369471                     0.0841331520                   \n",
       "21  0.02043844                     0.0477754619                   \n",
       "22  0.06821391                    -0.0055814314                   \n",
       "23  0.06263248                    -0.0119297770                   \n",
       "24  0.05070270                    -0.0010768250                   \n",
       "25          NA                               NA                   \n",
       "26  0.08379010                     0.0207077300                   \n",
       "27  0.10449783                     0.0062257527                   \n",
       "28  0.11072358                     0.0061862632                   \n",
       "29  0.11690984                     0.0037374909                   \n",
       "30  0.12064733                     0.0289182460                   \n",
       "   mcomisiones_rank mcomisiones_rank_lag1 ⋯ diff_master_compra_rank_delta1\n",
       "1  0.65763657               NA            ⋯            NA                 \n",
       "2  0.69350489       0.65763657            ⋯  0.0043282835                 \n",
       "3  0.66342923       0.69350489            ⋯ -0.0059953683                 \n",
       "4  0.70900341       0.66342923            ⋯  0.0120469423                 \n",
       "5  0.72278328       0.70900341            ⋯  0.0009556479                 \n",
       "6  0.68539799       0.72278328            ⋯  0.0037802736                 \n",
       "7  0.78801188               NA            ⋯            NA                 \n",
       "8  0.25901892       0.78801188            ⋯  0.0031445079                 \n",
       "9  0.19009086       0.25901892            ⋯  0.0016834553                 \n",
       "10 0.42779272       0.19009086            ⋯  0.0201445994                 \n",
       "11 0.43318269       0.42779272            ⋯ -0.0010246087                 \n",
       "12 0.66736170       0.43318269            ⋯  0.0053596410                 \n",
       "13 0.46815887               NA            ⋯            NA                 \n",
       "14 0.52428755       0.46815887            ⋯  0.0000000000                 \n",
       "15 0.38692500       0.52428755            ⋯  0.0000000000                 \n",
       "16 0.43897845       0.38692500            ⋯  0.0000000000                 \n",
       "17 0.60639896       0.43897845            ⋯  0.0000000000                 \n",
       "18 0.49538007       0.60639896            ⋯  0.0000000000                 \n",
       "19 0.08804675               NA            ⋯            NA                 \n",
       "20 0.04438504       0.08804675            ⋯  0.0000000000                 \n",
       "21 0.23059692       0.04438504            ⋯  0.0000000000                 \n",
       "22 0.12511047       0.23059692            ⋯  0.1532342458                 \n",
       "23 0.08180166       0.12511047            ⋯ -0.0814532519                 \n",
       "24 0.14472435       0.08180166            ⋯  0.0111096721                 \n",
       "25 0.31302010               NA            ⋯            NA                 \n",
       "26 0.24184066       0.31302010            ⋯  0.0000000000                 \n",
       "27 0.19459742       0.24184066            ⋯  0.0000000000                 \n",
       "28 0.22146963       0.19459742            ⋯  0.0000000000                 \n",
       "29 0.11280865       0.22146963            ⋯  0.0000000000                 \n",
       "30 0.29533289       0.11280865            ⋯  0.0000000000                 \n",
       "   diff_visa_compra_rank diff_visa_compra_rank_lag1\n",
       "1  0.33484716                    NA                \n",
       "2  0.34178869            0.33484716                \n",
       "3  0.32537330            0.34178869                \n",
       "4  0.32264714            0.32537330                \n",
       "5  0.31699142            0.32264714                \n",
       "6  0.35298841            0.31699142                \n",
       "7  0.73190957                    NA                \n",
       "8  0.72482848            0.73190957                \n",
       "9  0.72775422            0.72482848                \n",
       "10 0.72814381            0.72775422                \n",
       "11 0.73431591            0.72814381                \n",
       "12 0.73006088            0.73431591                \n",
       "13 0.35618919                    NA                \n",
       "14 0.34055358            0.35618919                \n",
       "15 0.34585005            0.34055358                \n",
       "16 0.35054415            0.34585005                \n",
       "17 0.30235833            0.35054415                \n",
       "18 0.33619480            0.30235833                \n",
       "19 0.08612265                    NA                \n",
       "20 0.07437049            0.08612265                \n",
       "21 0.10989237            0.07437049                \n",
       "22 0.10713301            0.10989237                \n",
       "23 0.11896597            0.10713301                \n",
       "24 0.10804158            0.11896597                \n",
       "25 0.51305313                    NA                \n",
       "26 0.51529246            0.51305313                \n",
       "27 0.50732427            0.51529246                \n",
       "28 0.50456818            0.50732427                \n",
       "29 0.48317336            0.50456818                \n",
       "30 0.47847234            0.48317336                \n",
       "   diff_visa_compra_rank_delta1 diff_comisiones_consumo_rank\n",
       "1             NA                 0.13400337                 \n",
       "2   0.0069415333                 0.09807453                 \n",
       "3  -0.0164153862                 0.12963177                 \n",
       "4  -0.0027261637                 0.12006623                 \n",
       "5  -0.0056557240                 0.11210622                 \n",
       "6   0.0359969979                -0.02785842                 \n",
       "7             NA                 0.88571242                 \n",
       "8  -0.0070810956                 0.89779792                 \n",
       "9   0.0029257449                 0.89929064                 \n",
       "10  0.0003895835                 0.91103259                 \n",
       "11  0.0061721083                 0.88614680                 \n",
       "12 -0.0042550376                 0.89526257                 \n",
       "13            NA                 0.55238393                 \n",
       "14 -0.0156356053                 0.65669233                 \n",
       "15  0.0052964703                 0.55307967                 \n",
       "16  0.0046940962                 0.40310200                 \n",
       "17 -0.0481858164                 0.48842002                 \n",
       "18  0.0338364700                 0.39323083                 \n",
       "19            NA                 0.27594834                 \n",
       "20 -0.0117521596                 0.38760148                 \n",
       "21  0.0355218806                 0.15065313                 \n",
       "22 -0.0027593619                 0.21044559                 \n",
       "23  0.0118329589                 0.24706579                 \n",
       "24 -0.0109243910                 0.19526328                 \n",
       "25            NA                 0.09259731                 \n",
       "26  0.0022393307                 0.12056360                 \n",
       "27 -0.0079681958                 0.12665806                 \n",
       "28 -0.0027560875                 0.11571210                 \n",
       "29 -0.0213948150                 0.09458650                 \n",
       "30 -0.0047010256                 0.09519461                 \n",
       "   diff_comisiones_consumo_rank_lag1 diff_comisiones_consumo_rank_delta1\n",
       "1          NA                                  NA                       \n",
       "2  0.13400337                        -0.035928848                       \n",
       "3  0.09807453                         0.031557239                       \n",
       "4  0.12963177                        -0.009565540                       \n",
       "5  0.12006623                        -0.007960009                       \n",
       "6  0.11210622                        -0.139964635                       \n",
       "7          NA                                  NA                       \n",
       "8  0.88571242                         0.012085500                       \n",
       "9  0.89779792                         0.001492722                       \n",
       "10 0.89929064                         0.011741953                       \n",
       "11 0.91103259                        -0.024885786                       \n",
       "12 0.88614680                         0.009115766                       \n",
       "13         NA                                  NA                       \n",
       "14 0.55238393                         0.104308404                       \n",
       "15 0.65669233                        -0.103612661                       \n",
       "16 0.55307967                        -0.149977676                       \n",
       "17 0.40310200                         0.085318019                       \n",
       "18 0.48842002                        -0.095189191                       \n",
       "19         NA                                  NA                       \n",
       "20 0.27594834                         0.111653142                       \n",
       "21 0.38760148                        -0.236948345                       \n",
       "22 0.15065313                         0.059792457                       \n",
       "23 0.21044559                         0.036620197                       \n",
       "24 0.24706579                        -0.051802509                       \n",
       "25         NA                                  NA                       \n",
       "26 0.09259731                         0.027966289                       \n",
       "27 0.12056360                         0.006094469                       \n",
       "28 0.12665806                        -0.010945959                       \n",
       "29 0.11571210                        -0.021125604                       \n",
       "30 0.09458650                         0.000608108                       \n",
       "   diff_comisiones_beneficios_rank diff_comisiones_beneficios_rank_lag1\n",
       "1  -0.3349766                              NA                          \n",
       "2  -0.3077655                      -0.3349766                          \n",
       "3  -0.3828644                      -0.3077655                          \n",
       "4  -0.3795317                      -0.3828644                          \n",
       "5  -0.3796927                      -0.3795317                          \n",
       "6  -0.3000520                      -0.3796927                          \n",
       "7   0.0000000                              NA                          \n",
       "8   0.0000000                       0.0000000                          \n",
       "9   0.0000000                       0.0000000                          \n",
       "10  0.0000000                       0.0000000                          \n",
       "11  0.0000000                       0.0000000                          \n",
       "12  0.0000000                       0.0000000                          \n",
       "13  0.0000000                              NA                          \n",
       "14  0.0000000                       0.0000000                          \n",
       "15  0.0000000                       0.0000000                          \n",
       "16  0.0000000                       0.0000000                          \n",
       "17  0.0000000                       0.0000000                          \n",
       "18  0.0000000                       0.0000000                          \n",
       "19  0.0000000                              NA                          \n",
       "20  0.0000000                       0.0000000                          \n",
       "21  0.0000000                       0.0000000                          \n",
       "22  0.0000000                       0.0000000                          \n",
       "23  0.0000000                       0.0000000                          \n",
       "24  0.0000000                       0.0000000                          \n",
       "25  0.0000000                              NA                          \n",
       "26  0.0000000                       0.0000000                          \n",
       "27  0.0000000                       0.0000000                          \n",
       "28  0.0000000                       0.0000000                          \n",
       "29  0.0000000                       0.0000000                          \n",
       "30  0.0000000                       0.0000000                          \n",
       "   diff_comisiones_beneficios_rank_delta1\n",
       "1             NA                         \n",
       "2   0.0272110666                         \n",
       "3  -0.0750988454                         \n",
       "4   0.0033327064                         \n",
       "5  -0.0001610562                         \n",
       "6   0.0796407799                         \n",
       "7             NA                         \n",
       "8   0.0000000000                         \n",
       "9   0.0000000000                         \n",
       "10  0.0000000000                         \n",
       "11  0.0000000000                         \n",
       "12  0.0000000000                         \n",
       "13            NA                         \n",
       "14  0.0000000000                         \n",
       "15  0.0000000000                         \n",
       "16  0.0000000000                         \n",
       "17  0.0000000000                         \n",
       "18  0.0000000000                         \n",
       "19            NA                         \n",
       "20  0.0000000000                         \n",
       "21  0.0000000000                         \n",
       "22  0.0000000000                         \n",
       "23  0.0000000000                         \n",
       "24  0.0000000000                         \n",
       "25            NA                         \n",
       "26  0.0000000000                         \n",
       "27  0.0000000000                         \n",
       "28  0.0000000000                         \n",
       "29  0.0000000000                         \n",
       "30  0.0000000000                         "
      ]
     },
     "metadata": {},
     "output_type": "display_data"
    }
   ],
   "source": [
    "clientes_muestra <- sample(unique(dataset$numero_de_cliente), 5)\n",
    "\n",
    "# 2. Filtrar el dataset solo para esos clientes\n",
    "muestra <- dataset[numero_de_cliente %in% clientes_muestra]\n",
    "\n",
    "# 3. Armar el vector de columnas a mostrar:\n",
    "#    cada variable original junto con su lag y delta\n",
    "cols_mostrar <- c(\"numero_de_cliente\", \"foto_mes\",\n",
    "                  as.vector(rbind(nuevas_cols_rank, \n",
    "                                  paste0(nuevas_cols_rank, \"_lag1\"), \n",
    "                                  paste0(nuevas_cols_rank, \"_delta1\"))))\n",
    "\n",
    "# 4. Seleccionar solo esas columnas\n",
    "muestra <- muestra[, ..cols_mostrar]\n",
    "\n",
    "# 5. Mostrar una parte ordenada por cliente y mes\n",
    "muestra[order(numero_de_cliente, foto_mes)]"
   ]
  },
  {
   "cell_type": "code",
   "execution_count": 44,
   "id": "f4a1e12c",
   "metadata": {
    "vscode": {
     "languageId": "r"
    }
   },
   "outputs": [
    {
     "data": {
      "text/html": [
       "<table class=\"dataframe\">\n",
       "<caption>A data.table: 10 × 5</caption>\n",
       "<thead>\n",
       "\t<tr><th scope=col>numero_de_cliente</th><th scope=col>mpasivos_margen</th><th scope=col>mpasivos_margen_rank</th><th scope=col>Visa_mpagospesos</th><th scope=col>Visa_mpagospesos_rank</th></tr>\n",
       "\t<tr><th scope=col>&lt;int&gt;</th><th scope=col>&lt;dbl&gt;</th><th scope=col>&lt;dbl&gt;</th><th scope=col>&lt;dbl&gt;</th><th scope=col>&lt;dbl&gt;</th></tr>\n",
       "</thead>\n",
       "<tbody>\n",
       "\t<tr><td> 597522300</td><td>6332.16</td><td> 0.9511120</td><td>-98317.08</td><td>-0.9255096</td></tr>\n",
       "\t<tr><td> 573811232</td><td>1205.45</td><td> 0.6680338</td><td>-25764.10</td><td>-0.5372561</td></tr>\n",
       "\t<tr><td> 498535038</td><td>1130.90</td><td> 0.6487532</td><td>       NA</td><td> 0.0000000</td></tr>\n",
       "\t<tr><td>1468561253</td><td> 652.27</td><td> 0.4745965</td><td>-43233.10</td><td>-0.7263562</td></tr>\n",
       "\t<tr><td> 904703995</td><td> 604.28</td><td> 0.4499053</td><td> -9985.56</td><td>-0.2339161</td></tr>\n",
       "\t<tr><td> 627144981</td><td> 541.26</td><td> 0.4150284</td><td>-40701.04</td><td>-0.7063147</td></tr>\n",
       "\t<tr><td>1420146357</td><td> 319.86</td><td> 0.2757614</td><td>-14463.59</td><td>-0.3341451</td></tr>\n",
       "\t<tr><td> 682793143</td><td> 183.49</td><td> 0.1741472</td><td> -8607.73</td><td>-0.2019440</td></tr>\n",
       "\t<tr><td> 607182438</td><td> 145.98</td><td> 0.1453419</td><td>     0.00</td><td> 0.0000000</td></tr>\n",
       "\t<tr><td> 730926313</td><td>-582.57</td><td>-0.5419505</td><td>-21749.34</td><td>-0.4731379</td></tr>\n",
       "</tbody>\n",
       "</table>\n"
      ],
      "text/latex": [
       "A data.table: 10 × 5\n",
       "\\begin{tabular}{lllll}\n",
       " numero\\_de\\_cliente & mpasivos\\_margen & mpasivos\\_margen\\_rank & Visa\\_mpagospesos & Visa\\_mpagospesos\\_rank\\\\\n",
       " <int> & <dbl> & <dbl> & <dbl> & <dbl>\\\\\n",
       "\\hline\n",
       "\t  597522300 & 6332.16 &  0.9511120 & -98317.08 & -0.9255096\\\\\n",
       "\t  573811232 & 1205.45 &  0.6680338 & -25764.10 & -0.5372561\\\\\n",
       "\t  498535038 & 1130.90 &  0.6487532 &        NA &  0.0000000\\\\\n",
       "\t 1468561253 &  652.27 &  0.4745965 & -43233.10 & -0.7263562\\\\\n",
       "\t  904703995 &  604.28 &  0.4499053 &  -9985.56 & -0.2339161\\\\\n",
       "\t  627144981 &  541.26 &  0.4150284 & -40701.04 & -0.7063147\\\\\n",
       "\t 1420146357 &  319.86 &  0.2757614 & -14463.59 & -0.3341451\\\\\n",
       "\t  682793143 &  183.49 &  0.1741472 &  -8607.73 & -0.2019440\\\\\n",
       "\t  607182438 &  145.98 &  0.1453419 &      0.00 &  0.0000000\\\\\n",
       "\t  730926313 & -582.57 & -0.5419505 & -21749.34 & -0.4731379\\\\\n",
       "\\end{tabular}\n"
      ],
      "text/markdown": [
       "\n",
       "A data.table: 10 × 5\n",
       "\n",
       "| numero_de_cliente &lt;int&gt; | mpasivos_margen &lt;dbl&gt; | mpasivos_margen_rank &lt;dbl&gt; | Visa_mpagospesos &lt;dbl&gt; | Visa_mpagospesos_rank &lt;dbl&gt; |\n",
       "|---|---|---|---|---|\n",
       "|  597522300 | 6332.16 |  0.9511120 | -98317.08 | -0.9255096 |\n",
       "|  573811232 | 1205.45 |  0.6680338 | -25764.10 | -0.5372561 |\n",
       "|  498535038 | 1130.90 |  0.6487532 |        NA |  0.0000000 |\n",
       "| 1468561253 |  652.27 |  0.4745965 | -43233.10 | -0.7263562 |\n",
       "|  904703995 |  604.28 |  0.4499053 |  -9985.56 | -0.2339161 |\n",
       "|  627144981 |  541.26 |  0.4150284 | -40701.04 | -0.7063147 |\n",
       "| 1420146357 |  319.86 |  0.2757614 | -14463.59 | -0.3341451 |\n",
       "|  682793143 |  183.49 |  0.1741472 |  -8607.73 | -0.2019440 |\n",
       "|  607182438 |  145.98 |  0.1453419 |      0.00 |  0.0000000 |\n",
       "|  730926313 | -582.57 | -0.5419505 | -21749.34 | -0.4731379 |\n",
       "\n"
      ],
      "text/plain": [
       "   numero_de_cliente mpasivos_margen mpasivos_margen_rank Visa_mpagospesos\n",
       "1   597522300        6332.16          0.9511120           -98317.08       \n",
       "2   573811232        1205.45          0.6680338           -25764.10       \n",
       "3   498535038        1130.90          0.6487532                  NA       \n",
       "4  1468561253         652.27          0.4745965           -43233.10       \n",
       "5   904703995         604.28          0.4499053            -9985.56       \n",
       "6   627144981         541.26          0.4150284           -40701.04       \n",
       "7  1420146357         319.86          0.2757614           -14463.59       \n",
       "8   682793143         183.49          0.1741472            -8607.73       \n",
       "9   607182438         145.98          0.1453419                0.00       \n",
       "10  730926313        -582.57         -0.5419505           -21749.34       \n",
       "   Visa_mpagospesos_rank\n",
       "1  -0.9255096           \n",
       "2  -0.5372561           \n",
       "3   0.0000000           \n",
       "4  -0.7263562           \n",
       "5  -0.2339161           \n",
       "6  -0.7063147           \n",
       "7  -0.3341451           \n",
       "8  -0.2019440           \n",
       "9   0.0000000           \n",
       "10 -0.4731379           "
      ]
     },
     "metadata": {},
     "output_type": "display_data"
    }
   ],
   "source": [
    "# Verifica el ranking para 'mpasivos_margen' en el mes de julio de 2021\n",
    "dataset[(foto_mes == 202104) & (numero_de_cliente %in% sample(unique(numero_de_cliente), 10)), .(numero_de_cliente, mpasivos_margen, mpasivos_margen_rank,Visa_mpagospesos, Visa_mpagospesos_rank)][order(-mpasivos_margen)]"
   ]
  },
  {
   "cell_type": "code",
   "execution_count": 7,
   "id": "a3519f78",
   "metadata": {
    "vscode": {
     "languageId": "r"
    }
   },
   "outputs": [],
   "source": [
    "# Selecciono los datos de training\n",
    "dataset_train <- dataset[foto_mes %in% PARAM$train]"
   ]
  },
  {
   "cell_type": "code",
   "execution_count": 8,
   "id": "0e9e959b",
   "metadata": {
    "vscode": {
     "languageId": "r"
    }
   },
   "outputs": [],
   "source": [
    "# paso la clase a binaria que tome valores {0,1}  enteros\n",
    "#  BAJA+1 y BAJA+2  son  1,   CONTINUA es 0\n",
    "#  a partir de ahora ya NO puedo cortar  por prob(BAJA+2) > 1/40\n",
    "\n",
    "dataset_train[,\n",
    "  clase01 := ifelse(clase_ternaria %in% c(\"BAJA+2\",\"BAJA+1\"), 1L, 0L)\n",
    "]"
   ]
  },
  {
   "cell_type": "code",
   "execution_count": 9,
   "id": "df466eab",
   "metadata": {
    "vscode": {
     "languageId": "r"
    }
   },
   "outputs": [],
   "source": [
    "# defino los datos que forma parte del training\n",
    "# aqui se hace el undersampling de los CONTINUA\n",
    "# notar que para esto utilizo la SEGUNDA semilla\n",
    "\n",
    "set.seed(PARAM$semilla_primigenia, kind = \"L'Ecuyer-CMRG\")\n",
    "dataset_train[, azar := runif(nrow(dataset_train))]\n",
    "dataset_train[, training := 0L]\n",
    "\n",
    "dataset_train[\n",
    "  foto_mes %in%  PARAM$train &\n",
    "    (azar <= PARAM$trainingstrategy$undersampling | clase_ternaria %in% c(\"BAJA+1\", \"BAJA+2\")),\n",
    "  training := 1L\n",
    "]"
   ]
  },
  {
   "cell_type": "code",
   "execution_count": 10,
   "id": "9887427e",
   "metadata": {
    "vscode": {
     "languageId": "r"
    }
   },
   "outputs": [],
   "source": [
    "# Me quedo con los campos a ser utilizados en el entrenamiento\n",
    "\n",
    "campos_buenos <- setdiff(\n",
    "  colnames(dataset_train),\n",
    "  c(\"clase_ternaria\", \"clase01\", \"azar\", \"training\")\n",
    ")"
   ]
  },
  {
   "cell_type": "code",
   "execution_count": 11,
   "id": "c944ff93",
   "metadata": {
    "vscode": {
     "languageId": "r"
    }
   },
   "outputs": [
    {
     "data": {
      "text/html": [
       "163737"
      ],
      "text/latex": [
       "163737"
      ],
      "text/markdown": [
       "163737"
      ],
      "text/plain": [
       "[1] 163737"
      ]
     },
     "metadata": {},
     "output_type": "display_data"
    },
    {
     "data": {
      "text/html": [
       "154"
      ],
      "text/latex": [
       "154"
      ],
      "text/markdown": [
       "154"
      ],
      "text/plain": [
       "[1] 154"
      ]
     },
     "metadata": {},
     "output_type": "display_data"
    }
   ],
   "source": [
    "# dejo los datos en el formato que necesita LightGBM\n",
    "\n",
    "dtrain <- lgb.Dataset(\n",
    "  data= data.matrix(dataset_train[training == 1L, campos_buenos, with= FALSE]),\n",
    "  label= dataset_train[training == 1L, clase01],\n",
    "  free_raw_data= FALSE\n",
    ")\n",
    "\n",
    "nrow(dtrain)\n",
    "ncol(dtrain)"
   ]
  },
  {
   "cell_type": "code",
   "execution_count": null,
   "id": "dbec5242",
   "metadata": {
    "vscode": {
     "languageId": "r"
    }
   },
   "outputs": [],
   "source": [
    "setwd(\"~/buckets/b1/exp/\")\n",
    "dir.create(PARAM$experimento, showWarnings=FALSE)\n",
    "setwd(paste0(\"~/buckets/b1/exp/\",PARAM$experimento))"
   ]
  },
  {
   "cell_type": "markdown",
   "id": "cd8ba0ef",
   "metadata": {},
   "source": [
    "# Bayesian Optimization"
   ]
  },
  {
   "cell_type": "code",
   "execution_count": 12,
   "id": "c4e963ed",
   "metadata": {
    "vscode": {
     "languageId": "r"
    }
   },
   "outputs": [],
   "source": [
    "# En el argumento x llegan los parmaetros de la bayesiana\n",
    "#  devuelve la AUC en cross validation del modelo entrenado\n",
    "\n",
    "EstimarGanancia_AUC_lightgbm <- function(x) {\n",
    "\n",
    "  # x pisa (o agrega) a param_fijos\n",
    "  param_completo <- modifyList(PARAM$lgbm$param_fijos, x)\n",
    "\n",
    "  # entreno LightGBM\n",
    "  modelocv <- lgb.cv(\n",
    "    data= dtrain,\n",
    "    nfold= PARAM$hyperparametertuning$xval_folds,\n",
    "    stratified= TRUE,\n",
    "    param= param_completo\n",
    "  )\n",
    "\n",
    "  # obtengo la ganancia\n",
    "  AUC <- modelocv$best_score\n",
    "\n",
    "  # hago espacio en la memoria\n",
    "  rm(modelocv)\n",
    "  gc(full= TRUE, verbose= FALSE)\n",
    "\n",
    "  message(format(Sys.time(), \"%a %b %d %X %Y\"), \" AUC \", AUC)\n",
    "\n",
    "  return(AUC)\n",
    "}"
   ]
  },
  {
   "cell_type": "code",
   "execution_count": null,
   "id": "56fa3453",
   "metadata": {
    "vscode": {
     "languageId": "r"
    }
   },
   "outputs": [],
   "source": [
    "# Aqui comienza la configuracion de la Bayesian Optimization\n",
    "\n",
    "# en este archivo quedan la evolucion binaria de la BO\n",
    "dir.create(\"Archivos Bayesiana\", showWarnings=FALSE)\n",
    "kbayesiana <- paste0(\"./Archivos Bayesiana/bayesiana.RDATA\")\n",
    "\n",
    "funcion_optimizar <- EstimarGanancia_AUC_lightgbm # la funcion que voy a maximizar\n",
    "\n",
    "configureMlr(show.learner.output= FALSE)\n",
    "\n",
    "# configuro la busqueda bayesiana,  los hiperparametros que se van a optimizar\n",
    "# por favor, no desesperarse por lo complejo\n",
    "\n",
    "obj.fun <- makeSingleObjectiveFunction(\n",
    "  fn= funcion_optimizar, # la funcion que voy a maximizar\n",
    "  minimize= FALSE, # estoy Maximizando la ganancia\n",
    "  noisy= TRUE,\n",
    "  par.set= PARAM$hypeparametertuning$hs, # definido al comienzo del programa\n",
    "  has.simple.signature= FALSE # paso los parametros en una lista\n",
    ")\n",
    "\n",
    "# cada 600 segundos guardo el resultado intermedio\n",
    "ctrl <- makeMBOControl(\n",
    "  save.on.disk.at.time= 600, # se graba cada 600 segundos\n",
    "  save.file.path= kbayesiana\n",
    ") # se graba cada 600 segundos\n",
    "\n",
    "# indico la cantidad de iteraciones que va a tener la Bayesian Optimization\n",
    "ctrl <- setMBOControlTermination(\n",
    "  ctrl,\n",
    "  iters= PARAM$hyperparametertuning$iteraciones\n",
    ") # cantidad de iteraciones\n",
    "\n",
    "# defino el método estandar para la creacion de los puntos iniciales,\n",
    "# los \"No Inteligentes\"\n",
    "ctrl <- setMBOControlInfill(ctrl, crit= makeMBOInfillCritEI())\n",
    "\n",
    "# establezco la funcion que busca el maximo\n",
    "surr.km <- makeLearner(\n",
    "  \"regr.km\",\n",
    "  predict.type= \"se\",\n",
    "  covtype= \"matern3_2\",\n",
    "  control= list(trace= TRUE)\n",
    ")\n"
   ]
  },
  {
   "cell_type": "code",
   "execution_count": 14,
   "id": "62d79bf0",
   "metadata": {
    "vscode": {
     "languageId": "r"
    }
   },
   "outputs": [
    {
     "name": "stderr",
     "output_type": "stream",
     "text": [
      "Warning message in mboContinue(kbayesiana):\n",
      "\"Tuning ended with term.iter. No need to continue. Simply returning stored result.\"\n"
     ]
    }
   ],
   "source": [
    "# inicio la optimizacion bayesiana, retomando si ya existe\n",
    "# es la celda mas lenta de todo el notebook\n",
    "\n",
    "if (!file.exists(kbayesiana)) {\n",
    "  bayesiana_salida <- mbo(obj.fun, learner= surr.km, control= ctrl)\n",
    "} else {\n",
    "  bayesiana_salida <- mboContinue(kbayesiana) # retomo en caso que ya exista\n",
    "}"
   ]
  },
  {
   "cell_type": "code",
   "execution_count": 15,
   "id": "e60c2d38",
   "metadata": {
    "vscode": {
     "languageId": "r"
    }
   },
   "outputs": [
    {
     "data": {
      "text/html": [
       "<style>\n",
       ".list-inline {list-style: none; margin:0; padding: 0}\n",
       ".list-inline>li {display: inline-block}\n",
       ".list-inline>li:not(:last-child)::after {content: \"\\00b7\"; padding: 0 .5ex}\n",
       "</style>\n",
       "<ol class=list-inline><li>'min_sum_hessian_in_leaf'</li><li>'learning_rate'</li><li>'feature_fraction'</li><li>'bagging_fraction'</li><li>'lambda_l1'</li><li>'lambda_l2'</li><li>'min_gain_to_split'</li><li>'bagging_freq'</li><li>'num_iterations'</li><li>'max_depth'</li><li>'num_leaves'</li><li>'min_data_in_leaf'</li><li>'y'</li><li>'dob'</li><li>'eol'</li><li>'error.message'</li><li>'exec.time'</li><li>'ei'</li><li>'error.model'</li><li>'train.time'</li><li>'prop.type'</li><li>'propose.time'</li><li>'se'</li><li>'mean'</li></ol>\n"
      ],
      "text/latex": [
       "\\begin{enumerate*}\n",
       "\\item 'min\\_sum\\_hessian\\_in\\_leaf'\n",
       "\\item 'learning\\_rate'\n",
       "\\item 'feature\\_fraction'\n",
       "\\item 'bagging\\_fraction'\n",
       "\\item 'lambda\\_l1'\n",
       "\\item 'lambda\\_l2'\n",
       "\\item 'min\\_gain\\_to\\_split'\n",
       "\\item 'bagging\\_freq'\n",
       "\\item 'num\\_iterations'\n",
       "\\item 'max\\_depth'\n",
       "\\item 'num\\_leaves'\n",
       "\\item 'min\\_data\\_in\\_leaf'\n",
       "\\item 'y'\n",
       "\\item 'dob'\n",
       "\\item 'eol'\n",
       "\\item 'error.message'\n",
       "\\item 'exec.time'\n",
       "\\item 'ei'\n",
       "\\item 'error.model'\n",
       "\\item 'train.time'\n",
       "\\item 'prop.type'\n",
       "\\item 'propose.time'\n",
       "\\item 'se'\n",
       "\\item 'mean'\n",
       "\\end{enumerate*}\n"
      ],
      "text/markdown": [
       "1. 'min_sum_hessian_in_leaf'\n",
       "2. 'learning_rate'\n",
       "3. 'feature_fraction'\n",
       "4. 'bagging_fraction'\n",
       "5. 'lambda_l1'\n",
       "6. 'lambda_l2'\n",
       "7. 'min_gain_to_split'\n",
       "8. 'bagging_freq'\n",
       "9. 'num_iterations'\n",
       "10. 'max_depth'\n",
       "11. 'num_leaves'\n",
       "12. 'min_data_in_leaf'\n",
       "13. 'y'\n",
       "14. 'dob'\n",
       "15. 'eol'\n",
       "16. 'error.message'\n",
       "17. 'exec.time'\n",
       "18. 'ei'\n",
       "19. 'error.model'\n",
       "20. 'train.time'\n",
       "21. 'prop.type'\n",
       "22. 'propose.time'\n",
       "23. 'se'\n",
       "24. 'mean'\n",
       "\n",
       "\n"
      ],
      "text/plain": [
       " [1] \"min_sum_hessian_in_leaf\" \"learning_rate\"          \n",
       " [3] \"feature_fraction\"        \"bagging_fraction\"       \n",
       " [5] \"lambda_l1\"               \"lambda_l2\"              \n",
       " [7] \"min_gain_to_split\"       \"bagging_freq\"           \n",
       " [9] \"num_iterations\"          \"max_depth\"              \n",
       "[11] \"num_leaves\"              \"min_data_in_leaf\"       \n",
       "[13] \"y\"                       \"dob\"                    \n",
       "[15] \"eol\"                     \"error.message\"          \n",
       "[17] \"exec.time\"               \"ei\"                     \n",
       "[19] \"error.model\"             \"train.time\"             \n",
       "[21] \"prop.type\"               \"propose.time\"           \n",
       "[23] \"se\"                      \"mean\"                   "
      ]
     },
     "metadata": {},
     "output_type": "display_data"
    }
   ],
   "source": [
    "tb_bayesiana <- as.data.table(bayesiana_salida$opt.path)\n",
    "colnames( tb_bayesiana)"
   ]
  },
  {
   "cell_type": "code",
   "execution_count": 16,
   "id": "666d5785",
   "metadata": {
    "vscode": {
     "languageId": "r"
    }
   },
   "outputs": [
    {
     "name": "stdout",
     "output_type": "stream",
     "text": [
      "   min_sum_hessian_in_leaf learning_rate feature_fraction bagging_fraction\n",
      "                     <num>         <num>            <num>            <num>\n",
      "1:              0.05738828    0.09004927        0.7601894        0.6914764\n",
      "   lambda_l1 lambda_l2 min_gain_to_split bagging_freq num_iterations max_depth\n",
      "       <num>     <num>             <num>        <int>          <int>     <int>\n",
      "1:  4.477845  1.223634         0.1407073            6           1164         5\n",
      "   num_leaves min_data_in_leaf\n",
      "        <int>            <int>\n",
      "1:       1842              266\n",
      "[1] 0.9336926\n"
     ]
    }
   ],
   "source": [
    "# almaceno los resultados de la Bayesian Optimization\n",
    "# y capturo los mejores hiperparametros encontrados\n",
    "\n",
    "tb_bayesiana <- as.data.table(bayesiana_salida$opt.path)\n",
    "\n",
    "tb_bayesiana[, iter := .I]\n",
    "\n",
    "# ordeno en forma descendente por AUC = y\n",
    "setorder(tb_bayesiana, -y)\n",
    "\n",
    "# grabo para eventualmente poder utilizarlos en OTRA corrida\n",
    "fwrite( tb_bayesiana,\n",
    "  file= \"./Archivos Bayesiana/BO_log.txt\",\n",
    "  sep= \"\\t\"\n",
    ")\n",
    "\n",
    "# los mejores hiperparámetros son los que quedaron en el registro 1 de la tabla\n",
    "PARAM$out$lgbm$mejores_hiperparametros <- tb_bayesiana[\n",
    "  1, # el primero es el de mejor AUC\n",
    "  setdiff(colnames(tb_bayesiana),\n",
    "    c(\"y\",\"dob\",\"eol\",\"error.message\",\"exec.time\",\"ei\",\"error.model\",\n",
    "      \"train.time\",\"prop.type\",\"propose.time\",\"se\",\"mean\",\"iter\")),\n",
    "  with= FALSE\n",
    "]\n",
    "\n",
    "\n",
    "PARAM$out$lgbm$y <- tb_bayesiana[1, y]\n",
    "\n",
    "write_yaml(PARAM, file=\"./Archivos Bayesiana/PARAM.yml\")\n",
    "\n",
    "print(PARAM$out$lgbm$mejores_hiperparametros)\n",
    "print(PARAM$out$lgbm$y)"
   ]
  },
  {
   "cell_type": "markdown",
   "id": "dec8b80f",
   "metadata": {},
   "source": [
    "# Entrenamiento Mejores hiperparámetros"
   ]
  },
  {
   "cell_type": "code",
   "execution_count": 35,
   "id": "d5b207e6",
   "metadata": {
    "vscode": {
     "languageId": "r"
    }
   },
   "outputs": [
    {
     "data": {
      "text/html": [
       "<table class=\"dataframe\">\n",
       "<caption>A data.table: 3 × 2</caption>\n",
       "<thead>\n",
       "\t<tr><th scope=col>clase_ternaria</th><th scope=col>N</th></tr>\n",
       "\t<tr><th scope=col>&lt;fct&gt;</th><th scope=col>&lt;int&gt;</th></tr>\n",
       "</thead>\n",
       "<tbody>\n",
       "\t<tr><td>CONTINUA</td><td>320372</td></tr>\n",
       "\t<tr><td>BAJA+2  </td><td>  1857</td></tr>\n",
       "\t<tr><td>BAJA+1  </td><td>  1453</td></tr>\n",
       "</tbody>\n",
       "</table>\n"
      ],
      "text/latex": [
       "A data.table: 3 × 2\n",
       "\\begin{tabular}{ll}\n",
       " clase\\_ternaria & N\\\\\n",
       " <fct> & <int>\\\\\n",
       "\\hline\n",
       "\t CONTINUA & 320372\\\\\n",
       "\t BAJA+2   &   1857\\\\\n",
       "\t BAJA+1   &   1453\\\\\n",
       "\\end{tabular}\n"
      ],
      "text/markdown": [
       "\n",
       "A data.table: 3 × 2\n",
       "\n",
       "| clase_ternaria &lt;fct&gt; | N &lt;int&gt; |\n",
       "|---|---|\n",
       "| CONTINUA | 320372 |\n",
       "| BAJA+2   |   1857 |\n",
       "| BAJA+1   |   1453 |\n",
       "\n"
      ],
      "text/plain": [
       "  clase_ternaria N     \n",
       "1 CONTINUA       320372\n",
       "2 BAJA+2           1857\n",
       "3 BAJA+1           1453"
      ]
     },
     "metadata": {},
     "output_type": "display_data"
    },
    {
     "data": {
      "text/html": [
       "<dl>\n",
       "\t<dt>$boosting</dt>\n",
       "\t\t<dd>'gbdt'</dd>\n",
       "\t<dt>$objective</dt>\n",
       "\t\t<dd>'binary'</dd>\n",
       "\t<dt>$metric</dt>\n",
       "\t\t<dd>'auc'</dd>\n",
       "\t<dt>$first_metric_only</dt>\n",
       "\t\t<dd>FALSE</dd>\n",
       "\t<dt>$boost_from_average</dt>\n",
       "\t\t<dd>TRUE</dd>\n",
       "\t<dt>$feature_pre_filter</dt>\n",
       "\t\t<dd>FALSE</dd>\n",
       "\t<dt>$force_row_wise</dt>\n",
       "\t\t<dd>TRUE</dd>\n",
       "\t<dt>$verbosity</dt>\n",
       "\t\t<dd>-100</dd>\n",
       "\t<dt>$seed</dt>\n",
       "\t\t<dd>200003</dd>\n",
       "\t<dt>$max_depth</dt>\n",
       "\t\t<dd>5</dd>\n",
       "\t<dt>$min_gain_to_split</dt>\n",
       "\t\t<dd>0.140707323471835</dd>\n",
       "\t<dt>$min_sum_hessian_in_leaf</dt>\n",
       "\t\t<dd>0.0573882802944526</dd>\n",
       "\t<dt>$lambda_l1</dt>\n",
       "\t\t<dd>4.47784490866167</dd>\n",
       "\t<dt>$lambda_l2</dt>\n",
       "\t\t<dd>1.22363444457981</dd>\n",
       "\t<dt>$max_bin</dt>\n",
       "\t\t<dd>31</dd>\n",
       "\t<dt>$bagging_fraction</dt>\n",
       "\t\t<dd>0.69147641081921</dd>\n",
       "\t<dt>$pos_bagging_fraction</dt>\n",
       "\t\t<dd>1</dd>\n",
       "\t<dt>$neg_bagging_fraction</dt>\n",
       "\t\t<dd>1</dd>\n",
       "\t<dt>$is_unbalance</dt>\n",
       "\t\t<dd>FALSE</dd>\n",
       "\t<dt>$scale_pos_weight</dt>\n",
       "\t\t<dd>1</dd>\n",
       "\t<dt>$drop_rate</dt>\n",
       "\t\t<dd>0.1</dd>\n",
       "\t<dt>$max_drop</dt>\n",
       "\t\t<dd>50</dd>\n",
       "\t<dt>$skip_drop</dt>\n",
       "\t\t<dd>0.5</dd>\n",
       "\t<dt>$extra_trees</dt>\n",
       "\t\t<dd>TRUE</dd>\n",
       "\t<dt>$num_iterations</dt>\n",
       "\t\t<dd>1164</dd>\n",
       "\t<dt>$learning_rate</dt>\n",
       "\t\t<dd>0.0900492691344952</dd>\n",
       "\t<dt>$feature_fraction</dt>\n",
       "\t\t<dd>0.760189437129097</dd>\n",
       "\t<dt>$num_leaves</dt>\n",
       "\t\t<dd>1842</dd>\n",
       "\t<dt>$min_data_in_leaf</dt>\n",
       "\t\t<dd>266</dd>\n",
       "\t<dt>$bagging_freq</dt>\n",
       "\t\t<dd>6</dd>\n",
       "</dl>\n"
      ],
      "text/latex": [
       "\\begin{description}\n",
       "\\item[\\$boosting] 'gbdt'\n",
       "\\item[\\$objective] 'binary'\n",
       "\\item[\\$metric] 'auc'\n",
       "\\item[\\$first\\_metric\\_only] FALSE\n",
       "\\item[\\$boost\\_from\\_average] TRUE\n",
       "\\item[\\$feature\\_pre\\_filter] FALSE\n",
       "\\item[\\$force\\_row\\_wise] TRUE\n",
       "\\item[\\$verbosity] -100\n",
       "\\item[\\$seed] 200003\n",
       "\\item[\\$max\\_depth] 5\n",
       "\\item[\\$min\\_gain\\_to\\_split] 0.140707323471835\n",
       "\\item[\\$min\\_sum\\_hessian\\_in\\_leaf] 0.0573882802944526\n",
       "\\item[\\$lambda\\_l1] 4.47784490866167\n",
       "\\item[\\$lambda\\_l2] 1.22363444457981\n",
       "\\item[\\$max\\_bin] 31\n",
       "\\item[\\$bagging\\_fraction] 0.69147641081921\n",
       "\\item[\\$pos\\_bagging\\_fraction] 1\n",
       "\\item[\\$neg\\_bagging\\_fraction] 1\n",
       "\\item[\\$is\\_unbalance] FALSE\n",
       "\\item[\\$scale\\_pos\\_weight] 1\n",
       "\\item[\\$drop\\_rate] 0.1\n",
       "\\item[\\$max\\_drop] 50\n",
       "\\item[\\$skip\\_drop] 0.5\n",
       "\\item[\\$extra\\_trees] TRUE\n",
       "\\item[\\$num\\_iterations] 1164\n",
       "\\item[\\$learning\\_rate] 0.0900492691344952\n",
       "\\item[\\$feature\\_fraction] 0.760189437129097\n",
       "\\item[\\$num\\_leaves] 1842\n",
       "\\item[\\$min\\_data\\_in\\_leaf] 266\n",
       "\\item[\\$bagging\\_freq] 6\n",
       "\\end{description}\n"
      ],
      "text/markdown": [
       "$boosting\n",
       ":   'gbdt'\n",
       "$objective\n",
       ":   'binary'\n",
       "$metric\n",
       ":   'auc'\n",
       "$first_metric_only\n",
       ":   FALSE\n",
       "$boost_from_average\n",
       ":   TRUE\n",
       "$feature_pre_filter\n",
       ":   FALSE\n",
       "$force_row_wise\n",
       ":   TRUE\n",
       "$verbosity\n",
       ":   -100\n",
       "$seed\n",
       ":   200003\n",
       "$max_depth\n",
       ":   5\n",
       "$min_gain_to_split\n",
       ":   0.140707323471835\n",
       "$min_sum_hessian_in_leaf\n",
       ":   0.0573882802944526\n",
       "$lambda_l1\n",
       ":   4.47784490866167\n",
       "$lambda_l2\n",
       ":   1.22363444457981\n",
       "$max_bin\n",
       ":   31\n",
       "$bagging_fraction\n",
       ":   0.69147641081921\n",
       "$pos_bagging_fraction\n",
       ":   1\n",
       "$neg_bagging_fraction\n",
       ":   1\n",
       "$is_unbalance\n",
       ":   FALSE\n",
       "$scale_pos_weight\n",
       ":   1\n",
       "$drop_rate\n",
       ":   0.1\n",
       "$max_drop\n",
       ":   50\n",
       "$skip_drop\n",
       ":   0.5\n",
       "$extra_trees\n",
       ":   TRUE\n",
       "$num_iterations\n",
       ":   1164\n",
       "$learning_rate\n",
       ":   0.0900492691344952\n",
       "$feature_fraction\n",
       ":   0.760189437129097\n",
       "$num_leaves\n",
       ":   1842\n",
       "$min_data_in_leaf\n",
       ":   266\n",
       "$bagging_freq\n",
       ":   6\n",
       "\n",
       "\n"
      ],
      "text/plain": [
       "$boosting\n",
       "[1] \"gbdt\"\n",
       "\n",
       "$objective\n",
       "[1] \"binary\"\n",
       "\n",
       "$metric\n",
       "[1] \"auc\"\n",
       "\n",
       "$first_metric_only\n",
       "[1] FALSE\n",
       "\n",
       "$boost_from_average\n",
       "[1] TRUE\n",
       "\n",
       "$feature_pre_filter\n",
       "[1] FALSE\n",
       "\n",
       "$force_row_wise\n",
       "[1] TRUE\n",
       "\n",
       "$verbosity\n",
       "[1] -100\n",
       "\n",
       "$seed\n",
       "[1] 200003\n",
       "\n",
       "$max_depth\n",
       "[1] 5\n",
       "\n",
       "$min_gain_to_split\n",
       "[1] 0.1407073\n",
       "\n",
       "$min_sum_hessian_in_leaf\n",
       "[1] 0.05738828\n",
       "\n",
       "$lambda_l1\n",
       "[1] 4.477845\n",
       "\n",
       "$lambda_l2\n",
       "[1] 1.223634\n",
       "\n",
       "$max_bin\n",
       "[1] 31\n",
       "\n",
       "$bagging_fraction\n",
       "[1] 0.6914764\n",
       "\n",
       "$pos_bagging_fraction\n",
       "[1] 1\n",
       "\n",
       "$neg_bagging_fraction\n",
       "[1] 1\n",
       "\n",
       "$is_unbalance\n",
       "[1] FALSE\n",
       "\n",
       "$scale_pos_weight\n",
       "[1] 1\n",
       "\n",
       "$drop_rate\n",
       "[1] 0.1\n",
       "\n",
       "$max_drop\n",
       "[1] 50\n",
       "\n",
       "$skip_drop\n",
       "[1] 0.5\n",
       "\n",
       "$extra_trees\n",
       "[1] TRUE\n",
       "\n",
       "$num_iterations\n",
       "[1] 1164\n",
       "\n",
       "$learning_rate\n",
       "[1] 0.09004927\n",
       "\n",
       "$feature_fraction\n",
       "[1] 0.7601894\n",
       "\n",
       "$num_leaves\n",
       "[1] 1842\n",
       "\n",
       "$min_data_in_leaf\n",
       "[1] 266\n",
       "\n",
       "$bagging_freq\n",
       "[1] 6\n"
      ]
     },
     "metadata": {},
     "output_type": "display_data"
    }
   ],
   "source": [
    "# clase01\n",
    "dataset[, clase01 := ifelse(clase_ternaria %in% c(\"BAJA+1\", \"BAJA+2\"), 1L, 0L)]\n",
    "\n",
    "dataset_train <- dataset[foto_mes %in% PARAM$train_final]\n",
    "dataset_train[,.N,clase_ternaria]\n",
    "\n",
    "# dejo los datos en el formato que necesita LightGBM\n",
    "dtrain_final <- lgb.Dataset(\n",
    "  data= data.matrix(dataset_train[, campos_buenos, with= FALSE]),\n",
    "  label= dataset_train[, clase01]\n",
    ")\n",
    "\n",
    "# Entrenamiento final\n",
    "param_final <- modifyList(PARAM$lgbm$param_fijos,\n",
    "  PARAM$out$lgbm$mejores_hiperparametros)\n",
    "\n",
    "param_final"
   ]
  },
  {
   "cell_type": "code",
   "execution_count": 36,
   "id": "8b27f6e6",
   "metadata": {
    "vscode": {
     "languageId": "r"
    }
   },
   "outputs": [],
   "source": [
    "# este punto es muy SUTIL  y será revisado en la Clase 05\n",
    "\n",
    "param_normalizado <- copy(param_final)\n",
    "param_normalizado$min_data_in_leaf <-  round(param_final$min_data_in_leaf / PARAM$trainingstrategy$undersampling)\n",
    "\n",
    "# entreno LightGBM\n",
    "\n",
    "modelo_final <- lgb.train(\n",
    "  data= dtrain_final,\n",
    "  param= param_normalizado\n",
    ")\n",
    "\n",
    "# ahora imprimo la importancia de variables\n",
    "tb_importancia <- as.data.table(lgb.importance(modelo_final))\n",
    "archivo_importancia <- \"./Archivos Bayesiana/impo.txt\"\n",
    "\n",
    "fwrite(tb_importancia,\n",
    "  file= archivo_importancia,\n",
    "  sep= \"\\t\"\n",
    ")"
   ]
  },
  {
   "cell_type": "code",
   "execution_count": 37,
   "id": "38d9a4f8",
   "metadata": {
    "vscode": {
     "languageId": "r"
    }
   },
   "outputs": [],
   "source": [
    "# grabo a disco el modelo en un formato para seres humanos ... ponele ...\n",
    "lgb.save(modelo_final, \"./Archivos Bayesiana/modelo.txt\" )"
   ]
  },
  {
   "cell_type": "markdown",
   "id": "a3f26857",
   "metadata": {},
   "source": [
    "# Validación Final"
   ]
  },
  {
   "cell_type": "code",
   "execution_count": 38,
   "id": "235126c5",
   "metadata": {
    "vscode": {
     "languageId": "r"
    }
   },
   "outputs": [],
   "source": [
    "# aplico el modelo a los datos sin clase\n",
    "dfuture <- dataset[foto_mes %in% PARAM$future]\n",
    "\n",
    "# aplico el modelo a los datos nuevos\n",
    "prediccion <- predict(\n",
    "  modelo_final,\n",
    "  data.matrix(dfuture[, campos_buenos, with= FALSE])\n",
    ")"
   ]
  },
  {
   "cell_type": "code",
   "execution_count": 39,
   "id": "e491d386",
   "metadata": {
    "vscode": {
     "languageId": "r"
    }
   },
   "outputs": [],
   "source": [
    "# inicilizo el dataset  drealidad\n",
    "drealidad <- realidad_inicializar( dfuture, PARAM)"
   ]
  },
  {
   "cell_type": "code",
   "execution_count": 40,
   "id": "3d6f37c6",
   "metadata": {
    "vscode": {
     "languageId": "r"
    }
   },
   "outputs": [],
   "source": [
    "# tabla de prediccion\n",
    "\n",
    "tb_prediccion <- dfuture[, list(numero_de_cliente, foto_mes)]\n",
    "tb_prediccion[, prob := prediccion ]\n",
    "\n",
    "# grabo las probabilidad del modelo\n",
    "fwrite(tb_prediccion,\n",
    "  file= \"./Archivos Bayesiana/prediccion.txt\",\n",
    "  sep= \"\\t\"\n",
    ")"
   ]
  },
  {
   "cell_type": "code",
   "execution_count": null,
   "id": "e6d860d0",
   "metadata": {
    "vscode": {
     "languageId": "r"
    }
   },
   "outputs": [],
   "source": [
    "# genero archivos con los  \"envios\" mejores\n",
    "# suba TODOS los archivos a Kaggle\n",
    "\n",
    "# ordeno por probabilidad descendente\n",
    "setorder(tb_prediccion, -prob)\n",
    "\n",
    "dir.create(\"kaggle\", showWarnings=FALSE)\n",
    "resultados <- data.table()\n",
    "\n",
    "for (envios in PARAM$cortes) {\n",
    "\n",
    "  tb_prediccion[, Predicted := 0L] # seteo inicial a 0\n",
    "  tb_prediccion[1:envios, Predicted := 1L] # marco los primeros\n",
    "\n",
    "  archivo_kaggle <- paste0(\"./kaggle/\", PARAM$experimento, \"_\", envios, \".csv\")\n",
    "\n",
    "  # grabo el archivo\n",
    "  fwrite(tb_prediccion[, list(numero_de_cliente, Predicted)],\n",
    "    file= archivo_kaggle,\n",
    "    sep= \",\"\n",
    "  )\n",
    "\n",
    "  res <- realidad_evaluar( drealidad, tb_prediccion)\n",
    "  resultados <- rbind(\n",
    "    resultados,\n",
    "    data.table(\n",
    "      clientes = envios,\n",
    "      ganancia_total = res$total,\n",
    "      ganancia_public = res$public,\n",
    "      ganancia_private = res$private\n",
    "    )\n",
    "  )\n",
    "  \n",
    "\n",
    "  options(scipen = 999)\n",
    "  cat( \"Envios=\", envios, \"\\t\",\n",
    "    \" TOTAL=\", res$total,\n",
    "    \"  Public=\", res$public,\n",
    "    \" Private=\", res$private,\n",
    "    \"\\n\",\n",
    "    sep= \"\"\n",
    "  )\n",
    "\n",
    "}"
   ]
  },
  {
   "cell_type": "code",
   "execution_count": null,
   "id": "486c114c",
   "metadata": {
    "vscode": {
     "languageId": "r"
    }
   },
   "outputs": [
    {
     "name": "stderr",
     "output_type": "stream",
     "text": [
      "Warning message:\n",
      "\"\u001b[1m\u001b[22mUsing `size` aesthetic for lines was deprecated in ggplot2 3.4.0.\n",
      "\u001b[36mℹ\u001b[39m Please use `linewidth` instead.\"\n"
     ]
    },
    {
     "data": {
      "image/png": "[encoded data removed]",
      "text/plain": [
       "plot without title"
      ]
     },
     "metadata": {
      "image/png": {
       "height": 420,
       "width": 420
      }
     },
     "output_type": "display_data"
    }
   ],
   "source": [
    "# pasamos a formato largo\n",
    "resultados_long <- melt(\n",
    "  resultados,\n",
    "  id.vars = \"clientes\",\n",
    "  measure.vars = c(\"ganancia_total\", \"ganancia_public\", \"ganancia_private\"),\n",
    "  variable.name = \"tipo\",\n",
    "  value.name = \"ganancia\"\n",
    ")\n",
    "\n",
    "# calcular máximos por tipo\n",
    "maximos <- resultados_long[, .SD[which.max(ganancia)], by = tipo]\n",
    "\n",
    "# crear etiquetas personalizadas para la leyenda\n",
    "etiquetas <- paste0(\n",
    "  maximos$tipo,\n",
    "  \" (envíos = \", maximos$clientes, \", máx = \", format(maximos$ganancia, big.mark = \",\"), \")\"\n",
    ")\n",
    "names(etiquetas) <- maximos$tipo\n",
    "\n",
    "# gráfico\n",
    "ggplot(resultados_long, aes(x = clientes, y = ganancia, color = tipo)) +\n",
    "  geom_line(linewidth = 1) +\n",
    "  # agregar puntos en los máximos\n",
    "  geom_point(data = maximos, aes(x = clientes, y = ganancia, color = tipo), size = 3) +\n",
    "  labs(\n",
    "    title = \"Curvas de Ganancia\",\n",
    "    x = \"Clientes\",\n",
    "    y = \"Ganancia\",\n",
    "    color = \"Máximos\"\n",
    "  ) +\n",
    "  scale_color_manual(values = c(\"ganancia_total\" = \"steelblue\",\n",
    "                                \"ganancia_public\" = \"forestgreen\",\n",
    "                                \"ganancia_private\" = \"firebrick\"),\n",
    "                     labels = etiquetas) +\n",
    "  theme_minimal() +\n",
    "  theme(\n",
    "    plot.margin = margin(10, 10, 10, 10),  # top, right, bottom, left\n",
    "    legend.position = \"bottom\")+\n",
    "  guides(color = guide_legend(nrow = 3, byrow = TRUE))\n",
    "  + ggsave(\"curvas.png\", width = 10, height = 6)"
   ]
  },
  {
   "cell_type": "code",
   "execution_count": 31,
   "id": "70050a36",
   "metadata": {
    "vscode": {
     "languageId": "r"
    }
   },
   "outputs": [
    {
     "data": {
      "text/html": [
       "'sáb oct 04 19:43:44 2025'"
      ],
      "text/latex": [
       "'sáb oct 04 19:43:44 2025'"
      ],
      "text/markdown": [
       "'sáb oct 04 19:43:44 2025'"
      ],
      "text/plain": [
       "[1] \"sáb oct 04 19:43:44 2025\""
      ]
     },
     "metadata": {},
     "output_type": "display_data"
    }
   ],
   "source": [
    "format(Sys.time(), \"%a %b %d %X %Y\")"
   ]
  },
  {
   "cell_type": "markdown",
   "id": "a2244557",
   "metadata": {},
   "source": [
    "# Ensemble"
   ]
  },
  {
   "cell_type": "code",
   "execution_count": null,
   "id": "1a2be6b1",
   "metadata": {
    "vscode": {
     "languageId": "r"
    }
   },
   "outputs": [],
   "source": [
    "# Definir las 5 semillas fijas para el ensemble\n",
    "semillas <- c(200003,300007,400009,500009,600011)\n",
    "\n",
    "# Lista vacía para ir guardando la predicción de cada modelo\n",
    "lista_predicciones <- list()\n",
    "\n",
    "# clase01\n",
    "dataset[, clase01 := ifelse(clase_ternaria %in% c(\"BAJA+1\", \"BAJA+2\"), 1L, 0L)]\n",
    "\n",
    "dataset_train <- dataset[foto_mes %in% PARAM$train_final]\n",
    "\n",
    "# dejo los datos en el formato que necesita LightGBM\n",
    "dtrain_final <- lgb.Dataset(\n",
    "  data = data.matrix(dataset_train[, campos_buenos, with = FALSE]),\n",
    "  label = dataset_train[, clase01]\n",
    ")\n",
    "\n",
    "# Entrenamiento final\n",
    "param_final <- modifyList(PARAM$lgbm$param_fijos,\n",
    "                          PARAM$out$lgbm$mejores_hiperparametros)\n",
    "\n",
    "# este punto es muy SUTIL  y será revisado en la Clase 05\n",
    "param_normalizado <- copy(param_final)\n",
    "param_normalizado$min_data_in_leaf <- round(param_final$min_data_in_leaf / PARAM$trainingstrategy$undersampling)\n",
    "\n",
    "# Dataset de predicción (lo definimos una sola vez fuera del bucle)\n",
    "dfuture <- dataset[foto_mes %in% PARAM$future]\n",
    "\n",
    "cat(\"Iniciando entrenamiento del ensamble con\", length(semillas), \"semillas...\\n\")\n",
    "\n",
    "### Bucle para entrenar un modelo por cada semilla\n",
    "for (semilla_actual in semillas) {\n",
    "  print(paste0(\"\\nEntrenando modelo con semilla: \", semilla_actual, \"\\n\"))\n",
    "\n",
    "  param_normalizado$seed <- semilla_actual\n",
    "  \n",
    "  # entreno LightGBM\n",
    "  modelo_final <- lgb.train(\n",
    "    data = dtrain_final,\n",
    "    param = param_normalizado\n",
    "  )\n",
    "  \n",
    "  # aplico el modelo a los datos nuevos\n",
    "  prediccion_individual <- predict(\n",
    "    modelo_final,\n",
    "    data.matrix(dfuture[, campos_buenos, with = FALSE])\n",
    "  )\n",
    "  \n",
    "  # Creamos una tabla con la predicción de esta semilla\n",
    "  tb_prediccion_individual <- dfuture[, list(numero_de_cliente, foto_mes)] \n",
    "  tb_prediccion_individual[, prob := prediccion_individual]\n",
    "  \n",
    "  ### Guardamos la predicción en nuestra lista\n",
    "  lista_predicciones[[as.character(semilla_actual)]] <- tb_prediccion_individual\n",
    "  \n",
    "} # Fin del bucle de semillas\n",
    "\n",
    "cat(\"\\nTodas las semillas procesadas. Creando el ensamble final...\\n\")\n",
    "\n",
    "# Juntamos todas las tablas de la lista en una sola\n",
    "predicciones_todas <- rbindlist(lista_predicciones)\n",
    "\n",
    "# Agrupamos por cliente y calculamos la probabilidad promedio\n",
    "tb_prediccion <- predicciones_todas[, .(prob = mean(prob)), by = .(numero_de_cliente, foto_mes)]\n",
    "\n",
    "cat(\"Ensamble creado con éxito. Probabilidades promediadas.\\n\\n\")\n",
    "\n",
    "# inicilizo el dataset  drealidad\n",
    "drealidad <- realidad_inicializar(dfuture, PARAM)\n",
    "\n",
    "# ordeno por probabilidad descendente\n",
    "setorder(tb_prediccion, -prob)\n",
    "\n",
    "dir.create(\"kaggle_promedidado\", showWarnings=FALSE)\n",
    "resultados <- data.table()\n",
    "\n",
    "for (envios in PARAM$cortes) {\n",
    "  \n",
    "  tb_prediccion[, Predicted := 0L] # seteo inicial a 0\n",
    "  tb_prediccion[1:envios, Predicted := 1L] # marco los primeros\n",
    "  \n",
    "  archivo_kaggle <- paste0(\"./kaggle_promedidado/\", PARAM$experimento, \"_\", envios, \".csv\")\n",
    "  \n",
    "  # grabo el archivo\n",
    "  fwrite(tb_prediccion[, list(numero_de_cliente, Predicted)],\n",
    "         file = archivo_kaggle,\n",
    "         sep = \",\"\n",
    "  )\n",
    "  \n",
    "  res <- realidad_evaluar(drealidad, tb_prediccion)\n",
    "  resultados <- rbind(\n",
    "    resultados,\n",
    "    data.table(\n",
    "      clientes = envios,\n",
    "      ganancia_total = res$total,\n",
    "      ganancia_public = res$public,\n",
    "      ganancia_private = res$private\n",
    "    )\n",
    "  )\n",
    "  \n",
    "  options(scipen = 999)\n",
    "  cat(\"Envios=\", envios, \"\\t\",\n",
    "      \" TOTAL=\", res$total,\n",
    "      \"  Public=\", res$public,\n",
    "      \"  Private=\", res$private,\n",
    "      \"\\n\",\n",
    "      sep = \"\"\n",
    "  )\n",
    "}"
   ]
  },
  {
   "cell_type": "code",
   "execution_count": null,
   "id": "99f4aa88",
   "metadata": {
    "vscode": {
     "languageId": "r"
    }
   },
   "outputs": [
    {
     "data": {
      "image/png": "[encoded data removed]",
      "text/plain": [
       "plot without title"
      ]
     },
     "metadata": {
      "image/png": {
       "height": 420,
       "width": 420
      }
     },
     "output_type": "display_data"
    }
   ],
   "source": [
    "# pasamos a formato largo\n",
    "resultados_long <- melt(\n",
    "  resultados,\n",
    "  id.vars = \"clientes\",\n",
    "  measure.vars = c(\"ganancia_total\", \"ganancia_public\", \"ganancia_private\"),\n",
    "  variable.name = \"tipo\",\n",
    "  value.name = \"ganancia\"\n",
    ")\n",
    "\n",
    "# calcular máximos por tipo\n",
    "maximos <- resultados_long[, .SD[which.max(ganancia)], by = tipo]\n",
    "\n",
    "# crear etiquetas personalizadas para la leyenda\n",
    "etiquetas <- paste0(\n",
    "  maximos$tipo,\n",
    "  \" (envíos = \", maximos$clientes, \", máx = \", format(maximos$ganancia, big.mark = \",\"), \")\"\n",
    ")\n",
    "names(etiquetas) <- maximos$tipo\n",
    "\n",
    "# gráfico\n",
    "ggplot(resultados_long, aes(x = clientes, y = ganancia, color = tipo)) +\n",
    "  geom_line(linewidth  = 1) +\n",
    "  # agregar puntos en los máximos\n",
    "  geom_point(data = maximos, aes(x = clientes, y = ganancia, color = tipo), size  = 3) +\n",
    "  labs(\n",
    "    title = \"Curvas de Ganancia\",\n",
    "    x = \"Clientes\",\n",
    "    y = \"Ganancia\",\n",
    "    color = \"Máximos\"\n",
    "  ) +\n",
    "  scale_color_manual(values = c(\"ganancia_total\" = \"steelblue\",\n",
    "                                \"ganancia_public\" = \"forestgreen\",\n",
    "                                \"ganancia_private\" = \"firebrick\"),\n",
    "                     labels = etiquetas) +\n",
    "  theme_minimal() +\n",
    "  theme(\n",
    "    plot.margin = margin(10, 10, 10, 10),  # top, right, bottom, left\n",
    "    legend.position = \"bottom\")+\n",
    "  guides(color = guide_legend(nrow = 3, byrow = TRUE))\n",
    "  + ggsave(\"curvas_ensamble.png\", width = 10, height = 6)"
   ]
  }
 ],
 "metadata": {
  "kernelspec": {
   "display_name": "R",
   "language": "R",
   "name": "ir"
  },
  "language_info": {
   "codemirror_mode": "r",
   "file_extension": ".r",
   "mimetype": "text/x-r-source",
   "name": "R",
   "pygments_lexer": "r",
   "version": "4.4.3"
  }
 },
 "nbformat": 4,
 "nbformat_minor": 5
}

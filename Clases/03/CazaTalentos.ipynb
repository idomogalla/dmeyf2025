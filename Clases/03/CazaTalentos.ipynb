{
  "cells": [
    {
      "cell_type": "markdown",
      "metadata": {
        "id": "5NHQWdqh3Sro"
      },
      "source": [
        "# Cazatalentos\n",
        "## buscando a  “La verdadera mejor encestadora”"
      ]
    },
    {
      "cell_type": "markdown",
      "metadata": {
        "id": "q2mpBZS53jCQ"
      },
      "source": [
        "## 1.Introduccion\n",
        "Este notebook analiza de forma didáctica la razón por la que se produce el overfitting.\n",
        "\n",
        "Ver los cinco minutos de este video muy relacionado con lo que veremos\n",
        "[Veritasium El Éxito ¿es Suerte o Trabajo Duro?](https://storage.googleapis.com/open-courses/austral2025-af91/labo1r/veritasium_success_paradox.html)"
      ]
    },
    {
      "cell_type": "markdown",
      "metadata": {
        "id": "BIwyaLbd3vAn"
      },
      "source": [
        "### 1.1 Motivacion\n",
        "\n",
        "El siguiente desafío busca introducir el problema fundamental de la Ciencia de Datos que es el overfitting desde un ángulo distinto,  presentando los fenómenos del efecto del tamaño de la muestra, el conocido problema de las múltiples comparaciones  y “la maldición del ganador”.\n",
        "\n",
        "Aunque anecdóticamente está basado en algo deportivo, se extiende fácilmente  a:\n",
        "*  la efectividad de acciones de marketing\n",
        "*  el testeo de medicamentos\n",
        "*  experimentos ciéntíficos https://www.ncbi.nlm.nih.gov/pmc/articles/PMC1182327/\n",
        "*  la comparación de modelos predictivos\n",
        "*  la elección del mejor corte en un nodo de un árbol de decisión, etc\n",
        "*  el examen único de **residencias médicas** de la República Argentina, y los incidentes presentados en el año 2025 https://www.infobae.com/salud/2025/08/08/examen-de-residencias-ninguno-de-los-117-medicos-que-se-presentaron-pudo-revalidar-su-nota-en-la-segunda-evaluacion/\n",
        "\n",
        "\n",
        "Habrá un segundo documento de CazaTalentos para analizar los incidentes del Examen Unico de Residentes de 2025 de la Republica Argentina."
      ]
    },
    {
      "cell_type": "markdown",
      "metadata": {
        "id": "RDbj1N8U4Ain"
      },
      "source": [
        "### 1.2 Generalidades\n",
        "Vari@s cazatalent@s de la gran ciudad van recorriendo pueblos en búsqueda de las mejores jugadoras de basket para tiros libres en la Liga Femenina de Basket.\n",
        "\n",
        "El procedimiento recomendado es el siguiente: un@ cazatalentos llega a un pueblo y va a la única cancha de basket del lugar donde la están esperando las adolescentes interesadas, las hace tirar tiros libres y elige a la mejor jugadora.\n",
        "\n",
        "Posteriormente a la elección del mejor jugadora, si le parece a la entrenadora de la gran ciudad, se llevará a la jugadora a que demuestre que tan buena es.\n",
        "\n",
        "A las jugadoras los podemos equiparar con modelos predictivos.\n"
      ]
    },
    {
      "cell_type": "markdown",
      "metadata": {
        "id": "-5pmca3q4NpX"
      },
      "source": [
        "### 2 Definición del Problema\n",
        "\n",
        "¿Qué metodología de las que se plantearán es la que propone a la jugadora con mayor probabilidad de superar el umbral del 80% de aciertos en la nueva prueba que se hará en la gran ciudad?\n",
        "Cada jugadora posee un “índice de enceste”, la cazatalentos no tiene forma de conocerlos; lo único que puede hacer la cazatalentos es hacer que las jugadoras hagan tiros libres, y medir los aciertos y no aciertos."
      ]
    },
    {
      "cell_type": "markdown",
      "metadata": {
        "id": "nJj3sNJv4XYO"
      },
      "source": [
        "### 2.1  Caso fallido, una jugadora se quiere pasar de lista ...\n",
        "\n",
        "La cazatalentos llega a una pequeña localidad a la que le han dicho que hay dos adolescentes cuyas habilidades debe testear.\n",
        "<br> Una es super talentosa se llama Diana Taurasi  https://en.wikipedia.org/wiki/Diana_Taurasi, nosotros sabemos que tiene un “índice de enceste” del 0.85, es decir cada vez que hace un tiro libre su probabilidad de encestar es del 85%.   Si hace 100 tiros libres, en promedio encesta 85 veces,  a veces puede ser más, a veces menos, pero en promedio encesta 85 de 100.\n",
        "<br> La otra es un auténtico desastre, a quien llamaremos  Miss X, y su índice de enceste es de 0.10.  Esto quiere decir que si hace 100  tiros libres, en promedio encesta 10.\n",
        "<br> La cazatalentos NO tiene forma de conocer los valores de 0.85 y 0.10, solo puede hacerlas tirar y contar aciertos.\n",
        "\n",
        "<br>La cazatalentos llega al gimnasio,  y solo se encuentra Diana, con lo cual le indica que comience a tirar.  Al tiro 10, Diana lleva 8 encestes y 2 no-enceste.\n",
        "<br>En ese momento, llega con un andar cansino Miss X y las interrumpe :  ¿cuánto va Diana ? La cazatalentos le responde  8 de 10.  Miss X solicita permiso para tirar, tira una sola vez y acierta.\n",
        "<br>Ahí mismo dice : “paren las rotativas, yo soy la clara ganadora de este torneo,  mi indice de acierto es del  100% y el de Diana es del 80% ,  la matemática es clara”.\n",
        "<br>La cazatalentos monta en cólera y le dice :  pues usted joven solo ha realizado un tiro, ¿Si lo hubiera errado, aceptaría decir entonces que su indice de acierto es del 0%? Ciertamente no.\n",
        "<br>Pues ahora, usted deberá seguir tirando hasta completar sus 10 tiros libres, y recién ahí compararé.\n"
      ]
    },
    {
      "cell_type": "markdown",
      "metadata": {
        "id": "zn2iG2Bw4wTm"
      },
      "source": [
        "### 2.2 Segundo Caso\n",
        "\n",
        "La cazatalentos tiene el siguiente algoritmo, hace que Diana Taurasi y Miss X hagan 10 tiros libres cada una, y elige a la ganadora de esos 10 tiros libres.\n",
        "¿Garantiza este método que por lo menos el 99% de las veces elige a Diana Taurasi?\n",
        "\n",
        "<br>¿La desastrosa Miss X puede llegar a encestar los 10 tiros libres?  <br>Efectivamente sí existe esa posibilidad, pero con una muy baja probabilidad, la probabilidad es de 0.10 ^10  =  1e-10\n",
        "<br>El símbolo de  ^  significa  \"elevado a la potencia de\"\n",
        "<br>\n",
        "<br>¿Cual es la probabilidad que Miss X tire una sola vez y acierte este tiro? <br>Simplemente 0.1 , una en diez, con lo cual ha tenido mucha suerte en su primer tiro, pero no la va a poder mantener !\n",
        "\n",
        "<br>¿La adolescente Diana Taurasi puede llegar a encestar los 10 tiros libres?  Efectivamente, su probabilidad es  0.85 ^10 = 0.1968744"
      ]
    },
    {
      "cell_type": "markdown",
      "metadata": {
        "id": "ye8SFCwU6poc"
      },
      "source": [
        "En el lenguaje R la instrucción  runif(10)  genera un vector con 10 números aleatorios con distribución uniforme en el intervalo [0,1], por ejemplo"
      ]
    },
    {
      "cell_type": "code",
      "execution_count": 6,
      "metadata": {
        "id": "Q2s5D1po6t6d",
        "vscode": {
          "languageId": "r"
        }
      },
      "outputs": [
        {
          "data": {
            "text/html": [
              "<style>\n",
              ".list-inline {list-style: none; margin:0; padding: 0}\n",
              ".list-inline>li {display: inline-block}\n",
              ".list-inline>li:not(:last-child)::after {content: \"\\00b7\"; padding: 0 .5ex}\n",
              "</style>\n",
              "<ol class=list-inline><li>0.779521793825552</li><li>0.272098511224613</li><li>0.183960141148418</li><li>0.101829108782113</li><li>0.0377520199399441</li><li>0.396948891459033</li><li>0.702767407521605</li><li>0.181989214848727</li><li>0.0835309068206698</li><li>0.859078374225646</li></ol>\n"
            ],
            "text/latex": [
              "\\begin{enumerate*}\n",
              "\\item 0.779521793825552\n",
              "\\item 0.272098511224613\n",
              "\\item 0.183960141148418\n",
              "\\item 0.101829108782113\n",
              "\\item 0.0377520199399441\n",
              "\\item 0.396948891459033\n",
              "\\item 0.702767407521605\n",
              "\\item 0.181989214848727\n",
              "\\item 0.0835309068206698\n",
              "\\item 0.859078374225646\n",
              "\\end{enumerate*}\n"
            ],
            "text/markdown": [
              "1. 0.779521793825552\n",
              "2. 0.272098511224613\n",
              "3. 0.183960141148418\n",
              "4. 0.101829108782113\n",
              "5. 0.0377520199399441\n",
              "6. 0.396948891459033\n",
              "7. 0.702767407521605\n",
              "8. 0.181989214848727\n",
              "9. 0.0835309068206698\n",
              "10. 0.859078374225646\n",
              "\n",
              "\n"
            ],
            "text/plain": [
              " [1] 0.77952179 0.27209851 0.18396014 0.10182911 0.03775202 0.39694889\n",
              " [7] 0.70276741 0.18198921 0.08353091 0.85907837"
            ]
          },
          "metadata": {},
          "output_type": "display_data"
        }
      ],
      "source": [
        "runif(10)"
      ]
    },
    {
      "cell_type": "markdown",
      "metadata": {
        "id": "VR6fbLmd6yR4"
      },
      "source": [
        "Ahora simulamos 10000 veces la estrategia de tirar 10 tiros libres y quedarse con la ganadora."
      ]
    },
    {
      "cell_type": "code",
      "execution_count": 3,
      "metadata": {
        "id": "ZD8ZjxDp5tqt",
        "vscode": {
          "languageId": "r"
        }
      },
      "outputs": [
        {
          "name": "stdout",
          "output_type": "stream",
          "text": [
            "Miss X gano un total de :  0"
          ]
        }
      ],
      "source": [
        "missx_ganadora <- 0\n",
        "\n",
        "for( i  in 1:10000 )\n",
        "{\n",
        "  aciertos_taurasi <- sum( runif(10) < 0.85 )\n",
        "  aciertos_missx <- sum( runif(10) < 0.10 )\n",
        "\n",
        "  if( aciertos_missx > aciertos_taurasi )  missx_ganadora <- missx_ganadora +1\n",
        "}\n",
        "\n",
        "cat( \"Miss X gano un total de : \", missx_ganadora )"
      ]
    },
    {
      "cell_type": "markdown",
      "metadata": {
        "id": "gYSZOgTv64Ta"
      },
      "source": [
        "Lo que da la cantidad de 0,  o sea que en 10000 veces, siempre ganó Diana Taurasi, con lo cual la estrategia de quedarse con el mejor de 10 tiros ha funcionado, para este obvio caso donde hay apenas dos jugadoras y hay una diferencia abismal entre ellas.\n",
        "\n",
        "En este caso NO aparece el overfitting por ningún lado"
      ]
    },
    {
      "cell_type": "markdown",
      "metadata": {
        "id": "onrG79vw7CCQ"
      },
      "source": [
        "### 2.3  Aparece el Overfitting\n",
        "\n",
        "El cazatalentos llega ahora a un pueblo donde hay 100 jugadores los que son mucho más parejos entre sí desde el punto de vista del ratio de enceste.\n",
        "\n",
        "Hay un jugador, que llamaremos jugador 1 que tiene un “índice de enceste” de  0.70\n",
        "Los 99 jugadores restantes que llamaremos “el pelotón”  tienen los índices de enceste  { 0.501, 0.0502, 0.503, …, 0.599  }\n",
        "Es decir el jugador 1 tiene 0.70 y el mejor jugador del pelotón tiene 0.599,  hay un poco más de 0.10 de diferencia.  La diferencia de 0.10 es significativa en basket.\n",
        "\n",
        "¿Qué sucede con el algoritmo del cazatalentos de hacer tirar 10 tiros libres a cada uno de los jugadores y elegir al que más encestes logró ?\n"
      ]
    },
    {
      "cell_type": "code",
      "execution_count": 7,
      "metadata": {
        "id": "rjh8LUah7NRy",
        "vscode": {
          "languageId": "r"
        }
      },
      "outputs": [
        {
          "data": {
            "text/html": [
              "<style>\n",
              ".list-inline {list-style: none; margin:0; padding: 0}\n",
              ".list-inline>li {display: inline-block}\n",
              ".list-inline>li:not(:last-child)::after {content: \"\\00b7\"; padding: 0 .5ex}\n",
              "</style>\n",
              "<ol class=list-inline><li>8</li><li>3</li><li>4</li><li>4</li><li>10</li><li>2</li><li>4</li><li>6</li><li>4</li><li>5</li><li>4</li><li>7</li><li>5</li><li>5</li><li>7</li><li>6</li><li>4</li><li>6</li><li>2</li><li>6</li><li>6</li><li>7</li><li>5</li><li>8</li><li>5</li><li>4</li><li>3</li><li>8</li><li>6</li><li>2</li><li>5</li><li>4</li><li>6</li><li>7</li><li>6</li><li>8</li><li>9</li><li>4</li><li>8</li><li>5</li><li>4</li><li>7</li><li>6</li><li>6</li><li>7</li><li>6</li><li>7</li><li>7</li><li>3</li><li>6</li><li>5</li><li>5</li><li>2</li><li>5</li><li>4</li><li>6</li><li>7</li><li>3</li><li>8</li><li>9</li><li>3</li><li>6</li><li>6</li><li>9</li><li>5</li><li>4</li><li>5</li><li>6</li><li>6</li><li>3</li><li>7</li><li>4</li><li>7</li><li>6</li><li>3</li><li>6</li><li>6</li><li>7</li><li>5</li><li>2</li><li>3</li><li>6</li><li>4</li><li>7</li><li>5</li><li>7</li><li>3</li><li>6</li><li>7</li><li>7</li><li>6</li><li>7</li><li>6</li><li>9</li><li>6</li><li>7</li><li>7</li><li>6</li><li>6</li><li>9</li></ol>\n"
            ],
            "text/latex": [
              "\\begin{enumerate*}\n",
              "\\item 8\n",
              "\\item 3\n",
              "\\item 4\n",
              "\\item 4\n",
              "\\item 10\n",
              "\\item 2\n",
              "\\item 4\n",
              "\\item 6\n",
              "\\item 4\n",
              "\\item 5\n",
              "\\item 4\n",
              "\\item 7\n",
              "\\item 5\n",
              "\\item 5\n",
              "\\item 7\n",
              "\\item 6\n",
              "\\item 4\n",
              "\\item 6\n",
              "\\item 2\n",
              "\\item 6\n",
              "\\item 6\n",
              "\\item 7\n",
              "\\item 5\n",
              "\\item 8\n",
              "\\item 5\n",
              "\\item 4\n",
              "\\item 3\n",
              "\\item 8\n",
              "\\item 6\n",
              "\\item 2\n",
              "\\item 5\n",
              "\\item 4\n",
              "\\item 6\n",
              "\\item 7\n",
              "\\item 6\n",
              "\\item 8\n",
              "\\item 9\n",
              "\\item 4\n",
              "\\item 8\n",
              "\\item 5\n",
              "\\item 4\n",
              "\\item 7\n",
              "\\item 6\n",
              "\\item 6\n",
              "\\item 7\n",
              "\\item 6\n",
              "\\item 7\n",
              "\\item 7\n",
              "\\item 3\n",
              "\\item 6\n",
              "\\item 5\n",
              "\\item 5\n",
              "\\item 2\n",
              "\\item 5\n",
              "\\item 4\n",
              "\\item 6\n",
              "\\item 7\n",
              "\\item 3\n",
              "\\item 8\n",
              "\\item 9\n",
              "\\item 3\n",
              "\\item 6\n",
              "\\item 6\n",
              "\\item 9\n",
              "\\item 5\n",
              "\\item 4\n",
              "\\item 5\n",
              "\\item 6\n",
              "\\item 6\n",
              "\\item 3\n",
              "\\item 7\n",
              "\\item 4\n",
              "\\item 7\n",
              "\\item 6\n",
              "\\item 3\n",
              "\\item 6\n",
              "\\item 6\n",
              "\\item 7\n",
              "\\item 5\n",
              "\\item 2\n",
              "\\item 3\n",
              "\\item 6\n",
              "\\item 4\n",
              "\\item 7\n",
              "\\item 5\n",
              "\\item 7\n",
              "\\item 3\n",
              "\\item 6\n",
              "\\item 7\n",
              "\\item 7\n",
              "\\item 6\n",
              "\\item 7\n",
              "\\item 6\n",
              "\\item 9\n",
              "\\item 6\n",
              "\\item 7\n",
              "\\item 7\n",
              "\\item 6\n",
              "\\item 6\n",
              "\\item 9\n",
              "\\end{enumerate*}\n"
            ],
            "text/markdown": [
              "1. 8\n",
              "2. 3\n",
              "3. 4\n",
              "4. 4\n",
              "5. 10\n",
              "6. 2\n",
              "7. 4\n",
              "8. 6\n",
              "9. 4\n",
              "10. 5\n",
              "11. 4\n",
              "12. 7\n",
              "13. 5\n",
              "14. 5\n",
              "15. 7\n",
              "16. 6\n",
              "17. 4\n",
              "18. 6\n",
              "19. 2\n",
              "20. 6\n",
              "21. 6\n",
              "22. 7\n",
              "23. 5\n",
              "24. 8\n",
              "25. 5\n",
              "26. 4\n",
              "27. 3\n",
              "28. 8\n",
              "29. 6\n",
              "30. 2\n",
              "31. 5\n",
              "32. 4\n",
              "33. 6\n",
              "34. 7\n",
              "35. 6\n",
              "36. 8\n",
              "37. 9\n",
              "38. 4\n",
              "39. 8\n",
              "40. 5\n",
              "41. 4\n",
              "42. 7\n",
              "43. 6\n",
              "44. 6\n",
              "45. 7\n",
              "46. 6\n",
              "47. 7\n",
              "48. 7\n",
              "49. 3\n",
              "50. 6\n",
              "51. 5\n",
              "52. 5\n",
              "53. 2\n",
              "54. 5\n",
              "55. 4\n",
              "56. 6\n",
              "57. 7\n",
              "58. 3\n",
              "59. 8\n",
              "60. 9\n",
              "61. 3\n",
              "62. 6\n",
              "63. 6\n",
              "64. 9\n",
              "65. 5\n",
              "66. 4\n",
              "67. 5\n",
              "68. 6\n",
              "69. 6\n",
              "70. 3\n",
              "71. 7\n",
              "72. 4\n",
              "73. 7\n",
              "74. 6\n",
              "75. 3\n",
              "76. 6\n",
              "77. 6\n",
              "78. 7\n",
              "79. 5\n",
              "80. 2\n",
              "81. 3\n",
              "82. 6\n",
              "83. 4\n",
              "84. 7\n",
              "85. 5\n",
              "86. 7\n",
              "87. 3\n",
              "88. 6\n",
              "89. 7\n",
              "90. 7\n",
              "91. 6\n",
              "92. 7\n",
              "93. 6\n",
              "94. 9\n",
              "95. 6\n",
              "96. 7\n",
              "97. 7\n",
              "98. 6\n",
              "99. 6\n",
              "100. 9\n",
              "\n",
              "\n"
            ],
            "text/plain": [
              "  [1]  8  3  4  4 10  2  4  6  4  5  4  7  5  5  7  6  4  6  2  6  6  7  5  8  5\n",
              " [26]  4  3  8  6  2  5  4  6  7  6  8  9  4  8  5  4  7  6  6  7  6  7  7  3  6\n",
              " [51]  5  5  2  5  4  6  7  3  8  9  3  6  6  9  5  4  5  6  6  3  7  4  7  6  3\n",
              " [76]  6  6  7  5  2  3  6  4  7  5  7  3  6  7  7  6  7  6  9  6  7  7  6  6  9"
            ]
          },
          "metadata": {},
          "output_type": "display_data"
        },
        {
          "name": "stdout",
          "output_type": "stream",
          "text": [
            "\n",
            "En los diez mil experimentos, se detecto correctamente a la mejor jugadora la cantidad de veces: 1450"
          ]
        }
      ],
      "source": [
        "set.seed( 102191 )\n",
        "\n",
        "# calcula cuantos encestes logra una jugadora con indice de enceste prob\n",
        "# haciendo qyt tiros libres\n",
        "\n",
        "ftirar  <- function( prob, qty ){\n",
        "  return( sum( runif(qty) < prob ) )\n",
        "}\n",
        "\n",
        "# defino las jugadoras\n",
        "taurasi    <- 0.7\n",
        "peloton    <- ( 501:599 ) / 1000\n",
        "jugadoras  <- c( taurasi, peloton )\n",
        "\n",
        "\n",
        "# hago que las 100 jugadoras tiren 10 veces cada una\n",
        "mapply( ftirar, jugadoras, 10 )\n",
        "\n",
        "primera_ganadora  <- 0\n",
        "\n",
        "for( i in 1:10000 ){  # diez mil experimentos\n",
        "\n",
        "  vaciertos  <- mapply( ftirar, jugadoras, 10 )  # 10 tiros libres cada jugadora\n",
        "\n",
        "  mejor  <- which.max( vaciertos )\n",
        "  if( mejor == 1 )  primera_ganadora  <- primera_ganadora + 1\n",
        "}\n",
        "\n",
        "cat(\"\\n\")\n",
        "cat( \"En los diez mil experimentos, se detecto correctamente a la mejor jugadora la cantidad de veces:\", primera_ganadora )\n"
      ]
    },
    {
      "cell_type": "markdown",
      "metadata": {
        "id": "Ctw9S6A17w4f"
      },
      "source": [
        "Aquí ya pasa algo asombroso, el overfitting en todo su esplendor.\n",
        "Si hago tirar 10 tiros libres a cada uno de las 100 jugadoras, apenas 1450 veces de las 10000 este método  devuelve a la verdadera mejor, que es la jugadora con un índice de enceste de 0.70\n",
        "\n",
        "Intuitivamente, lo que está sucediendo es que la inmensa mayoría de las veces, una de las 99 jugadoras del pelotón tiene mucha suerte y supera a la jugadora de 0.70, con lo cual se elige a una del pelotón y no a la verdadera mejor !  \n",
        "<br>El tener 99 jugadoras en el pelotón hace que al ser tantas hay varias que tienen mala suerte, pero también hay varias con muy buena suerte, y la que tuvo más suerte supera a la verdadera mejor !\n"
      ]
    },
    {
      "cell_type": "markdown",
      "metadata": {
        "id": "B0uks59u792r"
      },
      "source": [
        "### 2.4 Nueva ronda\n",
        "\n",
        "Ahora pasemos a ver aún algo más notable.\n",
        "Tenemos a nuestra jugadora de 0.70, y a las 99 jugadoras del pelotón.\n",
        "1.  Las hacemos tirar a cada una 10 tiros libres, y elegimos a la ganadora registrando cuántos aciertos tuvo\n",
        "2.  Solo a esa ganadora la hacemos tirar una nueva ronda de 10 tiros libres\n",
        "3.  Finalmente comparamos estos nuevos aciertos con los originales.\n"
      ]
    },
    {
      "cell_type": "code",
      "execution_count": 51,
      "metadata": {
        "id": "3o6MUbsqUOPe",
        "vscode": {
          "languageId": "r"
        }
      },
      "outputs": [
        {
          "name": "stdout",
          "output_type": "stream",
          "text": [
            "Mejor \t Aciertos Ganadora \t Nueva Ronda \n"
          ]
        },
        {
          "name": "stdout",
          "output_type": "stream",
          "text": [
            "  5 \t\t 10 \t\t     5 \n",
            "  22 \t\t 8 \t\t     7 \n",
            "  20 \t\t 9 \t\t     5 \n",
            "  3 \t\t 9 \t\t     7 \n",
            "  52 \t\t 9 \t\t     5 \n",
            "  26 \t\t 9 \t\t     7 \n",
            "  9 \t\t 10 \t\t     3 \n",
            "  11 \t\t 9 \t\t     5 \n",
            "  51 \t\t 10 \t\t     7 \n",
            "  21 \t\t 8 \t\t     2 \n"
          ]
        }
      ],
      "source": [
        "set.seed( 102191 )\n",
        "\n",
        "# calcula cuantos encestes logra una jugadora con indice de enceste prob\n",
        "# haciendo qyt tiros libres\n",
        "\n",
        "ftirar  <- function( prob, qty ){\n",
        "  return( sum( runif(qty) < prob ) )\n",
        "}\n",
        "\n",
        "\n",
        "# defino los jugadoras\n",
        "taurasi <-  0.7\n",
        "peloton    <-  ( 501:599 ) / 1000\n",
        "jugadoras  <-  c( taurasi, peloton )\n",
        "\n",
        "\n",
        "cat(\"Mejor\", \"\\t\", \"Aciertos Ganadora\", \"\\t\", \"Nueva Ronda\", \"\\n\")\n",
        "\n",
        "for( i in 1:10 ){\n",
        "  vaciertos  <- mapply( ftirar, jugadoras, 10 )  # cada jugadora tira 10 tiros libres\n",
        "  mejor  <- which.max( vaciertos )\n",
        "  aciertos_torneo  <- vaciertos[ mejor ]\n",
        "\n",
        "  aciertos_segunda  <- ftirar( jugadoras[ mejor ], 10 )\n",
        "\n",
        "  cat(\" \", mejor, \"\\t\\t\", aciertos_torneo, \"\\t\\t    \", aciertos_segunda, \"\\n\" )\n",
        "}"
      ]
    },
    {
      "cell_type": "markdown",
      "metadata": {
        "id": "fFOmnBma8Fuf"
      },
      "source": [
        "Lo que se observa en este caso es “La maldición del ganador”, la performance que la jugadora que logró más aciertos en la competencia general luego NO LA PUEDE MANTENER, en todos los casos vemos que en la nueva ronda de diez tiene menos aciertos que en la primera ronda de diez.\n",
        "\n",
        "La primera ronda  la jugadora que resultó ganadora fue debido a la suerte, y esa suerte ya no la acompaña para la segunda ronda de 10 tiros libres.\n",
        "\n",
        "Relacionado con las competencias Kaggle, una forma de pensar esto es  \"¿Cómo le va a ir al mejor modelo del Public Leaderboard en el Private?\" ,  esta es la razón por la que los puntajes que vemos en el Private son inferiores al Public.\n",
        "La primer ronda puede verse como quedarnos con el mejor modelo del Public Leaderboard, la nueva ronda es como le va a ese modelo en el Private Leaderboard. Elegir el mejor modelo del Public, suele ser una pésima estrategia."
      ]
    },
    {
      "cell_type": "markdown",
      "metadata": {
        "id": "yvPC7A4x9fPl"
      },
      "source": [
        "### El overfitting en su plenitud\n",
        "\n",
        "¿Cuándo es más extremo el efecto de “La maldición del ganador” ?\n",
        "<br> Supongamos por un momento que ahora, en otro pueblo,  tenemos 100 jugadoras nuevas, todas con un “índice de enceste” de 0.70 ;  recordar que ese valor jamás es conocido por la cazatalentos.\n",
        "\n",
        "Ahora nos ponemos más estrictos, y las hacemos tirar 100 veces a cada una, elegimos a la ganadora, y solo a esa ganadora la hacemos tirar 100 nuevos tiros libres.\n",
        "\n",
        "Podemos pensarlo como que la cazatalentos se lleva a la mejor jugadora a la gran ciudad, le habla maravillas de ella a la entrenadora, y la entrenadora dice “probémosla a ver si es tan buena como decís, que haga 100 tiros libres aquí y ahora”"
      ]
    },
    {
      "cell_type": "code",
      "execution_count": 48,
      "metadata": {
        "id": "Ro2WAmmi9vGq",
        "vscode": {
          "languageId": "r"
        }
      },
      "outputs": [
        {
          "name": "stdout",
          "output_type": "stream",
          "text": [
            "Mejor \t Aciertos Ganadora \t Nueva Ronda \n",
            "  57 \t\t 82 \t\t      68 \n",
            "  22 \t\t 82 \t\t      78 \n",
            "  52 \t\t 83 \t\t      78 \n",
            "  48 \t\t 79 \t\t      64 \n",
            "  43 \t\t 82 \t\t      69 \n",
            "  25 \t\t 81 \t\t      73 \n",
            "  1 \t\t 78 \t\t      71 \n",
            "  2 \t\t 80 \t\t      69 \n",
            "  12 \t\t 82 \t\t      61 \n",
            "  77 \t\t 80 \t\t      73 \n"
          ]
        }
      ],
      "source": [
        "set.seed( 102191 )\n",
        "\n",
        "# calcula cuantos encestes logra una jugadora con indice de enceste prob\n",
        "# que hace qyt tiros libres\n",
        "\n",
        "ftirar  <- function( prob, qty ){\n",
        "  return( sum( runif(qty) < prob ) )\n",
        "}\n",
        "\n",
        "# defino los jugadoras\n",
        "jugadoras  <- rep( 0.7, 100 )\n",
        "\n",
        "suma_diferencias <- 0\n",
        "\n",
        "cat(\"Mejor\",\"\\t\", \"Aciertos Ganadora\", \"\\t\", \"Nueva Ronda\", \"\\n\")\n",
        "for( i in 1:10 ){\n",
        "  vaciertos  <- mapply( ftirar, jugadoras, 100 )  # cada jugadora tira 100 tiros libres\n",
        "  mejor  <- which.max( vaciertos )\n",
        "  aciertos_torneo  <- vaciertos[ mejor ]\n",
        "\n",
        "  aciertos_segunda  <- ftirar( jugadoras[ mejor ], 100 )\n",
        "\n",
        "  cat(\" \", mejor, \"\\t\\t\", aciertos_torneo, \"\\t\\t     \", aciertos_segunda,\"\\n\")\n",
        "}"
      ]
    },
    {
      "cell_type": "markdown",
      "metadata": {
        "id": "XjDoJam6Bi30"
      },
      "source": [
        "Nuevamente vemos, que el puntaje alcanzado por la mejor jugadora cuando compitió contra las otras 99,  NO ES VUELTO A ALCANZAR  en la nueva ronda de 100 tiros libres que hace esa jugadora.\n",
        "<br>Este efecto es exactamente el mismo que vemos cuando alguien se empecina en lograr en el Leaderboard Público el mayor puntaje de la clase,  le va muy bien en el Público, pero se derrumba catastróficamente en el Privado.\n",
        "<br>Decimos que  “overfitió / sobreajustó el Leaderboard Publico”."
      ]
    },
    {
      "cell_type": "markdown",
      "metadata": {
        "id": "y3VZbvqTBuPq"
      },
      "source": [
        "### 2.5 medida de la diferencia\n",
        "\n",
        "Ahora nos preguntamos, en este caso, en promedio, cuanto más aciertos tiene la ganadora (debido a la suerte)  en la primera ronda  con respecto a la segunda ?\n"
      ]
    },
    {
      "cell_type": "code",
      "execution_count": 34,
      "metadata": {
        "id": "c2i376B9BzHX",
        "vscode": {
          "languageId": "r"
        }
      },
      "outputs": [
        {
          "name": "stdout",
          "output_type": "stream",
          "text": [
            "Diferencia promedio: 11.0609"
          ]
        }
      ],
      "source": [
        "set.seed( 102191 )\n",
        "\n",
        "# calcula cuantos encestes logra una jugadora con indice de enceste prob\n",
        "# que hace qyt tiros libres\n",
        "\n",
        "ftirar  <- function( prob, qty ){\n",
        "  return( sum( runif(qty) < prob ) )\n",
        "}\n",
        "\n",
        "# defino las jugadoras\n",
        "jugadoras  <- rep( 0.7, 100 )\n",
        "\n",
        "suma_diferencias <- 0\n",
        "\n",
        "for( i in 1:10000 ){\n",
        "  vaciertos  <- mapply( ftirar, jugadoras, 100 )  # cada jugador tira 100 tiros libres\n",
        "  mejor  <- which.max( vaciertos )\n",
        "  aciertos_torneo  <- vaciertos[ mejor ]\n",
        "\n",
        "  aciertos_segunda  <- ftirar( jugadoras[mejor], 100 )\n",
        "\n",
        "  suma_diferencias  <- suma_diferencias +  (aciertos_torneo - aciertos_segunda )\n",
        "}\n",
        "\n",
        "cat( \"Diferencia promedio:\",  suma_diferencias / 10000 )"
      ]
    },
    {
      "cell_type": "markdown",
      "metadata": {
        "id": "J8DD6d8qBzaF"
      },
      "source": [
        "Exactamente este mismo efecto se da en el marketing digital.  Si en un A/B testing se prueban cien alternativas y se elige a la que tiene más efectividad, se observará que en un nuevo experimento disminuirá el rendimiento de esa alternativa.\n",
        "\n",
        "También sucede si se prueban muchos medicamentos al mismo tiempo,   el que resulte más efectivo disminuirá su efectividad en la nueva prueba.\n",
        "\n",
        "Este problema es llamado “El problema de las múltiples comparaciones”"
      ]
    },
    {
      "cell_type": "markdown",
      "metadata": {
        "id": "tkt4OngiCI_O"
      },
      "source": [
        "### 2.6 una sola jugadora MUY buena\n",
        "\n",
        "Sexto caso,  ¿cuándo se atenúa/desaparece  el overfitting?\n",
        "Supongamos 99 jugadoras con un índice de enceste de 0.60   y  ahora sumamos a la adolescente Diana Taurasi con su superlativo índice de enceste del 0.85\n",
        "Los hacemos tirar a todas 100 tiros libres, llevamos a la ganadora a la gran ciudad, y allí le contamos a la entrenadora de nuestra ganadora Diana Taurasi."
      ]
    },
    {
      "cell_type": "code",
      "execution_count": 43,
      "metadata": {
        "id": "o0N0WPw84JCR",
        "vscode": {
          "languageId": "r"
        }
      },
      "outputs": [
        {
          "name": "stdout",
          "output_type": "stream",
          "text": [
            "Mejor \t Aciertos Ganadora \t Nueva Ronda \n"
          ]
        },
        {
          "name": "stdout",
          "output_type": "stream",
          "text": [
            "  1 \t\t 88 \t\t      91 \n",
            "  1 \t\t 85 \t\t      86 \n",
            "  1 \t\t 79 \t\t      91 \n",
            "  1 \t\t 86 \t\t      81 \n",
            "  1 \t\t 87 \t\t      87 \n",
            "  1 \t\t 84 \t\t      84 \n",
            "  1 \t\t 86 \t\t      83 \n",
            "  1 \t\t 87 \t\t      86 \n",
            "  1 \t\t 85 \t\t      77 \n",
            "  1 \t\t 92 \t\t      83 \n"
          ]
        }
      ],
      "source": [
        "set.seed( 102191 )\n",
        "\n",
        "# calcula cuantos encestes logra una jugadora con indice de enceste prob\n",
        "# que hace qyt tiros libres\n",
        "\n",
        "ftirar  <- function( prob, qty ){\n",
        "  return( sum( runif(qty) < prob ) )\n",
        "}\n",
        "\n",
        "\n",
        "# defino las jugadoras\n",
        "taurasi    <- 0.85\n",
        "peloton   <- rep( 0.6, 99 )  # jugadoras identicas\n",
        "jugadoras <- c( taurasi, peloton )\n",
        "\n",
        "\n",
        "cat(\"Mejor\", \"\\t\", \"Aciertos Ganadora\", \"\\t\", \"Nueva Ronda\", \"\\n\")\n",
        "\n",
        "for( i in 1:10 ){\n",
        "  vaciertos  <- mapply( ftirar, jugadoras, 100 )  # cada jugadora tira 100 tiros libres\n",
        "  mejor  <- which.max( vaciertos )\n",
        "  aciertos_torneo  <- vaciertos[ mejor ]\n",
        "\n",
        "  aciertos_segunda  <- ftirar( jugadoras[ mejor ], 100 )\n",
        "\n",
        "  cat(\" \", mejor, \"\\t\\t\", aciertos_torneo, \"\\t\\t     \", aciertos_segunda, \"\\n\" )\n",
        "}"
      ]
    },
    {
      "cell_type": "markdown",
      "metadata": {
        "id": "JEiveN8aCSFQ"
      },
      "source": [
        "En este caso observamos dos cosas, en primer lugar SIEMPRE la ganadora del torneo fue Diana Taurasi, y en segundo  cuando tuvo que mostrar en la ciudad su performance, fue la misma que en el primer torneo.  \n",
        "<br>Es tan buena Taurasi que le ganó a la que tuvo más suerte del pelotón, el efecto suerte no está afectando a Taurasi porque está sola, y gana por su superioridad, no por la suerte."
      ]
    },
    {
      "cell_type": "markdown",
      "metadata": {
        "id": "BYnlNCcdC3Aa"
      },
      "source": [
        "### 2.7 Efectos del tamaño de la ronda\n",
        "\n",
        "La cazatalentos llega ahora a un pueblo donde hay 100 jugadoras las que son mucho más parejas entre sí desde el punto de vista del ratio de enceste.\n",
        "Hay un jugadora, que llamaremos jugadora 1 que tiene un “índice de enceste” de  0.70 ,  es una jugadora buena pero dista mucho de ser Diana Taurasi, jamás estará en el \"WNBA Hall of Fame\".\n",
        "\n",
        "Las 99 jugadoras restantes que llamaremos “el pelotón”  tienen los índices de enceste  { 0.501, 0.0502, 0.503, …, 0.599  }  Es decir la jugadora 1 tiene 0.70 y la mejor jugadora del pelotón tiene 0.599,  o sea hay un poco más de 0.10 de diferencia.  La diferencia de 0.10 es significativa en basket.\n",
        "\n",
        "¿Cuántos tiros libres debe la cazatalentos pedirles que haga cada jugadora para que  si elige a la mejor jugadora tiene la certeza de llevarse a “la verdadero mejor” el 99% de los casos ?\n"
      ]
    },
    {
      "cell_type": "code",
      "execution_count": null,
      "metadata": {
        "id": "9lAZ2JWjC_7S",
        "vscode": {
          "languageId": "r"
        }
      },
      "outputs": [
        {
          "name": "stdout",
          "output_type": "stream",
          "text": [
            "10 \t 0.0299 \n",
            "20 \t 0.0868 \n",
            "50 \t 0.268 \n",
            "100 \t 0.5448 \n",
            "200 \t 0.8532 \n",
            "300 \t 0.9579 \n",
            "400 \t 0.9877 \n",
            "415 \t 0.9911 \n",
            "500 \t 0.9964 \n",
            "600 \t 0.9995 \n",
            "700 \t 0.9999 \n",
            "1000 \t 1 \n"
          ]
        }
      ],
      "source": [
        "# intencionalmente la mejor jugadora va al final de la lista de jugadoras porque la funcion which.max() de R hace trampa\n",
        "# si hay un empate ( dos máximos) se queda con la que esta primera en el vector\n",
        "set.seed( 102191 )\n",
        "\n",
        "# calcula cuantos encestes logra una jugadora con indice de enceste prob\n",
        "# que hace qyt tiros libres\n",
        "ftirar  <- function( prob, qty ){\n",
        "  return( sum( runif(qty) < prob ) )\n",
        "}\n",
        "\n",
        "# defino los jugadoras\n",
        "taurasi    <- 0.7\n",
        "peloton    <- ( 501:599 ) / 1000\n",
        "jugadoras  <- c( peloton, taurasi) # intencionalmente la mejor esta al final\n",
        "\n",
        "for( tiros_libres in c(10, 20, 50, 100, 200, 300, 400, 415, 500, 600, 700, 1000 ) ){\n",
        "  ultima_ganadora <- 0\n",
        "\n",
        "  for( i in 1:10000 ) { # diez mil experimentos\n",
        "    vaciertos  <- mapply( ftirar, jugadoras, tiros_libres )\n",
        "    mejor  <- which.max( vaciertos )\n",
        "\n",
        "    if( mejor == 100 )  ultima_ganadora  <- ultima_ganadora + 1\n",
        "  }\n",
        "\n",
        "  cat( tiros_libres, \"\\t\", ultima_ganadora/10000, \"\\n\" )\n",
        "}"
      ]
    },
    {
      "cell_type": "markdown",
      "metadata": {
        "id": "nusfuHtqDEF3"
      },
      "source": [
        "Haciendo tirar 415 tiros libres a cada una de los 100 jugadoras, y quedándose con la ganadora de ese torneo, en el 99.10% (0.9910) de los casos se está segura que esa es \"la verdadera mejor\".\n"
      ]
    },
    {
      "cell_type": "markdown",
      "metadata": {
        "id": "MJE_DbTMDI2x"
      },
      "source": [
        "## 3 Conclusiones\n",
        "\n",
        "El overfitting aparece cuando se comparan muchas jugadoras (modelos predictivos)  muy parecidas entre sí.  \n",
        "<br> En el modelado predictivo es la situación más común que se tengan modelos con similar poder predictivo ya que generalmente solo difieren apenas en valores de los hiperparámetros o algunas columnas nuevas con feature engineering.\n",
        "\n",
        "Las jugadoras no son determinísticas, sino probabilísticas, con lo cual al comparar muchas parecidas la ganadora es quien además de su talento tuvo más suerte en ese torneo.  La jugadora ganadora ganó por mera suerte, y  NO puede sostener esa suerte en un nuevo torneo, por lo que el puntaje del primer torneo es mentiroso, no se sostiene en el nuevo torneo.\n",
        "\n",
        "El overfitting se atenúa o puede llegar a desaparecer del todo, si en el torneo hay una jugadora ampliamente superior al resto. Esa jugadora SI mantiene su performance de un torneo al otro, ya que su puntaje en el primer torneo fue alto porque es realmente buena, porque no es el máximo de muchos parecidas a ella.\n",
        "\n",
        "La forma de combatir el overfitting es hacer torneos de muchos tiros libres. Para estimar que tan buena es la jugadora ganadora de un torneo, hay que hacerla tirar nuevamente tiros libres. El secreto está en hacer más de un torneo.\n"
      ]
    },
    {
      "cell_type": "markdown",
      "metadata": {
        "id": "on4_A7v8Fn8q"
      },
      "source": [
        "## 4 Desafio Cazatalentos Ordenamiento"
      ]
    },
    {
      "cell_type": "markdown",
      "metadata": {
        "id": "6CRZMyXzDOj8"
      },
      "source": [
        "### 4.1 Enunciado\n",
        "\n",
        "Se reúne la entrenadora  en la gran ciudad con algunas cazatalentos que visitaron regiones distintas.\n",
        "\n",
        "Entrenadora:  Bienvenidas a todas, veo que cada una de ustedes ha traído la estadística de su candidata. Sin embargo, yo debo ordenarlas de mejor a peor, y no me alcanza con que dos de ustedes me digan que que sus candidatas encestaron 80/100, necesito que me relaten exactamente el procedimiento que han seguido para elegir a la mejor jugadora.\n",
        "\n",
        "Cazatalentos 1:  Discúlpeme entrenadora, si dos de nosotras le presentamos casos que en distintos pueblos han encestado exactamente 80 de 100, probabilisticamente esas adolescentes son equivalentes. Es cierto que luego aquí en la gran ciudad el dia de la prueba una podrá encestar 77 de 100, la otra 83,  pero eso es la parte natural del random, ya sabemos que la distribución es binomial.  Ambas son equivalentes, no importa que pasó con el resto de las jugadoras de su pueblo.\n",
        "\n",
        "Entrenadora: Estimada “Cazatalentos 1”  tú estas equivocada, no consideras El Problema de las Multiples Comparaciones; elegir cuales de esas adolescentes vendrán a la gran ciudad a ser evaluadas es mi decisión. Comienza tú contando detalladamente el proceso que has seguido.\n",
        "\n"
      ]
    },
    {
      "cell_type": "markdown",
      "metadata": {
        "id": "qrBHwlb-D8Aq"
      },
      "source": [
        "**Cazatalentos 1**: Llegué a la localidad habían 100 adolescentes en el gimnasio, hice tirar a cada una 100 tiros, solo una obtuvo 80 aciertos, luego un par 79, otro par 78, y así descendían. La que logró 80 aciertos es mi candidata.\n"
      ]
    },
    {
      "cell_type": "markdown",
      "metadata": {
        "id": "2aqYKT53EbOf"
      },
      "source": [
        "**Cazatalentos 2:** Llegué a una pequeña ciudad y habían 200 adolescentes en el gimnasio, hice tirar a cada una 100 tiros, solo una obtuvo 80 aciertos, seis 79,  cinco 78, y así descendían. La que logró 80 aciertos es mi candidata."
      ]
    },
    {
      "cell_type": "markdown",
      "metadata": {
        "id": "qVVDhqLLEdsG"
      },
      "source": [
        "**Cazatalentos 3:** Yo poseo 25 años de experiencia como cazatalentos y tengo muy buena intuición  para detectar el talento. Llegué a un pueblo donde habían 100 adolescentes, me senté en las gradas del gimnasio y las observé detenidamente mientras precalentaban sin tirar al aro.  A los 10 minutos, me paro, y señalo a una de ellas y le digo :  'tú, la número 13, a tirar 100 tiros; el resto gracias por haber venido pero se pueden ir cada una a su casa”. Y ahí al tirar esos 100 tiros logró 80 aciertos y esa es mi candidata."
      ]
    },
    {
      "cell_type": "markdown",
      "metadata": {
        "id": "fLGg_pXHElSG"
      },
      "source": [
        "**Cazatalentos 4:** Llegué a minúsculo pueblo con un aro reglamentario en la pared de una escuela, habían solamente 2 adolescentes, hice tirar a cada una 100 tiros, una obtuvo 80 y la otra 75."
      ]
    },
    {
      "cell_type": "markdown",
      "metadata": {
        "id": "JGNSv31_EsZA"
      },
      "source": [
        "**Cazatalentos 5:** Le dice a la entrenadora : “fui a una localidad de 500 habitantes, había una sola adolescente interesada, la hice tirar 100 tiros libres, y encestó 80,  tengo una filmación con mi celular de los 100 tiros, sin edición ni cortes”\n",
        "En realidad, esa adolescente es la sobrina de la cazatalentos, la hizo tirar 10 rondas de 100 tiros cada una, grabó todas, pero tramposamente solo trae la grabación de la mejor ronda a la entrenadora.\n",
        "Los resultados obtenidos por su sobrina son\n",
        "\n",
        "\n",
        "| ronda | Tiros | Encestes |\n",
        "| ---: | ---: | ---: |\n",
        "| 1 | 100 | 68 |\n",
        "| 2 | 100 | 74 |\n",
        "| 3 | 100 | 78 |\n",
        "| 4 | 100 | 70 |\n",
        "| 5 | 100 | 68 |\n",
        "| 6 | 100 | 63 |\n",
        "| 7 | 100 | 80 |\n",
        "| 8 | 100 | 68 |\n",
        "| 9 | 100 | 67 |\n",
        "| 10 | 100 | 65 |\n",
        "\n",
        "\n",
        "(esta deshonestidad de la Cazatalentos 5 no debería parecerle extraña ni causarle gracia, es exactamente lo mismo que elegir como submit final el que le fue mejor en el Public Leaderboard,  algo muy común entre l@s alumn@s ...). Por una persona espía en el pueblo, la entrenadora está al tanto de lo ocurrido y conoce la tabla anterior, usará dicha información para tomar la decisión, aunque no le dirá nada, por esta vez, a la cazatalentos."
      ]
    },
    {
      "cell_type": "markdown",
      "metadata": {
        "id": "UvQMpoD6BZCB"
      },
      "source": [
        "**Cazatalentos 6:** Yo disiento con utilizar sesgos como lo hizo la Cazatalentos 3, creo que se deben dar oportunidades inesperadas. Camino al pueblo escuché en la radio los resultados de la quiniela matutina y el 43 fue el numero ganador.\n",
        "\n",
        "Llegué al gimnasio, habia 100 adolescentes, les explique que iba a utilizar criterios objetivos y subjetivos para elegir a la ganadora.  Las hice tirar 100 tiros a todas,  sin embargo ya tenía la decisión tomada de antemano, elegí a la numero 43, quien hizo 79 encestes de 100 tiros.\n",
        "Ni siquiera registré en mi tablet los encestes del resto, quería dar una oportunidad random a una de esas chicas."
      ]
    },
    {
      "cell_type": "markdown",
      "metadata": {
        "id": "mcBONyY9-KNE"
      },
      "source": [
        "**Cazatalentos 7:** Llegué a la localidad habían 100 adolescentes en el gimnasio, todo perfectamente organizado por la dirección, hice tirar a cada una 100 tiros, solo una obtuvo 80 aciertos, luego un par 79, otro par 78, y así descendían. La que logró 80 aciertos era hasta ese momento mi candidata.\n",
        "<br> Estaba subiendo ya a mi automovil para retirarme, y llega corriendo una nueva adolescente. Me relata que vive en un pequeño paraje sin gimnasio a 60 kilómetros al norte, que tenía una cita con otra cazatalentos, la única adolescente de ese paraje, pero que por un terrible accidente de tránsito en un puente, la otra cazatalentos no pudo llegar a testearla, y le refirió que yo estaraía en este pueblo por lo que hacieno dedo llegó hasta aquí.\n",
        "<br> Con un llamado corroboré su historia, y como estaba con tiempo, reingresé al gimnasio y le hice tirar 100 tiros libres, de los cuales encestó 79.\n",
        "<br> Estoy presentando como mi candidata a esta adolescente de último momento de 79 encestes (y no la previa de 80)."
      ]
    },
    {
      "cell_type": "markdown",
      "metadata": {
        "id": "PRWG_L4tF0Ip"
      },
      "source": [
        "### 4.2 Desafio\n",
        "\n",
        "Podemos suponer que la supertalentosa Diana Taurasi con su “índice de enceste” del 0.85 es superior a todas las jugadoras evaluadas en los pueblos por las cazatalentos.\n",
        "\n",
        "Desafío : ¿Si usted fuera la entrenadora, como ordena el valor esperado de encestes en una ronda de 100 tiros libres  a cada una de las candidatas propuestas por las cinco cazatalentos ?\n",
        "\n",
        "\n",
        "donde   Ci  < Cj   sii   prob(  #Encestes Ci  <  #Encestes Cj    | 100 tiros cada uno )  >  0.5\n",
        "es decir que, haciendo 100 tiros libres,  más de la mitad de las veces,  Ci va a lograr menos encestes que Cj\n",
        "\n",
        "La entrenadora de la gran ciudad NO quiere traer a la elegida de cada cazatalentos y hacerlas tirar 100 tiros delante de ella para constatar cual logra más encestes en esa ronda. Ella quiere, con la información que le brindó cada cazatalentos sobre el procedimiento y los resultados, elegir la mejor encestadora.\n"
      ]
    },
    {
      "cell_type": "markdown",
      "metadata": {
        "id": "WO9JHCzXF-9w"
      },
      "source": [
        "### 4.3  Reglas del Desafio\n",
        "\n",
        "\n",
        "*  Entrega\n",
        "      * la entrega se realiza con un solo mensaje en Zulip canal #CazaTalentos\n",
        "         * Ordenamiento,  por ejemplo     C3 <  C6 < C5 <  C7 < C1 < C4 < C2\n",
        "         * Explicacion\n",
        "      * Si necesitará apoyarse en scripts para alguna de las comparaciones\n",
        "          * link a carpeta en GitHub\n",
        "      * Podrá enviar varios mensajes, el único que tendrá valor será el último\n",
        "\n",
        "*  Será muy valioso el intercambio de ideas en Zulip channel  #CazaTalentos  topic  Intercambio de Ideas, este desafío suele ser muy polémico.\n",
        "\n",
        "*  La participación en este desafío es opcional.\n"
      ]
    },
    {
      "cell_type": "code",
      "execution_count": 87,
      "metadata": {
        "vscode": {
          "languageId": "r"
        }
      },
      "outputs": [
        {
          "name": "stdout",
          "output_type": "stream",
          "text": [
            "C3 > C1=C2=C4 > C6=C7 > C5 \n"
          ]
        }
      ],
      "source": [
        "## ==========================================================\n",
        "## Ranking bayesiano determinístico para 100 tiros futuros\n",
        "## ----------------------------------------------------------\n",
        "## Teoría (resumen):\n",
        "## - Datos: X ~ Binomial(n, p), observamos x aciertos en n tiros.\n",
        "## - Prior neutral: p ~ Beta(1,1) (uniforme en [0,1]).\n",
        "## - Posterior por conjugación: p | datos ~ Beta(1+x, 1+n-x).\n",
        "## - Predictiva futura (m=100): Y ~ Beta–Binomial(m, a=post_a, b=post_b).\n",
        "##   => Podemos calcular P(Y=k) exactamente con la pmf Beta–Binomial.\n",
        "## - Criterio de decisión (tu regla): Ci < Cj ssi P(Yi < Yj) > 0.5\n",
        "##   (usamos una pequeña tolerancia numérica 'tol' para empates).\n",
        "## ==========================================================\n",
        "\n",
        "## ---- 1) Datos (x, n) de tus 7 candidatas ----\n",
        "datos <- data.frame(\n",
        "  id = c(\"C1\",\"C2\",\"C3\",\"C4\",\"C5\",\"C6\",\"C7\"),\n",
        "  x  = c( 80 ,  80 ,  80 ,  80 , 701 ,  79 ,  79 ),\n",
        "  n  = c( 100,  100,  100,  100, 1000,  100,  100),\n",
        "  stringsAsFactors = FALSE\n",
        ")\n",
        "\n",
        "## ---- 2) Prior explícito (por defecto Beta(1,1) para todas) ----\n",
        "alpha <- rep(1, nrow(datos))\n",
        "beta  <- rep(1, nrow(datos))\n",
        "\n",
        "## (Opcional) Prior especial para C3:\n",
        "## Elegí la media previa mu0 y la \"fuerza\" s (≈ tiros equivalentes del prior)\n",
        "mu0 <- 0.80   # media previa deseada para C3\n",
        "s   <- 20     # \"fuerza\" del prior (alpha+beta)\n",
        "alpha[datos$id == \"C3\"] <- mu0 * s      # 16\n",
        "beta [datos$id == \"C3\"] <- (1 - mu0) * s # 4\n",
        "\n",
        "post_a <- alpha + datos$x\n",
        "post_b <- beta  + (datos$n - datos$x)\n",
        "\n",
        "m   <- 100         # tiros futuros\n",
        "tol <- 1e-8        # tolerancia para decidir empates (~0.5)\n",
        "\n",
        "## ---- 3) pmf Beta–Binomial exacta: P(Y=k) ----\n",
        "dbetabinom <- function(k, m, a, b) {\n",
        "  # P(Y=k) = C(m,k) * B(k+a, m-k+b) / B(a,b)\n",
        "  exp(lchoose(m, k) + lbeta(k + a, m - k + b) - lbeta(a, b))\n",
        "}\n",
        "\n",
        "## ---- 4) Probabilidades comparativas exactas entre pares ----\n",
        "## Devuelve P(Yi<Yj), P(Yi=Yj), P(Yi>Yj)\n",
        "pair_probs <- function(a_i, b_i, a_j, b_j, m=100) {\n",
        "  pmf_i <- sapply(0:m, dbetabinom, m=m, a=a_i, b=b_i)\n",
        "  pmf_j <- sapply(0:m, dbetabinom, m=m, a=a_j, b=b_j)\n",
        "  cdf_j <- cumsum(pmf_j)\n",
        "  p_less    <- sum(pmf_i * (1 - cdf_j))\n",
        "  p_equal   <- sum(pmf_i * pmf_j)\n",
        "  p_greater <- 1 - p_less - p_equal\n",
        "  c(p_less=p_less, p_equal=p_equal, p_greater=p_greater)\n",
        "}\n",
        "\n",
        "K <- nrow(datos)\n",
        "P_less    <- matrix(0, K, K, dimnames=list(datos$id, datos$id))\n",
        "P_greater <- matrix(0, K, K, dimnames=list(datos$id, datos$id))\n",
        "\n",
        "for (i in 1:K) for (j in 1:K) if (i != j) {\n",
        "  pp <- pair_probs(post_a[i], post_b[i], post_a[j], post_b[j], m)\n",
        "  P_less[i, j]    <- pp[\"p_less\"]     # P(Yi < Yj)\n",
        "  P_greater[i, j] <- pp[\"p_greater\"]  # P(Yi > Yj)\n",
        "}\n",
        "\n",
        "## ---- 5) Construir clases de \"igualdad\" (empate según la regla) ----\n",
        "## Regla: i > j si P_greater[i,j] > 0.5 + tol\n",
        "##        i < j si P_less[i,j]    > 0.5 + tol\n",
        "##        en otro caso, i = j (empate para nuestra decisión)\n",
        "equal_adj <- matrix(FALSE, K, K)\n",
        "for (i in 1:K) for (j in 1:K) if (i != j) {\n",
        "  gt <- (P_greater[i, j] > 0.5 + tol)\n",
        "  lt <- (P_less[i, j]    > 0.5 + tol)\n",
        "  equal_adj[i, j] <- !(gt || lt)\n",
        "}\n",
        "\n",
        "## Encontrar componentes conexas por “igualdad” (grupos i=j)\n",
        "groups <- rep(NA_integer_, K)\n",
        "g_id <- 0\n",
        "for (i in 1:K) if (is.na(groups[i])) {\n",
        "  g_id <- g_id + 1\n",
        "  # BFS/DFS sencillo\n",
        "  stack <- i\n",
        "  groups[i] <- g_id\n",
        "  while (length(stack) > 0) {\n",
        "    u <- stack[1]; stack <- stack[-1]\n",
        "    neigh <- which(equal_adj[u, ] & is.na(groups))\n",
        "    groups[neigh] <- g_id\n",
        "    stack <- c(stack, neigh)\n",
        "  }\n",
        "}\n",
        "\n",
        "## ---- 6) Ordenar las clases por “gana a otros” ----\n",
        "## Definimos \"win\" a nivel individuo: gana si P_greater[i,j] > 0.5 + tol\n",
        "wins_i <- sapply(1:K, function(i) sum(P_greater[i, ] > 0.5 + tol, na.rm=TRUE))\n",
        "\n",
        "## Score de grupo = promedio de wins_i en el grupo\n",
        "group_scores <- tapply(wins_i, groups, mean)\n",
        "\n",
        "## Orden de grupos (descendente por score; desempate por id mínima del grupo)\n",
        "group_ids <- as.integer(names(group_scores))\n",
        "group_order <- order(-group_scores, sapply(group_ids, function(g)\n",
        "  min(which(groups == g)))\n",
        ")\n",
        "\n",
        "## ---- 7) Formatear salida “C1=C2=... > C6=C7 > C5” ----\n",
        "fmt_group <- function(idx) paste(datos$id[idx], collapse=\"=\")\n",
        "\n",
        "ordered_groups <- lapply(group_ids[group_order], function(g) which(groups == g))\n",
        "out_str <- paste(vapply(ordered_groups, fmt_group, character(1)), collapse=\" > \")\n",
        "cat(out_str, \"\\n\")\n"
      ]
    }
  ],
  "metadata": {
    "colab": {
      "provenance": []
    },
    "kernelspec": {
      "display_name": "R",
      "language": "R",
      "name": "ir"
    },
    "language_info": {
      "codemirror_mode": "r",
      "file_extension": ".r",
      "mimetype": "text/x-r-source",
      "name": "R",
      "pygments_lexer": "r",
      "version": "4.4.3"
    }
  },
  "nbformat": 4,
  "nbformat_minor": 0
}

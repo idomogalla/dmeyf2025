{
  "cells": [
    {
      "cell_type": "markdown",
      "metadata": {
        "id": "5DrvzQ9BsXmX"
      },
      "source": [
        "# Comparando Modelos"
      ]
    },
    {
      "cell_type": "markdown",
      "metadata": {
        "id": "Y2U9lu16sgta"
      },
      "source": [
        "Estamos en la  Clase 02\n",
        "<br> El objetivo de la materia es lograr la mejor predicción para nuestro probleama, para lo que se probarán pipelines con decenas de alternativas, será indispensable comparar varios modelos predictivos entre sí y decidir cual es el mejor\n",
        "<br> La tarea no es tan sencilla"
      ]
    },
    {
      "cell_type": "markdown",
      "metadata": {
        "id": "kmLygy1TYPfg"
      },
      "source": [
        "## Seteo del ambiente en Google Colab"
      ]
    },
    {
      "cell_type": "markdown",
      "metadata": {
        "id": "OikOm5K2YU3X"
      },
      "source": [
        "Esta parte se debe correr con el runtime en Python3\n",
        "<br>Ir al menu, Runtime -> Change Runtime Tipe -> Runtime type ->  **Python 3**"
      ]
    },
    {
      "cell_type": "markdown",
      "metadata": {
        "id": "4fmV5LyZdFyI"
      },
      "source": [
        "Conectar la virtual machine donde esta corriendo Google Colab con el  Google Drive, para poder tener persistencia de archivos"
      ]
    },
    {
      "cell_type": "code",
      "execution_count": null,
      "metadata": {
        "colab": {
          "base_uri": "https://localhost:8080/"
        },
        "id": "ilEZ-bE2VybW",
        "outputId": "21ec8f73-5191-4bca-e372-c0780e1e7afc",
        "vscode": {
          "languageId": "r"
        }
      },
      "outputs": [
        {
          "name": "stdout",
          "output_type": "stream",
          "text": [
            "Mounted at /content/.drive\n"
          ]
        }
      ],
      "source": [
        "# primero establecer el Runtime de Python 3\n",
        "from google.colab import drive\n",
        "drive.mount('/content/.drive')"
      ]
    },
    {
      "cell_type": "markdown",
      "metadata": {
        "id": "ilaKtqWldeWg"
      },
      "source": [
        "<br>los siguientes comando estan en shell script de Linux\n",
        "*   Crear las carpetas en el Google Drive\n",
        "*   Bajar el  **competencia_01_crudo**  al  Google Drive  y tambien al disco local de la virtual machine que esta corriendo Google Colab\n",
        "\n"
      ]
    },
    {
      "cell_type": "code",
      "execution_count": null,
      "metadata": {
        "colab": {
          "base_uri": "https://localhost:8080/"
        },
        "id": "W8dQFI5QYCFa",
        "outputId": "95453f36-4f4c-4486-b8b6-dc7ebe47ea38",
        "vscode": {
          "languageId": "r"
        }
      },
      "outputs": [],
      "source": [
        "%%shell\n",
        "\n",
        "mkdir -p \"/content/.drive/My Drive/dmeyf\"\n",
        "mkdir -p \"/content/buckets\"\n",
        "ln -s \"/content/.drive/My Drive/dmeyf\" /content/buckets/b1\n",
        "\n",
        "mkdir -p /content/buckets/b1/exp\n",
        "mkdir -p /content/buckets/b1/datasets\n",
        "mkdir -p /content/datasets\n",
        "\n",
        "archivo_origen=\"https://storage.googleapis.com/open-courses/dmeyf2025-e4a2/competencia_01_crudo.csv\"\n",
        "archivo_destino=\"/content/datasets/competencia_01_crudo.csv\"\n",
        "archivo_destino_bucket=\"/content/buckets/b1/datasets/competencia_01_crudo.csv\"\n",
        "\n",
        "if ! test -f $archivo_destino_bucket; then\n",
        "  wget  $archivo_origen  -O $archivo_destino_bucket\n",
        "fi\n",
        "\n",
        "\n",
        "if ! test -f $archivo_destino; then\n",
        "  cp  $archivo_destino_bucket  $archivo_destino\n",
        "fi"
      ]
    },
    {
      "cell_type": "markdown",
      "metadata": {
        "id": "dseB4qb9RqUb"
      },
      "source": [
        "## Generacion de la clase_ternaria"
      ]
    },
    {
      "cell_type": "markdown",
      "metadata": {
        "id": "LCEnE_02RuIQ"
      },
      "source": [
        "Esta parte se debe correr con el runtime en lenguaje **R** Ir al menu, Runtime -> Change Runtime Tipe -> Runtime type -> R"
      ]
    },
    {
      "cell_type": "code",
<<<<<<< HEAD
      "execution_count": null,
=======
      "execution_count": 5,
>>>>>>> 4c354cd (Actualización del repositorio)
      "metadata": {
        "colab": {
          "base_uri": "https://localhost:8080/"
        },
        "id": "P863YZB9R1Ua",
        "outputId": "b8e7cc61-27ac-4664-eacc-b2de7c3b8290",
        "vscode": {
          "languageId": "r"
        }
      },
      "outputs": [],
      "source": [
<<<<<<< HEAD
        "if(!require(\"data.table\")) install.packages(\"data.table\")\n",
        "require( \"data.table\" )\n",
        "\n",
        "# leo el dataset\n",
        "#dataset <- fread(\"/content/datasets/competencia_01_crudo.csv\")\n",
        "dataset <- fread(\"../../Competencia 01/competencia_01_crudo.csv\")\n",
=======
        "require( \"data.table\" )\n",
        "\n",
        "# leo el dataset\n",
        "#dataset <- fread(\"/content/datasets/competencia_01_crudo.csv\" )\n",
        "dataset <- fread(\"../../Competencia 01/competencia_01_crudo.csv\" )\n",
>>>>>>> 4c354cd (Actualización del repositorio)
        "\n",
        "# calculo el periodo0 consecutivo\n",
        "dsimple <- dataset[, list(\n",
        "    \"pos\" = .I,\n",
        "    numero_de_cliente,\n",
        "    periodo0 = as.integer(foto_mes/100)*12 +  foto_mes%%100 ) ]\n",
        "\n",
        "\n",
        "# ordeno\n",
        "setorder( dsimple, numero_de_cliente, periodo0 )\n",
        "\n",
        "# calculo topes\n",
        "periodo_ultimo <- dsimple[, max(periodo0) ]\n",
        "periodo_anteultimo <- periodo_ultimo - 1\n",
        "\n",
        "\n",
        "# calculo los leads de orden 1 y 2\n",
        "dsimple[, c(\"periodo1\", \"periodo2\") :=\n",
        "    shift(periodo0, n=1:2, fill=NA, type=\"lead\"),  numero_de_cliente ]\n",
        "\n",
        "# assign most common class values = \"CONTINUA\"\n",
        "dsimple[ periodo0 < periodo_anteultimo, clase_ternaria := \"CONTINUA\" ]\n",
        "\n",
        "# calculo BAJA+1\n",
        "dsimple[ periodo0 < periodo_ultimo &\n",
        "    ( is.na(periodo1) | periodo0 + 1 < periodo1 ),\n",
        "    clase_ternaria := \"BAJA+1\" ]\n",
        "\n",
        "# calculo BAJA+2\n",
        "dsimple[ periodo0 < periodo_anteultimo & (periodo0+1 == periodo1 )\n",
        "    & ( is.na(periodo2) | periodo0 + 2 < periodo2 ),\n",
        "    clase_ternaria := \"BAJA+2\" ]\n",
        "\n",
        "\n",
        "# pego el resultado en el dataset original y grabo\n",
        "setorder( dsimple, pos )\n",
        "dataset[, clase_ternaria := dsimple$clase_ternaria ]\n",
        "\n",
        "fwrite( dataset,\n",
        "    #file =  \"/content/datasets/competencia_01.csv.gz\",\n",
        "    file =  \"./competencia_01.csv.gz\",\n",
        "    sep = \",\"\n",
        ")"
      ]
    },
    {
      "cell_type": "code",
      "execution_count": 6,
      "metadata": {
        "colab": {
          "base_uri": "https://localhost:8080/",
          "height": 568
        },
        "id": "S3hL7tv8W4rn",
        "outputId": "55a6ab46-6937-4104-b19c-18e557533506",
        "vscode": {
          "languageId": "r"
        }
      },
      "outputs": [
        {
          "data": {
            "text/html": [
              "<table class=\"dataframe\">\n",
              "<caption>A data.table: 15 × 3</caption>\n",
              "<thead>\n",
              "\t<tr><th scope=col>foto_mes</th><th scope=col>clase_ternaria</th><th scope=col>N</th></tr>\n",
              "\t<tr><th scope=col>&lt;int&gt;</th><th scope=col>&lt;chr&gt;</th><th scope=col>&lt;int&gt;</th></tr>\n",
              "</thead>\n",
              "<tbody>\n",
              "\t<tr><td>202101</td><td>BAJA+1  </td><td>   622</td></tr>\n",
              "\t<tr><td>202101</td><td>BAJA+2  </td><td>   825</td></tr>\n",
              "\t<tr><td>202101</td><td>CONTINUA</td><td>160080</td></tr>\n",
              "\t<tr><td>202102</td><td>BAJA+1  </td><td>   831</td></tr>\n",
              "\t<tr><td>202102</td><td>BAJA+2  </td><td>  1032</td></tr>\n",
              "\t<tr><td>202102</td><td>CONTINUA</td><td>160292</td></tr>\n",
              "\t<tr><td>202103</td><td>BAJA+1  </td><td>  1039</td></tr>\n",
              "\t<tr><td>202103</td><td>BAJA+2  </td><td>   951</td></tr>\n",
              "\t<tr><td>202103</td><td>CONTINUA</td><td>161119</td></tr>\n",
              "\t<tr><td>202104</td><td>BAJA+1  </td><td>   955</td></tr>\n",
              "\t<tr><td>202104</td><td>BAJA+2  </td><td>  1130</td></tr>\n",
              "\t<tr><td>202104</td><td>CONTINUA</td><td>161333</td></tr>\n",
              "\t<tr><td>202105</td><td>NA      </td><td>162783</td></tr>\n",
              "\t<tr><td>202105</td><td>BAJA+1  </td><td>  1134</td></tr>\n",
              "\t<tr><td>202106</td><td>NA      </td><td>164313</td></tr>\n",
              "</tbody>\n",
              "</table>\n"
            ],
            "text/latex": [
              "A data.table: 15 × 3\n",
              "\\begin{tabular}{lll}\n",
              " foto\\_mes & clase\\_ternaria & N\\\\\n",
              " <int> & <chr> & <int>\\\\\n",
              "\\hline\n",
              "\t 202101 & BAJA+1   &    622\\\\\n",
              "\t 202101 & BAJA+2   &    825\\\\\n",
              "\t 202101 & CONTINUA & 160080\\\\\n",
              "\t 202102 & BAJA+1   &    831\\\\\n",
              "\t 202102 & BAJA+2   &   1032\\\\\n",
              "\t 202102 & CONTINUA & 160292\\\\\n",
              "\t 202103 & BAJA+1   &   1039\\\\\n",
              "\t 202103 & BAJA+2   &    951\\\\\n",
              "\t 202103 & CONTINUA & 161119\\\\\n",
              "\t 202104 & BAJA+1   &    955\\\\\n",
              "\t 202104 & BAJA+2   &   1130\\\\\n",
              "\t 202104 & CONTINUA & 161333\\\\\n",
              "\t 202105 & NA       & 162783\\\\\n",
              "\t 202105 & BAJA+1   &   1134\\\\\n",
              "\t 202106 & NA       & 164313\\\\\n",
              "\\end{tabular}\n"
            ],
            "text/markdown": [
              "\n",
              "A data.table: 15 × 3\n",
              "\n",
              "| foto_mes &lt;int&gt; | clase_ternaria &lt;chr&gt; | N &lt;int&gt; |\n",
              "|---|---|---|\n",
              "| 202101 | BAJA+1   |    622 |\n",
              "| 202101 | BAJA+2   |    825 |\n",
              "| 202101 | CONTINUA | 160080 |\n",
              "| 202102 | BAJA+1   |    831 |\n",
              "| 202102 | BAJA+2   |   1032 |\n",
              "| 202102 | CONTINUA | 160292 |\n",
              "| 202103 | BAJA+1   |   1039 |\n",
              "| 202103 | BAJA+2   |    951 |\n",
              "| 202103 | CONTINUA | 161119 |\n",
              "| 202104 | BAJA+1   |    955 |\n",
              "| 202104 | BAJA+2   |   1130 |\n",
              "| 202104 | CONTINUA | 161333 |\n",
              "| 202105 | NA       | 162783 |\n",
              "| 202105 | BAJA+1   |   1134 |\n",
              "| 202106 | NA       | 164313 |\n",
              "\n"
            ],
            "text/plain": [
              "   foto_mes clase_ternaria N     \n",
              "1  202101   BAJA+1            622\n",
              "2  202101   BAJA+2            825\n",
              "3  202101   CONTINUA       160080\n",
              "4  202102   BAJA+1            831\n",
              "5  202102   BAJA+2           1032\n",
              "6  202102   CONTINUA       160292\n",
              "7  202103   BAJA+1           1039\n",
              "8  202103   BAJA+2            951\n",
              "9  202103   CONTINUA       161119\n",
              "10 202104   BAJA+1            955\n",
              "11 202104   BAJA+2           1130\n",
              "12 202104   CONTINUA       161333\n",
              "13 202105   NA             162783\n",
              "14 202105   BAJA+1           1134\n",
              "15 202106   NA             164313"
            ]
          },
          "metadata": {},
          "output_type": "display_data"
        }
      ],
      "source": [
        "setorder( dataset, foto_mes, clase_ternaria, numero_de_cliente)\n",
        "dataset[, .N, list(foto_mes, clase_ternaria)]"
      ]
    },
    {
      "cell_type": "markdown",
      "metadata": {
        "id": "iV32-NeesVp6"
      },
      "source": [
        "# 1  Particion Training/Testing\n",
        "## Clase 02  Experimento 1"
      ]
    },
    {
      "cell_type": "markdown",
      "metadata": {
        "id": "84Pnj9gVwpXB"
      },
      "source": [
        "## 1.1  Objetivos\n",
        "Dado que es el primer experimento de la asignatura, acercar a l@s estudiantes las mejores prácticas de operación del ambiente de Google Cloud, realizando una minuciosa demostración en vivo narrando todas las consideraciones pertinentes para evitar accidentes, daños a terceros y a equipos.\n",
        "Dar soporte en el acto a  l@s estudiantes que necesitan ayuda para terminar de configurar el ambiente Google Cloud .\n",
        "<br>Repaso del concepto de  partición de un dataset al azar, estratificada en la clase\n",
        "<br>Dado que es el primer script que se mostrará en vivo a l@s estudiantes,  realizar una visita guiada del  mismo, su estructura y detalles.\n",
        "<br>Repaso del algoritmo Arbol de Decisión sus hiperparámetros, y la implementación con la librería  rpart.  Funciones  rpart::rpart  y rpart::predict\n",
        "<br>Concepto de replicabilidad de los experimentos mediante las semillas de los generadores de secuencias de números pseudoaleatorios.\n",
        "<br>Finalmente, el principal objetivo de este experimento es lograr que l@s estudiantes dimensionen la enorme variabilidad del error de medición de la ganancia de un árbol de decisión al realizar una partición <training, testing>,  contener la sorpresa de los estudiantes, descartar a la simple particion <training, testing> como método,  y construir en conjunto una solucion natural al problema."
      ]
    },
    {
      "cell_type": "markdown",
      "metadata": {
        "id": "L9Cn0WThw37Y"
      },
      "source": [
        "## 1.2 Introduccion"
      ]
    },
    {
      "cell_type": "markdown",
      "metadata": {
        "id": "ZELZ0R4itUVG"
      },
      "source": [
        "![Particiohn Training/Testing](https://storage.googleapis.com/open-courses/austral2025-af91/labo1r/C2_E1_particion.jpg)"
      ]
    },
    {
      "cell_type": "markdown",
      "metadata": {
        "id": "Wtc1ho58xLk-"
      },
      "source": [
        "![Dos tipos de error](https://storage.googleapis.com/open-courses/austral2025-af91/labo1r/C2_E1_target.jpg)"
      ]
    },
    {
      "cell_type": "markdown",
      "metadata": {
        "id": "oRWtRV34xZRT"
      },
      "source": [
        "## 1.3  Bibliografía\n",
        "\n",
        "Demšar, J. [Statistical comparisons of classifiers over multiple data sets](https://www.jmlr.org/papers/volume7/demsar06a/demsar06a.pdf) J. Mach. Learn. Res. 7, 1–30 (2006).   \n",
        "Starmer, J. [Machine Learning Fundamentals: Cross Validation](https://www.youtube.com/watch?v=fSytzGwwBVw)Machine Learning Fundamentals: Cross Validation, StatQuest with Josh Starmer youtube channel, (2018)\n",
        "Hastie, T.[The elements of statistical learning: data mining, inference, and prediction](https://hastie.su.domains/Papers/ESLII.pdf) , volume 2. Springer, 2009  ( Chapter 7 Model Assessment and Selection )"
      ]
    },
    {
      "cell_type": "markdown",
      "metadata": {
        "id": "VcgTQ2-Pyb8q"
      },
      "source": [
        "## 1.4 Codigo"
      ]
    },
    {
      "cell_type": "markdown",
      "metadata": {
        "id": "SBXPU-_tabMb"
      },
      "source": [
        "Esta parte se debe correr con el runtime en lenguaje **R** Ir al menu, Runtime -> Change Runtime Tipe -> Runtime type -> R"
      ]
    },
    {
      "cell_type": "markdown",
      "metadata": {
        "id": "SE94XRhWsxkX"
      },
      "source": [
        "limpio el ambiente de R"
      ]
    },
    {
      "cell_type": "code",
      "execution_count": 7,
      "metadata": {
        "colab": {
          "base_uri": "https://localhost:8080/",
          "height": 129
        },
        "id": "oZG_4br6szlT",
        "outputId": "9b3a44cf-4771-4d42-9e4b-8481b33d7411",
        "vscode": {
          "languageId": "r"
        }
      },
      "outputs": [
        {
          "data": {
            "text/html": [
              "<table class=\"dataframe\">\n",
              "<caption>A matrix: 2 × 6 of type dbl</caption>\n",
              "<thead>\n",
              "\t<tr><th></th><th scope=col>used</th><th scope=col>(Mb)</th><th scope=col>gc trigger</th><th scope=col>(Mb)</th><th scope=col>max used</th><th scope=col>(Mb)</th></tr>\n",
              "</thead>\n",
              "<tbody>\n",
              "\t<tr><th scope=row>Ncells</th><td> 775006</td><td>41.4</td><td>  1431192</td><td>  76.5</td><td>  1431192</td><td>  76.5</td></tr>\n",
              "\t<tr><th scope=row>Vcells</th><td>1466886</td><td>11.2</td><td>295484634</td><td>2254.4</td><td>369287786</td><td>2817.5</td></tr>\n",
              "</tbody>\n",
              "</table>\n"
            ],
            "text/latex": [
              "A matrix: 2 × 6 of type dbl\n",
              "\\begin{tabular}{r|llllll}\n",
              "  & used & (Mb) & gc trigger & (Mb) & max used & (Mb)\\\\\n",
              "\\hline\n",
              "\tNcells &  775006 & 41.4 &   1431192 &   76.5 &   1431192 &   76.5\\\\\n",
              "\tVcells & 1466886 & 11.2 & 295484634 & 2254.4 & 369287786 & 2817.5\\\\\n",
              "\\end{tabular}\n"
            ],
            "text/markdown": [
              "\n",
              "A matrix: 2 × 6 of type dbl\n",
              "\n",
              "| <!--/--> | used | (Mb) | gc trigger | (Mb) | max used | (Mb) |\n",
              "|---|---|---|---|---|---|---|\n",
              "| Ncells |  775006 | 41.4 |   1431192 |   76.5 |   1431192 |   76.5 |\n",
              "| Vcells | 1466886 | 11.2 | 295484634 | 2254.4 | 369287786 | 2817.5 |\n",
              "\n"
            ],
            "text/plain": [
              "       used    (Mb) gc trigger (Mb)   max used  (Mb)  \n",
              "Ncells  775006 41.4   1431192    76.5   1431192   76.5\n",
              "Vcells 1466886 11.2 295484634  2254.4 369287786 2817.5"
            ]
          },
          "metadata": {},
          "output_type": "display_data"
        }
      ],
      "source": [
        "# limpio la memoria\n",
        "rm(list=ls(all.names=TRUE)) # remove all objects\n",
        "gc(full=TRUE, verbose=FALSE) # garbage collection"
      ]
    },
    {
      "cell_type": "code",
      "execution_count": 8,
      "metadata": {
        "colab": {
          "base_uri": "https://localhost:8080/",
          "height": 34
        },
        "id": "pJ8SsVA5ssnf",
        "outputId": "f6350d24-f44b-4dbc-9509-e6ef83de3814",
        "vscode": {
          "languageId": "r"
        }
      },
      "outputs": [
        {
          "data": {
            "text/plain": [
              "[1] \"2025-08-27 14:59:20 -03\""
            ]
          },
          "metadata": {},
          "output_type": "display_data"
        }
      ],
      "source": [
        "Sys.time()"
      ]
    },
    {
      "cell_type": "markdown",
      "metadata": {
        "id": "3BrrQ47PeEb2"
      },
      "source": [
        "* Instalacion de la libreria  rpart.plot  para dibujar el arbol\n",
        "* invocacion de las librerias  **data.table** y  **rpart**"
      ]
    },
    {
      "cell_type": "code",
      "execution_count": 9,
      "metadata": {
        "id": "SxO-0Ql0khn6",
        "vscode": {
          "languageId": "r"
        }
      },
      "outputs": [
        {
          "name": "stderr",
          "output_type": "stream",
          "text": [
            "Cargando paquete requerido: rpart\n",
            "\n"
          ]
        }
      ],
      "source": [
        "# cargo las librerias que necesito\n",
        "require(\"data.table\")\n",
        "require(\"rpart\")"
      ]
    },
    {
      "cell_type": "code",
      "execution_count": 10,
      "metadata": {
        "id": "aM5cS4BRX2qr",
        "vscode": {
          "languageId": "r"
        }
      },
      "outputs": [
        {
          "name": "stderr",
          "output_type": "stream",
          "text": [
            "Cargando paquete requerido: R.utils\n",
            "\n",
            "Cargando paquete requerido: R.oo\n",
            "\n",
            "Cargando paquete requerido: R.methodsS3\n",
            "\n",
            "R.methodsS3 v1.8.2 (2022-06-13 22:00:14 UTC) successfully loaded. See ?R.methodsS3 for help.\n",
            "\n",
            "R.oo v1.27.1 (2025-05-02 21:00:05 UTC) successfully loaded. See ?R.oo for help.\n",
            "\n",
            "\n",
            "Adjuntando el paquete: 'R.oo'\n",
            "\n",
            "\n",
            "The following object is masked from 'package:R.methodsS3':\n",
            "\n",
            "    throw\n",
            "\n",
            "\n",
            "The following objects are masked from 'package:methods':\n",
            "\n",
            "    getClasses, getMethods\n",
            "\n",
            "\n",
            "The following objects are masked from 'package:base':\n",
            "\n",
            "    attach, detach, load, save\n",
            "\n",
            "\n",
            "R.utils v2.13.0 (2025-02-24 21:20:02 UTC) successfully loaded. See ?R.utils for help.\n",
            "\n",
            "\n",
            "Adjuntando el paquete: 'R.utils'\n",
            "\n",
            "\n",
            "The following object is masked from 'package:utils':\n",
            "\n",
            "    timestamp\n",
            "\n",
            "\n",
            "The following objects are masked from 'package:base':\n",
            "\n",
            "    cat, commandArgs, getOption, isOpen, nullfile, parse, use, warnings\n",
            "\n",
            "\n"
          ]
        }
      ],
      "source": [
        "if(!require(\"R.utils\")) install.packages(\"R.utils\")\n",
        "require(\"R.utils\")"
      ]
    },
    {
      "cell_type": "markdown",
      "metadata": {
        "id": "ZG9fCnZh3bWV"
      },
      "source": [
        "###  Accion a Realizar\n",
        "PARAM$semilla  debe tener su primer semilla aleatoria"
      ]
    },
    {
      "cell_type": "code",
      "execution_count": 11,
      "metadata": {
        "id": "0nx5_OcE3Y9c",
        "vscode": {
          "languageId": "r"
        }
      },
      "outputs": [],
      "source": [
        "PARAM <- list()\n",
        "PARAM$semilla <- 200003  # aqui debe ir su primer semilla\n",
        "PARAM$training_pct <- 70L  # entre  1L y 99L\n",
        "\n",
        "PARAM$rpart <- list (\n",
        "  \"cp\" = -1, # complejidad minima\n",
        "  \"minsplit\" = 170, # minima cantidad de regs en un nodo para hacer el split\n",
        "  \"minbucket\" = 70, # minima cantidad de regs en una hoja\n",
        "  \"maxdepth\" = 7 # profundidad máxima del arbol\n",
        ")\n"
      ]
    },
    {
      "cell_type": "code",
      "execution_count": 12,
      "metadata": {
        "id": "8HLE9Dx80gjH",
        "vscode": {
          "languageId": "r"
        }
      },
      "outputs": [],
      "source": [
        "# particionar agrega una columna llamada fold a un dataset\n",
        "#  que consiste en una particion estratificada segun agrupa\n",
        "\n",
        "# particionar( data=dataset, division=c(70,30),\n",
        "#  agrupa=clase_ternaria, seed=semilla)   crea una particion 70, 30\n",
        "\n",
        "particionar <- function(\n",
        "    data, division, agrupa = \"\",\n",
        "    campo = \"fold\", start = 1, seed = NA) {\n",
        "  if (!is.na(seed)) set.seed(seed)\n",
        "\n",
        "  bloque <- unlist(mapply(function(x, y) {\n",
        "    rep(y, x)\n",
        "  }, division, seq(from = start, length.out = length(division))))\n",
        "\n",
        "  data[, (campo) := sample(rep(bloque, ceiling(.N / length(bloque))))[1:.N],\n",
        "    by = agrupa\n",
        "  ]\n",
        "}\n"
      ]
    },
    {
      "cell_type": "code",
      "execution_count": null,
      "metadata": {
        "id": "sC4_nqcm0nUs",
        "vscode": {
          "languageId": "r"
        }
      },
      "outputs": [],
      "source": [
        "# carpeta de trabajo\n",
        "setwd(\"/content/buckets/b1/exp\")\n",
        "experimento <- \"exp0201\"\n",
        "dir.create(experimento, showWarnings=FALSE)\n",
        "setwd( paste0(\"/content/buckets/b1/exp/\", experimento ))"
      ]
    },
    {
      "cell_type": "code",
      "execution_count": 13,
      "metadata": {
        "colab": {
          "base_uri": "https://localhost:8080/",
          "height": 34
        },
        "id": "6yIEsZOw07q8",
        "outputId": "96adb51d-61c1-48a4-c9a3-bd182e2948c0",
        "vscode": {
          "languageId": "r"
        }
      },
      "outputs": [
        {
          "data": {
            "text/html": [
              "978439"
            ],
            "text/latex": [
              "978439"
            ],
            "text/markdown": [
              "978439"
            ],
            "text/plain": [
              "[1] 978439"
            ]
          },
          "metadata": {},
          "output_type": "display_data"
        }
      ],
      "source": [
        "# lectura del dataset\n",
        "#dataset <- fread(\"/content/datasets/competencia_01.csv.gz\")\n",
        "dataset <- fread(\"./competencia_01.csv.gz\")\n",
        "nrow(dataset)"
      ]
    },
    {
      "cell_type": "code",
      "execution_count": 14,
      "metadata": {
        "colab": {
          "base_uri": "https://localhost:8080/",
          "height": 210
        },
        "id": "aG02EmUuZNLs",
        "outputId": "b3583f39-c17f-4f7b-a61a-f7f5092f2c95",
        "vscode": {
          "languageId": "r"
        }
      },
      "outputs": [
        {
          "data": {
            "text/html": [
              "163418"
            ],
            "text/latex": [
              "163418"
            ],
            "text/markdown": [
              "163418"
            ],
            "text/plain": [
              "[1] 163418"
            ]
          },
          "metadata": {},
          "output_type": "display_data"
        },
        {
          "data": {
            "text/html": [
              "<table class=\"dataframe\">\n",
              "<caption>A data.table: 3 × 2</caption>\n",
              "<thead>\n",
              "\t<tr><th scope=col>clase_ternaria</th><th scope=col>N</th></tr>\n",
              "\t<tr><th scope=col>&lt;chr&gt;</th><th scope=col>&lt;int&gt;</th></tr>\n",
              "</thead>\n",
              "<tbody>\n",
              "\t<tr><td>CONTINUA</td><td>161333</td></tr>\n",
              "\t<tr><td>BAJA+1  </td><td>   955</td></tr>\n",
              "\t<tr><td>BAJA+2  </td><td>  1130</td></tr>\n",
              "</tbody>\n",
              "</table>\n"
            ],
            "text/latex": [
              "A data.table: 3 × 2\n",
              "\\begin{tabular}{ll}\n",
              " clase\\_ternaria & N\\\\\n",
              " <chr> & <int>\\\\\n",
              "\\hline\n",
              "\t CONTINUA & 161333\\\\\n",
              "\t BAJA+1   &    955\\\\\n",
              "\t BAJA+2   &   1130\\\\\n",
              "\\end{tabular}\n"
            ],
            "text/markdown": [
              "\n",
              "A data.table: 3 × 2\n",
              "\n",
              "| clase_ternaria &lt;chr&gt; | N &lt;int&gt; |\n",
              "|---|---|\n",
              "| CONTINUA | 161333 |\n",
              "| BAJA+1   |    955 |\n",
              "| BAJA+2   |   1130 |\n",
              "\n"
            ],
            "text/plain": [
              "  clase_ternaria N     \n",
              "1 CONTINUA       161333\n",
              "2 BAJA+1            955\n",
              "3 BAJA+2           1130"
            ]
          },
          "metadata": {},
          "output_type": "display_data"
        }
      ],
      "source": [
        "# trabajo solo con los datos de 202104, ultimo mes con clase_ternaria completa\n",
        "# filtro datos\n",
        "dataset <- dataset[foto_mes==202104]\n",
        "\n",
        "invisible(gc(full=TRUE, verbose=FALSE)) # garbage collection\n",
        "\n",
        "nrow(dataset)\n",
        "dataset[, .N, clase_ternaria]"
      ]
    },
    {
      "cell_type": "code",
      "execution_count": 15,
      "metadata": {
        "id": "FAO1Hhd52b5d",
        "vscode": {
          "languageId": "r"
        }
      },
      "outputs": [],
      "source": [
        "# particiono estratificadamente el dataset 70%, 30%\n",
        "particionar(dataset,\n",
        "  division = c(PARAM$training_pct, 100L -PARAM$training_pct),\n",
        "  agrupa = \"clase_ternaria\",\n",
        "  seed = PARAM$semilla # aqui se usa SU semilla\n",
        ")"
      ]
    },
    {
      "cell_type": "code",
      "execution_count": 16,
      "metadata": {
        "id": "s3UnHSLP2gN6",
        "vscode": {
          "languageId": "r"
        }
      },
      "outputs": [],
      "source": [
        "# genero el modelo\n",
        "# quiero predecir clase_ternaria a partir del resto\n",
        "# fold==1  es training,  el 70% de los datos\n",
        "modelo <- rpart(\"clase_ternaria ~ .\",\n",
        "  data= dataset[fold == 1],  # fold==1  es training, el 70% de los datos\n",
        "  xval= 0,\n",
        "  control= PARAM$rpart # aqui van los parametros\n",
        ")"
      ]
    },
    {
      "cell_type": "code",
      "execution_count": 17,
      "metadata": {
        "id": "paQphV4A2jGz",
        "vscode": {
          "languageId": "r"
        }
      },
      "outputs": [],
      "source": [
        "# aplico el modelo a los datos de testing\n",
        "prediccion <- predict(modelo, # el modelo que genere recien\n",
        "  dataset[fold == 2], # fold==2  es testing, el 30% de los datos\n",
        "  type= \"prob\"\n",
        ") # type= \"prob\"  es que devuelva la probabilidad"
      ]
    },
    {
      "cell_type": "code",
      "execution_count": 18,
      "metadata": {
        "id": "fuLZ75pA29dT",
        "vscode": {
          "languageId": "r"
        }
      },
      "outputs": [],
      "source": [
        "tb_prediccion <- as.data.table(list(\n",
        "  \"clase_ternaria\"=dataset[fold == 2, clase_ternaria],\n",
        "  \"prob\"= prediccion[, \"BAJA+2\"]\n",
        "))"
      ]
    },
    {
      "cell_type": "code",
      "execution_count": 19,
      "metadata": {
        "id": "LuG6ql_t3kOI",
        "vscode": {
          "languageId": "r"
        }
      },
      "outputs": [],
      "source": [
        "# calculo la ganancia de cada registro\n",
        "tb_prediccion[, ganancia := ifelse(clase_ternaria == \"BAJA+2\", 780000, -20000)]"
      ]
    },
    {
      "cell_type": "code",
      "execution_count": 20,
      "metadata": {
        "id": "xJ3WTMez3leO",
        "vscode": {
          "languageId": "r"
        }
      },
      "outputs": [],
      "source": [
        "# calculo la clase\n",
        "tb_prediccion[, Predicted := prob > (1/40) ]"
      ]
    },
    {
      "cell_type": "code",
      "execution_count": 21,
      "metadata": {
        "id": "cFQPacen4Wq6",
        "vscode": {
          "languageId": "r"
        }
      },
      "outputs": [],
      "source": [
        "ganancia_test <-  tb_prediccion[ Predicted==TRUE,  sum(ganancia)]"
      ]
    },
    {
      "cell_type": "code",
      "execution_count": 22,
      "metadata": {
        "id": "dHjz0zhN4-nZ",
        "vscode": {
          "languageId": "r"
        }
      },
      "outputs": [],
      "source": [
        "# normalizo la ganancia\n",
        "ganancia_test_normalizada <- ganancia_test / (( 100 - PARAM$training_pct ) / 100 )"
      ]
    },
    {
      "cell_type": "code",
      "execution_count": 23,
      "metadata": {
        "id": "D7RUdTb95F6B",
        "vscode": {
          "languageId": "r"
        }
      },
      "outputs": [],
      "source": [
        "estimulos <- tb_prediccion[ Predicted==TRUE, .N]\n",
        "aciertos <- tb_prediccion[ Predicted & clase_ternaria == \"BAJA+2\", .N]"
      ]
    },
    {
      "cell_type": "code",
      "execution_count": 24,
      "metadata": {
        "colab": {
          "base_uri": "https://localhost:8080/"
        },
        "id": "Lu1KM6fy5U7h",
        "outputId": "c984eede-5f53-4847-83db-1c272e9e98f2",
        "vscode": {
          "languageId": "r"
        }
      },
      "outputs": [
        {
          "name": "stdout",
          "output_type": "stream",
          "text": [
            "Testing total:  49023 \n",
            "Testing BAJA+2:  336 \n",
            "Estimulos:  2481 \n",
            "Aciertos (BAJA+2):  175 \n",
            "Ganancia en testing (normalizada):  301266667 \n"
          ]
        }
      ],
      "source": [
        "# Resultado Final\n",
        "cat(\"Testing total: \", dataset[fold == 2, .N], \"\\n\")\n",
        "cat(\"Testing BAJA+2: \", dataset[fold == 2 & clase_ternaria == \"BAJA+2\", .N], \"\\n\")\n",
        "\n",
        "cat(\"Estimulos: \", estimulos, \"\\n\")\n",
        "cat(\"Aciertos (BAJA+2): \", aciertos, \"\\n\")\n",
        "\n",
        "cat(\"Ganancia en testing (normalizada): \", ganancia_test_normalizada, \"\\n\")"
      ]
    },
    {
      "cell_type": "markdown",
      "metadata": {
        "id": "kHs-YoFB5rUa"
      },
      "source": [
        "### Acciones a realizar\n",
        "* Reportar la  *Ganancia en testing (normalizada)* <br> en la planilla colaborativa hoja  **C2-1sem**\n",
        "* Se discutirá en clase la variabilidad de las ganancias obtenidas de distintos alumnos"
      ]
    },
    {
      "cell_type": "markdown",
      "metadata": {
        "id": "LBl_eIeO7WuM"
      },
      "source": [
        "\n",
        "\n",
        "---\n",
        "\n"
      ]
    },
    {
      "cell_type": "markdown",
      "metadata": {
        "id": "h43UCq9y7UlT"
      },
      "source": [
        "# 2  Medición Monte Carlo Cross Validation\n",
        "## Clase 02  Experimento 2"
      ]
    },
    {
      "cell_type": "markdown",
      "metadata": {
        "id": "wHPchGXK80VU"
      },
      "source": [
        "## 2.1  Objetivos\n",
        "Mostrar el funcionamiento de la Montecarlo Cross Validation y que l@s estudiantes aprecien la disminución de la varianza de dicha metodología.\n",
        "Relación con el Teorema Central del Límite"
      ]
    },
    {
      "cell_type": "markdown",
      "metadata": {
        "id": "g6YzACxl9DzS"
      },
      "source": [
        "## 2.2 Introduccion\n",
        "\n",
        "![Montecarlo](https://storage.googleapis.com/open-courses/austral2025-af91/labo1r/C2_E2_montecarlo.jpg)\n",
        "\n",
        "![Curva normal](https://storage.googleapis.com/open-courses/austral2025-af91/labo1r/C2_E2_normal.jpg)\n",
        "\n",
        "![Teorema Central del Limite](https://storage.googleapis.com/open-courses/austral2025-af91/labo1r/C2_E2_teoremacentralLimite.jpg)\n",
        "\n"
      ]
    },
    {
      "cell_type": "markdown",
      "metadata": {
<<<<<<< HEAD
=======
        "id": "7laod2t4ArsH"
      },
      "source": []
    },
    {
      "cell_type": "markdown",
      "metadata": {
>>>>>>> 4c354cd (Actualización del repositorio)
        "id": "lFcJeRAkAr-q"
      },
      "source": [
        "## 2.3  Bibliografía\n",
        "\n",
        "Demšar, J. [Statistical comparisons of classifiers over multiple data sets](https://www.jmlr.org/papers/volume7/demsar06a/demsar06a.pdf) J. Mach. Learn. Res. 7, 1–30 (2006).   \n",
        "Starmer, J. [Machine Learning Fundamentals: Cross Validation](https://www.youtube.com/watch?v=fSytzGwwBVw)Machine Learning Fundamentals: Cross Validation, StatQuest with Josh Starmer youtube channel, (2018)\n",
        "Hastie, T.[The elements of statistical learning: data mining, inference, and prediction](https://hastie.su.domains/Papers/ESLII.pdf) , volume 2. Springer, 2009  ( Chapter 7 Model Assessment and Selection )"
      ]
    },
    {
      "cell_type": "markdown",
      "metadata": {
        "id": "0ztZzYolA2WK"
      },
      "source": [
        "## 2.4 Codigo  Montecarlo"
      ]
    },
    {
      "cell_type": "markdown",
      "metadata": {
        "id": "KLa06ZsiC-Oz"
      },
      "source": [
        "El código de la Montecarlo Cross Validation es notablemente más complejo que el anterior de una simple partición training/testing\n",
        "<br> Se crea la funcion ArbolEstimarGanancia()  que dada una semilla realiza la partición  training/testing, entrena en training, aplica el modelo a testing, y se calculan las ganancias\n",
        "<br> Se utiliza la funcion **mcmapply**  de R para aplicar ArbolEstimarGanancia a todos los elementos del vector de semillas"
      ]
    },
    {
      "cell_type": "markdown",
      "metadata": {
        "id": "ivFiBBOQA2Ws"
      },
      "source": [
        "Esta parte se debe correr con el runtime en lenguaje **R** Ir al menu, Runtime -> Change Runtime Tipe -> Runtime type -> R"
      ]
    },
    {
      "cell_type": "markdown",
      "metadata": {
        "id": "TMSAQDXuA2Ws"
      },
      "source": [
        "limpio el ambiente de R"
      ]
    },
    {
      "cell_type": "code",
      "execution_count": 25,
      "metadata": {
        "colab": {
          "base_uri": "https://localhost:8080/",
          "height": 129
        },
        "id": "eakzb8y2A2Wt",
        "outputId": "ca6377a2-9425-4e32-b5ad-2f24063cd48d",
        "vscode": {
          "languageId": "r"
        }
      },
      "outputs": [
        {
          "data": {
            "text/html": [
              "<table class=\"dataframe\">\n",
              "<caption>A matrix: 2 × 6 of type dbl</caption>\n",
              "<thead>\n",
              "\t<tr><th></th><th scope=col>used</th><th scope=col>(Mb)</th><th scope=col>gc trigger</th><th scope=col>(Mb)</th><th scope=col>max used</th><th scope=col>(Mb)</th></tr>\n",
              "</thead>\n",
              "<tbody>\n",
              "\t<tr><th scope=row>Ncells</th><td> 852639</td><td>45.6</td><td>  1431192</td><td>  76.5</td><td>  1431192</td><td>  76.5</td></tr>\n",
              "\t<tr><th scope=row>Vcells</th><td>1648807</td><td>12.6</td><td>189110167</td><td>1442.8</td><td>369287786</td><td>2817.5</td></tr>\n",
              "</tbody>\n",
              "</table>\n"
            ],
            "text/latex": [
              "A matrix: 2 × 6 of type dbl\n",
              "\\begin{tabular}{r|llllll}\n",
              "  & used & (Mb) & gc trigger & (Mb) & max used & (Mb)\\\\\n",
              "\\hline\n",
              "\tNcells &  852639 & 45.6 &   1431192 &   76.5 &   1431192 &   76.5\\\\\n",
              "\tVcells & 1648807 & 12.6 & 189110167 & 1442.8 & 369287786 & 2817.5\\\\\n",
              "\\end{tabular}\n"
            ],
            "text/markdown": [
              "\n",
              "A matrix: 2 × 6 of type dbl\n",
              "\n",
              "| <!--/--> | used | (Mb) | gc trigger | (Mb) | max used | (Mb) |\n",
              "|---|---|---|---|---|---|---|\n",
              "| Ncells |  852639 | 45.6 |   1431192 |   76.5 |   1431192 |   76.5 |\n",
              "| Vcells | 1648807 | 12.6 | 189110167 | 1442.8 | 369287786 | 2817.5 |\n",
              "\n"
            ],
            "text/plain": [
              "       used    (Mb) gc trigger (Mb)   max used  (Mb)  \n",
              "Ncells  852639 45.6   1431192    76.5   1431192   76.5\n",
              "Vcells 1648807 12.6 189110167  1442.8 369287786 2817.5"
            ]
          },
          "metadata": {},
          "output_type": "display_data"
        }
      ],
      "source": [
        "# limpio la memoria\n",
        "rm(list=ls(all.names=TRUE)) # remove all objects\n",
        "gc(full=TRUE, verbose=FALSE) # garbage collection"
      ]
    },
    {
      "cell_type": "markdown",
      "metadata": {
        "id": "559RkeYZA2Wv"
      },
      "source": [
        "* Instalacion de la libreria  rpart.plot  para dibujar el arbol\n",
        "* invocacion de las librerias  **data.table** y  **rpart**"
      ]
    },
    {
      "cell_type": "code",
      "execution_count": 26,
      "metadata": {
        "colab": {
          "base_uri": "https://localhost:8080/"
        },
        "id": "yf_S_HlsA2Wv",
        "outputId": "c36c01d1-29c5-456c-b867-d87e8f258df5",
        "vscode": {
          "languageId": "r"
        }
      },
      "outputs": [
        {
          "name": "stderr",
          "output_type": "stream",
          "text": [
            "Cargando paquete requerido: parallel\n",
            "\n"
          ]
        }
      ],
      "source": [
        "# cargo las librerias que necesito\n",
        "require(\"data.table\")\n",
        "require(\"rpart\")\n",
        "require(\"parallel\")"
      ]
    },
    {
      "cell_type": "code",
      "execution_count": 27,
      "metadata": {
        "id": "XJ7778QOeGdZ",
        "vscode": {
          "languageId": "r"
        }
      },
      "outputs": [],
      "source": [
        "if(!require(\"R.utils\")) install.packages(\"R.utils\")\n",
        "require(\"R.utils\")"
      ]
    },
    {
      "cell_type": "markdown",
      "metadata": {
        "id": "a4oz2ulCA2Ww"
      },
      "source": [
        "###  Accion a Realizar\n",
        "PARAM$semillas  debe tener sus cinco semillas aleatorias"
      ]
    },
    {
      "cell_type": "code",
      "execution_count": 28,
      "metadata": {
        "id": "yQ2OAP5AA2Wx",
        "vscode": {
          "languageId": "r"
        }
      },
      "outputs": [],
      "source": [
        "PARAM <- list()\n",
        "PARAM$semillas <- c(200003, 300007, 400009, 500009, 600011)  # aqui debe ir sus CINCO\n",
        "PARAM$training_pct <- 70L  # entre  1L y 99L\n",
        "\n",
        "PARAM$rpart <- list (\n",
        "  \"cp\" = -1, # complejidad minima\n",
        "  \"minsplit\" = 170, # minima cantidad de regs en un nodo para hacer el split\n",
        "  \"minbucket\" = 70, # minima cantidad de regs en una hoja\n",
        "  \"maxdepth\" = 7 # profundidad máxima del arbol\n",
        ")\n"
      ]
    },
    {
      "cell_type": "code",
      "execution_count": 29,
      "metadata": {
        "id": "97dMCVJWA2Wy",
        "vscode": {
          "languageId": "r"
        }
      },
      "outputs": [],
      "source": [
        "# particionar agrega una columna llamada fold a un dataset\n",
        "#  que consiste en una particion estratificada segun agrupa\n",
        "\n",
        "# particionar( data=dataset, division=c(70,30),\n",
        "#  agrupa=clase_ternaria, seed=semilla)   crea una particion 70, 30\n",
        "\n",
        "particionar <- function(\n",
        "    data, division, agrupa = \"\",\n",
        "    campo = \"fold\", start = 1, seed = NA) {\n",
        "  if (!is.na(seed)) set.seed(seed)\n",
        "\n",
        "  bloque <- unlist(mapply(function(x, y) {\n",
        "    rep(y, x)\n",
        "  }, division, seq(from = start, length.out = length(division))))\n",
        "\n",
        "  data[, (campo) := sample(rep(bloque, ceiling(.N / length(bloque))))[1:.N],\n",
        "    by = agrupa\n",
        "  ]\n",
        "}\n"
      ]
    },
    {
      "cell_type": "code",
      "execution_count": 30,
      "metadata": {
        "id": "GroZSZoVBuZ5",
        "vscode": {
          "languageId": "r"
        }
      },
      "outputs": [],
      "source": [
        "ArbolEstimarGanancia <- function(semilla, param_basicos) {\n",
        "  # particiono estratificadamente el dataset\n",
        "  particionar(dataset,\n",
        "    division = c(param_basicos$training_pct, 100L -param_basicos$training_pct),\n",
        "    agrupa = \"clase_ternaria\",\n",
        "    seed = semilla # aqui se usa SU semilla\n",
        "  )\n",
        "\n",
        "  # genero el modelo\n",
        "  # predecir clase_ternaria a partir del resto\n",
        "  modelo <- rpart(\"clase_ternaria ~ .\",\n",
        "    data= dataset[fold == 1], # fold==1  es training,  el 70% de los datos\n",
        "    xval= 0,\n",
        "    control= param_basicos$rpart\n",
        "  ) # aqui van los parametros del arbol\n",
        "\n",
        "  # aplico el modelo a los datos de testing\n",
        "  prediccion <- predict(modelo, # el modelo que genere recien\n",
        "    dataset[fold == 2], # fold==2  es testing, el 30% de los datos\n",
        "    type= \"prob\"\n",
        "  ) # type= \"prob\"  es que devuelva la probabilidad\n",
        "\n",
        "  # prediccion es una matriz con TRES columnas,\n",
        "  #  llamadas \"BAJA+1\", \"BAJA+2\"  y \"CONTINUA\"\n",
        "  # cada columna es el vector de probabilidades\n",
        "\n",
        "\n",
        "  # calculo la ganancia en testing  qu es fold==2\n",
        "  ganancia_test <- dataset[\n",
        "    fold== 2,\n",
        "    sum(ifelse(prediccion[, \"BAJA+2\"] > 0.025,\n",
        "      ifelse(clase_ternaria == \"BAJA+2\", 780000, -20000),\n",
        "      0\n",
        "    ))\n",
        "  ]\n",
        "\n",
        "  # escalo la ganancia como si fuera todo el dataset\n",
        "  ganancia_test_normalizada <- ganancia_test / (( 100 - PARAM$training_pct ) / 100 )\n",
        "\n",
        "  return(list(\n",
        "    \"semilla\" = semilla,\n",
        "    \"testing\" = dataset[fold == 2, .N],\n",
        "    \"testing_pos\" = dataset[fold == 2 & clase_ternaria == \"BAJA+2\", .N],\n",
        "    \"envios\" = dataset[fold == 2, sum(prediccion[, \"BAJA+2\"] > 0.025)],\n",
        "    \"aciertos\" = dataset[\n",
        "        fold == 2,\n",
        "        sum(prediccion[, \"BAJA+2\"] > 0.025 & clase_ternaria == \"BAJA+2\")\n",
        "    ],\n",
        "    \"ganancia_test\" = ganancia_test_normalizada\n",
        "  ))\n",
        "}\n"
      ]
    },
    {
      "cell_type": "code",
      "execution_count": null,
      "metadata": {
        "id": "dJIBIX6kA2Wy",
        "vscode": {
          "languageId": "r"
        }
      },
      "outputs": [],
      "source": [
        "# carpeta de trabajo\n",
        "setwd(\"/content/buckets/b1/exp\")\n",
        "experimento <- \"exp0202\"\n",
        "dir.create(experimento, showWarnings=FALSE)\n",
        "setwd( paste0(\"/content/buckets/b1/exp/\", experimento ))"
      ]
    },
    {
      "cell_type": "code",
      "execution_count": 31,
      "metadata": {
        "colab": {
          "base_uri": "https://localhost:8080/",
          "height": 34
        },
        "id": "tKiACdU2A2Wz",
        "outputId": "b2ea2c50-494d-48e6-d7d2-41e0f6a86992",
        "vscode": {
          "languageId": "r"
        }
      },
      "outputs": [
        {
          "data": {
            "text/html": [
              "978439"
            ],
            "text/latex": [
              "978439"
            ],
            "text/markdown": [
              "978439"
            ],
            "text/plain": [
              "[1] 978439"
            ]
          },
          "metadata": {},
          "output_type": "display_data"
        }
      ],
      "source": [
        "#dataset <- fread(\"/content/datasets/competencia_01.csv.gz\")\n",
        "dataset <- fread(\"./competencia_01.csv.gz\")\n",
        "nrow(dataset)"
      ]
    },
    {
      "cell_type": "code",
      "execution_count": 32,
      "metadata": {
        "colab": {
          "base_uri": "https://localhost:8080/",
          "height": 210
        },
        "id": "8tzLsVAoehoW",
        "outputId": "21b5870b-2022-4aa7-deaa-1456e9a65cf2",
        "vscode": {
          "languageId": "r"
        }
      },
      "outputs": [
        {
          "data": {
            "text/html": [
              "163418"
            ],
            "text/latex": [
              "163418"
            ],
            "text/markdown": [
              "163418"
            ],
            "text/plain": [
              "[1] 163418"
            ]
          },
          "metadata": {},
          "output_type": "display_data"
        },
        {
          "data": {
            "text/html": [
              "<table class=\"dataframe\">\n",
              "<caption>A data.table: 3 × 3</caption>\n",
              "<thead>\n",
              "\t<tr><th scope=col>foto_mes</th><th scope=col>clase_ternaria</th><th scope=col>N</th></tr>\n",
              "\t<tr><th scope=col>&lt;int&gt;</th><th scope=col>&lt;chr&gt;</th><th scope=col>&lt;int&gt;</th></tr>\n",
              "</thead>\n",
              "<tbody>\n",
              "\t<tr><td>202104</td><td>CONTINUA</td><td>161333</td></tr>\n",
              "\t<tr><td>202104</td><td>BAJA+1  </td><td>   955</td></tr>\n",
              "\t<tr><td>202104</td><td>BAJA+2  </td><td>  1130</td></tr>\n",
              "</tbody>\n",
              "</table>\n"
            ],
            "text/latex": [
              "A data.table: 3 × 3\n",
              "\\begin{tabular}{lll}\n",
              " foto\\_mes & clase\\_ternaria & N\\\\\n",
              " <int> & <chr> & <int>\\\\\n",
              "\\hline\n",
              "\t 202104 & CONTINUA & 161333\\\\\n",
              "\t 202104 & BAJA+1   &    955\\\\\n",
              "\t 202104 & BAJA+2   &   1130\\\\\n",
              "\\end{tabular}\n"
            ],
            "text/markdown": [
              "\n",
              "A data.table: 3 × 3\n",
              "\n",
              "| foto_mes &lt;int&gt; | clase_ternaria &lt;chr&gt; | N &lt;int&gt; |\n",
              "|---|---|---|\n",
              "| 202104 | CONTINUA | 161333 |\n",
              "| 202104 | BAJA+1   |    955 |\n",
              "| 202104 | BAJA+2   |   1130 |\n",
              "\n"
            ],
            "text/plain": [
              "  foto_mes clase_ternaria N     \n",
              "1 202104   CONTINUA       161333\n",
              "2 202104   BAJA+1            955\n",
              "3 202104   BAJA+2           1130"
            ]
          },
          "metadata": {},
          "output_type": "display_data"
        }
      ],
      "source": [
        "# trabajo solo con los datos de 202104, ultimo mes con clase_ternaria completa\n",
        "# filtro datos\n",
        "dataset <- dataset[foto_mes==202104]\n",
        "\n",
        "invisible(gc(full=TRUE, verbose=FALSE)) # garbage collection\n",
        "\n",
        "nrow(dataset)\n",
        "dataset[, .N, list(foto_mes,clase_ternaria)]"
      ]
    },
    {
      "cell_type": "code",
      "execution_count": 36,
      "metadata": {
        "colab": {
          "base_uri": "https://localhost:8080/",
          "height": 1000
        },
        "id": "64OdfeyxCMDF",
        "outputId": "003f423b-f38c-4a63-cc89-3ce555bb50d4",
        "vscode": {
          "languageId": "r"
        }
      },
      "outputs": [
        {
          "data": {
            "text/html": [
              "<ol>\n",
              "\t<li><dl>\n",
              "\t<dt>$semilla</dt>\n",
              "\t\t<dd>200003</dd>\n",
              "\t<dt>$testing</dt>\n",
              "\t\t<dd>49023</dd>\n",
              "\t<dt>$testing_pos</dt>\n",
              "\t\t<dd>336</dd>\n",
              "\t<dt>$envios</dt>\n",
              "\t\t<dd>2481</dd>\n",
              "\t<dt>$aciertos</dt>\n",
              "\t\t<dd>175</dd>\n",
              "\t<dt>$ganancia_test</dt>\n",
              "\t\t<dd>301266666.666667</dd>\n",
              "</dl>\n",
              "</li>\n",
              "\t<li><dl>\n",
              "\t<dt>$semilla</dt>\n",
              "\t\t<dd>300007</dd>\n",
              "\t<dt>$testing</dt>\n",
              "\t\t<dd>49027</dd>\n",
              "\t<dt>$testing_pos</dt>\n",
              "\t\t<dd>340</dd>\n",
              "\t<dt>$envios</dt>\n",
              "\t\t<dd>2685</dd>\n",
              "\t<dt>$aciertos</dt>\n",
              "\t\t<dd>177</dd>\n",
              "\t<dt>$ganancia_test</dt>\n",
              "\t\t<dd>2.93e+08</dd>\n",
              "</dl>\n",
              "</li>\n",
              "\t<li><dl>\n",
              "\t<dt>$semilla</dt>\n",
              "\t\t<dd>400009</dd>\n",
              "\t<dt>$testing</dt>\n",
              "\t\t<dd>49026</dd>\n",
              "\t<dt>$testing_pos</dt>\n",
              "\t\t<dd>341</dd>\n",
              "\t<dt>$envios</dt>\n",
              "\t\t<dd>3638</dd>\n",
              "\t<dt>$aciertos</dt>\n",
              "\t\t<dd>207</dd>\n",
              "\t<dt>$ganancia_test</dt>\n",
              "\t\t<dd>309466666.666667</dd>\n",
              "</dl>\n",
              "</li>\n",
              "\t<li><dl>\n",
              "\t<dt>$semilla</dt>\n",
              "\t\t<dd>500009</dd>\n",
              "\t<dt>$testing</dt>\n",
              "\t\t<dd>49033</dd>\n",
              "\t<dt>$testing_pos</dt>\n",
              "\t\t<dd>339</dd>\n",
              "\t<dt>$envios</dt>\n",
              "\t\t<dd>3282</dd>\n",
              "\t<dt>$aciertos</dt>\n",
              "\t\t<dd>190</dd>\n",
              "\t<dt>$ganancia_test</dt>\n",
              "\t\t<dd>287866666.666667</dd>\n",
              "</dl>\n",
              "</li>\n",
              "\t<li><dl>\n",
              "\t<dt>$semilla</dt>\n",
              "\t\t<dd>600011</dd>\n",
              "\t<dt>$testing</dt>\n",
              "\t\t<dd>49023</dd>\n",
              "\t<dt>$testing_pos</dt>\n",
              "\t\t<dd>334</dd>\n",
              "\t<dt>$envios</dt>\n",
              "\t\t<dd>3044</dd>\n",
              "\t<dt>$aciertos</dt>\n",
              "\t\t<dd>194</dd>\n",
              "\t<dt>$ganancia_test</dt>\n",
              "\t\t<dd>314400000</dd>\n",
              "</dl>\n",
              "</li>\n",
              "</ol>\n"
            ],
            "text/latex": [
              "\\begin{enumerate}\n",
              "\\item \\begin{description}\n",
              "\\item[\\$semilla] 200003\n",
              "\\item[\\$testing] 49023\n",
              "\\item[\\$testing\\_pos] 336\n",
              "\\item[\\$envios] 2481\n",
              "\\item[\\$aciertos] 175\n",
              "\\item[\\$ganancia\\_test] 301266666.666667\n",
              "\\end{description}\n",
              "\n",
              "\\item \\begin{description}\n",
              "\\item[\\$semilla] 300007\n",
              "\\item[\\$testing] 49027\n",
              "\\item[\\$testing\\_pos] 340\n",
              "\\item[\\$envios] 2685\n",
              "\\item[\\$aciertos] 177\n",
              "\\item[\\$ganancia\\_test] 2.93e+08\n",
              "\\end{description}\n",
              "\n",
              "\\item \\begin{description}\n",
              "\\item[\\$semilla] 400009\n",
              "\\item[\\$testing] 49026\n",
              "\\item[\\$testing\\_pos] 341\n",
              "\\item[\\$envios] 3638\n",
              "\\item[\\$aciertos] 207\n",
              "\\item[\\$ganancia\\_test] 309466666.666667\n",
              "\\end{description}\n",
              "\n",
              "\\item \\begin{description}\n",
              "\\item[\\$semilla] 500009\n",
              "\\item[\\$testing] 49033\n",
              "\\item[\\$testing\\_pos] 339\n",
              "\\item[\\$envios] 3282\n",
              "\\item[\\$aciertos] 190\n",
              "\\item[\\$ganancia\\_test] 287866666.666667\n",
              "\\end{description}\n",
              "\n",
              "\\item \\begin{description}\n",
              "\\item[\\$semilla] 600011\n",
              "\\item[\\$testing] 49023\n",
              "\\item[\\$testing\\_pos] 334\n",
              "\\item[\\$envios] 3044\n",
              "\\item[\\$aciertos] 194\n",
              "\\item[\\$ganancia\\_test] 314400000\n",
              "\\end{description}\n",
              "\n",
              "\\end{enumerate}\n"
            ],
            "text/markdown": [
              "1. $semilla\n",
              ":   200003\n",
              "$testing\n",
              ":   49023\n",
              "$testing_pos\n",
              ":   336\n",
              "$envios\n",
              ":   2481\n",
              "$aciertos\n",
              ":   175\n",
              "$ganancia_test\n",
              ":   301266666.666667\n",
              "\n",
              "\n",
              "\n",
              "2. $semilla\n",
              ":   300007\n",
              "$testing\n",
              ":   49027\n",
              "$testing_pos\n",
              ":   340\n",
              "$envios\n",
              ":   2685\n",
              "$aciertos\n",
              ":   177\n",
              "$ganancia_test\n",
              ":   2.93e+08\n",
              "\n",
              "\n",
              "\n",
              "3. $semilla\n",
              ":   400009\n",
              "$testing\n",
              ":   49026\n",
              "$testing_pos\n",
              ":   341\n",
              "$envios\n",
              ":   3638\n",
              "$aciertos\n",
              ":   207\n",
              "$ganancia_test\n",
              ":   309466666.666667\n",
              "\n",
              "\n",
              "\n",
              "4. $semilla\n",
              ":   500009\n",
              "$testing\n",
              ":   49033\n",
              "$testing_pos\n",
              ":   339\n",
              "$envios\n",
              ":   3282\n",
              "$aciertos\n",
              ":   190\n",
              "$ganancia_test\n",
              ":   287866666.666667\n",
              "\n",
              "\n",
              "\n",
              "5. $semilla\n",
              ":   600011\n",
              "$testing\n",
              ":   49023\n",
              "$testing_pos\n",
              ":   334\n",
              "$envios\n",
              ":   3044\n",
              "$aciertos\n",
              ":   194\n",
              "$ganancia_test\n",
              ":   314400000\n",
              "\n",
              "\n",
              "\n",
              "\n",
              "\n"
            ],
            "text/plain": [
              "[[1]]\n",
              "[[1]]$semilla\n",
              "[1] 200003\n",
              "\n",
              "[[1]]$testing\n",
              "[1] 49023\n",
              "\n",
              "[[1]]$testing_pos\n",
              "[1] 336\n",
              "\n",
              "[[1]]$envios\n",
              "[1] 2481\n",
              "\n",
              "[[1]]$aciertos\n",
              "[1] 175\n",
              "\n",
              "[[1]]$ganancia_test\n",
              "[1] 301266667\n",
              "\n",
              "\n",
              "[[2]]\n",
              "[[2]]$semilla\n",
              "[1] 300007\n",
              "\n",
              "[[2]]$testing\n",
              "[1] 49027\n",
              "\n",
              "[[2]]$testing_pos\n",
              "[1] 340\n",
              "\n",
              "[[2]]$envios\n",
              "[1] 2685\n",
              "\n",
              "[[2]]$aciertos\n",
              "[1] 177\n",
              "\n",
              "[[2]]$ganancia_test\n",
              "[1] 2.93e+08\n",
              "\n",
              "\n",
              "[[3]]\n",
              "[[3]]$semilla\n",
              "[1] 400009\n",
              "\n",
              "[[3]]$testing\n",
              "[1] 49026\n",
              "\n",
              "[[3]]$testing_pos\n",
              "[1] 341\n",
              "\n",
              "[[3]]$envios\n",
              "[1] 3638\n",
              "\n",
              "[[3]]$aciertos\n",
              "[1] 207\n",
              "\n",
              "[[3]]$ganancia_test\n",
              "[1] 309466667\n",
              "\n",
              "\n",
              "[[4]]\n",
              "[[4]]$semilla\n",
              "[1] 500009\n",
              "\n",
              "[[4]]$testing\n",
              "[1] 49033\n",
              "\n",
              "[[4]]$testing_pos\n",
              "[1] 339\n",
              "\n",
              "[[4]]$envios\n",
              "[1] 3282\n",
              "\n",
              "[[4]]$aciertos\n",
              "[1] 190\n",
              "\n",
              "[[4]]$ganancia_test\n",
              "[1] 287866667\n",
              "\n",
              "\n",
              "[[5]]\n",
              "[[5]]$semilla\n",
              "[1] 600011\n",
              "\n",
              "[[5]]$testing\n",
              "[1] 49023\n",
              "\n",
              "[[5]]$testing_pos\n",
              "[1] 334\n",
              "\n",
              "[[5]]$envios\n",
              "[1] 3044\n",
              "\n",
              "[[5]]$aciertos\n",
              "[1] 194\n",
              "\n",
              "[[5]]$ganancia_test\n",
              "[1] 314400000\n",
              "\n"
            ]
          },
          "metadata": {},
          "output_type": "display_data"
        }
      ],
      "source": [
        "# la funcion mcmapply  llama a la funcion ArbolEstimarGanancia\n",
        "#  tantas veces como valores tenga el vector  PARAM$semillas\n",
        "salidas <- mcmapply(ArbolEstimarGanancia,\n",
        "  PARAM$semillas, # paso el vector de semillas\n",
        "  MoreArgs = list(PARAM), # aqui paso el segundo parametro\n",
        "  SIMPLIFY = FALSE,\n",
        "  mc.cores = detectCores()\n",
        ")\n",
        "\n",
        "# muestro la lista de las salidas en testing\n",
        "#  para la particion realizada con cada semilla\n",
        "salidas"
      ]
    },
    {
      "cell_type": "code",
      "execution_count": 37,
      "metadata": {
        "colab": {
          "base_uri": "https://localhost:8080/"
        },
        "id": "tML9VmH2ECFK",
        "outputId": "968bbeba-dd25-4bd7-e560-865176f859e6",
        "vscode": {
          "languageId": "r"
        }
      },
      "outputs": [
        {
          "name": "stdout",
          "output_type": "stream",
          "text": [
            "   semilla testing testing_pos envios aciertos ganancia_test\n",
            "     <num>   <int>       <int>  <int>    <int>         <num>\n",
            "1:  200003   49023         336   2481      175     301266667\n",
            "2:  300007   49027         340   2685      177     293000000\n",
            "3:  400009   49026         341   3638      207     309466667\n",
            "4:  500009   49033         339   3282      190     287866667\n",
            "5:  600011   49023         334   3044      194     314400000\n"
          ]
        }
      ],
      "source": [
        "# paso la lista a vector\n",
        "tb_salida <- rbindlist(salidas)\n",
        "print( tb_salida)"
      ]
    },
    {
      "cell_type": "code",
      "execution_count": 38,
      "metadata": {
        "colab": {
          "base_uri": "https://localhost:8080/"
        },
        "id": "rbHXPfoVENQB",
        "outputId": "5dc9021c-b0d5-42eb-9cb8-651e72a5f6d7",
        "vscode": {
          "languageId": "r"
        }
      },
      "outputs": [
        {
          "name": "stdout",
          "output_type": "stream",
          "text": [
            "ganancia promedio:  301200000 \n"
          ]
        }
      ],
      "source": [
        "# finalmente calculo la media (promedio)  de las ganancias\n",
        "cat( \"ganancia promedio: \", tb_salida[, mean(ganancia_test)], \"\\n\" )"
      ]
    },
    {
      "cell_type": "markdown",
      "metadata": {
        "id": "_3xVH6UKA2W6"
      },
      "source": [
        "### Acciones a realizar\n",
        "* Reportar la  *Ganancia Promedio* <br> en la planilla colaborativa hoja  **C2-5sem**\n",
        "* Se discutirá en clase la variabilidad de estos \"ganancia promedio de cinco semillas\""
      ]
    },
    {
      "cell_type": "markdown",
      "metadata": {
        "id": "N29m1XGpA2W7"
      },
      "source": [
        "\n",
        "\n",
        "---\n",
        "\n"
      ]
    },
    {
      "cell_type": "markdown",
      "metadata": {
        "id": "zS7WIJciFGc6"
      },
      "source": [
        "# 3  Generando n semillas en forma automatica\n",
        "## Clase 02  Experimento 3"
      ]
    },
    {
      "cell_type": "markdown",
      "metadata": {
        "id": "VmiFDDDJFUEo"
      },
      "source": [
        "## 3.1  Objetivos\n",
        "Mostrar la creación de nuevas semillas a partir de la librería Primes"
      ]
    },
    {
      "cell_type": "markdown",
      "metadata": {
        "id": "Ehe3VfdfFbvg"
      },
      "source": [
        "3.2  Código\n",
        "\n",
        "Como generar muchas semillas a partir de una"
      ]
    },
    {
      "cell_type": "code",
      "execution_count": 39,
      "metadata": {
        "colab": {
          "base_uri": "https://localhost:8080/"
        },
        "id": "X6_dE42yF2-t",
        "outputId": "1ba3c6da-8c78-4dd8-e85b-428d323ef616",
        "vscode": {
          "languageId": "r"
        }
      },
      "outputs": [
        {
          "name": "stderr",
          "output_type": "stream",
          "text": [
            "Cargando paquete requerido: primes\n",
            "\n",
            "Warning message in library(package, lib.loc = lib.loc, character.only = TRUE, logical.return = TRUE, :\n",
            "\"no hay paquete llamado 'primes'\"\n",
            "Installing package into 'C:/Users/nacho/AppData/Local/R/win-library/4.4'\n",
            "(as 'lib' is unspecified)\n",
            "\n"
          ]
        },
        {
          "name": "stdout",
          "output_type": "stream",
          "text": [
            "package 'primes' successfully unpacked and MD5 sums checked\n",
            "\n",
            "The downloaded binary packages are in\n",
            "\tC:\\Users\\nacho\\AppData\\Local\\Temp\\RtmpkZEsMA\\downloaded_packages\n"
          ]
        },
        {
          "name": "stderr",
          "output_type": "stream",
          "text": [
            "Cargando paquete requerido: primes\n",
            "\n"
          ]
        }
      ],
      "source": [
        "# instalo y cargo la libreria  primes\n",
        "if (!require(\"primes\")) install.packages(\"primes\")\n",
        "require(\"primes\")"
      ]
    },
    {
      "cell_type": "code",
      "execution_count": 40,
      "metadata": {
        "colab": {
          "base_uri": "https://localhost:8080/"
        },
        "id": "yDU9RyV4FNhZ",
        "outputId": "132651b9-40ff-4a8f-c2c5-532e6fc75787",
        "vscode": {
          "languageId": "r"
        }
      },
      "outputs": [
        {
          "name": "stdout",
          "output_type": "stream",
          "text": [
            " [1] 378821 964333 187049 205151 813697 344719 127217 464371 645137 480803\n",
            "[11] 723319 314641 791599 937577 685649 619363 390539 465887 619657 195737\n"
          ]
        }
      ],
      "source": [
        "# genero numeros primos\n",
        "primos <- generate_primes(min = 100000, max = 1000000)\n",
        "\n",
        "\n",
        "set.seed(102191) # inicializo con mi primer semilla\n",
        "\n",
        "# me quedo con por ejemplo 20 primos al azar\n",
        "semillas <- sample(primos, 20 )\n",
        "\n",
        "print( semillas )"
      ]
    },
    {
      "cell_type": "markdown",
      "metadata": {
        "id": "eD_cO5VTGGea"
      },
      "source": [
        "\n",
        "\n",
        "---\n",
        "\n"
      ]
    },
    {
      "cell_type": "markdown",
      "metadata": {
        "id": "cZi29THsGil_"
      },
      "source": [
        "# 4  Medición  50-Monte Carlo Cross Validation\n",
        "## Clase 02  Experimento 4"
      ]
    },
    {
      "cell_type": "markdown",
      "metadata": {
        "id": "qFNq6ntVGimN"
      },
      "source": [
        "## 4.1  Objetivos\n",
        "Calcular la ganancia del modelo utilizando 50 semillas nuevas generadas a partir de mi semilla primigenia."
      ]
    },
    {
      "cell_type": "markdown",
      "metadata": {
        "id": "B6KtuhQCGimP"
      },
      "source": [
        "## 4.4 Codigo  50 Montecarlo"
      ]
    },
    {
      "cell_type": "markdown",
      "metadata": {
        "id": "LgGgjPQuGimP"
      },
      "source": [
        "Esta parte se debe correr con el runtime en lenguaje **R** Ir al menu, Runtime -> Change Runtime Tipe -> Runtime type -> R"
      ]
    },
    {
      "cell_type": "markdown",
      "metadata": {
        "id": "E82ChuO25OYx"
      },
      "source": [
        "Este punto demora en correr 60 minutos en Google Colab, con lo cual para continuar con el punto siguiente deberá abrir un nuevo Colab"
      ]
    },
    {
      "cell_type": "markdown",
      "metadata": {
        "id": "a6AxqLwOGimQ"
      },
      "source": [
        "limpio el ambiente de R"
      ]
    },
    {
      "cell_type": "code",
<<<<<<< HEAD
      "execution_count": 26,
=======
      "execution_count": 1,
>>>>>>> 4c354cd (Actualización del repositorio)
      "metadata": {
        "colab": {
          "base_uri": "https://localhost:8080/",
          "height": 129
        },
        "id": "797Ad0_QGimQ",
        "outputId": "9432b013-b2ac-42ad-cd63-8a41908c949b",
        "vscode": {
          "languageId": "r"
        }
      },
      "outputs": [
        {
          "data": {
            "text/html": [
              "<table class=\"dataframe\">\n",
              "<caption>A matrix: 2 × 6 of type dbl</caption>\n",
              "<thead>\n",
              "\t<tr><th></th><th scope=col>used</th><th scope=col>(Mb)</th><th scope=col>gc trigger</th><th scope=col>(Mb)</th><th scope=col>max used</th><th scope=col>(Mb)</th></tr>\n",
              "</thead>\n",
              "<tbody>\n",
<<<<<<< HEAD
              "\t<tr><th scope=row>Ncells</th><td> 1112733</td><td> 59.5</td><td> 1819118</td><td> 97.2</td><td>  1819118</td><td>  97.2</td></tr>\n",
              "\t<tr><th scope=row>Vcells</th><td>20886015</td><td>159.4</td><td>66761035</td><td>509.4</td><td>211742910</td><td>1615.5</td></tr>\n",
=======
              "\t<tr><th scope=row>Ncells</th><td> 647814</td><td>34.6</td><td>1431227</td><td>76.5</td><td>1340599</td><td>71.6</td></tr>\n",
              "\t<tr><th scope=row>Vcells</th><td>1197892</td><td> 9.2</td><td>8388608</td><td>64.0</td><td>1963360</td><td>15.0</td></tr>\n",
>>>>>>> 4c354cd (Actualización del repositorio)
              "</tbody>\n",
              "</table>\n"
            ],
            "text/latex": [
              "A matrix: 2 × 6 of type dbl\n",
              "\\begin{tabular}{r|llllll}\n",
              "  & used & (Mb) & gc trigger & (Mb) & max used & (Mb)\\\\\n",
              "\\hline\n",
<<<<<<< HEAD
              "\tNcells &  1112733 &  59.5 &  1819118 &  97.2 &   1819118 &   97.2\\\\\n",
              "\tVcells & 20886015 & 159.4 & 66761035 & 509.4 & 211742910 & 1615.5\\\\\n",
=======
              "\tNcells &  647814 & 34.6 & 1431227 & 76.5 & 1340599 & 71.6\\\\\n",
              "\tVcells & 1197892 &  9.2 & 8388608 & 64.0 & 1963360 & 15.0\\\\\n",
>>>>>>> 4c354cd (Actualización del repositorio)
              "\\end{tabular}\n"
            ],
            "text/markdown": [
              "\n",
              "A matrix: 2 × 6 of type dbl\n",
              "\n",
              "| <!--/--> | used | (Mb) | gc trigger | (Mb) | max used | (Mb) |\n",
              "|---|---|---|---|---|---|---|\n",
<<<<<<< HEAD
              "| Ncells |  1112733 |  59.5 |  1819118 |  97.2 |   1819118 |   97.2 |\n",
              "| Vcells | 20886015 | 159.4 | 66761035 | 509.4 | 211742910 | 1615.5 |\n",
              "\n"
            ],
            "text/plain": [
              "       used     (Mb)  gc trigger (Mb)  max used  (Mb)  \n",
              "Ncells  1112733  59.5  1819118    97.2   1819118   97.2\n",
              "Vcells 20886015 159.4 66761035   509.4 211742910 1615.5"
=======
              "| Ncells |  647814 | 34.6 | 1431227 | 76.5 | 1340599 | 71.6 |\n",
              "| Vcells | 1197892 |  9.2 | 8388608 | 64.0 | 1963360 | 15.0 |\n",
              "\n"
            ],
            "text/plain": [
              "       used    (Mb) gc trigger (Mb) max used (Mb)\n",
              "Ncells  647814 34.6 1431227    76.5 1340599  71.6\n",
              "Vcells 1197892  9.2 8388608    64.0 1963360  15.0"
>>>>>>> 4c354cd (Actualización del repositorio)
            ]
          },
          "metadata": {},
          "output_type": "display_data"
        }
      ],
      "source": [
        "# limpio la memoria\n",
        "rm(list=ls(all.names=TRUE)) # remove all objects\n",
        "gc(full=TRUE, verbose=FALSE) # garbage collection"
      ]
    },
    {
      "cell_type": "markdown",
      "metadata": {
        "id": "v0CepvbjGimQ"
      },
      "source": [
        "* Instalacion de la libreria  rpart.plot  para dibujar el arbol\n",
        "* invocacion de las librerias  **data.table** y  **rpart**"
      ]
    },
    {
      "cell_type": "code",
<<<<<<< HEAD
      "execution_count": 27,
=======
      "execution_count": 2,
>>>>>>> 4c354cd (Actualización del repositorio)
      "metadata": {
        "id": "CRkZ1V2_GimR",
        "vscode": {
          "languageId": "r"
        }
      },
<<<<<<< HEAD
      "outputs": [],
=======
      "outputs": [
        {
          "name": "stderr",
          "output_type": "stream",
          "text": [
            "Cargando paquete requerido: data.table\n",
            "\n"
          ]
        },
        {
          "name": "stderr",
          "output_type": "stream",
          "text": [
            "Cargando paquete requerido: rpart\n",
            "\n",
            "Cargando paquete requerido: parallel\n",
            "\n",
            "Cargando paquete requerido: R.utils\n",
            "\n",
            "Cargando paquete requerido: R.oo\n",
            "\n",
            "Cargando paquete requerido: R.methodsS3\n",
            "\n",
            "R.methodsS3 v1.8.2 (2022-06-13 22:00:14 UTC) successfully loaded. See ?R.methodsS3 for help.\n",
            "\n",
            "R.oo v1.27.1 (2025-05-02 21:00:05 UTC) successfully loaded. See ?R.oo for help.\n",
            "\n",
            "\n",
            "Adjuntando el paquete: 'R.oo'\n",
            "\n",
            "\n",
            "The following object is masked from 'package:R.methodsS3':\n",
            "\n",
            "    throw\n",
            "\n",
            "\n",
            "The following objects are masked from 'package:methods':\n",
            "\n",
            "    getClasses, getMethods\n",
            "\n",
            "\n",
            "The following objects are masked from 'package:base':\n",
            "\n",
            "    attach, detach, load, save\n",
            "\n",
            "\n",
            "R.utils v2.13.0 (2025-02-24 21:20:02 UTC) successfully loaded. See ?R.utils for help.\n",
            "\n",
            "\n",
            "Adjuntando el paquete: 'R.utils'\n",
            "\n",
            "\n",
            "The following object is masked from 'package:utils':\n",
            "\n",
            "    timestamp\n",
            "\n",
            "\n",
            "The following objects are masked from 'package:base':\n",
            "\n",
            "    cat, commandArgs, getOption, isOpen, nullfile, parse, use, warnings\n",
            "\n",
            "\n",
            "Cargando paquete requerido: primes\n",
            "\n",
            "Cargando paquete requerido: future.apply\n",
            "\n",
            "Cargando paquete requerido: future\n",
            "\n",
            "\n",
            "Adjuntando el paquete: 'future'\n",
            "\n",
            "\n",
            "The following object is masked from 'package:R.utils':\n",
            "\n",
            "    reset\n",
            "\n",
            "\n"
          ]
        }
      ],
>>>>>>> 4c354cd (Actualización del repositorio)
      "source": [
        "# cargo las librerias que necesito\n",
        "require(\"data.table\")\n",
        "require(\"rpart\")\n",
        "require(\"parallel\")\n",
        "\n",
        "if(!require(\"R.utils\")) install.packages(\"R.utils\")\n",
        "require(\"R.utils\")\n",
        "\n",
        "if (!require(\"primes\")) install.packages(\"primes\")\n",
<<<<<<< HEAD
        "require(\"primes\")"
=======
        "require(\"primes\")\n",
        "\n",
        "if (!require(\"future.apply\")) install.packages(\"future.apply\")\n",
        "require(\"future.apply\")"
>>>>>>> 4c354cd (Actualización del repositorio)
      ]
    },
    {
      "cell_type": "markdown",
      "metadata": {
        "id": "PZKJG-nSGimR"
      },
      "source": [
        "###  Accion a Realizar\n",
        "PARAM$semilla_primigenia  debe reemplazarse por SU primer semilla"
      ]
    },
    {
      "cell_type": "code",
<<<<<<< HEAD
      "execution_count": 28,
=======
      "execution_count": 3,
>>>>>>> 4c354cd (Actualización del repositorio)
      "metadata": {
        "id": "4kbkA-2HGimR",
        "vscode": {
          "languageId": "r"
        }
      },
      "outputs": [],
      "source": [
        "PARAM <- list()\n",
        "PARAM$semilla_primigenia <- 200003\n",
        "PARAM$qsemillas <- 50\n",
        "PARAM$training_pct <- 70L  # entre  1L y 99L\n",
        "\n",
        "PARAM$rpart <- list (\n",
        "  \"cp\" = -1, # complejidad minima\n",
        "  \"minsplit\" = 170, # minima cantidad de regs en un nodo para hacer el split\n",
        "  \"minbucket\" = 70, # minima cantidad de regs en una hoja\n",
        "  \"maxdepth\" = 7 # profundidad máxima del arbol\n",
        ")\n"
      ]
    },
    {
      "cell_type": "code",
<<<<<<< HEAD
      "execution_count": 29,
=======
      "execution_count": 4,
>>>>>>> 4c354cd (Actualización del repositorio)
      "metadata": {
        "id": "HME0qUeOGimS",
        "vscode": {
          "languageId": "r"
        }
      },
      "outputs": [],
      "source": [
        "# particionar agrega una columna llamada fold a un dataset\n",
        "#  que consiste en una particion estratificada segun agrupa\n",
        "\n",
        "# particionar( data=dataset, division=c(70,30),\n",
        "#  agrupa=clase_ternaria, seed=semilla)   crea una particion 70, 30\n",
        "\n",
        "particionar <- function(\n",
        "    data, division, agrupa = \"\",\n",
        "    campo = \"fold\", start = 1, seed = NA) {\n",
        "  if (!is.na(seed)) set.seed(seed)\n",
        "\n",
        "  bloque <- unlist(mapply(function(x, y) {\n",
        "    rep(y, x)\n",
        "  }, division, seq(from = start, length.out = length(division))))\n",
        "\n",
        "  data[, (campo) := sample(rep(bloque, ceiling(.N / length(bloque))))[1:.N],\n",
        "    by = agrupa\n",
        "  ]\n",
        "}"
      ]
    },
    {
      "cell_type": "code",
<<<<<<< HEAD
      "execution_count": 30,
=======
      "execution_count": 5,
>>>>>>> 4c354cd (Actualización del repositorio)
      "metadata": {
        "id": "ro9Ufoi-GimS",
        "vscode": {
          "languageId": "r"
        }
      },
      "outputs": [],
      "source": [
        "ArbolEstimarGanancia <- function(semilla, param_basicos) {\n",
        "  # particiono estratificadamente el dataset\n",
        "  particionar(dataset,\n",
        "    division = c(param_basicos$training_pct, 100L -param_basicos$training_pct),\n",
        "    agrupa = \"clase_ternaria\",\n",
        "    seed = semilla # aqui se usa SU semilla\n",
        "  )\n",
        "\n",
        "  # genero el modelo\n",
        "  # predecir clase_ternaria a partir del resto\n",
        "  modelo <- rpart(\"clase_ternaria ~ .\",\n",
        "    data = dataset[fold == 1], # fold==1  es training,  el 70% de los datos\n",
        "    xval = 0,\n",
        "    control = param_basicos$rpart\n",
        "  ) # aqui van los parametros del arbol\n",
        "\n",
        "  # aplico el modelo a los datos de testing\n",
        "  prediccion <- predict(modelo, # el modelo que genere recien\n",
        "    dataset[fold == 2], # fold==2  es testing, el 30% de los datos\n",
        "    type = \"prob\"\n",
        "  ) # type= \"prob\"  es que devuelva la probabilidad\n",
        "\n",
        "  # prediccion es una matriz con TRES columnas,\n",
        "  #  llamadas \"BAJA+1\", \"BAJA+2\"  y \"CONTINUA\"\n",
        "  # cada columna es el vector de probabilidades\n",
        "\n",
        "\n",
        "  # calculo la ganancia en testing  qu es fold==2\n",
        "  ganancia_test <- dataset[\n",
        "    fold == 2,\n",
        "    sum(ifelse(prediccion[, \"BAJA+2\"] > 0.025,\n",
        "      ifelse(clase_ternaria == \"BAJA+2\", 780000, -20000),\n",
        "      0\n",
        "    ))\n",
        "  ]\n",
        "\n",
        "  # escalo la ganancia como si fuera todo el dataset\n",
        "  ganancia_test_normalizada <- ganancia_test / (( 100 - PARAM$training_pct ) / 100 )\n",
        "\n",
        "  return(list(\n",
        "    \"semilla\" = semilla,\n",
        "    \"testing\" = dataset[fold == 2, .N],\n",
        "    \"testing_pos\" = dataset[fold == 2 & clase_ternaria == \"BAJA+2\", .N],\n",
        "    \"envios\" = dataset[fold == 2, sum(prediccion[, \"BAJA+2\"] > 0.025)],\n",
        "    \"aciertos\" = dataset[\n",
        "        fold == 2,\n",
        "        sum(prediccion[, \"BAJA+2\"] > 0.025 & clase_ternaria == \"BAJA+2\")\n",
        "    ],\n",
        "    \"ganancia_test\" = ganancia_test_normalizada\n",
        "  ))\n",
        "}"
      ]
    },
    {
      "cell_type": "code",
      "execution_count": null,
      "metadata": {
        "id": "gz7LgltwGimT",
        "vscode": {
          "languageId": "r"
        }
      },
      "outputs": [],
      "source": [
        "# carpeta de trabajo\n",
        "setwd(\"/content/buckets/b1/exp\")\n",
        "experimento <- \"exp0204\"\n",
        "dir.create(experimento, showWarnings=FALSE)\n",
        "setwd( paste0(\"/content/buckets/b1/exp/\", experimento ))"
      ]
    },
    {
      "cell_type": "code",
<<<<<<< HEAD
      "execution_count": 31,
=======
      "execution_count": 6,
>>>>>>> 4c354cd (Actualización del repositorio)
      "metadata": {
        "colab": {
          "base_uri": "https://localhost:8080/",
          "height": 34
        },
        "id": "xRXKHeLeGimT",
        "outputId": "eda444c0-618c-4ec4-a3cc-8520892e0cdc",
        "vscode": {
          "languageId": "r"
        }
      },
      "outputs": [
        {
          "data": {
            "text/html": [
              "978439"
            ],
            "text/latex": [
              "978439"
            ],
            "text/markdown": [
              "978439"
            ],
            "text/plain": [
              "[1] 978439"
            ]
          },
          "metadata": {},
          "output_type": "display_data"
        }
      ],
      "source": [
        "# lectura del dataset\n",
        "#dataset <- fread(\"/content/datasets/competencia_01.csv.gz\")\n",
        "dataset <- fread(\"./competencia_01.csv.gz\")\n",
        "nrow(dataset)"
      ]
    },
    {
      "cell_type": "code",
<<<<<<< HEAD
      "execution_count": 32,
=======
      "execution_count": 7,
>>>>>>> 4c354cd (Actualización del repositorio)
      "metadata": {
        "colab": {
          "base_uri": "https://localhost:8080/",
          "height": 210
        },
        "id": "ejWYrB53hs_h",
        "outputId": "6b73d1d6-af20-4003-9571-4a40ba3572a7",
        "vscode": {
          "languageId": "r"
        }
      },
      "outputs": [
        {
          "data": {
            "text/html": [
              "163418"
            ],
            "text/latex": [
              "163418"
            ],
            "text/markdown": [
              "163418"
            ],
            "text/plain": [
              "[1] 163418"
            ]
          },
          "metadata": {},
          "output_type": "display_data"
        },
        {
          "data": {
            "text/html": [
              "<table class=\"dataframe\">\n",
              "<caption>A data.table: 3 × 3</caption>\n",
              "<thead>\n",
              "\t<tr><th scope=col>foto_mes</th><th scope=col>clase_ternaria</th><th scope=col>N</th></tr>\n",
              "\t<tr><th scope=col>&lt;int&gt;</th><th scope=col>&lt;chr&gt;</th><th scope=col>&lt;int&gt;</th></tr>\n",
              "</thead>\n",
              "<tbody>\n",
              "\t<tr><td>202104</td><td>CONTINUA</td><td>161333</td></tr>\n",
              "\t<tr><td>202104</td><td>BAJA+1  </td><td>   955</td></tr>\n",
              "\t<tr><td>202104</td><td>BAJA+2  </td><td>  1130</td></tr>\n",
              "</tbody>\n",
              "</table>\n"
            ],
            "text/latex": [
              "A data.table: 3 × 3\n",
              "\\begin{tabular}{lll}\n",
              " foto\\_mes & clase\\_ternaria & N\\\\\n",
              " <int> & <chr> & <int>\\\\\n",
              "\\hline\n",
              "\t 202104 & CONTINUA & 161333\\\\\n",
              "\t 202104 & BAJA+1   &    955\\\\\n",
              "\t 202104 & BAJA+2   &   1130\\\\\n",
              "\\end{tabular}\n"
            ],
            "text/markdown": [
              "\n",
              "A data.table: 3 × 3\n",
              "\n",
              "| foto_mes &lt;int&gt; | clase_ternaria &lt;chr&gt; | N &lt;int&gt; |\n",
              "|---|---|---|\n",
              "| 202104 | CONTINUA | 161333 |\n",
              "| 202104 | BAJA+1   |    955 |\n",
              "| 202104 | BAJA+2   |   1130 |\n",
              "\n"
            ],
            "text/plain": [
              "  foto_mes clase_ternaria N     \n",
              "1 202104   CONTINUA       161333\n",
              "2 202104   BAJA+1            955\n",
              "3 202104   BAJA+2           1130"
            ]
          },
          "metadata": {},
          "output_type": "display_data"
        }
      ],
      "source": [
        "# trabajo solo con los datos de 202104, ultimo mes con clase_ternaria completa\n",
        "# filtro datos\n",
        "dataset <- dataset[foto_mes==202104]\n",
        "\n",
        "invisible(gc(full=TRUE, verbose=FALSE)) # garbage collection\n",
        "\n",
        "nrow(dataset)\n",
        "dataset[, .N, list(foto_mes,clase_ternaria)]"
      ]
    },
    {
      "cell_type": "code",
<<<<<<< HEAD
      "execution_count": 33,
=======
      "execution_count": 8,
>>>>>>> 4c354cd (Actualización del repositorio)
      "metadata": {
        "id": "MdpZ10qiHSZy",
        "vscode": {
          "languageId": "r"
        }
      },
      "outputs": [],
      "source": [
        "# genero numeros primos\n",
        "primos <- generate_primes(min = 100000, max = 1000000)\n",
        "set.seed(PARAM$semilla_primigenia) # inicializo\n",
        "\n",
        "# me quedo con PARAM$qsemillas   semillas\n",
        "PARAM$semillas <- sample(primos, PARAM$qsemillas )"
      ]
    },
    {
      "cell_type": "code",
      "execution_count": null,
      "metadata": {
        "colab": {
          "base_uri": "https://localhost:8080/",
          "height": 1000
        },
        "id": "r-YaawpgGimU",
        "outputId": "1b76ca31-f300-47b2-d409-cb318c7ef04f",
        "vscode": {
          "languageId": "r"
        }
      },
      "outputs": [],
      "source": [
        "# la funcion mcmapply llama a la funcion ArbolEstimarGanancia\n",
        "#  tantas veces como valores tenga el vector  PARAM$semillas\n",
        "salidas <- mcmapply(ArbolEstimarGanancia,\n",
        "  PARAM$semillas, # paso el vector de semillas\n",
        "  MoreArgs = list(PARAM), # aqui paso el segundo parametro\n",
        "  SIMPLIFY = FALSE,\n",
        "  mc.cores = detectCores()\n",
        ")\n",
        "\n",
        "# muestro la lista de las salidas en testing\n",
        "#  para la particion realizada con cada semilla\n",
        "salidas"
      ]
    },
    {
      "cell_type": "code",
      "execution_count": null,
      "metadata": {
        "vscode": {
          "languageId": "r"
        }
      },
      "outputs": [
        {
<<<<<<< HEAD
          "data": {
            "text/html": [
              "<ol>\n",
              "\t<li><style>\n",
              ".list-inline {list-style: none; margin:0; padding: 0}\n",
              ".list-inline>li {display: inline-block}\n",
              ".list-inline>li:not(:last-child)::after {content: \"\\00b7\"; padding: 0 .5ex}\n",
              "</style>\n",
              "<ol class=list-inline><li>'data.table'</li><li>'rpart'</li><li>'stats'</li><li>'graphics'</li><li>'grDevices'</li><li>'utils'</li><li>'datasets'</li><li>'methods'</li><li>'base'</li></ol>\n",
              "</li>\n",
              "\t<li><style>\n",
              ".list-inline {list-style: none; margin:0; padding: 0}\n",
              ".list-inline>li {display: inline-block}\n",
              ".list-inline>li:not(:last-child)::after {content: \"\\00b7\"; padding: 0 .5ex}\n",
              "</style>\n",
              "<ol class=list-inline><li>'data.table'</li><li>'rpart'</li><li>'stats'</li><li>'graphics'</li><li>'grDevices'</li><li>'utils'</li><li>'datasets'</li><li>'methods'</li><li>'base'</li></ol>\n",
              "</li>\n",
              "\t<li><style>\n",
              ".list-inline {list-style: none; margin:0; padding: 0}\n",
              ".list-inline>li {display: inline-block}\n",
              ".list-inline>li:not(:last-child)::after {content: \"\\00b7\"; padding: 0 .5ex}\n",
              "</style>\n",
              "<ol class=list-inline><li>'data.table'</li><li>'rpart'</li><li>'stats'</li><li>'graphics'</li><li>'grDevices'</li><li>'utils'</li><li>'datasets'</li><li>'methods'</li><li>'base'</li></ol>\n",
              "</li>\n",
              "\t<li><style>\n",
              ".list-inline {list-style: none; margin:0; padding: 0}\n",
              ".list-inline>li {display: inline-block}\n",
              ".list-inline>li:not(:last-child)::after {content: \"\\00b7\"; padding: 0 .5ex}\n",
              "</style>\n",
              "<ol class=list-inline><li>'data.table'</li><li>'rpart'</li><li>'stats'</li><li>'graphics'</li><li>'grDevices'</li><li>'utils'</li><li>'datasets'</li><li>'methods'</li><li>'base'</li></ol>\n",
              "</li>\n",
              "\t<li><style>\n",
              ".list-inline {list-style: none; margin:0; padding: 0}\n",
              ".list-inline>li {display: inline-block}\n",
              ".list-inline>li:not(:last-child)::after {content: \"\\00b7\"; padding: 0 .5ex}\n",
              "</style>\n",
              "<ol class=list-inline><li>'data.table'</li><li>'rpart'</li><li>'stats'</li><li>'graphics'</li><li>'grDevices'</li><li>'utils'</li><li>'datasets'</li><li>'methods'</li><li>'base'</li></ol>\n",
              "</li>\n",
              "\t<li><style>\n",
              ".list-inline {list-style: none; margin:0; padding: 0}\n",
              ".list-inline>li {display: inline-block}\n",
              ".list-inline>li:not(:last-child)::after {content: \"\\00b7\"; padding: 0 .5ex}\n",
              "</style>\n",
              "<ol class=list-inline><li>'data.table'</li><li>'rpart'</li><li>'stats'</li><li>'graphics'</li><li>'grDevices'</li><li>'utils'</li><li>'datasets'</li><li>'methods'</li><li>'base'</li></ol>\n",
              "</li>\n",
              "\t<li><style>\n",
              ".list-inline {list-style: none; margin:0; padding: 0}\n",
              ".list-inline>li {display: inline-block}\n",
              ".list-inline>li:not(:last-child)::after {content: \"\\00b7\"; padding: 0 .5ex}\n",
              "</style>\n",
              "<ol class=list-inline><li>'data.table'</li><li>'rpart'</li><li>'stats'</li><li>'graphics'</li><li>'grDevices'</li><li>'utils'</li><li>'datasets'</li><li>'methods'</li><li>'base'</li></ol>\n",
              "</li>\n",
              "\t<li><style>\n",
              ".list-inline {list-style: none; margin:0; padding: 0}\n",
              ".list-inline>li {display: inline-block}\n",
              ".list-inline>li:not(:last-child)::after {content: \"\\00b7\"; padding: 0 .5ex}\n",
              "</style>\n",
              "<ol class=list-inline><li>'data.table'</li><li>'rpart'</li><li>'stats'</li><li>'graphics'</li><li>'grDevices'</li><li>'utils'</li><li>'datasets'</li><li>'methods'</li><li>'base'</li></ol>\n",
              "</li>\n",
              "\t<li><style>\n",
              ".list-inline {list-style: none; margin:0; padding: 0}\n",
              ".list-inline>li {display: inline-block}\n",
              ".list-inline>li:not(:last-child)::after {content: \"\\00b7\"; padding: 0 .5ex}\n",
              "</style>\n",
              "<ol class=list-inline><li>'data.table'</li><li>'rpart'</li><li>'stats'</li><li>'graphics'</li><li>'grDevices'</li><li>'utils'</li><li>'datasets'</li><li>'methods'</li><li>'base'</li></ol>\n",
              "</li>\n",
              "\t<li><style>\n",
              ".list-inline {list-style: none; margin:0; padding: 0}\n",
              ".list-inline>li {display: inline-block}\n",
              ".list-inline>li:not(:last-child)::after {content: \"\\00b7\"; padding: 0 .5ex}\n",
              "</style>\n",
              "<ol class=list-inline><li>'data.table'</li><li>'rpart'</li><li>'stats'</li><li>'graphics'</li><li>'grDevices'</li><li>'utils'</li><li>'datasets'</li><li>'methods'</li><li>'base'</li></ol>\n",
              "</li>\n",
              "\t<li><style>\n",
              ".list-inline {list-style: none; margin:0; padding: 0}\n",
              ".list-inline>li {display: inline-block}\n",
              ".list-inline>li:not(:last-child)::after {content: \"\\00b7\"; padding: 0 .5ex}\n",
              "</style>\n",
              "<ol class=list-inline><li>'data.table'</li><li>'rpart'</li><li>'stats'</li><li>'graphics'</li><li>'grDevices'</li><li>'utils'</li><li>'datasets'</li><li>'methods'</li><li>'base'</li></ol>\n",
              "</li>\n",
              "\t<li><style>\n",
              ".list-inline {list-style: none; margin:0; padding: 0}\n",
              ".list-inline>li {display: inline-block}\n",
              ".list-inline>li:not(:last-child)::after {content: \"\\00b7\"; padding: 0 .5ex}\n",
              "</style>\n",
              "<ol class=list-inline><li>'data.table'</li><li>'rpart'</li><li>'stats'</li><li>'graphics'</li><li>'grDevices'</li><li>'utils'</li><li>'datasets'</li><li>'methods'</li><li>'base'</li></ol>\n",
              "</li>\n",
              "\t<li><style>\n",
              ".list-inline {list-style: none; margin:0; padding: 0}\n",
              ".list-inline>li {display: inline-block}\n",
              ".list-inline>li:not(:last-child)::after {content: \"\\00b7\"; padding: 0 .5ex}\n",
              "</style>\n",
              "<ol class=list-inline><li>'data.table'</li><li>'rpart'</li><li>'stats'</li><li>'graphics'</li><li>'grDevices'</li><li>'utils'</li><li>'datasets'</li><li>'methods'</li><li>'base'</li></ol>\n",
              "</li>\n",
              "\t<li><style>\n",
              ".list-inline {list-style: none; margin:0; padding: 0}\n",
              ".list-inline>li {display: inline-block}\n",
              ".list-inline>li:not(:last-child)::after {content: \"\\00b7\"; padding: 0 .5ex}\n",
              "</style>\n",
              "<ol class=list-inline><li>'data.table'</li><li>'rpart'</li><li>'stats'</li><li>'graphics'</li><li>'grDevices'</li><li>'utils'</li><li>'datasets'</li><li>'methods'</li><li>'base'</li></ol>\n",
              "</li>\n",
              "\t<li><style>\n",
              ".list-inline {list-style: none; margin:0; padding: 0}\n",
              ".list-inline>li {display: inline-block}\n",
              ".list-inline>li:not(:last-child)::after {content: \"\\00b7\"; padding: 0 .5ex}\n",
              "</style>\n",
              "<ol class=list-inline><li>'data.table'</li><li>'rpart'</li><li>'stats'</li><li>'graphics'</li><li>'grDevices'</li><li>'utils'</li><li>'datasets'</li><li>'methods'</li><li>'base'</li></ol>\n",
              "</li>\n",
              "\t<li><style>\n",
              ".list-inline {list-style: none; margin:0; padding: 0}\n",
              ".list-inline>li {display: inline-block}\n",
              ".list-inline>li:not(:last-child)::after {content: \"\\00b7\"; padding: 0 .5ex}\n",
              "</style>\n",
              "<ol class=list-inline><li>'data.table'</li><li>'rpart'</li><li>'stats'</li><li>'graphics'</li><li>'grDevices'</li><li>'utils'</li><li>'datasets'</li><li>'methods'</li><li>'base'</li></ol>\n",
              "</li>\n",
              "</ol>\n"
            ],
            "text/latex": [
              "\\begin{enumerate}\n",
              "\\item \\begin{enumerate*}\n",
              "\\item 'data.table'\n",
              "\\item 'rpart'\n",
              "\\item 'stats'\n",
              "\\item 'graphics'\n",
              "\\item 'grDevices'\n",
              "\\item 'utils'\n",
              "\\item 'datasets'\n",
              "\\item 'methods'\n",
              "\\item 'base'\n",
              "\\end{enumerate*}\n",
              "\n",
              "\\item \\begin{enumerate*}\n",
              "\\item 'data.table'\n",
              "\\item 'rpart'\n",
              "\\item 'stats'\n",
              "\\item 'graphics'\n",
              "\\item 'grDevices'\n",
              "\\item 'utils'\n",
              "\\item 'datasets'\n",
              "\\item 'methods'\n",
              "\\item 'base'\n",
              "\\end{enumerate*}\n",
              "\n",
              "\\item \\begin{enumerate*}\n",
              "\\item 'data.table'\n",
              "\\item 'rpart'\n",
              "\\item 'stats'\n",
              "\\item 'graphics'\n",
              "\\item 'grDevices'\n",
              "\\item 'utils'\n",
              "\\item 'datasets'\n",
              "\\item 'methods'\n",
              "\\item 'base'\n",
              "\\end{enumerate*}\n",
              "\n",
              "\\item \\begin{enumerate*}\n",
              "\\item 'data.table'\n",
              "\\item 'rpart'\n",
              "\\item 'stats'\n",
              "\\item 'graphics'\n",
              "\\item 'grDevices'\n",
              "\\item 'utils'\n",
              "\\item 'datasets'\n",
              "\\item 'methods'\n",
              "\\item 'base'\n",
              "\\end{enumerate*}\n",
              "\n",
              "\\item \\begin{enumerate*}\n",
              "\\item 'data.table'\n",
              "\\item 'rpart'\n",
              "\\item 'stats'\n",
              "\\item 'graphics'\n",
              "\\item 'grDevices'\n",
              "\\item 'utils'\n",
              "\\item 'datasets'\n",
              "\\item 'methods'\n",
              "\\item 'base'\n",
              "\\end{enumerate*}\n",
              "\n",
              "\\item \\begin{enumerate*}\n",
              "\\item 'data.table'\n",
              "\\item 'rpart'\n",
              "\\item 'stats'\n",
              "\\item 'graphics'\n",
              "\\item 'grDevices'\n",
              "\\item 'utils'\n",
              "\\item 'datasets'\n",
              "\\item 'methods'\n",
              "\\item 'base'\n",
              "\\end{enumerate*}\n",
              "\n",
              "\\item \\begin{enumerate*}\n",
              "\\item 'data.table'\n",
              "\\item 'rpart'\n",
              "\\item 'stats'\n",
              "\\item 'graphics'\n",
              "\\item 'grDevices'\n",
              "\\item 'utils'\n",
              "\\item 'datasets'\n",
              "\\item 'methods'\n",
              "\\item 'base'\n",
              "\\end{enumerate*}\n",
              "\n",
              "\\item \\begin{enumerate*}\n",
              "\\item 'data.table'\n",
              "\\item 'rpart'\n",
              "\\item 'stats'\n",
              "\\item 'graphics'\n",
              "\\item 'grDevices'\n",
              "\\item 'utils'\n",
              "\\item 'datasets'\n",
              "\\item 'methods'\n",
              "\\item 'base'\n",
              "\\end{enumerate*}\n",
              "\n",
              "\\item \\begin{enumerate*}\n",
              "\\item 'data.table'\n",
              "\\item 'rpart'\n",
              "\\item 'stats'\n",
              "\\item 'graphics'\n",
              "\\item 'grDevices'\n",
              "\\item 'utils'\n",
              "\\item 'datasets'\n",
              "\\item 'methods'\n",
              "\\item 'base'\n",
              "\\end{enumerate*}\n",
              "\n",
              "\\item \\begin{enumerate*}\n",
              "\\item 'data.table'\n",
              "\\item 'rpart'\n",
              "\\item 'stats'\n",
              "\\item 'graphics'\n",
              "\\item 'grDevices'\n",
              "\\item 'utils'\n",
              "\\item 'datasets'\n",
              "\\item 'methods'\n",
              "\\item 'base'\n",
              "\\end{enumerate*}\n",
              "\n",
              "\\item \\begin{enumerate*}\n",
              "\\item 'data.table'\n",
              "\\item 'rpart'\n",
              "\\item 'stats'\n",
              "\\item 'graphics'\n",
              "\\item 'grDevices'\n",
              "\\item 'utils'\n",
              "\\item 'datasets'\n",
              "\\item 'methods'\n",
              "\\item 'base'\n",
              "\\end{enumerate*}\n",
              "\n",
              "\\item \\begin{enumerate*}\n",
              "\\item 'data.table'\n",
              "\\item 'rpart'\n",
              "\\item 'stats'\n",
              "\\item 'graphics'\n",
              "\\item 'grDevices'\n",
              "\\item 'utils'\n",
              "\\item 'datasets'\n",
              "\\item 'methods'\n",
              "\\item 'base'\n",
              "\\end{enumerate*}\n",
              "\n",
              "\\item \\begin{enumerate*}\n",
              "\\item 'data.table'\n",
              "\\item 'rpart'\n",
              "\\item 'stats'\n",
              "\\item 'graphics'\n",
              "\\item 'grDevices'\n",
              "\\item 'utils'\n",
              "\\item 'datasets'\n",
              "\\item 'methods'\n",
              "\\item 'base'\n",
              "\\end{enumerate*}\n",
              "\n",
              "\\item \\begin{enumerate*}\n",
              "\\item 'data.table'\n",
              "\\item 'rpart'\n",
              "\\item 'stats'\n",
              "\\item 'graphics'\n",
              "\\item 'grDevices'\n",
              "\\item 'utils'\n",
              "\\item 'datasets'\n",
              "\\item 'methods'\n",
              "\\item 'base'\n",
              "\\end{enumerate*}\n",
              "\n",
              "\\item \\begin{enumerate*}\n",
              "\\item 'data.table'\n",
              "\\item 'rpart'\n",
              "\\item 'stats'\n",
              "\\item 'graphics'\n",
              "\\item 'grDevices'\n",
              "\\item 'utils'\n",
              "\\item 'datasets'\n",
              "\\item 'methods'\n",
              "\\item 'base'\n",
              "\\end{enumerate*}\n",
              "\n",
              "\\item \\begin{enumerate*}\n",
              "\\item 'data.table'\n",
              "\\item 'rpart'\n",
              "\\item 'stats'\n",
              "\\item 'graphics'\n",
              "\\item 'grDevices'\n",
              "\\item 'utils'\n",
              "\\item 'datasets'\n",
              "\\item 'methods'\n",
              "\\item 'base'\n",
              "\\end{enumerate*}\n",
              "\n",
              "\\end{enumerate}\n"
            ],
            "text/markdown": [
              "1. 1. 'data.table'\n",
              "2. 'rpart'\n",
              "3. 'stats'\n",
              "4. 'graphics'\n",
              "5. 'grDevices'\n",
              "6. 'utils'\n",
              "7. 'datasets'\n",
              "8. 'methods'\n",
              "9. 'base'\n",
              "\n",
              "\n",
              "\n",
              "2. 1. 'data.table'\n",
              "2. 'rpart'\n",
              "3. 'stats'\n",
              "4. 'graphics'\n",
              "5. 'grDevices'\n",
              "6. 'utils'\n",
              "7. 'datasets'\n",
              "8. 'methods'\n",
              "9. 'base'\n",
              "\n",
              "\n",
              "\n",
              "3. 1. 'data.table'\n",
              "2. 'rpart'\n",
              "3. 'stats'\n",
              "4. 'graphics'\n",
              "5. 'grDevices'\n",
              "6. 'utils'\n",
              "7. 'datasets'\n",
              "8. 'methods'\n",
              "9. 'base'\n",
              "\n",
              "\n",
              "\n",
              "4. 1. 'data.table'\n",
              "2. 'rpart'\n",
              "3. 'stats'\n",
              "4. 'graphics'\n",
              "5. 'grDevices'\n",
              "6. 'utils'\n",
              "7. 'datasets'\n",
              "8. 'methods'\n",
              "9. 'base'\n",
              "\n",
              "\n",
              "\n",
              "5. 1. 'data.table'\n",
              "2. 'rpart'\n",
              "3. 'stats'\n",
              "4. 'graphics'\n",
              "5. 'grDevices'\n",
              "6. 'utils'\n",
              "7. 'datasets'\n",
              "8. 'methods'\n",
              "9. 'base'\n",
              "\n",
              "\n",
              "\n",
              "6. 1. 'data.table'\n",
              "2. 'rpart'\n",
              "3. 'stats'\n",
              "4. 'graphics'\n",
              "5. 'grDevices'\n",
              "6. 'utils'\n",
              "7. 'datasets'\n",
              "8. 'methods'\n",
              "9. 'base'\n",
              "\n",
              "\n",
              "\n",
              "7. 1. 'data.table'\n",
              "2. 'rpart'\n",
              "3. 'stats'\n",
              "4. 'graphics'\n",
              "5. 'grDevices'\n",
              "6. 'utils'\n",
              "7. 'datasets'\n",
              "8. 'methods'\n",
              "9. 'base'\n",
              "\n",
              "\n",
              "\n",
              "8. 1. 'data.table'\n",
              "2. 'rpart'\n",
              "3. 'stats'\n",
              "4. 'graphics'\n",
              "5. 'grDevices'\n",
              "6. 'utils'\n",
              "7. 'datasets'\n",
              "8. 'methods'\n",
              "9. 'base'\n",
              "\n",
              "\n",
              "\n",
              "9. 1. 'data.table'\n",
              "2. 'rpart'\n",
              "3. 'stats'\n",
              "4. 'graphics'\n",
              "5. 'grDevices'\n",
              "6. 'utils'\n",
              "7. 'datasets'\n",
              "8. 'methods'\n",
              "9. 'base'\n",
              "\n",
              "\n",
              "\n",
              "10. 1. 'data.table'\n",
              "2. 'rpart'\n",
              "3. 'stats'\n",
              "4. 'graphics'\n",
              "5. 'grDevices'\n",
              "6. 'utils'\n",
              "7. 'datasets'\n",
              "8. 'methods'\n",
              "9. 'base'\n",
              "\n",
              "\n",
              "\n",
              "11. 1. 'data.table'\n",
              "2. 'rpart'\n",
              "3. 'stats'\n",
              "4. 'graphics'\n",
              "5. 'grDevices'\n",
              "6. 'utils'\n",
              "7. 'datasets'\n",
              "8. 'methods'\n",
              "9. 'base'\n",
              "\n",
              "\n",
              "\n",
              "12. 1. 'data.table'\n",
              "2. 'rpart'\n",
              "3. 'stats'\n",
              "4. 'graphics'\n",
              "5. 'grDevices'\n",
              "6. 'utils'\n",
              "7. 'datasets'\n",
              "8. 'methods'\n",
              "9. 'base'\n",
              "\n",
              "\n",
              "\n",
              "13. 1. 'data.table'\n",
              "2. 'rpart'\n",
              "3. 'stats'\n",
              "4. 'graphics'\n",
              "5. 'grDevices'\n",
              "6. 'utils'\n",
              "7. 'datasets'\n",
              "8. 'methods'\n",
              "9. 'base'\n",
              "\n",
              "\n",
              "\n",
              "14. 1. 'data.table'\n",
              "2. 'rpart'\n",
              "3. 'stats'\n",
              "4. 'graphics'\n",
              "5. 'grDevices'\n",
              "6. 'utils'\n",
              "7. 'datasets'\n",
              "8. 'methods'\n",
              "9. 'base'\n",
              "\n",
              "\n",
              "\n",
              "15. 1. 'data.table'\n",
              "2. 'rpart'\n",
              "3. 'stats'\n",
              "4. 'graphics'\n",
              "5. 'grDevices'\n",
              "6. 'utils'\n",
              "7. 'datasets'\n",
              "8. 'methods'\n",
              "9. 'base'\n",
              "\n",
              "\n",
              "\n",
              "16. 1. 'data.table'\n",
              "2. 'rpart'\n",
              "3. 'stats'\n",
              "4. 'graphics'\n",
              "5. 'grDevices'\n",
              "6. 'utils'\n",
              "7. 'datasets'\n",
              "8. 'methods'\n",
              "9. 'base'\n",
              "\n",
              "\n",
              "\n",
              "\n",
              "\n"
            ],
            "text/plain": [
              "[[1]]\n",
              "[1] \"data.table\" \"rpart\"      \"stats\"      \"graphics\"   \"grDevices\" \n",
              "[6] \"utils\"      \"datasets\"   \"methods\"    \"base\"      \n",
              "\n",
              "[[2]]\n",
              "[1] \"data.table\" \"rpart\"      \"stats\"      \"graphics\"   \"grDevices\" \n",
              "[6] \"utils\"      \"datasets\"   \"methods\"    \"base\"      \n",
              "\n",
              "[[3]]\n",
              "[1] \"data.table\" \"rpart\"      \"stats\"      \"graphics\"   \"grDevices\" \n",
              "[6] \"utils\"      \"datasets\"   \"methods\"    \"base\"      \n",
              "\n",
              "[[4]]\n",
              "[1] \"data.table\" \"rpart\"      \"stats\"      \"graphics\"   \"grDevices\" \n",
              "[6] \"utils\"      \"datasets\"   \"methods\"    \"base\"      \n",
              "\n",
              "[[5]]\n",
              "[1] \"data.table\" \"rpart\"      \"stats\"      \"graphics\"   \"grDevices\" \n",
              "[6] \"utils\"      \"datasets\"   \"methods\"    \"base\"      \n",
              "\n",
              "[[6]]\n",
              "[1] \"data.table\" \"rpart\"      \"stats\"      \"graphics\"   \"grDevices\" \n",
              "[6] \"utils\"      \"datasets\"   \"methods\"    \"base\"      \n",
              "\n",
              "[[7]]\n",
              "[1] \"data.table\" \"rpart\"      \"stats\"      \"graphics\"   \"grDevices\" \n",
              "[6] \"utils\"      \"datasets\"   \"methods\"    \"base\"      \n",
              "\n",
              "[[8]]\n",
              "[1] \"data.table\" \"rpart\"      \"stats\"      \"graphics\"   \"grDevices\" \n",
              "[6] \"utils\"      \"datasets\"   \"methods\"    \"base\"      \n",
              "\n",
              "[[9]]\n",
              "[1] \"data.table\" \"rpart\"      \"stats\"      \"graphics\"   \"grDevices\" \n",
              "[6] \"utils\"      \"datasets\"   \"methods\"    \"base\"      \n",
              "\n",
              "[[10]]\n",
              "[1] \"data.table\" \"rpart\"      \"stats\"      \"graphics\"   \"grDevices\" \n",
              "[6] \"utils\"      \"datasets\"   \"methods\"    \"base\"      \n",
              "\n",
              "[[11]]\n",
              "[1] \"data.table\" \"rpart\"      \"stats\"      \"graphics\"   \"grDevices\" \n",
              "[6] \"utils\"      \"datasets\"   \"methods\"    \"base\"      \n",
              "\n",
              "[[12]]\n",
              "[1] \"data.table\" \"rpart\"      \"stats\"      \"graphics\"   \"grDevices\" \n",
              "[6] \"utils\"      \"datasets\"   \"methods\"    \"base\"      \n",
              "\n",
              "[[13]]\n",
              "[1] \"data.table\" \"rpart\"      \"stats\"      \"graphics\"   \"grDevices\" \n",
              "[6] \"utils\"      \"datasets\"   \"methods\"    \"base\"      \n",
              "\n",
              "[[14]]\n",
              "[1] \"data.table\" \"rpart\"      \"stats\"      \"graphics\"   \"grDevices\" \n",
              "[6] \"utils\"      \"datasets\"   \"methods\"    \"base\"      \n",
              "\n",
              "[[15]]\n",
              "[1] \"data.table\" \"rpart\"      \"stats\"      \"graphics\"   \"grDevices\" \n",
              "[6] \"utils\"      \"datasets\"   \"methods\"    \"base\"      \n",
              "\n",
              "[[16]]\n",
              "[1] \"data.table\" \"rpart\"      \"stats\"      \"graphics\"   \"grDevices\" \n",
              "[6] \"utils\"      \"datasets\"   \"methods\"    \"base\"      \n"
            ]
          },
          "metadata": {},
          "output_type": "display_data"
        },
        {
          "data": {
            "text/html": [
              "<ol>\n",
              "\t<li><dl>\n",
              "\t<dt>$semilla</dt>\n",
              "\t\t<dd>590819</dd>\n",
              "\t<dt>$testing</dt>\n",
              "\t\t<dd>49019</dd>\n",
              "\t<dt>$testing_pos</dt>\n",
              "\t\t<dd>337</dd>\n",
              "\t<dt>$envios</dt>\n",
              "\t\t<dd>3425</dd>\n",
              "\t<dt>$aciertos</dt>\n",
              "\t\t<dd>193</dd>\n",
              "\t<dt>$ganancia_test</dt>\n",
              "\t\t<dd>286333333.333333</dd>\n",
              "</dl>\n",
              "</li>\n",
              "\t<li><dl>\n",
              "\t<dt>$semilla</dt>\n",
              "\t\t<dd>526937</dd>\n",
              "\t<dt>$testing</dt>\n",
              "\t\t<dd>49021</dd>\n",
              "\t<dt>$testing_pos</dt>\n",
              "\t\t<dd>332</dd>\n",
              "\t<dt>$envios</dt>\n",
              "\t\t<dd>2940</dd>\n",
              "\t<dt>$aciertos</dt>\n",
              "\t\t<dd>174</dd>\n",
              "\t<dt>$ganancia_test</dt>\n",
              "\t\t<dd>2.68e+08</dd>\n",
              "</dl>\n",
              "</li>\n",
              "\t<li><dl>\n",
              "\t<dt>$semilla</dt>\n",
              "\t\t<dd>753937</dd>\n",
              "\t<dt>$testing</dt>\n",
              "\t\t<dd>49017</dd>\n",
              "\t<dt>$testing_pos</dt>\n",
              "\t\t<dd>336</dd>\n",
              "\t<dt>$envios</dt>\n",
              "\t\t<dd>2745</dd>\n",
              "\t<dt>$aciertos</dt>\n",
              "\t\t<dd>163</dd>\n",
              "\t<dt>$ganancia_test</dt>\n",
              "\t\t<dd>251666666.666667</dd>\n",
              "</dl>\n",
              "</li>\n",
              "\t<li><dl>\n",
              "\t<dt>$semilla</dt>\n",
              "\t\t<dd>101173</dd>\n",
              "\t<dt>$testing</dt>\n",
              "\t\t<dd>49025</dd>\n",
              "\t<dt>$testing_pos</dt>\n",
              "\t\t<dd>340</dd>\n",
              "\t<dt>$envios</dt>\n",
              "\t\t<dd>3004</dd>\n",
              "\t<dt>$aciertos</dt>\n",
              "\t\t<dd>184</dd>\n",
              "\t<dt>$ganancia_test</dt>\n",
              "\t\t<dd>290400000</dd>\n",
              "</dl>\n",
              "</li>\n",
              "\t<li><dl>\n",
              "\t<dt>$semilla</dt>\n",
              "\t\t<dd>715727</dd>\n",
              "\t<dt>$testing</dt>\n",
              "\t\t<dd>49021</dd>\n",
              "\t<dt>$testing_pos</dt>\n",
              "\t\t<dd>337</dd>\n",
              "\t<dt>$envios</dt>\n",
              "\t\t<dd>2835</dd>\n",
              "\t<dt>$aciertos</dt>\n",
              "\t\t<dd>164</dd>\n",
              "\t<dt>$ganancia_test</dt>\n",
              "\t\t<dd>248333333.333333</dd>\n",
              "</dl>\n",
              "</li>\n",
              "\t<li><dl>\n",
              "\t<dt>$semilla</dt>\n",
              "\t\t<dd>522959</dd>\n",
              "\t<dt>$testing</dt>\n",
              "\t\t<dd>49027</dd>\n",
              "\t<dt>$testing_pos</dt>\n",
              "\t\t<dd>340</dd>\n",
              "\t<dt>$envios</dt>\n",
              "\t\t<dd>2694</dd>\n",
              "\t<dt>$aciertos</dt>\n",
              "\t\t<dd>177</dd>\n",
              "\t<dt>$ganancia_test</dt>\n",
              "\t\t<dd>292400000</dd>\n",
              "</dl>\n",
              "</li>\n",
              "\t<li><dl>\n",
              "\t<dt>$semilla</dt>\n",
              "\t\t<dd>975883</dd>\n",
              "\t<dt>$testing</dt>\n",
              "\t\t<dd>49030</dd>\n",
              "\t<dt>$testing_pos</dt>\n",
              "\t\t<dd>340</dd>\n",
              "\t<dt>$envios</dt>\n",
              "\t\t<dd>3142</dd>\n",
              "\t<dt>$aciertos</dt>\n",
              "\t\t<dd>196</dd>\n",
              "\t<dt>$ganancia_test</dt>\n",
              "\t\t<dd>313200000</dd>\n",
              "</dl>\n",
              "</li>\n",
              "\t<li><dl>\n",
              "\t<dt>$semilla</dt>\n",
              "\t\t<dd>703657</dd>\n",
              "\t<dt>$testing</dt>\n",
              "\t\t<dd>49020</dd>\n",
              "\t<dt>$testing_pos</dt>\n",
              "\t\t<dd>334</dd>\n",
              "\t<dt>$envios</dt>\n",
              "\t\t<dd>2735</dd>\n",
              "\t<dt>$aciertos</dt>\n",
              "\t\t<dd>161</dd>\n",
              "\t<dt>$ganancia_test</dt>\n",
              "\t\t<dd>2.47e+08</dd>\n",
              "</dl>\n",
              "</li>\n",
              "\t<li><dl>\n",
              "\t<dt>$semilla</dt>\n",
              "\t\t<dd>631469</dd>\n",
              "\t<dt>$testing</dt>\n",
              "\t\t<dd>49019</dd>\n",
              "\t<dt>$testing_pos</dt>\n",
              "\t\t<dd>329</dd>\n",
              "\t<dt>$envios</dt>\n",
              "\t\t<dd>2976</dd>\n",
              "\t<dt>$aciertos</dt>\n",
              "\t\t<dd>177</dd>\n",
              "\t<dt>$ganancia_test</dt>\n",
              "\t\t<dd>273600000</dd>\n",
              "</dl>\n",
              "</li>\n",
              "\t<li><dl>\n",
              "\t<dt>$semilla</dt>\n",
              "\t\t<dd>662617</dd>\n",
              "\t<dt>$testing</dt>\n",
              "\t\t<dd>49031</dd>\n",
              "\t<dt>$testing_pos</dt>\n",
              "\t\t<dd>341</dd>\n",
              "\t<dt>$envios</dt>\n",
              "\t\t<dd>3151</dd>\n",
              "\t<dt>$aciertos</dt>\n",
              "\t\t<dd>189</dd>\n",
              "\t<dt>$ganancia_test</dt>\n",
              "\t\t<dd>293933333.333333</dd>\n",
              "</dl>\n",
              "</li>\n",
              "\t<li><dl>\n",
              "\t<dt>$semilla</dt>\n",
              "\t\t<dd>552031</dd>\n",
              "\t<dt>$testing</dt>\n",
              "\t\t<dd>49024</dd>\n",
              "\t<dt>$testing_pos</dt>\n",
              "\t\t<dd>337</dd>\n",
              "\t<dt>$envios</dt>\n",
              "\t\t<dd>3474</dd>\n",
              "\t<dt>$aciertos</dt>\n",
              "\t\t<dd>201</dd>\n",
              "\t<dt>$ganancia_test</dt>\n",
              "\t\t<dd>304400000</dd>\n",
              "</dl>\n",
              "</li>\n",
              "\t<li><dl>\n",
              "\t<dt>$semilla</dt>\n",
              "\t\t<dd>195281</dd>\n",
              "\t<dt>$testing</dt>\n",
              "\t\t<dd>49031</dd>\n",
              "\t<dt>$testing_pos</dt>\n",
              "\t\t<dd>340</dd>\n",
              "\t<dt>$envios</dt>\n",
              "\t\t<dd>3741</dd>\n",
              "\t<dt>$aciertos</dt>\n",
              "\t\t<dd>206</dd>\n",
              "\t<dt>$ganancia_test</dt>\n",
              "\t\t<dd>299933333.333333</dd>\n",
              "</dl>\n",
              "</li>\n",
              "\t<li><dl>\n",
              "\t<dt>$semilla</dt>\n",
              "\t\t<dd>326999</dd>\n",
              "\t<dt>$testing</dt>\n",
              "\t\t<dd>49028</dd>\n",
              "\t<dt>$testing_pos</dt>\n",
              "\t\t<dd>343</dd>\n",
              "\t<dt>$envios</dt>\n",
              "\t\t<dd>2973</dd>\n",
              "\t<dt>$aciertos</dt>\n",
              "\t\t<dd>195</dd>\n",
              "\t<dt>$ganancia_test</dt>\n",
              "\t\t<dd>321800000</dd>\n",
              "</dl>\n",
              "</li>\n",
              "\t<li><dl>\n",
              "\t<dt>$semilla</dt>\n",
              "\t\t<dd>452269</dd>\n",
              "\t<dt>$testing</dt>\n",
              "\t\t<dd>49025</dd>\n",
              "\t<dt>$testing_pos</dt>\n",
              "\t\t<dd>339</dd>\n",
              "\t<dt>$envios</dt>\n",
              "\t\t<dd>3290</dd>\n",
              "\t<dt>$aciertos</dt>\n",
              "\t\t<dd>178</dd>\n",
              "\t<dt>$ganancia_test</dt>\n",
              "\t\t<dd>255333333.333333</dd>\n",
              "</dl>\n",
              "</li>\n",
              "\t<li><dl>\n",
              "\t<dt>$semilla</dt>\n",
              "\t\t<dd>576221</dd>\n",
              "\t<dt>$testing</dt>\n",
              "\t\t<dd>49024</dd>\n",
              "\t<dt>$testing_pos</dt>\n",
              "\t\t<dd>339</dd>\n",
              "\t<dt>$envios</dt>\n",
              "\t\t<dd>2920</dd>\n",
              "\t<dt>$aciertos</dt>\n",
              "\t\t<dd>185</dd>\n",
              "\t<dt>$ganancia_test</dt>\n",
              "\t\t<dd>298666666.666667</dd>\n",
              "</dl>\n",
              "</li>\n",
              "\t<li><dl>\n",
              "\t<dt>$semilla</dt>\n",
              "\t\t<dd>293729</dd>\n",
              "\t<dt>$testing</dt>\n",
              "\t\t<dd>49025</dd>\n",
              "\t<dt>$testing_pos</dt>\n",
              "\t\t<dd>341</dd>\n",
              "\t<dt>$envios</dt>\n",
              "\t\t<dd>2732</dd>\n",
              "\t<dt>$aciertos</dt>\n",
              "\t\t<dd>170</dd>\n",
              "\t<dt>$ganancia_test</dt>\n",
              "\t\t<dd>271200000</dd>\n",
              "</dl>\n",
              "</li>\n",
              "\t<li><dl>\n",
              "\t<dt>$semilla</dt>\n",
              "\t\t<dd>658079</dd>\n",
              "\t<dt>$testing</dt>\n",
              "\t\t<dd>49033</dd>\n",
              "\t<dt>$testing_pos</dt>\n",
              "\t\t<dd>341</dd>\n",
              "\t<dt>$envios</dt>\n",
              "\t\t<dd>3274</dd>\n",
              "\t<dt>$aciertos</dt>\n",
              "\t\t<dd>203</dd>\n",
              "\t<dt>$ganancia_test</dt>\n",
              "\t\t<dd>323066666.666667</dd>\n",
              "</dl>\n",
              "</li>\n",
              "\t<li><dl>\n",
              "\t<dt>$semilla</dt>\n",
              "\t\t<dd>341461</dd>\n",
              "\t<dt>$testing</dt>\n",
              "\t\t<dd>49032</dd>\n",
              "\t<dt>$testing_pos</dt>\n",
              "\t\t<dd>338</dd>\n",
              "\t<dt>$envios</dt>\n",
              "\t\t<dd>3921</dd>\n",
              "\t<dt>$aciertos</dt>\n",
              "\t\t<dd>214</dd>\n",
              "\t<dt>$ganancia_test</dt>\n",
              "\t\t<dd>309266666.666667</dd>\n",
              "</dl>\n",
              "</li>\n",
              "\t<li><dl>\n",
              "\t<dt>$semilla</dt>\n",
              "\t\t<dd>193873</dd>\n",
              "\t<dt>$testing</dt>\n",
              "\t\t<dd>49038</dd>\n",
              "\t<dt>$testing_pos</dt>\n",
              "\t\t<dd>345</dd>\n",
              "\t<dt>$envios</dt>\n",
              "\t\t<dd>3944</dd>\n",
              "\t<dt>$aciertos</dt>\n",
              "\t\t<dd>206</dd>\n",
              "\t<dt>$ganancia_test</dt>\n",
              "\t\t<dd>286400000</dd>\n",
              "</dl>\n",
              "</li>\n",
              "\t<li><dl>\n",
              "\t<dt>$semilla</dt>\n",
              "\t\t<dd>961139</dd>\n",
              "\t<dt>$testing</dt>\n",
              "\t\t<dd>49019</dd>\n",
              "\t<dt>$testing_pos</dt>\n",
              "\t\t<dd>339</dd>\n",
              "\t<dt>$envios</dt>\n",
              "\t\t<dd>2786</dd>\n",
              "\t<dt>$aciertos</dt>\n",
              "\t\t<dd>172</dd>\n",
              "\t<dt>$ganancia_test</dt>\n",
              "\t\t<dd>272933333.333333</dd>\n",
              "</dl>\n",
              "</li>\n",
              "\t<li><dl>\n",
              "\t<dt>$semilla</dt>\n",
              "\t\t<dd>754513</dd>\n",
              "\t<dt>$testing</dt>\n",
              "\t\t<dd>49027</dd>\n",
              "\t<dt>$testing_pos</dt>\n",
              "\t\t<dd>346</dd>\n",
              "\t<dt>$envios</dt>\n",
              "\t\t<dd>3191</dd>\n",
              "\t<dt>$aciertos</dt>\n",
              "\t\t<dd>203</dd>\n",
              "\t<dt>$ganancia_test</dt>\n",
              "\t\t<dd>328600000</dd>\n",
              "</dl>\n",
              "</li>\n",
              "\t<li><dl>\n",
              "\t<dt>$semilla</dt>\n",
              "\t\t<dd>856759</dd>\n",
              "\t<dt>$testing</dt>\n",
              "\t\t<dd>49026</dd>\n",
              "\t<dt>$testing_pos</dt>\n",
              "\t\t<dd>341</dd>\n",
              "\t<dt>$envios</dt>\n",
              "\t\t<dd>2717</dd>\n",
              "\t<dt>$aciertos</dt>\n",
              "\t\t<dd>172</dd>\n",
              "\t<dt>$ganancia_test</dt>\n",
              "\t\t<dd>277533333.333333</dd>\n",
              "</dl>\n",
              "</li>\n",
              "\t<li><dl>\n",
              "\t<dt>$semilla</dt>\n",
              "\t\t<dd>402307</dd>\n",
              "\t<dt>$testing</dt>\n",
              "\t\t<dd>49013</dd>\n",
              "\t<dt>$testing_pos</dt>\n",
              "\t\t<dd>332</dd>\n",
              "\t<dt>$envios</dt>\n",
              "\t\t<dd>3405</dd>\n",
              "\t<dt>$aciertos</dt>\n",
              "\t\t<dd>178</dd>\n",
              "\t<dt>$ganancia_test</dt>\n",
              "\t\t<dd>247666666.666667</dd>\n",
              "</dl>\n",
              "</li>\n",
              "\t<li><dl>\n",
              "\t<dt>$semilla</dt>\n",
              "\t\t<dd>706417</dd>\n",
              "\t<dt>$testing</dt>\n",
              "\t\t<dd>49028</dd>\n",
              "\t<dt>$testing_pos</dt>\n",
              "\t\t<dd>344</dd>\n",
              "\t<dt>$envios</dt>\n",
              "\t\t<dd>2895</dd>\n",
              "\t<dt>$aciertos</dt>\n",
              "\t\t<dd>198</dd>\n",
              "\t<dt>$ganancia_test</dt>\n",
              "\t\t<dd>3.35e+08</dd>\n",
              "</dl>\n",
              "</li>\n",
              "\t<li><dl>\n",
              "\t<dt>$semilla</dt>\n",
              "\t\t<dd>586457</dd>\n",
              "\t<dt>$testing</dt>\n",
              "\t\t<dd>49025</dd>\n",
              "\t<dt>$testing_pos</dt>\n",
              "\t\t<dd>337</dd>\n",
              "\t<dt>$envios</dt>\n",
              "\t\t<dd>2894</dd>\n",
              "\t<dt>$aciertos</dt>\n",
              "\t\t<dd>174</dd>\n",
              "\t<dt>$ganancia_test</dt>\n",
              "\t\t<dd>271066666.666667</dd>\n",
              "</dl>\n",
              "</li>\n",
              "\t<li><dl>\n",
              "\t<dt>$semilla</dt>\n",
              "\t\t<dd>260461</dd>\n",
              "\t<dt>$testing</dt>\n",
              "\t\t<dd>49031</dd>\n",
              "\t<dt>$testing_pos</dt>\n",
              "\t\t<dd>338</dd>\n",
              "\t<dt>$envios</dt>\n",
              "\t\t<dd>2975</dd>\n",
              "\t<dt>$aciertos</dt>\n",
              "\t\t<dd>186</dd>\n",
              "\t<dt>$ganancia_test</dt>\n",
              "\t\t<dd>297666666.666667</dd>\n",
              "</dl>\n",
              "</li>\n",
              "\t<li><dl>\n",
              "\t<dt>$semilla</dt>\n",
              "\t\t<dd>808373</dd>\n",
              "\t<dt>$testing</dt>\n",
              "\t\t<dd>49028</dd>\n",
              "\t<dt>$testing_pos</dt>\n",
              "\t\t<dd>344</dd>\n",
              "\t<dt>$envios</dt>\n",
              "\t\t<dd>2839</dd>\n",
              "\t<dt>$aciertos</dt>\n",
              "\t\t<dd>171</dd>\n",
              "\t<dt>$ganancia_test</dt>\n",
              "\t\t<dd>266733333.333333</dd>\n",
              "</dl>\n",
              "</li>\n",
              "\t<li><dl>\n",
              "\t<dt>$semilla</dt>\n",
              "\t\t<dd>986933</dd>\n",
              "\t<dt>$testing</dt>\n",
              "\t\t<dd>49030</dd>\n",
              "\t<dt>$testing_pos</dt>\n",
              "\t\t<dd>339</dd>\n",
              "\t<dt>$envios</dt>\n",
              "\t\t<dd>3197</dd>\n",
              "\t<dt>$aciertos</dt>\n",
              "\t\t<dd>183</dd>\n",
              "\t<dt>$ganancia_test</dt>\n",
              "\t\t<dd>274866666.666667</dd>\n",
              "</dl>\n",
              "</li>\n",
              "\t<li><dl>\n",
              "\t<dt>$semilla</dt>\n",
              "\t\t<dd>251879</dd>\n",
              "\t<dt>$testing</dt>\n",
              "\t\t<dd>49025</dd>\n",
              "\t<dt>$testing_pos</dt>\n",
              "\t\t<dd>339</dd>\n",
              "\t<dt>$envios</dt>\n",
              "\t\t<dd>2558</dd>\n",
              "\t<dt>$aciertos</dt>\n",
              "\t\t<dd>177</dd>\n",
              "\t<dt>$ganancia_test</dt>\n",
              "\t\t<dd>301466666.666667</dd>\n",
              "</dl>\n",
              "</li>\n",
              "\t<li><dl>\n",
              "\t<dt>$semilla</dt>\n",
              "\t\t<dd>829453</dd>\n",
              "\t<dt>$testing</dt>\n",
              "\t\t<dd>49028</dd>\n",
              "\t<dt>$testing_pos</dt>\n",
              "\t\t<dd>338</dd>\n",
              "\t<dt>$envios</dt>\n",
              "\t\t<dd>3477</dd>\n",
              "\t<dt>$aciertos</dt>\n",
              "\t\t<dd>200</dd>\n",
              "\t<dt>$ganancia_test</dt>\n",
              "\t\t<dd>301533333.333333</dd>\n",
              "</dl>\n",
              "</li>\n",
              "\t<li><dl>\n",
              "\t<dt>$semilla</dt>\n",
              "\t\t<dd>208189</dd>\n",
              "\t<dt>$testing</dt>\n",
              "\t\t<dd>49014</dd>\n",
              "\t<dt>$testing_pos</dt>\n",
              "\t\t<dd>336</dd>\n",
              "\t<dt>$envios</dt>\n",
              "\t\t<dd>2298</dd>\n",
              "\t<dt>$aciertos</dt>\n",
              "\t\t<dd>178</dd>\n",
              "\t<dt>$ganancia_test</dt>\n",
              "\t\t<dd>321466666.666667</dd>\n",
              "</dl>\n",
              "</li>\n",
              "\t<li><dl>\n",
              "\t<dt>$semilla</dt>\n",
              "\t\t<dd>690721</dd>\n",
              "\t<dt>$testing</dt>\n",
              "\t\t<dd>49039</dd>\n",
              "\t<dt>$testing_pos</dt>\n",
              "\t\t<dd>339</dd>\n",
              "\t<dt>$envios</dt>\n",
              "\t\t<dd>3675</dd>\n",
              "\t<dt>$aciertos</dt>\n",
              "\t\t<dd>204</dd>\n",
              "\t<dt>$ganancia_test</dt>\n",
              "\t\t<dd>2.99e+08</dd>\n",
              "</dl>\n",
              "</li>\n",
              "\t<li><dl>\n",
              "\t<dt>$semilla</dt>\n",
              "\t\t<dd>658117</dd>\n",
              "\t<dt>$testing</dt>\n",
              "\t\t<dd>49027</dd>\n",
              "\t<dt>$testing_pos</dt>\n",
              "\t\t<dd>337</dd>\n",
              "\t<dt>$envios</dt>\n",
              "\t\t<dd>2774</dd>\n",
              "\t<dt>$aciertos</dt>\n",
              "\t\t<dd>172</dd>\n",
              "\t<dt>$ganancia_test</dt>\n",
              "\t\t<dd>273733333.333333</dd>\n",
              "</dl>\n",
              "</li>\n",
              "\t<li><dl>\n",
              "\t<dt>$semilla</dt>\n",
              "\t\t<dd>885509</dd>\n",
              "\t<dt>$testing</dt>\n",
              "\t\t<dd>49028</dd>\n",
              "\t<dt>$testing_pos</dt>\n",
              "\t\t<dd>341</dd>\n",
              "\t<dt>$envios</dt>\n",
              "\t\t<dd>3037</dd>\n",
              "\t<dt>$aciertos</dt>\n",
              "\t\t<dd>166</dd>\n",
              "\t<dt>$ganancia_test</dt>\n",
              "\t\t<dd>240200000</dd>\n",
              "</dl>\n",
              "</li>\n",
              "\t<li><dl>\n",
              "\t<dt>$semilla</dt>\n",
              "\t\t<dd>816019</dd>\n",
              "\t<dt>$testing</dt>\n",
              "\t\t<dd>49030</dd>\n",
              "\t<dt>$testing_pos</dt>\n",
              "\t\t<dd>336</dd>\n",
              "\t<dt>$envios</dt>\n",
              "\t\t<dd>3014</dd>\n",
              "\t<dt>$aciertos</dt>\n",
              "\t\t<dd>189</dd>\n",
              "\t<dt>$ganancia_test</dt>\n",
              "\t\t<dd>303066666.666667</dd>\n",
              "</dl>\n",
              "</li>\n",
              "\t<li><dl>\n",
              "\t<dt>$semilla</dt>\n",
              "\t\t<dd>526739</dd>\n",
              "\t<dt>$testing</dt>\n",
              "\t\t<dd>49032</dd>\n",
              "\t<dt>$testing_pos</dt>\n",
              "\t\t<dd>348</dd>\n",
              "\t<dt>$envios</dt>\n",
              "\t\t<dd>2879</dd>\n",
              "\t<dt>$aciertos</dt>\n",
              "\t\t<dd>180</dd>\n",
              "\t<dt>$ganancia_test</dt>\n",
              "\t\t<dd>288066666.666667</dd>\n",
              "</dl>\n",
              "</li>\n",
              "\t<li><dl>\n",
              "\t<dt>$semilla</dt>\n",
              "\t\t<dd>236471</dd>\n",
              "\t<dt>$testing</dt>\n",
              "\t\t<dd>49024</dd>\n",
              "\t<dt>$testing_pos</dt>\n",
              "\t\t<dd>337</dd>\n",
              "\t<dt>$envios</dt>\n",
              "\t\t<dd>3465</dd>\n",
              "\t<dt>$aciertos</dt>\n",
              "\t\t<dd>202</dd>\n",
              "\t<dt>$ganancia_test</dt>\n",
              "\t\t<dd>307666666.666667</dd>\n",
              "</dl>\n",
              "</li>\n",
              "\t<li><dl>\n",
              "\t<dt>$semilla</dt>\n",
              "\t\t<dd>147089</dd>\n",
              "\t<dt>$testing</dt>\n",
              "\t\t<dd>49017</dd>\n",
              "\t<dt>$testing_pos</dt>\n",
              "\t\t<dd>334</dd>\n",
              "\t<dt>$envios</dt>\n",
              "\t\t<dd>2623</dd>\n",
              "\t<dt>$aciertos</dt>\n",
              "\t\t<dd>171</dd>\n",
              "\t<dt>$ganancia_test</dt>\n",
              "\t\t<dd>281133333.333333</dd>\n",
              "</dl>\n",
              "</li>\n",
              "\t<li><dl>\n",
              "\t<dt>$semilla</dt>\n",
              "\t\t<dd>550607</dd>\n",
              "\t<dt>$testing</dt>\n",
              "\t\t<dd>49013</dd>\n",
              "\t<dt>$testing_pos</dt>\n",
              "\t\t<dd>332</dd>\n",
              "\t<dt>$envios</dt>\n",
              "\t\t<dd>3423</dd>\n",
              "\t<dt>$aciertos</dt>\n",
              "\t\t<dd>184</dd>\n",
              "\t<dt>$ganancia_test</dt>\n",
              "\t\t<dd>262466666.666667</dd>\n",
              "</dl>\n",
              "</li>\n",
              "\t<li><dl>\n",
              "\t<dt>$semilla</dt>\n",
              "\t\t<dd>249863</dd>\n",
              "\t<dt>$testing</dt>\n",
              "\t\t<dd>49026</dd>\n",
              "\t<dt>$testing_pos</dt>\n",
              "\t\t<dd>345</dd>\n",
              "\t<dt>$envios</dt>\n",
              "\t\t<dd>2647</dd>\n",
              "\t<dt>$aciertos</dt>\n",
              "\t\t<dd>179</dd>\n",
              "\t<dt>$ganancia_test</dt>\n",
              "\t\t<dd>300866666.666667</dd>\n",
              "</dl>\n",
              "</li>\n",
              "\t<li><dl>\n",
              "\t<dt>$semilla</dt>\n",
              "\t\t<dd>398369</dd>\n",
              "\t<dt>$testing</dt>\n",
              "\t\t<dd>49026</dd>\n",
              "\t<dt>$testing_pos</dt>\n",
              "\t\t<dd>337</dd>\n",
              "\t<dt>$envios</dt>\n",
              "\t\t<dd>2615</dd>\n",
              "\t<dt>$aciertos</dt>\n",
              "\t\t<dd>173</dd>\n",
              "\t<dt>$ganancia_test</dt>\n",
              "\t\t<dd>2.87e+08</dd>\n",
              "</dl>\n",
              "</li>\n",
              "\t<li><dl>\n",
              "\t<dt>$semilla</dt>\n",
              "\t\t<dd>866857</dd>\n",
              "\t<dt>$testing</dt>\n",
              "\t\t<dd>49029</dd>\n",
              "\t<dt>$testing_pos</dt>\n",
              "\t\t<dd>342</dd>\n",
              "\t<dt>$envios</dt>\n",
              "\t\t<dd>3320</dd>\n",
              "\t<dt>$aciertos</dt>\n",
              "\t\t<dd>188</dd>\n",
              "\t<dt>$ganancia_test</dt>\n",
              "\t\t<dd>2.8e+08</dd>\n",
              "</dl>\n",
              "</li>\n",
              "\t<li><dl>\n",
              "\t<dt>$semilla</dt>\n",
              "\t\t<dd>864781</dd>\n",
              "\t<dt>$testing</dt>\n",
              "\t\t<dd>49012</dd>\n",
              "\t<dt>$testing_pos</dt>\n",
              "\t\t<dd>332</dd>\n",
              "\t<dt>$envios</dt>\n",
              "\t\t<dd>3058</dd>\n",
              "\t<dt>$aciertos</dt>\n",
              "\t\t<dd>185</dd>\n",
              "\t<dt>$ganancia_test</dt>\n",
              "\t\t<dd>289466666.666667</dd>\n",
              "</dl>\n",
              "</li>\n",
              "\t<li><dl>\n",
              "\t<dt>$semilla</dt>\n",
              "\t\t<dd>518831</dd>\n",
              "\t<dt>$testing</dt>\n",
              "\t\t<dd>49015</dd>\n",
              "\t<dt>$testing_pos</dt>\n",
              "\t\t<dd>337</dd>\n",
              "\t<dt>$envios</dt>\n",
              "\t\t<dd>2964</dd>\n",
              "\t<dt>$aciertos</dt>\n",
              "\t\t<dd>175</dd>\n",
              "\t<dt>$ganancia_test</dt>\n",
              "\t\t<dd>269066666.666667</dd>\n",
              "</dl>\n",
              "</li>\n",
              "\t<li><dl>\n",
              "\t<dt>$semilla</dt>\n",
              "\t\t<dd>170081</dd>\n",
              "\t<dt>$testing</dt>\n",
              "\t\t<dd>49023</dd>\n",
              "\t<dt>$testing_pos</dt>\n",
              "\t\t<dd>336</dd>\n",
              "\t<dt>$envios</dt>\n",
              "\t\t<dd>3257</dd>\n",
              "\t<dt>$aciertos</dt>\n",
              "\t\t<dd>188</dd>\n",
              "\t<dt>$ganancia_test</dt>\n",
              "\t\t<dd>284200000</dd>\n",
              "</dl>\n",
              "</li>\n",
              "\t<li><dl>\n",
              "\t<dt>$semilla</dt>\n",
              "\t\t<dd>111653</dd>\n",
              "\t<dt>$testing</dt>\n",
              "\t\t<dd>49031</dd>\n",
              "\t<dt>$testing_pos</dt>\n",
              "\t\t<dd>344</dd>\n",
              "\t<dt>$envios</dt>\n",
              "\t\t<dd>2886</dd>\n",
              "\t<dt>$aciertos</dt>\n",
              "\t\t<dd>178</dd>\n",
              "\t<dt>$ganancia_test</dt>\n",
              "\t\t<dd>282266666.666667</dd>\n",
              "</dl>\n",
              "</li>\n",
              "\t<li><dl>\n",
              "\t<dt>$semilla</dt>\n",
              "\t\t<dd>157627</dd>\n",
              "\t<dt>$testing</dt>\n",
              "\t\t<dd>49021</dd>\n",
              "\t<dt>$testing_pos</dt>\n",
              "\t\t<dd>339</dd>\n",
              "\t<dt>$envios</dt>\n",
              "\t\t<dd>2988</dd>\n",
              "\t<dt>$aciertos</dt>\n",
              "\t\t<dd>179</dd>\n",
              "\t<dt>$ganancia_test</dt>\n",
              "\t\t<dd>278133333.333333</dd>\n",
              "</dl>\n",
              "</li>\n",
              "\t<li><dl>\n",
              "\t<dt>$semilla</dt>\n",
              "\t\t<dd>381569</dd>\n",
              "\t<dt>$testing</dt>\n",
              "\t\t<dd>49023</dd>\n",
              "\t<dt>$testing_pos</dt>\n",
              "\t\t<dd>343</dd>\n",
              "\t<dt>$envios</dt>\n",
              "\t\t<dd>2494</dd>\n",
              "\t<dt>$aciertos</dt>\n",
              "\t\t<dd>179</dd>\n",
              "\t<dt>$ganancia_test</dt>\n",
              "\t\t<dd>311066666.666667</dd>\n",
              "</dl>\n",
              "</li>\n",
              "\t<li><dl>\n",
              "\t<dt>$semilla</dt>\n",
              "\t\t<dd>674903</dd>\n",
              "\t<dt>$testing</dt>\n",
              "\t\t<dd>49026</dd>\n",
              "\t<dt>$testing_pos</dt>\n",
              "\t\t<dd>342</dd>\n",
              "\t<dt>$envios</dt>\n",
              "\t\t<dd>3014</dd>\n",
              "\t<dt>$aciertos</dt>\n",
              "\t\t<dd>176</dd>\n",
              "\t<dt>$ganancia_test</dt>\n",
              "\t\t<dd>268400000</dd>\n",
              "</dl>\n",
              "</li>\n",
              "\t<li><dl>\n",
              "\t<dt>$semilla</dt>\n",
              "\t\t<dd>858503</dd>\n",
              "\t<dt>$testing</dt>\n",
              "\t\t<dd>49031</dd>\n",
              "\t<dt>$testing_pos</dt>\n",
              "\t\t<dd>342</dd>\n",
              "\t<dt>$envios</dt>\n",
              "\t\t<dd>3193</dd>\n",
              "\t<dt>$aciertos</dt>\n",
              "\t\t<dd>193</dd>\n",
              "\t<dt>$ganancia_test</dt>\n",
              "\t\t<dd>301800000</dd>\n",
              "</dl>\n",
              "</li>\n",
              "</ol>\n"
            ],
            "text/latex": [
              "\\begin{enumerate}\n",
              "\\item \\begin{description}\n",
              "\\item[\\$semilla] 590819\n",
              "\\item[\\$testing] 49019\n",
              "\\item[\\$testing\\_pos] 337\n",
              "\\item[\\$envios] 3425\n",
              "\\item[\\$aciertos] 193\n",
              "\\item[\\$ganancia\\_test] 286333333.333333\n",
              "\\end{description}\n",
              "\n",
              "\\item \\begin{description}\n",
              "\\item[\\$semilla] 526937\n",
              "\\item[\\$testing] 49021\n",
              "\\item[\\$testing\\_pos] 332\n",
              "\\item[\\$envios] 2940\n",
              "\\item[\\$aciertos] 174\n",
              "\\item[\\$ganancia\\_test] 2.68e+08\n",
              "\\end{description}\n",
              "\n",
              "\\item \\begin{description}\n",
              "\\item[\\$semilla] 753937\n",
              "\\item[\\$testing] 49017\n",
              "\\item[\\$testing\\_pos] 336\n",
              "\\item[\\$envios] 2745\n",
              "\\item[\\$aciertos] 163\n",
              "\\item[\\$ganancia\\_test] 251666666.666667\n",
              "\\end{description}\n",
              "\n",
              "\\item \\begin{description}\n",
              "\\item[\\$semilla] 101173\n",
              "\\item[\\$testing] 49025\n",
              "\\item[\\$testing\\_pos] 340\n",
              "\\item[\\$envios] 3004\n",
              "\\item[\\$aciertos] 184\n",
              "\\item[\\$ganancia\\_test] 290400000\n",
              "\\end{description}\n",
              "\n",
              "\\item \\begin{description}\n",
              "\\item[\\$semilla] 715727\n",
              "\\item[\\$testing] 49021\n",
              "\\item[\\$testing\\_pos] 337\n",
              "\\item[\\$envios] 2835\n",
              "\\item[\\$aciertos] 164\n",
              "\\item[\\$ganancia\\_test] 248333333.333333\n",
              "\\end{description}\n",
              "\n",
              "\\item \\begin{description}\n",
              "\\item[\\$semilla] 522959\n",
              "\\item[\\$testing] 49027\n",
              "\\item[\\$testing\\_pos] 340\n",
              "\\item[\\$envios] 2694\n",
              "\\item[\\$aciertos] 177\n",
              "\\item[\\$ganancia\\_test] 292400000\n",
              "\\end{description}\n",
              "\n",
              "\\item \\begin{description}\n",
              "\\item[\\$semilla] 975883\n",
              "\\item[\\$testing] 49030\n",
              "\\item[\\$testing\\_pos] 340\n",
              "\\item[\\$envios] 3142\n",
              "\\item[\\$aciertos] 196\n",
              "\\item[\\$ganancia\\_test] 313200000\n",
              "\\end{description}\n",
              "\n",
              "\\item \\begin{description}\n",
              "\\item[\\$semilla] 703657\n",
              "\\item[\\$testing] 49020\n",
              "\\item[\\$testing\\_pos] 334\n",
              "\\item[\\$envios] 2735\n",
              "\\item[\\$aciertos] 161\n",
              "\\item[\\$ganancia\\_test] 2.47e+08\n",
              "\\end{description}\n",
              "\n",
              "\\item \\begin{description}\n",
              "\\item[\\$semilla] 631469\n",
              "\\item[\\$testing] 49019\n",
              "\\item[\\$testing\\_pos] 329\n",
              "\\item[\\$envios] 2976\n",
              "\\item[\\$aciertos] 177\n",
              "\\item[\\$ganancia\\_test] 273600000\n",
              "\\end{description}\n",
              "\n",
              "\\item \\begin{description}\n",
              "\\item[\\$semilla] 662617\n",
              "\\item[\\$testing] 49031\n",
              "\\item[\\$testing\\_pos] 341\n",
              "\\item[\\$envios] 3151\n",
              "\\item[\\$aciertos] 189\n",
              "\\item[\\$ganancia\\_test] 293933333.333333\n",
              "\\end{description}\n",
              "\n",
              "\\item \\begin{description}\n",
              "\\item[\\$semilla] 552031\n",
              "\\item[\\$testing] 49024\n",
              "\\item[\\$testing\\_pos] 337\n",
              "\\item[\\$envios] 3474\n",
              "\\item[\\$aciertos] 201\n",
              "\\item[\\$ganancia\\_test] 304400000\n",
              "\\end{description}\n",
              "\n",
              "\\item \\begin{description}\n",
              "\\item[\\$semilla] 195281\n",
              "\\item[\\$testing] 49031\n",
              "\\item[\\$testing\\_pos] 340\n",
              "\\item[\\$envios] 3741\n",
              "\\item[\\$aciertos] 206\n",
              "\\item[\\$ganancia\\_test] 299933333.333333\n",
              "\\end{description}\n",
              "\n",
              "\\item \\begin{description}\n",
              "\\item[\\$semilla] 326999\n",
              "\\item[\\$testing] 49028\n",
              "\\item[\\$testing\\_pos] 343\n",
              "\\item[\\$envios] 2973\n",
              "\\item[\\$aciertos] 195\n",
              "\\item[\\$ganancia\\_test] 321800000\n",
              "\\end{description}\n",
              "\n",
              "\\item \\begin{description}\n",
              "\\item[\\$semilla] 452269\n",
              "\\item[\\$testing] 49025\n",
              "\\item[\\$testing\\_pos] 339\n",
              "\\item[\\$envios] 3290\n",
              "\\item[\\$aciertos] 178\n",
              "\\item[\\$ganancia\\_test] 255333333.333333\n",
              "\\end{description}\n",
              "\n",
              "\\item \\begin{description}\n",
              "\\item[\\$semilla] 576221\n",
              "\\item[\\$testing] 49024\n",
              "\\item[\\$testing\\_pos] 339\n",
              "\\item[\\$envios] 2920\n",
              "\\item[\\$aciertos] 185\n",
              "\\item[\\$ganancia\\_test] 298666666.666667\n",
              "\\end{description}\n",
              "\n",
              "\\item \\begin{description}\n",
              "\\item[\\$semilla] 293729\n",
              "\\item[\\$testing] 49025\n",
              "\\item[\\$testing\\_pos] 341\n",
              "\\item[\\$envios] 2732\n",
              "\\item[\\$aciertos] 170\n",
              "\\item[\\$ganancia\\_test] 271200000\n",
              "\\end{description}\n",
              "\n",
              "\\item \\begin{description}\n",
              "\\item[\\$semilla] 658079\n",
              "\\item[\\$testing] 49033\n",
              "\\item[\\$testing\\_pos] 341\n",
              "\\item[\\$envios] 3274\n",
              "\\item[\\$aciertos] 203\n",
              "\\item[\\$ganancia\\_test] 323066666.666667\n",
              "\\end{description}\n",
              "\n",
              "\\item \\begin{description}\n",
              "\\item[\\$semilla] 341461\n",
              "\\item[\\$testing] 49032\n",
              "\\item[\\$testing\\_pos] 338\n",
              "\\item[\\$envios] 3921\n",
              "\\item[\\$aciertos] 214\n",
              "\\item[\\$ganancia\\_test] 309266666.666667\n",
              "\\end{description}\n",
              "\n",
              "\\item \\begin{description}\n",
              "\\item[\\$semilla] 193873\n",
              "\\item[\\$testing] 49038\n",
              "\\item[\\$testing\\_pos] 345\n",
              "\\item[\\$envios] 3944\n",
              "\\item[\\$aciertos] 206\n",
              "\\item[\\$ganancia\\_test] 286400000\n",
              "\\end{description}\n",
              "\n",
              "\\item \\begin{description}\n",
              "\\item[\\$semilla] 961139\n",
              "\\item[\\$testing] 49019\n",
              "\\item[\\$testing\\_pos] 339\n",
              "\\item[\\$envios] 2786\n",
              "\\item[\\$aciertos] 172\n",
              "\\item[\\$ganancia\\_test] 272933333.333333\n",
              "\\end{description}\n",
              "\n",
              "\\item \\begin{description}\n",
              "\\item[\\$semilla] 754513\n",
              "\\item[\\$testing] 49027\n",
              "\\item[\\$testing\\_pos] 346\n",
              "\\item[\\$envios] 3191\n",
              "\\item[\\$aciertos] 203\n",
              "\\item[\\$ganancia\\_test] 328600000\n",
              "\\end{description}\n",
              "\n",
              "\\item \\begin{description}\n",
              "\\item[\\$semilla] 856759\n",
              "\\item[\\$testing] 49026\n",
              "\\item[\\$testing\\_pos] 341\n",
              "\\item[\\$envios] 2717\n",
              "\\item[\\$aciertos] 172\n",
              "\\item[\\$ganancia\\_test] 277533333.333333\n",
              "\\end{description}\n",
              "\n",
              "\\item \\begin{description}\n",
              "\\item[\\$semilla] 402307\n",
              "\\item[\\$testing] 49013\n",
              "\\item[\\$testing\\_pos] 332\n",
              "\\item[\\$envios] 3405\n",
              "\\item[\\$aciertos] 178\n",
              "\\item[\\$ganancia\\_test] 247666666.666667\n",
              "\\end{description}\n",
              "\n",
              "\\item \\begin{description}\n",
              "\\item[\\$semilla] 706417\n",
              "\\item[\\$testing] 49028\n",
              "\\item[\\$testing\\_pos] 344\n",
              "\\item[\\$envios] 2895\n",
              "\\item[\\$aciertos] 198\n",
              "\\item[\\$ganancia\\_test] 3.35e+08\n",
              "\\end{description}\n",
              "\n",
              "\\item \\begin{description}\n",
              "\\item[\\$semilla] 586457\n",
              "\\item[\\$testing] 49025\n",
              "\\item[\\$testing\\_pos] 337\n",
              "\\item[\\$envios] 2894\n",
              "\\item[\\$aciertos] 174\n",
              "\\item[\\$ganancia\\_test] 271066666.666667\n",
              "\\end{description}\n",
              "\n",
              "\\item \\begin{description}\n",
              "\\item[\\$semilla] 260461\n",
              "\\item[\\$testing] 49031\n",
              "\\item[\\$testing\\_pos] 338\n",
              "\\item[\\$envios] 2975\n",
              "\\item[\\$aciertos] 186\n",
              "\\item[\\$ganancia\\_test] 297666666.666667\n",
              "\\end{description}\n",
              "\n",
              "\\item \\begin{description}\n",
              "\\item[\\$semilla] 808373\n",
              "\\item[\\$testing] 49028\n",
              "\\item[\\$testing\\_pos] 344\n",
              "\\item[\\$envios] 2839\n",
              "\\item[\\$aciertos] 171\n",
              "\\item[\\$ganancia\\_test] 266733333.333333\n",
              "\\end{description}\n",
              "\n",
              "\\item \\begin{description}\n",
              "\\item[\\$semilla] 986933\n",
              "\\item[\\$testing] 49030\n",
              "\\item[\\$testing\\_pos] 339\n",
              "\\item[\\$envios] 3197\n",
              "\\item[\\$aciertos] 183\n",
              "\\item[\\$ganancia\\_test] 274866666.666667\n",
              "\\end{description}\n",
              "\n",
              "\\item \\begin{description}\n",
              "\\item[\\$semilla] 251879\n",
              "\\item[\\$testing] 49025\n",
              "\\item[\\$testing\\_pos] 339\n",
              "\\item[\\$envios] 2558\n",
              "\\item[\\$aciertos] 177\n",
              "\\item[\\$ganancia\\_test] 301466666.666667\n",
              "\\end{description}\n",
              "\n",
              "\\item \\begin{description}\n",
              "\\item[\\$semilla] 829453\n",
              "\\item[\\$testing] 49028\n",
              "\\item[\\$testing\\_pos] 338\n",
              "\\item[\\$envios] 3477\n",
              "\\item[\\$aciertos] 200\n",
              "\\item[\\$ganancia\\_test] 301533333.333333\n",
              "\\end{description}\n",
              "\n",
              "\\item \\begin{description}\n",
              "\\item[\\$semilla] 208189\n",
              "\\item[\\$testing] 49014\n",
              "\\item[\\$testing\\_pos] 336\n",
              "\\item[\\$envios] 2298\n",
              "\\item[\\$aciertos] 178\n",
              "\\item[\\$ganancia\\_test] 321466666.666667\n",
              "\\end{description}\n",
              "\n",
              "\\item \\begin{description}\n",
              "\\item[\\$semilla] 690721\n",
              "\\item[\\$testing] 49039\n",
              "\\item[\\$testing\\_pos] 339\n",
              "\\item[\\$envios] 3675\n",
              "\\item[\\$aciertos] 204\n",
              "\\item[\\$ganancia\\_test] 2.99e+08\n",
              "\\end{description}\n",
              "\n",
              "\\item \\begin{description}\n",
              "\\item[\\$semilla] 658117\n",
              "\\item[\\$testing] 49027\n",
              "\\item[\\$testing\\_pos] 337\n",
              "\\item[\\$envios] 2774\n",
              "\\item[\\$aciertos] 172\n",
              "\\item[\\$ganancia\\_test] 273733333.333333\n",
              "\\end{description}\n",
              "\n",
              "\\item \\begin{description}\n",
              "\\item[\\$semilla] 885509\n",
              "\\item[\\$testing] 49028\n",
              "\\item[\\$testing\\_pos] 341\n",
              "\\item[\\$envios] 3037\n",
              "\\item[\\$aciertos] 166\n",
              "\\item[\\$ganancia\\_test] 240200000\n",
              "\\end{description}\n",
              "\n",
              "\\item \\begin{description}\n",
              "\\item[\\$semilla] 816019\n",
              "\\item[\\$testing] 49030\n",
              "\\item[\\$testing\\_pos] 336\n",
              "\\item[\\$envios] 3014\n",
              "\\item[\\$aciertos] 189\n",
              "\\item[\\$ganancia\\_test] 303066666.666667\n",
              "\\end{description}\n",
              "\n",
              "\\item \\begin{description}\n",
              "\\item[\\$semilla] 526739\n",
              "\\item[\\$testing] 49032\n",
              "\\item[\\$testing\\_pos] 348\n",
              "\\item[\\$envios] 2879\n",
              "\\item[\\$aciertos] 180\n",
              "\\item[\\$ganancia\\_test] 288066666.666667\n",
              "\\end{description}\n",
              "\n",
              "\\item \\begin{description}\n",
              "\\item[\\$semilla] 236471\n",
              "\\item[\\$testing] 49024\n",
              "\\item[\\$testing\\_pos] 337\n",
              "\\item[\\$envios] 3465\n",
              "\\item[\\$aciertos] 202\n",
              "\\item[\\$ganancia\\_test] 307666666.666667\n",
              "\\end{description}\n",
              "\n",
              "\\item \\begin{description}\n",
              "\\item[\\$semilla] 147089\n",
              "\\item[\\$testing] 49017\n",
              "\\item[\\$testing\\_pos] 334\n",
              "\\item[\\$envios] 2623\n",
              "\\item[\\$aciertos] 171\n",
              "\\item[\\$ganancia\\_test] 281133333.333333\n",
              "\\end{description}\n",
              "\n",
              "\\item \\begin{description}\n",
              "\\item[\\$semilla] 550607\n",
              "\\item[\\$testing] 49013\n",
              "\\item[\\$testing\\_pos] 332\n",
              "\\item[\\$envios] 3423\n",
              "\\item[\\$aciertos] 184\n",
              "\\item[\\$ganancia\\_test] 262466666.666667\n",
              "\\end{description}\n",
              "\n",
              "\\item \\begin{description}\n",
              "\\item[\\$semilla] 249863\n",
              "\\item[\\$testing] 49026\n",
              "\\item[\\$testing\\_pos] 345\n",
              "\\item[\\$envios] 2647\n",
              "\\item[\\$aciertos] 179\n",
              "\\item[\\$ganancia\\_test] 300866666.666667\n",
              "\\end{description}\n",
              "\n",
              "\\item \\begin{description}\n",
              "\\item[\\$semilla] 398369\n",
              "\\item[\\$testing] 49026\n",
              "\\item[\\$testing\\_pos] 337\n",
              "\\item[\\$envios] 2615\n",
              "\\item[\\$aciertos] 173\n",
              "\\item[\\$ganancia\\_test] 2.87e+08\n",
              "\\end{description}\n",
              "\n",
              "\\item \\begin{description}\n",
              "\\item[\\$semilla] 866857\n",
              "\\item[\\$testing] 49029\n",
              "\\item[\\$testing\\_pos] 342\n",
              "\\item[\\$envios] 3320\n",
              "\\item[\\$aciertos] 188\n",
              "\\item[\\$ganancia\\_test] 2.8e+08\n",
              "\\end{description}\n",
              "\n",
              "\\item \\begin{description}\n",
              "\\item[\\$semilla] 864781\n",
              "\\item[\\$testing] 49012\n",
              "\\item[\\$testing\\_pos] 332\n",
              "\\item[\\$envios] 3058\n",
              "\\item[\\$aciertos] 185\n",
              "\\item[\\$ganancia\\_test] 289466666.666667\n",
              "\\end{description}\n",
              "\n",
              "\\item \\begin{description}\n",
              "\\item[\\$semilla] 518831\n",
              "\\item[\\$testing] 49015\n",
              "\\item[\\$testing\\_pos] 337\n",
              "\\item[\\$envios] 2964\n",
              "\\item[\\$aciertos] 175\n",
              "\\item[\\$ganancia\\_test] 269066666.666667\n",
              "\\end{description}\n",
              "\n",
              "\\item \\begin{description}\n",
              "\\item[\\$semilla] 170081\n",
              "\\item[\\$testing] 49023\n",
              "\\item[\\$testing\\_pos] 336\n",
              "\\item[\\$envios] 3257\n",
              "\\item[\\$aciertos] 188\n",
              "\\item[\\$ganancia\\_test] 284200000\n",
              "\\end{description}\n",
              "\n",
              "\\item \\begin{description}\n",
              "\\item[\\$semilla] 111653\n",
              "\\item[\\$testing] 49031\n",
              "\\item[\\$testing\\_pos] 344\n",
              "\\item[\\$envios] 2886\n",
              "\\item[\\$aciertos] 178\n",
              "\\item[\\$ganancia\\_test] 282266666.666667\n",
              "\\end{description}\n",
              "\n",
              "\\item \\begin{description}\n",
              "\\item[\\$semilla] 157627\n",
              "\\item[\\$testing] 49021\n",
              "\\item[\\$testing\\_pos] 339\n",
              "\\item[\\$envios] 2988\n",
              "\\item[\\$aciertos] 179\n",
              "\\item[\\$ganancia\\_test] 278133333.333333\n",
              "\\end{description}\n",
              "\n",
              "\\item \\begin{description}\n",
              "\\item[\\$semilla] 381569\n",
              "\\item[\\$testing] 49023\n",
              "\\item[\\$testing\\_pos] 343\n",
              "\\item[\\$envios] 2494\n",
              "\\item[\\$aciertos] 179\n",
              "\\item[\\$ganancia\\_test] 311066666.666667\n",
              "\\end{description}\n",
              "\n",
              "\\item \\begin{description}\n",
              "\\item[\\$semilla] 674903\n",
              "\\item[\\$testing] 49026\n",
              "\\item[\\$testing\\_pos] 342\n",
              "\\item[\\$envios] 3014\n",
              "\\item[\\$aciertos] 176\n",
              "\\item[\\$ganancia\\_test] 268400000\n",
              "\\end{description}\n",
              "\n",
              "\\item \\begin{description}\n",
              "\\item[\\$semilla] 858503\n",
              "\\item[\\$testing] 49031\n",
              "\\item[\\$testing\\_pos] 342\n",
              "\\item[\\$envios] 3193\n",
              "\\item[\\$aciertos] 193\n",
              "\\item[\\$ganancia\\_test] 301800000\n",
              "\\end{description}\n",
              "\n",
              "\\end{enumerate}\n"
            ],
            "text/markdown": [
              "1. $semilla\n",
              ":   590819\n",
              "$testing\n",
              ":   49019\n",
              "$testing_pos\n",
              ":   337\n",
              "$envios\n",
              ":   3425\n",
              "$aciertos\n",
              ":   193\n",
              "$ganancia_test\n",
              ":   286333333.333333\n",
              "\n",
              "\n",
              "\n",
              "2. $semilla\n",
              ":   526937\n",
              "$testing\n",
              ":   49021\n",
              "$testing_pos\n",
              ":   332\n",
              "$envios\n",
              ":   2940\n",
              "$aciertos\n",
              ":   174\n",
              "$ganancia_test\n",
              ":   2.68e+08\n",
              "\n",
              "\n",
              "\n",
              "3. $semilla\n",
              ":   753937\n",
              "$testing\n",
              ":   49017\n",
              "$testing_pos\n",
              ":   336\n",
              "$envios\n",
              ":   2745\n",
              "$aciertos\n",
              ":   163\n",
              "$ganancia_test\n",
              ":   251666666.666667\n",
              "\n",
              "\n",
              "\n",
              "4. $semilla\n",
              ":   101173\n",
              "$testing\n",
              ":   49025\n",
              "$testing_pos\n",
              ":   340\n",
              "$envios\n",
              ":   3004\n",
              "$aciertos\n",
              ":   184\n",
              "$ganancia_test\n",
              ":   290400000\n",
              "\n",
              "\n",
              "\n",
              "5. $semilla\n",
              ":   715727\n",
              "$testing\n",
              ":   49021\n",
              "$testing_pos\n",
              ":   337\n",
              "$envios\n",
              ":   2835\n",
              "$aciertos\n",
              ":   164\n",
              "$ganancia_test\n",
              ":   248333333.333333\n",
              "\n",
              "\n",
              "\n",
              "6. $semilla\n",
              ":   522959\n",
              "$testing\n",
              ":   49027\n",
              "$testing_pos\n",
              ":   340\n",
              "$envios\n",
              ":   2694\n",
              "$aciertos\n",
              ":   177\n",
              "$ganancia_test\n",
              ":   292400000\n",
              "\n",
              "\n",
              "\n",
              "7. $semilla\n",
              ":   975883\n",
              "$testing\n",
              ":   49030\n",
              "$testing_pos\n",
              ":   340\n",
              "$envios\n",
              ":   3142\n",
              "$aciertos\n",
              ":   196\n",
              "$ganancia_test\n",
              ":   313200000\n",
              "\n",
              "\n",
              "\n",
              "8. $semilla\n",
              ":   703657\n",
              "$testing\n",
              ":   49020\n",
              "$testing_pos\n",
              ":   334\n",
              "$envios\n",
              ":   2735\n",
              "$aciertos\n",
              ":   161\n",
              "$ganancia_test\n",
              ":   2.47e+08\n",
              "\n",
              "\n",
              "\n",
              "9. $semilla\n",
              ":   631469\n",
              "$testing\n",
              ":   49019\n",
              "$testing_pos\n",
              ":   329\n",
              "$envios\n",
              ":   2976\n",
              "$aciertos\n",
              ":   177\n",
              "$ganancia_test\n",
              ":   273600000\n",
              "\n",
              "\n",
              "\n",
              "10. $semilla\n",
              ":   662617\n",
              "$testing\n",
              ":   49031\n",
              "$testing_pos\n",
              ":   341\n",
              "$envios\n",
              ":   3151\n",
              "$aciertos\n",
              ":   189\n",
              "$ganancia_test\n",
              ":   293933333.333333\n",
              "\n",
              "\n",
              "\n",
              "11. $semilla\n",
              ":   552031\n",
              "$testing\n",
              ":   49024\n",
              "$testing_pos\n",
              ":   337\n",
              "$envios\n",
              ":   3474\n",
              "$aciertos\n",
              ":   201\n",
              "$ganancia_test\n",
              ":   304400000\n",
              "\n",
              "\n",
              "\n",
              "12. $semilla\n",
              ":   195281\n",
              "$testing\n",
              ":   49031\n",
              "$testing_pos\n",
              ":   340\n",
              "$envios\n",
              ":   3741\n",
              "$aciertos\n",
              ":   206\n",
              "$ganancia_test\n",
              ":   299933333.333333\n",
              "\n",
              "\n",
              "\n",
              "13. $semilla\n",
              ":   326999\n",
              "$testing\n",
              ":   49028\n",
              "$testing_pos\n",
              ":   343\n",
              "$envios\n",
              ":   2973\n",
              "$aciertos\n",
              ":   195\n",
              "$ganancia_test\n",
              ":   321800000\n",
              "\n",
              "\n",
              "\n",
              "14. $semilla\n",
              ":   452269\n",
              "$testing\n",
              ":   49025\n",
              "$testing_pos\n",
              ":   339\n",
              "$envios\n",
              ":   3290\n",
              "$aciertos\n",
              ":   178\n",
              "$ganancia_test\n",
              ":   255333333.333333\n",
              "\n",
              "\n",
              "\n",
              "15. $semilla\n",
              ":   576221\n",
              "$testing\n",
              ":   49024\n",
              "$testing_pos\n",
              ":   339\n",
              "$envios\n",
              ":   2920\n",
              "$aciertos\n",
              ":   185\n",
              "$ganancia_test\n",
              ":   298666666.666667\n",
              "\n",
              "\n",
              "\n",
              "16. $semilla\n",
              ":   293729\n",
              "$testing\n",
              ":   49025\n",
              "$testing_pos\n",
              ":   341\n",
              "$envios\n",
              ":   2732\n",
              "$aciertos\n",
              ":   170\n",
              "$ganancia_test\n",
              ":   271200000\n",
              "\n",
              "\n",
              "\n",
              "17. $semilla\n",
              ":   658079\n",
              "$testing\n",
              ":   49033\n",
              "$testing_pos\n",
              ":   341\n",
              "$envios\n",
              ":   3274\n",
              "$aciertos\n",
              ":   203\n",
              "$ganancia_test\n",
              ":   323066666.666667\n",
              "\n",
              "\n",
              "\n",
              "18. $semilla\n",
              ":   341461\n",
              "$testing\n",
              ":   49032\n",
              "$testing_pos\n",
              ":   338\n",
              "$envios\n",
              ":   3921\n",
              "$aciertos\n",
              ":   214\n",
              "$ganancia_test\n",
              ":   309266666.666667\n",
              "\n",
              "\n",
              "\n",
              "19. $semilla\n",
              ":   193873\n",
              "$testing\n",
              ":   49038\n",
              "$testing_pos\n",
              ":   345\n",
              "$envios\n",
              ":   3944\n",
              "$aciertos\n",
              ":   206\n",
              "$ganancia_test\n",
              ":   286400000\n",
              "\n",
              "\n",
              "\n",
              "20. $semilla\n",
              ":   961139\n",
              "$testing\n",
              ":   49019\n",
              "$testing_pos\n",
              ":   339\n",
              "$envios\n",
              ":   2786\n",
              "$aciertos\n",
              ":   172\n",
              "$ganancia_test\n",
              ":   272933333.333333\n",
              "\n",
              "\n",
              "\n",
              "21. $semilla\n",
              ":   754513\n",
              "$testing\n",
              ":   49027\n",
              "$testing_pos\n",
              ":   346\n",
              "$envios\n",
              ":   3191\n",
              "$aciertos\n",
              ":   203\n",
              "$ganancia_test\n",
              ":   328600000\n",
              "\n",
              "\n",
              "\n",
              "22. $semilla\n",
              ":   856759\n",
              "$testing\n",
              ":   49026\n",
              "$testing_pos\n",
              ":   341\n",
              "$envios\n",
              ":   2717\n",
              "$aciertos\n",
              ":   172\n",
              "$ganancia_test\n",
              ":   277533333.333333\n",
              "\n",
              "\n",
              "\n",
              "23. $semilla\n",
              ":   402307\n",
              "$testing\n",
              ":   49013\n",
              "$testing_pos\n",
              ":   332\n",
              "$envios\n",
              ":   3405\n",
              "$aciertos\n",
              ":   178\n",
              "$ganancia_test\n",
              ":   247666666.666667\n",
              "\n",
              "\n",
              "\n",
              "24. $semilla\n",
              ":   706417\n",
              "$testing\n",
              ":   49028\n",
              "$testing_pos\n",
              ":   344\n",
              "$envios\n",
              ":   2895\n",
              "$aciertos\n",
              ":   198\n",
              "$ganancia_test\n",
              ":   3.35e+08\n",
              "\n",
              "\n",
              "\n",
              "25. $semilla\n",
              ":   586457\n",
              "$testing\n",
              ":   49025\n",
              "$testing_pos\n",
              ":   337\n",
              "$envios\n",
              ":   2894\n",
              "$aciertos\n",
              ":   174\n",
              "$ganancia_test\n",
              ":   271066666.666667\n",
              "\n",
              "\n",
              "\n",
              "26. $semilla\n",
              ":   260461\n",
              "$testing\n",
              ":   49031\n",
              "$testing_pos\n",
              ":   338\n",
              "$envios\n",
              ":   2975\n",
              "$aciertos\n",
              ":   186\n",
              "$ganancia_test\n",
              ":   297666666.666667\n",
              "\n",
              "\n",
              "\n",
              "27. $semilla\n",
              ":   808373\n",
              "$testing\n",
              ":   49028\n",
              "$testing_pos\n",
              ":   344\n",
              "$envios\n",
              ":   2839\n",
              "$aciertos\n",
              ":   171\n",
              "$ganancia_test\n",
              ":   266733333.333333\n",
              "\n",
              "\n",
              "\n",
              "28. $semilla\n",
              ":   986933\n",
              "$testing\n",
              ":   49030\n",
              "$testing_pos\n",
              ":   339\n",
              "$envios\n",
              ":   3197\n",
              "$aciertos\n",
              ":   183\n",
              "$ganancia_test\n",
              ":   274866666.666667\n",
              "\n",
              "\n",
              "\n",
              "29. $semilla\n",
              ":   251879\n",
              "$testing\n",
              ":   49025\n",
              "$testing_pos\n",
              ":   339\n",
              "$envios\n",
              ":   2558\n",
              "$aciertos\n",
              ":   177\n",
              "$ganancia_test\n",
              ":   301466666.666667\n",
              "\n",
              "\n",
              "\n",
              "30. $semilla\n",
              ":   829453\n",
              "$testing\n",
              ":   49028\n",
              "$testing_pos\n",
              ":   338\n",
              "$envios\n",
              ":   3477\n",
              "$aciertos\n",
              ":   200\n",
              "$ganancia_test\n",
              ":   301533333.333333\n",
              "\n",
              "\n",
              "\n",
              "31. $semilla\n",
              ":   208189\n",
              "$testing\n",
              ":   49014\n",
              "$testing_pos\n",
              ":   336\n",
              "$envios\n",
              ":   2298\n",
              "$aciertos\n",
              ":   178\n",
              "$ganancia_test\n",
              ":   321466666.666667\n",
              "\n",
              "\n",
              "\n",
              "32. $semilla\n",
              ":   690721\n",
              "$testing\n",
              ":   49039\n",
              "$testing_pos\n",
              ":   339\n",
              "$envios\n",
              ":   3675\n",
              "$aciertos\n",
              ":   204\n",
              "$ganancia_test\n",
              ":   2.99e+08\n",
              "\n",
              "\n",
              "\n",
              "33. $semilla\n",
              ":   658117\n",
              "$testing\n",
              ":   49027\n",
              "$testing_pos\n",
              ":   337\n",
              "$envios\n",
              ":   2774\n",
              "$aciertos\n",
              ":   172\n",
              "$ganancia_test\n",
              ":   273733333.333333\n",
              "\n",
              "\n",
              "\n",
              "34. $semilla\n",
              ":   885509\n",
              "$testing\n",
              ":   49028\n",
              "$testing_pos\n",
              ":   341\n",
              "$envios\n",
              ":   3037\n",
              "$aciertos\n",
              ":   166\n",
              "$ganancia_test\n",
              ":   240200000\n",
              "\n",
              "\n",
              "\n",
              "35. $semilla\n",
              ":   816019\n",
              "$testing\n",
              ":   49030\n",
              "$testing_pos\n",
              ":   336\n",
              "$envios\n",
              ":   3014\n",
              "$aciertos\n",
              ":   189\n",
              "$ganancia_test\n",
              ":   303066666.666667\n",
              "\n",
              "\n",
              "\n",
              "36. $semilla\n",
              ":   526739\n",
              "$testing\n",
              ":   49032\n",
              "$testing_pos\n",
              ":   348\n",
              "$envios\n",
              ":   2879\n",
              "$aciertos\n",
              ":   180\n",
              "$ganancia_test\n",
              ":   288066666.666667\n",
              "\n",
              "\n",
              "\n",
              "37. $semilla\n",
              ":   236471\n",
              "$testing\n",
              ":   49024\n",
              "$testing_pos\n",
              ":   337\n",
              "$envios\n",
              ":   3465\n",
              "$aciertos\n",
              ":   202\n",
              "$ganancia_test\n",
              ":   307666666.666667\n",
              "\n",
              "\n",
              "\n",
              "38. $semilla\n",
              ":   147089\n",
              "$testing\n",
              ":   49017\n",
              "$testing_pos\n",
              ":   334\n",
              "$envios\n",
              ":   2623\n",
              "$aciertos\n",
              ":   171\n",
              "$ganancia_test\n",
              ":   281133333.333333\n",
              "\n",
              "\n",
              "\n",
              "39. $semilla\n",
              ":   550607\n",
              "$testing\n",
              ":   49013\n",
              "$testing_pos\n",
              ":   332\n",
              "$envios\n",
              ":   3423\n",
              "$aciertos\n",
              ":   184\n",
              "$ganancia_test\n",
              ":   262466666.666667\n",
              "\n",
              "\n",
              "\n",
              "40. $semilla\n",
              ":   249863\n",
              "$testing\n",
              ":   49026\n",
              "$testing_pos\n",
              ":   345\n",
              "$envios\n",
              ":   2647\n",
              "$aciertos\n",
              ":   179\n",
              "$ganancia_test\n",
              ":   300866666.666667\n",
              "\n",
              "\n",
              "\n",
              "41. $semilla\n",
              ":   398369\n",
              "$testing\n",
              ":   49026\n",
              "$testing_pos\n",
              ":   337\n",
              "$envios\n",
              ":   2615\n",
              "$aciertos\n",
              ":   173\n",
              "$ganancia_test\n",
              ":   2.87e+08\n",
              "\n",
              "\n",
              "\n",
              "42. $semilla\n",
              ":   866857\n",
              "$testing\n",
              ":   49029\n",
              "$testing_pos\n",
              ":   342\n",
              "$envios\n",
              ":   3320\n",
              "$aciertos\n",
              ":   188\n",
              "$ganancia_test\n",
              ":   2.8e+08\n",
              "\n",
              "\n",
              "\n",
              "43. $semilla\n",
              ":   864781\n",
              "$testing\n",
              ":   49012\n",
              "$testing_pos\n",
              ":   332\n",
              "$envios\n",
              ":   3058\n",
              "$aciertos\n",
              ":   185\n",
              "$ganancia_test\n",
              ":   289466666.666667\n",
              "\n",
              "\n",
              "\n",
              "44. $semilla\n",
              ":   518831\n",
              "$testing\n",
              ":   49015\n",
              "$testing_pos\n",
              ":   337\n",
              "$envios\n",
              ":   2964\n",
              "$aciertos\n",
              ":   175\n",
              "$ganancia_test\n",
              ":   269066666.666667\n",
              "\n",
              "\n",
              "\n",
              "45. $semilla\n",
              ":   170081\n",
              "$testing\n",
              ":   49023\n",
              "$testing_pos\n",
              ":   336\n",
              "$envios\n",
              ":   3257\n",
              "$aciertos\n",
              ":   188\n",
              "$ganancia_test\n",
              ":   284200000\n",
              "\n",
              "\n",
              "\n",
              "46. $semilla\n",
              ":   111653\n",
              "$testing\n",
              ":   49031\n",
              "$testing_pos\n",
              ":   344\n",
              "$envios\n",
              ":   2886\n",
              "$aciertos\n",
              ":   178\n",
              "$ganancia_test\n",
              ":   282266666.666667\n",
              "\n",
              "\n",
              "\n",
              "47. $semilla\n",
              ":   157627\n",
              "$testing\n",
              ":   49021\n",
              "$testing_pos\n",
              ":   339\n",
              "$envios\n",
              ":   2988\n",
              "$aciertos\n",
              ":   179\n",
              "$ganancia_test\n",
              ":   278133333.333333\n",
              "\n",
              "\n",
              "\n",
              "48. $semilla\n",
              ":   381569\n",
              "$testing\n",
              ":   49023\n",
              "$testing_pos\n",
              ":   343\n",
              "$envios\n",
              ":   2494\n",
              "$aciertos\n",
              ":   179\n",
              "$ganancia_test\n",
              ":   311066666.666667\n",
              "\n",
              "\n",
              "\n",
              "49. $semilla\n",
              ":   674903\n",
              "$testing\n",
              ":   49026\n",
              "$testing_pos\n",
              ":   342\n",
              "$envios\n",
              ":   3014\n",
              "$aciertos\n",
              ":   176\n",
              "$ganancia_test\n",
              ":   268400000\n",
              "\n",
              "\n",
              "\n",
              "50. $semilla\n",
              ":   858503\n",
              "$testing\n",
              ":   49031\n",
              "$testing_pos\n",
              ":   342\n",
              "$envios\n",
              ":   3193\n",
              "$aciertos\n",
              ":   193\n",
              "$ganancia_test\n",
              ":   301800000\n",
              "\n",
              "\n",
              "\n",
              "\n",
              "\n"
            ],
            "text/plain": [
              "[[1]]\n",
              "[[1]]$semilla\n",
              "[1] 590819\n",
              "\n",
              "[[1]]$testing\n",
              "[1] 49019\n",
              "\n",
              "[[1]]$testing_pos\n",
              "[1] 337\n",
              "\n",
              "[[1]]$envios\n",
              "[1] 3425\n",
              "\n",
              "[[1]]$aciertos\n",
              "[1] 193\n",
              "\n",
              "[[1]]$ganancia_test\n",
              "[1] 286333333\n",
              "\n",
              "\n",
              "[[2]]\n",
              "[[2]]$semilla\n",
              "[1] 526937\n",
              "\n",
              "[[2]]$testing\n",
              "[1] 49021\n",
              "\n",
              "[[2]]$testing_pos\n",
              "[1] 332\n",
              "\n",
              "[[2]]$envios\n",
              "[1] 2940\n",
              "\n",
              "[[2]]$aciertos\n",
              "[1] 174\n",
              "\n",
              "[[2]]$ganancia_test\n",
              "[1] 2.68e+08\n",
              "\n",
              "\n",
              "[[3]]\n",
              "[[3]]$semilla\n",
              "[1] 753937\n",
              "\n",
              "[[3]]$testing\n",
              "[1] 49017\n",
              "\n",
              "[[3]]$testing_pos\n",
              "[1] 336\n",
              "\n",
              "[[3]]$envios\n",
              "[1] 2745\n",
              "\n",
              "[[3]]$aciertos\n",
              "[1] 163\n",
              "\n",
              "[[3]]$ganancia_test\n",
              "[1] 251666667\n",
              "\n",
              "\n",
              "[[4]]\n",
              "[[4]]$semilla\n",
              "[1] 101173\n",
              "\n",
              "[[4]]$testing\n",
              "[1] 49025\n",
              "\n",
              "[[4]]$testing_pos\n",
              "[1] 340\n",
              "\n",
              "[[4]]$envios\n",
              "[1] 3004\n",
              "\n",
              "[[4]]$aciertos\n",
              "[1] 184\n",
              "\n",
              "[[4]]$ganancia_test\n",
              "[1] 290400000\n",
              "\n",
              "\n",
              "[[5]]\n",
              "[[5]]$semilla\n",
              "[1] 715727\n",
              "\n",
              "[[5]]$testing\n",
              "[1] 49021\n",
              "\n",
              "[[5]]$testing_pos\n",
              "[1] 337\n",
              "\n",
              "[[5]]$envios\n",
              "[1] 2835\n",
              "\n",
              "[[5]]$aciertos\n",
              "[1] 164\n",
              "\n",
              "[[5]]$ganancia_test\n",
              "[1] 248333333\n",
              "\n",
              "\n",
              "[[6]]\n",
              "[[6]]$semilla\n",
              "[1] 522959\n",
              "\n",
              "[[6]]$testing\n",
              "[1] 49027\n",
              "\n",
              "[[6]]$testing_pos\n",
              "[1] 340\n",
              "\n",
              "[[6]]$envios\n",
              "[1] 2694\n",
              "\n",
              "[[6]]$aciertos\n",
              "[1] 177\n",
              "\n",
              "[[6]]$ganancia_test\n",
              "[1] 292400000\n",
              "\n",
              "\n",
              "[[7]]\n",
              "[[7]]$semilla\n",
              "[1] 975883\n",
              "\n",
              "[[7]]$testing\n",
              "[1] 49030\n",
              "\n",
              "[[7]]$testing_pos\n",
              "[1] 340\n",
              "\n",
              "[[7]]$envios\n",
              "[1] 3142\n",
              "\n",
              "[[7]]$aciertos\n",
              "[1] 196\n",
              "\n",
              "[[7]]$ganancia_test\n",
              "[1] 313200000\n",
              "\n",
              "\n",
              "[[8]]\n",
              "[[8]]$semilla\n",
              "[1] 703657\n",
              "\n",
              "[[8]]$testing\n",
              "[1] 49020\n",
              "\n",
              "[[8]]$testing_pos\n",
              "[1] 334\n",
              "\n",
              "[[8]]$envios\n",
              "[1] 2735\n",
              "\n",
              "[[8]]$aciertos\n",
              "[1] 161\n",
              "\n",
              "[[8]]$ganancia_test\n",
              "[1] 2.47e+08\n",
              "\n",
              "\n",
              "[[9]]\n",
              "[[9]]$semilla\n",
              "[1] 631469\n",
              "\n",
              "[[9]]$testing\n",
              "[1] 49019\n",
              "\n",
              "[[9]]$testing_pos\n",
              "[1] 329\n",
              "\n",
              "[[9]]$envios\n",
              "[1] 2976\n",
              "\n",
              "[[9]]$aciertos\n",
              "[1] 177\n",
              "\n",
              "[[9]]$ganancia_test\n",
              "[1] 273600000\n",
              "\n",
              "\n",
              "[[10]]\n",
              "[[10]]$semilla\n",
              "[1] 662617\n",
              "\n",
              "[[10]]$testing\n",
              "[1] 49031\n",
              "\n",
              "[[10]]$testing_pos\n",
              "[1] 341\n",
              "\n",
              "[[10]]$envios\n",
              "[1] 3151\n",
              "\n",
              "[[10]]$aciertos\n",
              "[1] 189\n",
              "\n",
              "[[10]]$ganancia_test\n",
              "[1] 293933333\n",
              "\n",
              "\n",
              "[[11]]\n",
              "[[11]]$semilla\n",
              "[1] 552031\n",
              "\n",
              "[[11]]$testing\n",
              "[1] 49024\n",
              "\n",
              "[[11]]$testing_pos\n",
              "[1] 337\n",
              "\n",
              "[[11]]$envios\n",
              "[1] 3474\n",
              "\n",
              "[[11]]$aciertos\n",
              "[1] 201\n",
              "\n",
              "[[11]]$ganancia_test\n",
              "[1] 304400000\n",
              "\n",
              "\n",
              "[[12]]\n",
              "[[12]]$semilla\n",
              "[1] 195281\n",
              "\n",
              "[[12]]$testing\n",
              "[1] 49031\n",
              "\n",
              "[[12]]$testing_pos\n",
              "[1] 340\n",
              "\n",
              "[[12]]$envios\n",
              "[1] 3741\n",
              "\n",
              "[[12]]$aciertos\n",
              "[1] 206\n",
              "\n",
              "[[12]]$ganancia_test\n",
              "[1] 299933333\n",
              "\n",
              "\n",
              "[[13]]\n",
              "[[13]]$semilla\n",
              "[1] 326999\n",
              "\n",
              "[[13]]$testing\n",
              "[1] 49028\n",
              "\n",
              "[[13]]$testing_pos\n",
              "[1] 343\n",
              "\n",
              "[[13]]$envios\n",
              "[1] 2973\n",
              "\n",
              "[[13]]$aciertos\n",
              "[1] 195\n",
              "\n",
              "[[13]]$ganancia_test\n",
              "[1] 321800000\n",
              "\n",
              "\n",
              "[[14]]\n",
              "[[14]]$semilla\n",
              "[1] 452269\n",
              "\n",
              "[[14]]$testing\n",
              "[1] 49025\n",
              "\n",
              "[[14]]$testing_pos\n",
              "[1] 339\n",
              "\n",
              "[[14]]$envios\n",
              "[1] 3290\n",
              "\n",
              "[[14]]$aciertos\n",
              "[1] 178\n",
              "\n",
              "[[14]]$ganancia_test\n",
              "[1] 255333333\n",
              "\n",
              "\n",
              "[[15]]\n",
              "[[15]]$semilla\n",
              "[1] 576221\n",
              "\n",
              "[[15]]$testing\n",
              "[1] 49024\n",
              "\n",
              "[[15]]$testing_pos\n",
              "[1] 339\n",
              "\n",
              "[[15]]$envios\n",
              "[1] 2920\n",
              "\n",
              "[[15]]$aciertos\n",
              "[1] 185\n",
              "\n",
              "[[15]]$ganancia_test\n",
              "[1] 298666667\n",
              "\n",
              "\n",
              "[[16]]\n",
              "[[16]]$semilla\n",
              "[1] 293729\n",
              "\n",
              "[[16]]$testing\n",
              "[1] 49025\n",
              "\n",
              "[[16]]$testing_pos\n",
              "[1] 341\n",
              "\n",
              "[[16]]$envios\n",
              "[1] 2732\n",
              "\n",
              "[[16]]$aciertos\n",
              "[1] 170\n",
              "\n",
              "[[16]]$ganancia_test\n",
              "[1] 271200000\n",
              "\n",
              "\n",
              "[[17]]\n",
              "[[17]]$semilla\n",
              "[1] 658079\n",
              "\n",
              "[[17]]$testing\n",
              "[1] 49033\n",
              "\n",
              "[[17]]$testing_pos\n",
              "[1] 341\n",
              "\n",
              "[[17]]$envios\n",
              "[1] 3274\n",
              "\n",
              "[[17]]$aciertos\n",
              "[1] 203\n",
              "\n",
              "[[17]]$ganancia_test\n",
              "[1] 323066667\n",
              "\n",
              "\n",
              "[[18]]\n",
              "[[18]]$semilla\n",
              "[1] 341461\n",
              "\n",
              "[[18]]$testing\n",
              "[1] 49032\n",
              "\n",
              "[[18]]$testing_pos\n",
              "[1] 338\n",
              "\n",
              "[[18]]$envios\n",
              "[1] 3921\n",
              "\n",
              "[[18]]$aciertos\n",
              "[1] 214\n",
              "\n",
              "[[18]]$ganancia_test\n",
              "[1] 309266667\n",
              "\n",
              "\n",
              "[[19]]\n",
              "[[19]]$semilla\n",
              "[1] 193873\n",
              "\n",
              "[[19]]$testing\n",
              "[1] 49038\n",
              "\n",
              "[[19]]$testing_pos\n",
              "[1] 345\n",
              "\n",
              "[[19]]$envios\n",
              "[1] 3944\n",
              "\n",
              "[[19]]$aciertos\n",
              "[1] 206\n",
              "\n",
              "[[19]]$ganancia_test\n",
              "[1] 286400000\n",
              "\n",
              "\n",
              "[[20]]\n",
              "[[20]]$semilla\n",
              "[1] 961139\n",
              "\n",
              "[[20]]$testing\n",
              "[1] 49019\n",
              "\n",
              "[[20]]$testing_pos\n",
              "[1] 339\n",
              "\n",
              "[[20]]$envios\n",
              "[1] 2786\n",
              "\n",
              "[[20]]$aciertos\n",
              "[1] 172\n",
              "\n",
              "[[20]]$ganancia_test\n",
              "[1] 272933333\n",
              "\n",
              "\n",
              "[[21]]\n",
              "[[21]]$semilla\n",
              "[1] 754513\n",
              "\n",
              "[[21]]$testing\n",
              "[1] 49027\n",
              "\n",
              "[[21]]$testing_pos\n",
              "[1] 346\n",
              "\n",
              "[[21]]$envios\n",
              "[1] 3191\n",
              "\n",
              "[[21]]$aciertos\n",
              "[1] 203\n",
              "\n",
              "[[21]]$ganancia_test\n",
              "[1] 328600000\n",
              "\n",
              "\n",
              "[[22]]\n",
              "[[22]]$semilla\n",
              "[1] 856759\n",
              "\n",
              "[[22]]$testing\n",
              "[1] 49026\n",
              "\n",
              "[[22]]$testing_pos\n",
              "[1] 341\n",
              "\n",
              "[[22]]$envios\n",
              "[1] 2717\n",
              "\n",
              "[[22]]$aciertos\n",
              "[1] 172\n",
              "\n",
              "[[22]]$ganancia_test\n",
              "[1] 277533333\n",
              "\n",
              "\n",
              "[[23]]\n",
              "[[23]]$semilla\n",
              "[1] 402307\n",
              "\n",
              "[[23]]$testing\n",
              "[1] 49013\n",
              "\n",
              "[[23]]$testing_pos\n",
              "[1] 332\n",
              "\n",
              "[[23]]$envios\n",
              "[1] 3405\n",
              "\n",
              "[[23]]$aciertos\n",
              "[1] 178\n",
              "\n",
              "[[23]]$ganancia_test\n",
              "[1] 247666667\n",
              "\n",
              "\n",
              "[[24]]\n",
              "[[24]]$semilla\n",
              "[1] 706417\n",
              "\n",
              "[[24]]$testing\n",
              "[1] 49028\n",
              "\n",
              "[[24]]$testing_pos\n",
              "[1] 344\n",
              "\n",
              "[[24]]$envios\n",
              "[1] 2895\n",
              "\n",
              "[[24]]$aciertos\n",
              "[1] 198\n",
              "\n",
              "[[24]]$ganancia_test\n",
              "[1] 3.35e+08\n",
              "\n",
              "\n",
              "[[25]]\n",
              "[[25]]$semilla\n",
              "[1] 586457\n",
              "\n",
              "[[25]]$testing\n",
              "[1] 49025\n",
              "\n",
              "[[25]]$testing_pos\n",
              "[1] 337\n",
              "\n",
              "[[25]]$envios\n",
              "[1] 2894\n",
              "\n",
              "[[25]]$aciertos\n",
              "[1] 174\n",
              "\n",
              "[[25]]$ganancia_test\n",
              "[1] 271066667\n",
              "\n",
              "\n",
              "[[26]]\n",
              "[[26]]$semilla\n",
              "[1] 260461\n",
              "\n",
              "[[26]]$testing\n",
              "[1] 49031\n",
              "\n",
              "[[26]]$testing_pos\n",
              "[1] 338\n",
              "\n",
              "[[26]]$envios\n",
              "[1] 2975\n",
              "\n",
              "[[26]]$aciertos\n",
              "[1] 186\n",
              "\n",
              "[[26]]$ganancia_test\n",
              "[1] 297666667\n",
              "\n",
              "\n",
              "[[27]]\n",
              "[[27]]$semilla\n",
              "[1] 808373\n",
              "\n",
              "[[27]]$testing\n",
              "[1] 49028\n",
              "\n",
              "[[27]]$testing_pos\n",
              "[1] 344\n",
              "\n",
              "[[27]]$envios\n",
              "[1] 2839\n",
              "\n",
              "[[27]]$aciertos\n",
              "[1] 171\n",
              "\n",
              "[[27]]$ganancia_test\n",
              "[1] 266733333\n",
              "\n",
              "\n",
              "[[28]]\n",
              "[[28]]$semilla\n",
              "[1] 986933\n",
              "\n",
              "[[28]]$testing\n",
              "[1] 49030\n",
              "\n",
              "[[28]]$testing_pos\n",
              "[1] 339\n",
              "\n",
              "[[28]]$envios\n",
              "[1] 3197\n",
              "\n",
              "[[28]]$aciertos\n",
              "[1] 183\n",
              "\n",
              "[[28]]$ganancia_test\n",
              "[1] 274866667\n",
              "\n",
              "\n",
              "[[29]]\n",
              "[[29]]$semilla\n",
              "[1] 251879\n",
              "\n",
              "[[29]]$testing\n",
              "[1] 49025\n",
              "\n",
              "[[29]]$testing_pos\n",
              "[1] 339\n",
              "\n",
              "[[29]]$envios\n",
              "[1] 2558\n",
              "\n",
              "[[29]]$aciertos\n",
              "[1] 177\n",
              "\n",
              "[[29]]$ganancia_test\n",
              "[1] 301466667\n",
              "\n",
              "\n",
              "[[30]]\n",
              "[[30]]$semilla\n",
              "[1] 829453\n",
              "\n",
              "[[30]]$testing\n",
              "[1] 49028\n",
              "\n",
              "[[30]]$testing_pos\n",
              "[1] 338\n",
              "\n",
              "[[30]]$envios\n",
              "[1] 3477\n",
              "\n",
              "[[30]]$aciertos\n",
              "[1] 200\n",
              "\n",
              "[[30]]$ganancia_test\n",
              "[1] 301533333\n",
              "\n",
              "\n",
              "[[31]]\n",
              "[[31]]$semilla\n",
              "[1] 208189\n",
              "\n",
              "[[31]]$testing\n",
              "[1] 49014\n",
              "\n",
              "[[31]]$testing_pos\n",
              "[1] 336\n",
              "\n",
              "[[31]]$envios\n",
              "[1] 2298\n",
              "\n",
              "[[31]]$aciertos\n",
              "[1] 178\n",
              "\n",
              "[[31]]$ganancia_test\n",
              "[1] 321466667\n",
              "\n",
              "\n",
              "[[32]]\n",
              "[[32]]$semilla\n",
              "[1] 690721\n",
              "\n",
              "[[32]]$testing\n",
              "[1] 49039\n",
              "\n",
              "[[32]]$testing_pos\n",
              "[1] 339\n",
              "\n",
              "[[32]]$envios\n",
              "[1] 3675\n",
              "\n",
              "[[32]]$aciertos\n",
              "[1] 204\n",
              "\n",
              "[[32]]$ganancia_test\n",
              "[1] 2.99e+08\n",
              "\n",
              "\n",
              "[[33]]\n",
              "[[33]]$semilla\n",
              "[1] 658117\n",
              "\n",
              "[[33]]$testing\n",
              "[1] 49027\n",
              "\n",
              "[[33]]$testing_pos\n",
              "[1] 337\n",
              "\n",
              "[[33]]$envios\n",
              "[1] 2774\n",
              "\n",
              "[[33]]$aciertos\n",
              "[1] 172\n",
              "\n",
              "[[33]]$ganancia_test\n",
              "[1] 273733333\n",
              "\n",
              "\n",
              "[[34]]\n",
              "[[34]]$semilla\n",
              "[1] 885509\n",
              "\n",
              "[[34]]$testing\n",
              "[1] 49028\n",
              "\n",
              "[[34]]$testing_pos\n",
              "[1] 341\n",
              "\n",
              "[[34]]$envios\n",
              "[1] 3037\n",
              "\n",
              "[[34]]$aciertos\n",
              "[1] 166\n",
              "\n",
              "[[34]]$ganancia_test\n",
              "[1] 240200000\n",
              "\n",
              "\n",
              "[[35]]\n",
              "[[35]]$semilla\n",
              "[1] 816019\n",
              "\n",
              "[[35]]$testing\n",
              "[1] 49030\n",
              "\n",
              "[[35]]$testing_pos\n",
              "[1] 336\n",
              "\n",
              "[[35]]$envios\n",
              "[1] 3014\n",
              "\n",
              "[[35]]$aciertos\n",
              "[1] 189\n",
              "\n",
              "[[35]]$ganancia_test\n",
              "[1] 303066667\n",
              "\n",
              "\n",
              "[[36]]\n",
              "[[36]]$semilla\n",
              "[1] 526739\n",
              "\n",
              "[[36]]$testing\n",
              "[1] 49032\n",
              "\n",
              "[[36]]$testing_pos\n",
              "[1] 348\n",
              "\n",
              "[[36]]$envios\n",
              "[1] 2879\n",
              "\n",
              "[[36]]$aciertos\n",
              "[1] 180\n",
              "\n",
              "[[36]]$ganancia_test\n",
              "[1] 288066667\n",
              "\n",
              "\n",
              "[[37]]\n",
              "[[37]]$semilla\n",
              "[1] 236471\n",
              "\n",
              "[[37]]$testing\n",
              "[1] 49024\n",
              "\n",
              "[[37]]$testing_pos\n",
              "[1] 337\n",
              "\n",
              "[[37]]$envios\n",
              "[1] 3465\n",
              "\n",
              "[[37]]$aciertos\n",
              "[1] 202\n",
              "\n",
              "[[37]]$ganancia_test\n",
              "[1] 307666667\n",
              "\n",
              "\n",
              "[[38]]\n",
              "[[38]]$semilla\n",
              "[1] 147089\n",
              "\n",
              "[[38]]$testing\n",
              "[1] 49017\n",
              "\n",
              "[[38]]$testing_pos\n",
              "[1] 334\n",
              "\n",
              "[[38]]$envios\n",
              "[1] 2623\n",
              "\n",
              "[[38]]$aciertos\n",
              "[1] 171\n",
              "\n",
              "[[38]]$ganancia_test\n",
              "[1] 281133333\n",
              "\n",
              "\n",
              "[[39]]\n",
              "[[39]]$semilla\n",
              "[1] 550607\n",
              "\n",
              "[[39]]$testing\n",
              "[1] 49013\n",
              "\n",
              "[[39]]$testing_pos\n",
              "[1] 332\n",
              "\n",
              "[[39]]$envios\n",
              "[1] 3423\n",
              "\n",
              "[[39]]$aciertos\n",
              "[1] 184\n",
              "\n",
              "[[39]]$ganancia_test\n",
              "[1] 262466667\n",
              "\n",
              "\n",
              "[[40]]\n",
              "[[40]]$semilla\n",
              "[1] 249863\n",
              "\n",
              "[[40]]$testing\n",
              "[1] 49026\n",
              "\n",
              "[[40]]$testing_pos\n",
              "[1] 345\n",
              "\n",
              "[[40]]$envios\n",
              "[1] 2647\n",
              "\n",
              "[[40]]$aciertos\n",
              "[1] 179\n",
              "\n",
              "[[40]]$ganancia_test\n",
              "[1] 300866667\n",
              "\n",
              "\n",
              "[[41]]\n",
              "[[41]]$semilla\n",
              "[1] 398369\n",
              "\n",
              "[[41]]$testing\n",
              "[1] 49026\n",
              "\n",
              "[[41]]$testing_pos\n",
              "[1] 337\n",
              "\n",
              "[[41]]$envios\n",
              "[1] 2615\n",
              "\n",
              "[[41]]$aciertos\n",
              "[1] 173\n",
              "\n",
              "[[41]]$ganancia_test\n",
              "[1] 2.87e+08\n",
              "\n",
              "\n",
              "[[42]]\n",
              "[[42]]$semilla\n",
              "[1] 866857\n",
              "\n",
              "[[42]]$testing\n",
              "[1] 49029\n",
              "\n",
              "[[42]]$testing_pos\n",
              "[1] 342\n",
              "\n",
              "[[42]]$envios\n",
              "[1] 3320\n",
              "\n",
              "[[42]]$aciertos\n",
              "[1] 188\n",
              "\n",
              "[[42]]$ganancia_test\n",
              "[1] 2.8e+08\n",
              "\n",
              "\n",
              "[[43]]\n",
              "[[43]]$semilla\n",
              "[1] 864781\n",
              "\n",
              "[[43]]$testing\n",
              "[1] 49012\n",
              "\n",
              "[[43]]$testing_pos\n",
              "[1] 332\n",
              "\n",
              "[[43]]$envios\n",
              "[1] 3058\n",
              "\n",
              "[[43]]$aciertos\n",
              "[1] 185\n",
              "\n",
              "[[43]]$ganancia_test\n",
              "[1] 289466667\n",
              "\n",
              "\n",
              "[[44]]\n",
              "[[44]]$semilla\n",
              "[1] 518831\n",
              "\n",
              "[[44]]$testing\n",
              "[1] 49015\n",
              "\n",
              "[[44]]$testing_pos\n",
              "[1] 337\n",
              "\n",
              "[[44]]$envios\n",
              "[1] 2964\n",
              "\n",
              "[[44]]$aciertos\n",
              "[1] 175\n",
              "\n",
              "[[44]]$ganancia_test\n",
              "[1] 269066667\n",
              "\n",
              "\n",
              "[[45]]\n",
              "[[45]]$semilla\n",
              "[1] 170081\n",
              "\n",
              "[[45]]$testing\n",
              "[1] 49023\n",
              "\n",
              "[[45]]$testing_pos\n",
              "[1] 336\n",
              "\n",
              "[[45]]$envios\n",
              "[1] 3257\n",
              "\n",
              "[[45]]$aciertos\n",
              "[1] 188\n",
              "\n",
              "[[45]]$ganancia_test\n",
              "[1] 284200000\n",
              "\n",
              "\n",
              "[[46]]\n",
              "[[46]]$semilla\n",
              "[1] 111653\n",
              "\n",
              "[[46]]$testing\n",
              "[1] 49031\n",
              "\n",
              "[[46]]$testing_pos\n",
              "[1] 344\n",
              "\n",
              "[[46]]$envios\n",
              "[1] 2886\n",
              "\n",
              "[[46]]$aciertos\n",
              "[1] 178\n",
              "\n",
              "[[46]]$ganancia_test\n",
              "[1] 282266667\n",
              "\n",
              "\n",
              "[[47]]\n",
              "[[47]]$semilla\n",
              "[1] 157627\n",
              "\n",
              "[[47]]$testing\n",
              "[1] 49021\n",
              "\n",
              "[[47]]$testing_pos\n",
              "[1] 339\n",
              "\n",
              "[[47]]$envios\n",
              "[1] 2988\n",
              "\n",
              "[[47]]$aciertos\n",
              "[1] 179\n",
              "\n",
              "[[47]]$ganancia_test\n",
              "[1] 278133333\n",
              "\n",
              "\n",
              "[[48]]\n",
              "[[48]]$semilla\n",
              "[1] 381569\n",
              "\n",
              "[[48]]$testing\n",
              "[1] 49023\n",
              "\n",
              "[[48]]$testing_pos\n",
              "[1] 343\n",
              "\n",
              "[[48]]$envios\n",
              "[1] 2494\n",
              "\n",
              "[[48]]$aciertos\n",
              "[1] 179\n",
              "\n",
              "[[48]]$ganancia_test\n",
              "[1] 311066667\n",
              "\n",
              "\n",
              "[[49]]\n",
              "[[49]]$semilla\n",
              "[1] 674903\n",
              "\n",
              "[[49]]$testing\n",
              "[1] 49026\n",
              "\n",
              "[[49]]$testing_pos\n",
              "[1] 342\n",
              "\n",
              "[[49]]$envios\n",
              "[1] 3014\n",
              "\n",
              "[[49]]$aciertos\n",
              "[1] 176\n",
              "\n",
              "[[49]]$ganancia_test\n",
              "[1] 268400000\n",
              "\n",
              "\n",
              "[[50]]\n",
              "[[50]]$semilla\n",
              "[1] 858503\n",
              "\n",
              "[[50]]$testing\n",
              "[1] 49031\n",
              "\n",
              "[[50]]$testing_pos\n",
              "[1] 342\n",
              "\n",
              "[[50]]$envios\n",
              "[1] 3193\n",
              "\n",
              "[[50]]$aciertos\n",
              "[1] 193\n",
              "\n",
              "[[50]]$ganancia_test\n",
              "[1] 301800000\n",
              "\n"
            ]
          },
          "metadata": {},
          "output_type": "display_data"
        }
      ],
      "source": [
        "# Reversionado a Windows\n",
        "library(parallel)\n",
        "\n",
        "# Función que incluye todo internamente\n",
        "ArbolEstimarGanancia_completa <- function(semilla, param_basicos, dataset_original) {\n",
        "  # Hacer copia local del dataset\n",
        "  dataset_local <- copy(dataset_original)\n",
        "  \n",
        "  # Particionar\n",
        "  particionar(dataset_local,\n",
        "    division = c(param_basicos$training_pct, 100L - param_basicos$training_pct),\n",
        "    agrupa = \"clase_ternaria\",\n",
        "    seed = semilla\n",
        "  )\n",
        "\n",
        "  # Resto del código igual...\n",
        "  modelo <- rpart(\"clase_ternaria ~ .\",\n",
        "    data = dataset_local[fold == 1],\n",
        "    xval = 0,\n",
        "    control = param_basicos$rpart\n",
        "  )\n",
        "\n",
        "  prediccion <- predict(modelo,\n",
        "    dataset_local[fold == 2],\n",
        "    type = \"prob\"\n",
        "  )\n",
        "\n",
        "  ganancia_test <- dataset_local[\n",
        "    fold == 2,\n",
        "    sum(ifelse(prediccion[, \"BAJA+2\"] > 0.025,\n",
        "      ifelse(clase_ternaria == \"BAJA+2\", 780000, -20000),\n",
        "      0\n",
        "    ))\n",
        "  ]\n",
        "\n",
        "  ganancia_test_normalizada <- ganancia_test / ((100 - param_basicos$training_pct) / 100)\n",
        "\n",
        "  return(list(\n",
        "    \"semilla\" = semilla,\n",
        "    \"testing\" = dataset_local[fold == 2, .N],\n",
        "    \"testing_pos\" = dataset_local[fold == 2 & clase_ternaria == \"BAJA+2\", .N],\n",
        "    \"envios\" = dataset_local[fold == 2, sum(prediccion[, \"BAJA+2\"] > 0.025)],\n",
        "    \"aciertos\" = dataset_local[\n",
        "      fold == 2,\n",
        "      sum(prediccion[, \"BAJA+2\"] > 0.025 & clase_ternaria == \"BAJA+2\")\n",
        "    ],\n",
        "    \"ganancia_test\" = ganancia_test_normalizada\n",
        "  ))\n",
        "}\n",
        "\n",
        "# Paralelización\n",
        "num_cores <- detectCores()\n",
        "cl <- makeCluster(num_cores)\n",
        "\n",
        "clusterExport(cl, c(\"ArbolEstimarGanancia_completa\", \"PARAM\", \"dataset\", \"particionar\"))\n",
        "clusterEvalQ(cl, {\n",
        "  library(rpart)\n",
        "  library(data.table)\n",
        "})\n",
        "\n",
        "salidas <- parLapply(cl, PARAM$semillas, function(semilla) {\n",
        "  ArbolEstimarGanancia_completa(semilla, PARAM, dataset)\n",
        "})\n",
        "\n",
        "stopCluster(cl)\n",
=======
          "ename": "",
          "evalue": "",
          "output_type": "error",
          "traceback": [
            "\u001b[1;31mThe Kernel crashed while executing code in the current cell or a previous cell. \n",
            "\u001b[1;31mPlease review the code in the cell(s) to identify a possible cause of the failure. \n",
            "\u001b[1;31mClick <a href='https://aka.ms/vscodeJupyterKernelCrash'>here</a> for more info. \n",
            "\u001b[1;31mView Jupyter <a href='command:jupyter.viewOutput'>log</a> for further details."
          ]
        }
      ],
      "source": [
        "salidas <- future_lapply(\n",
        "  PARAM$semillas, # paso el vector de semillas\n",
        "  ArbolEstimarGanancia,\n",
        "  param_basicos = PARAM,\n",
        "  future.seed = TRUE\n",
        ")\n",
>>>>>>> 4c354cd (Actualización del repositorio)
        "\n",
        "salidas"
      ]
    },
    {
      "cell_type": "code",
<<<<<<< HEAD
      "execution_count": 49,
=======
      "execution_count": null,
>>>>>>> 4c354cd (Actualización del repositorio)
      "metadata": {
        "colab": {
          "base_uri": "https://localhost:8080/"
        },
        "id": "unGWiKRMGimU",
        "outputId": "a3eaeb7e-6ebb-44c1-f303-18e83f5eedca",
        "vscode": {
          "languageId": "r"
        }
      },
      "outputs": [
        {
          "name": "stdout",
          "output_type": "stream",
          "text": [
            "    semilla testing testing_pos envios aciertos ganancia_test\n",
            "      <int>   <int>       <int>  <int>    <int>         <num>\n",
            " 1:  590819   49019         337   3425      193     286333333\n",
            " 2:  526937   49021         332   2940      174     268000000\n",
            " 3:  753937   49017         336   2745      163     251666667\n",
            " 4:  101173   49025         340   3004      184     290400000\n",
            " 5:  715727   49021         337   2835      164     248333333\n",
            " 6:  522959   49027         340   2694      177     292400000\n",
            " 7:  975883   49030         340   3142      196     313200000\n",
            " 8:  703657   49020         334   2735      161     247000000\n",
            " 9:  631469   49019         329   2976      177     273600000\n",
            "10:  662617   49031         341   3151      189     293933333\n",
            "11:  552031   49024         337   3474      201     304400000\n",
            "12:  195281   49031         340   3741      206     299933333\n",
            "13:  326999   49028         343   2973      195     321800000\n",
            "14:  452269   49025         339   3290      178     255333333\n",
            "15:  576221   49024         339   2920      185     298666667\n",
            "16:  293729   49025         341   2732      170     271200000\n",
            "17:  658079   49033         341   3274      203     323066667\n",
            "18:  341461   49032         338   3921      214     309266667\n",
            "19:  193873   49038         345   3944      206     286400000\n",
            "20:  961139   49019         339   2786      172     272933333\n",
            "21:  754513   49027         346   3191      203     328600000\n",
            "22:  856759   49026         341   2717      172     277533333\n",
            "23:  402307   49013         332   3405      178     247666667\n",
            "24:  706417   49028         344   2895      198     335000000\n",
            "25:  586457   49025         337   2894      174     271066667\n",
            "26:  260461   49031         338   2975      186     297666667\n",
            "27:  808373   49028         344   2839      171     266733333\n",
            "28:  986933   49030         339   3197      183     274866667\n",
            "29:  251879   49025         339   2558      177     301466667\n",
            "30:  829453   49028         338   3477      200     301533333\n",
            "31:  208189   49014         336   2298      178     321466667\n",
            "32:  690721   49039         339   3675      204     299000000\n",
            "33:  658117   49027         337   2774      172     273733333\n",
            "34:  885509   49028         341   3037      166     240200000\n",
            "35:  816019   49030         336   3014      189     303066667\n",
            "36:  526739   49032         348   2879      180     288066667\n",
            "37:  236471   49024         337   3465      202     307666667\n",
            "38:  147089   49017         334   2623      171     281133333\n",
            "39:  550607   49013         332   3423      184     262466667\n",
            "40:  249863   49026         345   2647      179     300866667\n",
            "41:  398369   49026         337   2615      173     287000000\n",
            "42:  866857   49029         342   3320      188     280000000\n",
            "43:  864781   49012         332   3058      185     289466667\n",
            "44:  518831   49015         337   2964      175     269066667\n",
            "45:  170081   49023         336   3257      188     284200000\n",
            "46:  111653   49031         344   2886      178     282266667\n",
            "47:  157627   49021         339   2988      179     278133333\n",
            "48:  381569   49023         343   2494      179     311066667\n",
            "49:  674903   49026         342   3014      176     268400000\n",
            "50:  858503   49031         342   3193      193     301800000\n",
            "    semilla testing testing_pos envios aciertos ganancia_test\n"
          ]
        }
      ],
      "source": [
        "# paso la lista a vector\n",
        "tb_salida <- rbindlist(salidas)\n",
        "print( tb_salida)"
      ]
    },
    {
      "cell_type": "code",
<<<<<<< HEAD
      "execution_count": 50,
=======
      "execution_count": null,
>>>>>>> 4c354cd (Actualización del repositorio)
      "metadata": {
        "colab": {
          "base_uri": "https://localhost:8080/"
        },
        "id": "oGoadhBKGimV",
        "outputId": "bf714084-4294-468c-a374-804d97995c8f",
        "vscode": {
          "languageId": "r"
        }
      },
      "outputs": [
        {
          "name": "stdout",
          "output_type": "stream",
          "text": [
            "10 \t 276486667 \n",
            "20 \t 285393333 \n",
            "30 \t 2.87e+08 \n",
            "40 \t 287191667 \n",
            "50 \t 286781333 \n"
          ]
        }
      ],
      "source": [
        "# calulo la salida\n",
        "for( i in seq(10, 50, 10) )\n",
        "{\n",
        "  cat( i, \"\\t\", tb_salida[ 1:i, mean(ganancia_test)], \"\\n\" )\n",
        "}\n"
      ]
    },
    {
      "cell_type": "markdown",
      "metadata": {
        "id": "dO9yQKt7GimV"
      },
      "source": [
        "### Acciones a realizar\n",
        "* Reportar la  los resultados en la planilla colaborativa hoja  **C2-Nsem**\n",
        "* Se discutirá en clase la variabilidad de las distintas cantidades de semillas"
      ]
    },
    {
      "cell_type": "markdown",
      "metadata": {
        "id": "ziFKwIlBGimW"
      },
      "source": [
        "\n",
        "\n",
        "---\n",
        "\n"
      ]
    },
    {
      "cell_type": "markdown",
      "metadata": {
        "id": "OTLq8TC4LR0c"
      },
      "source": [
        "\n",
        "\n",
        "---\n",
        "\n"
      ]
    },
    {
      "cell_type": "markdown",
      "metadata": {
        "id": "sAS1bfL8LmBv"
      },
      "source": [
        "# 5 Comparando dos distintos  modelos\n",
        "## Clase 02  Experimento 5"
      ]
    },
    {
      "cell_type": "markdown",
      "metadata": {
        "id": "KzwdMJDZLmB9"
      },
      "source": [
        "## 5.1  Objetivos\n",
        "Presentar a los alumnos la dificultad que se presenta ante la comparación de dos modelos, uno posee un poder predictivo claramente mayor al otro.\n",
        "Comparación simple de media de ganancias, versus probabilidad que un modelo sea superior a otro."
      ]
    },
    {
      "cell_type": "markdown",
      "metadata": {
        "id": "DDyFNmJ9L_CW"
      },
      "source": [
        "## 5.2 Introduccion\n",
        "Estos son los dos arboles de muy distinta profundidad.\n",
        "<br>¿Cuál de ellos es mejor? ¿Cuál elijo?\n",
        "\n",
        "| Hiperparámetro | Arbol 1 | Arbol 2 |\n",
        "| --- | --: |  ---: |\n",
        "| cp | -1 | -1 |\n",
        "|minsplit | 170 | 250 |\n",
        "|minbucket | 70 | 125 |\n",
        "|maxdepth | 7 | 20 |\n",
        "\n"
      ]
    },
    {
      "cell_type": "markdown",
      "metadata": {
        "id": "bQfwNsVzNrtI"
      },
      "source": [
        "## 5.3 Codigo dos distintos modelos"
      ]
    },
    {
      "cell_type": "markdown",
      "metadata": {
        "id": "Ku7qQgKjNruJ"
      },
      "source": [
        "Esta parte se debe correr con el runtime en lenguaje **R** Ir al menu, Runtime -> Change Runtime Tipe -> Runtime type -> R"
      ]
    },
    {
      "cell_type": "markdown",
      "metadata": {
        "id": "6jCdS3NMuKei"
      },
      "source": [
        "El tiempo de corrida es de alrededor de 40 minutos"
      ]
    },
    {
      "cell_type": "markdown",
      "metadata": {
        "id": "Z1EUBeHyNruK"
      },
      "source": [
        "limpio el ambiente de R"
      ]
    },
    {
      "cell_type": "code",
<<<<<<< HEAD
      "execution_count": 51,
=======
      "execution_count": null,
>>>>>>> 4c354cd (Actualización del repositorio)
      "metadata": {
        "colab": {
          "base_uri": "https://localhost:8080/",
          "height": 129
        },
        "id": "GxbC4V3zNruM",
        "outputId": "a26e358b-0c7d-4922-c580-79ea88c5ff00",
        "vscode": {
          "languageId": "r"
        }
      },
      "outputs": [
        {
          "data": {
            "text/html": [
              "<table class=\"dataframe\">\n",
              "<caption>A matrix: 2 × 6 of type dbl</caption>\n",
              "<thead>\n",
              "\t<tr><th></th><th scope=col>used</th><th scope=col>(Mb)</th><th scope=col>gc trigger</th><th scope=col>(Mb)</th><th scope=col>max used</th><th scope=col>(Mb)</th></tr>\n",
              "</thead>\n",
              "<tbody>\n",
<<<<<<< HEAD
              "\t<tr><th scope=row>Ncells</th><td> 1137338</td><td> 60.8</td><td>   1832481</td><td>  97.9</td><td>  1832481</td><td>  97.9</td></tr>\n",
              "\t<tr><th scope=row>Vcells</th><td>39790095</td><td>303.6</td><td>1095932534</td><td>8361.4</td><td>986718250</td><td>7528.1</td></tr>\n",
=======
              "\t<tr><th scope=row>Ncells</th><td> 904839</td><td>48.4</td><td>  1454465</td><td>  77.7</td><td>  1454465</td><td>  77.7</td></tr>\n",
              "\t<tr><th scope=row>Vcells</th><td>1703414</td><td>13.0</td><td>143354852</td><td>1093.8</td><td>223500079</td><td>1705.2</td></tr>\n",
>>>>>>> 4c354cd (Actualización del repositorio)
              "</tbody>\n",
              "</table>\n"
            ],
            "text/latex": [
              "A matrix: 2 × 6 of type dbl\n",
              "\\begin{tabular}{r|llllll}\n",
              "  & used & (Mb) & gc trigger & (Mb) & max used & (Mb)\\\\\n",
              "\\hline\n",
<<<<<<< HEAD
              "\tNcells &  1137338 &  60.8 &    1832481 &   97.9 &   1832481 &   97.9\\\\\n",
              "\tVcells & 39790095 & 303.6 & 1095932534 & 8361.4 & 986718250 & 7528.1\\\\\n",
=======
              "\tNcells &  904839 & 48.4 &   1454465 &   77.7 &   1454465 &   77.7\\\\\n",
              "\tVcells & 1703414 & 13.0 & 143354852 & 1093.8 & 223500079 & 1705.2\\\\\n",
>>>>>>> 4c354cd (Actualización del repositorio)
              "\\end{tabular}\n"
            ],
            "text/markdown": [
              "\n",
              "A matrix: 2 × 6 of type dbl\n",
              "\n",
              "| <!--/--> | used | (Mb) | gc trigger | (Mb) | max used | (Mb) |\n",
              "|---|---|---|---|---|---|---|\n",
<<<<<<< HEAD
              "| Ncells |  1137338 |  60.8 |    1832481 |   97.9 |   1832481 |   97.9 |\n",
              "| Vcells | 39790095 | 303.6 | 1095932534 | 8361.4 | 986718250 | 7528.1 |\n",
              "\n"
            ],
            "text/plain": [
              "       used     (Mb)  gc trigger (Mb)   max used  (Mb)  \n",
              "Ncells  1137338  60.8    1832481   97.9   1832481   97.9\n",
              "Vcells 39790095 303.6 1095932534 8361.4 986718250 7528.1"
=======
              "| Ncells |  904839 | 48.4 |   1454465 |   77.7 |   1454465 |   77.7 |\n",
              "| Vcells | 1703414 | 13.0 | 143354852 | 1093.8 | 223500079 | 1705.2 |\n",
              "\n"
            ],
            "text/plain": [
              "       used    (Mb) gc trigger (Mb)   max used  (Mb)  \n",
              "Ncells  904839 48.4   1454465    77.7   1454465   77.7\n",
              "Vcells 1703414 13.0 143354852  1093.8 223500079 1705.2"
>>>>>>> 4c354cd (Actualización del repositorio)
            ]
          },
          "metadata": {},
          "output_type": "display_data"
        }
      ],
      "source": [
        "# limpio la memoria\n",
        "rm(list=ls(all.names=TRUE)) # remove all objects\n",
        "gc(full=TRUE, verbose=FALSE) # garbage collection"
      ]
    },
    {
      "cell_type": "markdown",
      "metadata": {
        "id": "i2WkSCIhNruQ"
      },
      "source": [
        "* Instalacion de la libreria  rpart.plot  para dibujar el arbol\n",
        "* invocacion de las librerias  **data.table** y  **rpart**"
      ]
    },
    {
      "cell_type": "code",
<<<<<<< HEAD
      "execution_count": 53,
=======
      "execution_count": null,
>>>>>>> 4c354cd (Actualización del repositorio)
      "metadata": {
        "colab": {
          "base_uri": "https://localhost:8080/"
        },
        "id": "3bMsgZJWNruR",
        "outputId": "888c6e68-61c4-4c58-cf03-3e06ae0e6b95",
        "vscode": {
          "languageId": "r"
        }
      },
      "outputs": [
        {
          "name": "stderr",
          "output_type": "stream",
          "text": [
            "Loading required package: ggplot2\n",
<<<<<<< HEAD
            "\n",
            "Warning message in library(package, lib.loc = lib.loc, character.only = TRUE, logical.return = TRUE, :\n",
            "\"there is no package called 'ggplot2'\"\n"
          ]
        },
        {
          "name": "stderr",
          "output_type": "stream",
          "text": [
            "also installing the dependencies 'farver', 'labeling', 'RColorBrewer', 'viridisLite', 'pkgconfig', 'gtable', 'isoband', 'scales', 'tibble'\n",
            "\n",
            "\n"
          ]
        },
        {
          "name": "stdout",
          "output_type": "stream",
          "text": [
            "package 'farver' successfully unpacked and MD5 sums checked\n",
            "package 'labeling' successfully unpacked and MD5 sums checked\n",
            "package 'RColorBrewer' successfully unpacked and MD5 sums checked\n",
            "package 'viridisLite' successfully unpacked and MD5 sums checked\n",
            "package 'pkgconfig' successfully unpacked and MD5 sums checked\n",
            "package 'gtable' successfully unpacked and MD5 sums checked\n",
            "package 'isoband' successfully unpacked and MD5 sums checked\n",
            "package 'scales' successfully unpacked and MD5 sums checked\n",
            "package 'tibble' successfully unpacked and MD5 sums checked\n",
            "package 'ggplot2' successfully unpacked and MD5 sums checked\n",
            "\n",
            "The downloaded binary packages are in\n",
            "\tC:\\Users\\IDomogalla\\AppData\\Local\\Temp\\RtmpuSntgk\\downloaded_packages\n"
          ]
        },
        {
          "name": "stderr",
          "output_type": "stream",
          "text": [
            "Loading required package: ggplot2\n",
=======
>>>>>>> 4c354cd (Actualización del repositorio)
            "\n"
          ]
        }
      ],
      "source": [
        "# cargo las librerias que necesito\n",
        "require(\"data.table\")\n",
        "require(\"rpart\")\n",
        "require(\"parallel\")\n",
        "\n",
        "if (!require(\"primes\")) install.packages(\"primes\")\n",
        "require(\"primes\")\n",
        "\n",
        "if(!require(\"R.utils\")) install.packages(\"R.utils\")\n",
        "require(\"R.utils\")\n",
        "\n",
<<<<<<< HEAD
        "if(!require(\"ggplot2\")) install.packages(\"ggplot2\")\n",
=======
>>>>>>> 4c354cd (Actualización del repositorio)
        "require(\"ggplot2\")"
      ]
    },
    {
      "cell_type": "markdown",
      "metadata": {
        "id": "t1lTXrKaNruT"
      },
      "source": [
        "###  Accion a Realizar\n",
        "PARAM$semilla_primigenia  debe reemplazarse por SU primer semilla"
      ]
    },
    {
      "cell_type": "code",
<<<<<<< HEAD
      "execution_count": 54,
=======
      "execution_count": null,
>>>>>>> 4c354cd (Actualización del repositorio)
      "metadata": {
        "id": "QFbPtTCMNruV",
        "vscode": {
          "languageId": "r"
        }
      },
      "outputs": [],
      "source": [
        "PARAM <- list()\n",
        "PARAM$semilla_primigenia <- 200003\n",
        "PARAM$qsemillas <- 20\n",
        "PARAM$training_pct <- 70L     # entre 1 y 100\n"
      ]
    },
    {
      "cell_type": "code",
<<<<<<< HEAD
      "execution_count": 55,
=======
      "execution_count": null,
>>>>>>> 4c354cd (Actualización del repositorio)
      "metadata": {
        "id": "GiBGk7WKQv2V",
        "vscode": {
          "languageId": "r"
        }
      },
      "outputs": [],
      "source": [
        "# los dos arboles\n",
        "PARAM$rpart1 <- list (\n",
        "  \"cp\" = -1,\n",
        "  \"minsplit\" = 170,\n",
        "  \"minbucket\" = 70,\n",
        "  \"maxdepth\" = 7\n",
        ")\n",
        "\n",
        "\n",
        "PARAM$rpart2 <- list (\n",
        "  \"cp\" = -1,\n",
        "  \"minsplit\" = 250,\n",
        "  \"minbucket\" = 125,\n",
        "  \"maxdepth\" = 20\n",
        ")"
      ]
    },
    {
      "cell_type": "code",
<<<<<<< HEAD
      "execution_count": 56,
=======
      "execution_count": null,
>>>>>>> 4c354cd (Actualización del repositorio)
      "metadata": {
        "id": "2BabfKg7NruX",
        "vscode": {
          "languageId": "r"
        }
      },
      "outputs": [],
      "source": [
        "# particionar agrega una columna llamada fold a un dataset\n",
        "#  que consiste en una particion estratificada segun agrupa\n",
        "\n",
        "# particionar( data=dataset, division=c(70,30),\n",
        "#  agrupa=clase_ternaria, seed=semilla)   crea una particion 70, 30\n",
        "\n",
        "particionar <- function(\n",
        "    data, division, agrupa = \"\",\n",
        "    campo = \"fold\", start = 1, seed = NA) {\n",
        "  if (!is.na(seed)) set.seed(seed)\n",
        "\n",
        "  bloque <- unlist(mapply(function(x, y) {\n",
        "    rep(y, x)\n",
        "  }, division, seq(from = start, length.out = length(division))))\n",
        "\n",
        "  data[, (campo) := sample(rep(bloque, ceiling(.N / length(bloque))))[1:.N],\n",
        "    by = agrupa\n",
        "  ]\n",
        "}\n"
      ]
    },
    {
      "cell_type": "code",
<<<<<<< HEAD
      "execution_count": 57,
=======
      "execution_count": null,
>>>>>>> 4c354cd (Actualización del repositorio)
      "metadata": {
        "id": "YrGJgj4UNruZ",
        "vscode": {
          "languageId": "r"
        }
      },
      "outputs": [],
      "source": [
        "DosArbolesEstimarGanancia <- function(semilla, training_pct, param_rpart1, param_rpart2) {\n",
        "\n",
        "  # fuerzo impresion\n",
        "  print( paste( semilla, Sys.time()) )\n",
        "  flush.console()\n",
        "\n",
        "  # particiono estratificadamente el dataset\n",
        "  particionar(dataset,\n",
        "    division = c(training_pct, 100L -training_pct),\n",
        "    agrupa = \"clase_ternaria\",\n",
        "    seed = semilla # aqui se usa SU semilla\n",
        "  )\n",
        "\n",
        "  # genero el modelo\n",
        "  # predecir clase_ternaria a partir del resto\n",
        "  modelo1 <- rpart(\"clase_ternaria ~ .\",\n",
        "    data = dataset[fold == 1], # fold==1  es training,  el 70% de los datos\n",
        "    xval = 0,\n",
        "    control = param_rpart1\n",
        "  ) # aqui van los parametros del arbol\n",
        "\n",
        "  # aplico el modelo a los datos de testing\n",
        "  prediccion1 <- predict(modelo1, # el modelo que genere recien\n",
        "    dataset[fold == 2], # fold==2  es testing, el 30% de los datos\n",
        "    type = \"prob\"\n",
        "  ) # type= \"prob\"  es que devuelva la probabilidad\n",
        "\n",
        "\n",
        "  # calculo la ganancia en testing  qu es fold==2\n",
        "  ganancia_test1 <- dataset[\n",
        "    fold == 2,\n",
        "    sum(ifelse(prediccion1[, \"BAJA+2\"] > 0.025,\n",
        "      ifelse(clase_ternaria == \"BAJA+2\", 780000, -20000),\n",
        "      0\n",
        "    ))\n",
        "  ]\n",
        "\n",
        "  # escalo la ganancia como si fuera todo el dataset\n",
        "  ganancia_test_normalizada1 <- ganancia_test1 / (( 100 - training_pct ) / 100 )\n",
        "\n",
        "  modelo2 <- rpart(\"clase_ternaria ~ .\",\n",
        "    data = dataset[fold == 1], # fold==1  es training,  el 70% de los datos\n",
        "    xval = 0,\n",
        "    control = param_rpart2\n",
        "  ) # aqui van los parametros del arbol\n",
        "\n",
        "  # aplico el modelo a los datos de testing\n",
        "  prediccion2 <- predict(modelo2, # el modelo que genere recien\n",
        "    dataset[fold == 2], # fold==2  es testing, el 30% de los datos\n",
        "    type = \"prob\"\n",
        "  ) # type= \"prob\"  es que devuelva la probabilidad\n",
        "\n",
        "\n",
        "  # calculo la ganancia en testing  qu es fold==2\n",
        "  ganancia_test2 <- dataset[\n",
        "    fold == 2,\n",
        "    sum(ifelse(prediccion2[, \"BAJA+2\"] > 0.025,\n",
        "      ifelse(clase_ternaria == \"BAJA+2\", 780000, -20000),\n",
        "      0\n",
        "    ))\n",
        "  ]\n",
        "\n",
        "  # escalo la ganancia como si fuera todo el dataset\n",
        "  ganancia_test_normalizada2 <- ganancia_test2 / (( 100 - training_pct ) / 100 )\n",
        "\n",
        "  return(list(\n",
        "    \"semilla\" = semilla,\n",
        "    \"ganancia1\" = ganancia_test_normalizada1,\n",
        "    \"ganancia2\" = ganancia_test_normalizada2\n",
        "  ))\n",
        "}"
      ]
    },
    {
      "cell_type": "code",
      "execution_count": null,
      "metadata": {
        "id": "2C2yjgQVNrud",
        "vscode": {
          "languageId": "r"
        }
      },
      "outputs": [],
      "source": [
        "# carpeta de trabajo\n",
        "setwd(\"/content/buckets/b1/exp\")\n",
        "experimento <- \"exp0205\"\n",
        "dir.create(experimento, showWarnings=FALSE)\n",
        "setwd( paste0(\"/content/buckets/b1/exp/\", experimento ))"
      ]
    },
    {
      "cell_type": "code",
<<<<<<< HEAD
      "execution_count": 58,
=======
      "execution_count": null,
>>>>>>> 4c354cd (Actualización del repositorio)
      "metadata": {
        "colab": {
          "base_uri": "https://localhost:8080/",
          "height": 34
        },
        "id": "oQeGcBnPNrug",
        "outputId": "b1441f5e-bc88-4b02-aff5-180c413fdc29",
        "vscode": {
          "languageId": "r"
        }
      },
      "outputs": [
        {
          "data": {
            "text/html": [
              "978439"
            ],
            "text/latex": [
              "978439"
            ],
            "text/markdown": [
              "978439"
            ],
            "text/plain": [
              "[1] 978439"
            ]
          },
          "metadata": {},
          "output_type": "display_data"
        }
      ],
      "source": [
        "# lectura del dataset\n",
<<<<<<< HEAD
        "#dataset <- fread(\"/content/datasets/competencia_01.csv.gz\")\n",
        "dataset <- fread(\"./competencia_01.csv.gz\")\n",
=======
        "dataset <- fread(\"/content/datasets/competencia_01.csv.gz\")\n",
>>>>>>> 4c354cd (Actualización del repositorio)
        "nrow(dataset)"
      ]
    },
    {
      "cell_type": "code",
<<<<<<< HEAD
      "execution_count": 59,
=======
      "execution_count": null,
>>>>>>> 4c354cd (Actualización del repositorio)
      "metadata": {
        "colab": {
          "base_uri": "https://localhost:8080/",
          "height": 210
        },
        "id": "q0-sk2H8jjKx",
        "outputId": "09344a60-3924-443f-c97a-381766c852f3",
        "vscode": {
          "languageId": "r"
        }
      },
      "outputs": [
        {
          "data": {
            "text/html": [
              "163418"
            ],
            "text/latex": [
              "163418"
            ],
            "text/markdown": [
              "163418"
            ],
            "text/plain": [
              "[1] 163418"
            ]
          },
          "metadata": {},
          "output_type": "display_data"
        },
        {
          "data": {
            "text/html": [
              "<table class=\"dataframe\">\n",
              "<caption>A data.table: 3 × 3</caption>\n",
              "<thead>\n",
              "\t<tr><th scope=col>foto_mes</th><th scope=col>clase_ternaria</th><th scope=col>N</th></tr>\n",
              "\t<tr><th scope=col>&lt;int&gt;</th><th scope=col>&lt;chr&gt;</th><th scope=col>&lt;int&gt;</th></tr>\n",
              "</thead>\n",
              "<tbody>\n",
              "\t<tr><td>202104</td><td>CONTINUA</td><td>161333</td></tr>\n",
              "\t<tr><td>202104</td><td>BAJA+1  </td><td>   955</td></tr>\n",
              "\t<tr><td>202104</td><td>BAJA+2  </td><td>  1130</td></tr>\n",
              "</tbody>\n",
              "</table>\n"
            ],
            "text/latex": [
              "A data.table: 3 × 3\n",
              "\\begin{tabular}{lll}\n",
              " foto\\_mes & clase\\_ternaria & N\\\\\n",
              " <int> & <chr> & <int>\\\\\n",
              "\\hline\n",
              "\t 202104 & CONTINUA & 161333\\\\\n",
              "\t 202104 & BAJA+1   &    955\\\\\n",
              "\t 202104 & BAJA+2   &   1130\\\\\n",
              "\\end{tabular}\n"
            ],
            "text/markdown": [
              "\n",
              "A data.table: 3 × 3\n",
              "\n",
              "| foto_mes &lt;int&gt; | clase_ternaria &lt;chr&gt; | N &lt;int&gt; |\n",
              "|---|---|---|\n",
              "| 202104 | CONTINUA | 161333 |\n",
              "| 202104 | BAJA+1   |    955 |\n",
              "| 202104 | BAJA+2   |   1130 |\n",
              "\n"
            ],
            "text/plain": [
              "  foto_mes clase_ternaria N     \n",
              "1 202104   CONTINUA       161333\n",
              "2 202104   BAJA+1            955\n",
              "3 202104   BAJA+2           1130"
            ]
          },
          "metadata": {},
          "output_type": "display_data"
        }
      ],
      "source": [
        "# trabajo solo con los datos de 202104, ultimo mes con clase_ternaria completa\n",
        "# filtro datos\n",
        "dataset <- dataset[foto_mes==202104]\n",
        "\n",
        "invisible(gc(full=TRUE, verbose=FALSE)) # garbage collection\n",
        "\n",
        "nrow(dataset)\n",
        "dataset[, .N, list(foto_mes,clase_ternaria)]"
      ]
    },
    {
      "cell_type": "code",
      "execution_count": null,
      "metadata": {
        "colab": {
          "base_uri": "https://localhost:8080/",
          "height": 34
        },
        "id": "gXKI2eXO9Osx",
        "outputId": "d3bacbdc-6b07-4e31-a96e-92d0b6ed6f49",
        "vscode": {
          "languageId": "r"
        }
      },
      "outputs": [
        {
          "data": {
            "text/html": [
              "2"
            ],
            "text/latex": [
              "2"
            ],
            "text/markdown": [
              "2"
            ],
            "text/plain": [
              "[1] 2"
            ]
          },
          "metadata": {},
          "output_type": "display_data"
        }
      ],
      "source": [
        "detectCores()"
      ]
    },
    {
      "cell_type": "code",
<<<<<<< HEAD
      "execution_count": 60,
=======
      "execution_count": null,
>>>>>>> 4c354cd (Actualización del repositorio)
      "metadata": {
        "colab": {
          "base_uri": "https://localhost:8080/",
          "height": 52
        },
        "id": "tU8S7_5ANrui",
        "outputId": "ac98fdf7-f8dc-4c5d-8282-250991070288",
        "vscode": {
          "languageId": "r"
        }
      },
      "outputs": [
        {
          "data": {
            "text/html": [
              "<style>\n",
              ".list-inline {list-style: none; margin:0; padding: 0}\n",
              ".list-inline>li {display: inline-block}\n",
              ".list-inline>li:not(:last-child)::after {content: \"\\00b7\"; padding: 0 .5ex}\n",
              "</style>\n",
              "<ol class=list-inline><li>590819</li><li>526937</li><li>753937</li><li>101173</li><li>715727</li><li>522959</li><li>975883</li><li>703657</li><li>631469</li><li>662617</li><li>552031</li><li>195281</li><li>326999</li><li>452269</li><li>576221</li><li>293729</li><li>658079</li><li>341461</li><li>193873</li><li>961139</li></ol>\n"
            ],
            "text/latex": [
              "\\begin{enumerate*}\n",
              "\\item 590819\n",
              "\\item 526937\n",
              "\\item 753937\n",
              "\\item 101173\n",
              "\\item 715727\n",
              "\\item 522959\n",
              "\\item 975883\n",
              "\\item 703657\n",
              "\\item 631469\n",
              "\\item 662617\n",
              "\\item 552031\n",
              "\\item 195281\n",
              "\\item 326999\n",
              "\\item 452269\n",
              "\\item 576221\n",
              "\\item 293729\n",
              "\\item 658079\n",
              "\\item 341461\n",
              "\\item 193873\n",
              "\\item 961139\n",
              "\\end{enumerate*}\n"
            ],
            "text/markdown": [
              "1. 590819\n",
              "2. 526937\n",
              "3. 753937\n",
              "4. 101173\n",
              "5. 715727\n",
              "6. 522959\n",
              "7. 975883\n",
              "8. 703657\n",
              "9. 631469\n",
              "10. 662617\n",
              "11. 552031\n",
              "12. 195281\n",
              "13. 326999\n",
              "14. 452269\n",
              "15. 576221\n",
              "16. 293729\n",
              "17. 658079\n",
              "18. 341461\n",
              "19. 193873\n",
              "20. 961139\n",
              "\n",
              "\n"
            ],
            "text/plain": [
              " [1] 590819 526937 753937 101173 715727 522959 975883 703657 631469 662617\n",
              "[11] 552031 195281 326999 452269 576221 293729 658079 341461 193873 961139"
            ]
          },
          "metadata": {},
          "output_type": "display_data"
        }
      ],
      "source": [
        "# genero numeros primos\n",
        "primos <- generate_primes(min = 100000, max = 1000000)\n",
        "set.seed(PARAM$semilla_primigenia) # inicializo\n",
        "\n",
        "# me quedo con PARAM$qsemillas   semillas\n",
        "PARAM$semillas <- sample(primos, PARAM$qsemillas )\n",
        "PARAM$semillas"
      ]
    },
    {
      "cell_type": "code",
      "execution_count": null,
      "metadata": {
        "colab": {
          "base_uri": "https://localhost:8080/",
          "height": 52
        },
        "id": "mlF66CgxcHF3",
        "outputId": "7a6831b9-92e0-4204-d0a6-149b0c01c90c",
        "vscode": {
          "languageId": "r"
        }
      },
      "outputs": [
        {
          "data": {
            "text/plain": [
              "[1] \"2025-08-21 23:59:30 UTC\""
            ]
          },
          "metadata": {},
          "output_type": "display_data"
        },
        {
          "data": {
            "text/plain": [
              "[1] \"2025-08-22 00:57:53 UTC\""
            ]
          },
          "metadata": {},
          "output_type": "display_data"
        }
      ],
      "source": [
        "# demora interminables 60 minutos en correr en Google Colab\n",
        "Sys.time()\n",
        "\n",
        "salidas <- mcmapply( DosArbolesEstimarGanancia,\n",
        "  PARAM$semillas, # paso el vector de semillas\n",
        "  MoreArgs = list(PARAM$training_pct, PARAM$rpart1, PARAM$rpart2), # aqui paso el segundo parametro\n",
        "  SIMPLIFY = FALSE,\n",
        "  mc.cores = detectCores()\n",
        ")\n",
        "\n",
        "Sys.time()"
      ]
    },
    {
      "cell_type": "code",
      "execution_count": null,
      "metadata": {
<<<<<<< HEAD
        "vscode": {
          "languageId": "r"
        }
      },
      "outputs": [
        {
          "data": {
            "text/plain": [
              "[1] \"2025-08-27 18:47:48 -03\""
            ]
          },
          "metadata": {},
          "output_type": "display_data"
        },
        {
          "data": {
            "text/html": [
              "<ol>\n",
              "\t<li><style>\n",
              ".list-inline {list-style: none; margin:0; padding: 0}\n",
              ".list-inline>li {display: inline-block}\n",
              ".list-inline>li:not(:last-child)::after {content: \"\\00b7\"; padding: 0 .5ex}\n",
              "</style>\n",
              "<ol class=list-inline><li>'rpart'</li><li>'data.table'</li><li>'stats'</li><li>'graphics'</li><li>'grDevices'</li><li>'utils'</li><li>'datasets'</li><li>'methods'</li><li>'base'</li></ol>\n",
              "</li>\n",
              "\t<li><style>\n",
              ".list-inline {list-style: none; margin:0; padding: 0}\n",
              ".list-inline>li {display: inline-block}\n",
              ".list-inline>li:not(:last-child)::after {content: \"\\00b7\"; padding: 0 .5ex}\n",
              "</style>\n",
              "<ol class=list-inline><li>'rpart'</li><li>'data.table'</li><li>'stats'</li><li>'graphics'</li><li>'grDevices'</li><li>'utils'</li><li>'datasets'</li><li>'methods'</li><li>'base'</li></ol>\n",
              "</li>\n",
              "\t<li><style>\n",
              ".list-inline {list-style: none; margin:0; padding: 0}\n",
              ".list-inline>li {display: inline-block}\n",
              ".list-inline>li:not(:last-child)::after {content: \"\\00b7\"; padding: 0 .5ex}\n",
              "</style>\n",
              "<ol class=list-inline><li>'rpart'</li><li>'data.table'</li><li>'stats'</li><li>'graphics'</li><li>'grDevices'</li><li>'utils'</li><li>'datasets'</li><li>'methods'</li><li>'base'</li></ol>\n",
              "</li>\n",
              "\t<li><style>\n",
              ".list-inline {list-style: none; margin:0; padding: 0}\n",
              ".list-inline>li {display: inline-block}\n",
              ".list-inline>li:not(:last-child)::after {content: \"\\00b7\"; padding: 0 .5ex}\n",
              "</style>\n",
              "<ol class=list-inline><li>'rpart'</li><li>'data.table'</li><li>'stats'</li><li>'graphics'</li><li>'grDevices'</li><li>'utils'</li><li>'datasets'</li><li>'methods'</li><li>'base'</li></ol>\n",
              "</li>\n",
              "\t<li><style>\n",
              ".list-inline {list-style: none; margin:0; padding: 0}\n",
              ".list-inline>li {display: inline-block}\n",
              ".list-inline>li:not(:last-child)::after {content: \"\\00b7\"; padding: 0 .5ex}\n",
              "</style>\n",
              "<ol class=list-inline><li>'rpart'</li><li>'data.table'</li><li>'stats'</li><li>'graphics'</li><li>'grDevices'</li><li>'utils'</li><li>'datasets'</li><li>'methods'</li><li>'base'</li></ol>\n",
              "</li>\n",
              "\t<li><style>\n",
              ".list-inline {list-style: none; margin:0; padding: 0}\n",
              ".list-inline>li {display: inline-block}\n",
              ".list-inline>li:not(:last-child)::after {content: \"\\00b7\"; padding: 0 .5ex}\n",
              "</style>\n",
              "<ol class=list-inline><li>'rpart'</li><li>'data.table'</li><li>'stats'</li><li>'graphics'</li><li>'grDevices'</li><li>'utils'</li><li>'datasets'</li><li>'methods'</li><li>'base'</li></ol>\n",
              "</li>\n",
              "\t<li><style>\n",
              ".list-inline {list-style: none; margin:0; padding: 0}\n",
              ".list-inline>li {display: inline-block}\n",
              ".list-inline>li:not(:last-child)::after {content: \"\\00b7\"; padding: 0 .5ex}\n",
              "</style>\n",
              "<ol class=list-inline><li>'rpart'</li><li>'data.table'</li><li>'stats'</li><li>'graphics'</li><li>'grDevices'</li><li>'utils'</li><li>'datasets'</li><li>'methods'</li><li>'base'</li></ol>\n",
              "</li>\n",
              "\t<li><style>\n",
              ".list-inline {list-style: none; margin:0; padding: 0}\n",
              ".list-inline>li {display: inline-block}\n",
              ".list-inline>li:not(:last-child)::after {content: \"\\00b7\"; padding: 0 .5ex}\n",
              "</style>\n",
              "<ol class=list-inline><li>'rpart'</li><li>'data.table'</li><li>'stats'</li><li>'graphics'</li><li>'grDevices'</li><li>'utils'</li><li>'datasets'</li><li>'methods'</li><li>'base'</li></ol>\n",
              "</li>\n",
              "\t<li><style>\n",
              ".list-inline {list-style: none; margin:0; padding: 0}\n",
              ".list-inline>li {display: inline-block}\n",
              ".list-inline>li:not(:last-child)::after {content: \"\\00b7\"; padding: 0 .5ex}\n",
              "</style>\n",
              "<ol class=list-inline><li>'rpart'</li><li>'data.table'</li><li>'stats'</li><li>'graphics'</li><li>'grDevices'</li><li>'utils'</li><li>'datasets'</li><li>'methods'</li><li>'base'</li></ol>\n",
              "</li>\n",
              "\t<li><style>\n",
              ".list-inline {list-style: none; margin:0; padding: 0}\n",
              ".list-inline>li {display: inline-block}\n",
              ".list-inline>li:not(:last-child)::after {content: \"\\00b7\"; padding: 0 .5ex}\n",
              "</style>\n",
              "<ol class=list-inline><li>'rpart'</li><li>'data.table'</li><li>'stats'</li><li>'graphics'</li><li>'grDevices'</li><li>'utils'</li><li>'datasets'</li><li>'methods'</li><li>'base'</li></ol>\n",
              "</li>\n",
              "\t<li><style>\n",
              ".list-inline {list-style: none; margin:0; padding: 0}\n",
              ".list-inline>li {display: inline-block}\n",
              ".list-inline>li:not(:last-child)::after {content: \"\\00b7\"; padding: 0 .5ex}\n",
              "</style>\n",
              "<ol class=list-inline><li>'rpart'</li><li>'data.table'</li><li>'stats'</li><li>'graphics'</li><li>'grDevices'</li><li>'utils'</li><li>'datasets'</li><li>'methods'</li><li>'base'</li></ol>\n",
              "</li>\n",
              "\t<li><style>\n",
              ".list-inline {list-style: none; margin:0; padding: 0}\n",
              ".list-inline>li {display: inline-block}\n",
              ".list-inline>li:not(:last-child)::after {content: \"\\00b7\"; padding: 0 .5ex}\n",
              "</style>\n",
              "<ol class=list-inline><li>'rpart'</li><li>'data.table'</li><li>'stats'</li><li>'graphics'</li><li>'grDevices'</li><li>'utils'</li><li>'datasets'</li><li>'methods'</li><li>'base'</li></ol>\n",
              "</li>\n",
              "\t<li><style>\n",
              ".list-inline {list-style: none; margin:0; padding: 0}\n",
              ".list-inline>li {display: inline-block}\n",
              ".list-inline>li:not(:last-child)::after {content: \"\\00b7\"; padding: 0 .5ex}\n",
              "</style>\n",
              "<ol class=list-inline><li>'rpart'</li><li>'data.table'</li><li>'stats'</li><li>'graphics'</li><li>'grDevices'</li><li>'utils'</li><li>'datasets'</li><li>'methods'</li><li>'base'</li></ol>\n",
              "</li>\n",
              "\t<li><style>\n",
              ".list-inline {list-style: none; margin:0; padding: 0}\n",
              ".list-inline>li {display: inline-block}\n",
              ".list-inline>li:not(:last-child)::after {content: \"\\00b7\"; padding: 0 .5ex}\n",
              "</style>\n",
              "<ol class=list-inline><li>'rpart'</li><li>'data.table'</li><li>'stats'</li><li>'graphics'</li><li>'grDevices'</li><li>'utils'</li><li>'datasets'</li><li>'methods'</li><li>'base'</li></ol>\n",
              "</li>\n",
              "\t<li><style>\n",
              ".list-inline {list-style: none; margin:0; padding: 0}\n",
              ".list-inline>li {display: inline-block}\n",
              ".list-inline>li:not(:last-child)::after {content: \"\\00b7\"; padding: 0 .5ex}\n",
              "</style>\n",
              "<ol class=list-inline><li>'rpart'</li><li>'data.table'</li><li>'stats'</li><li>'graphics'</li><li>'grDevices'</li><li>'utils'</li><li>'datasets'</li><li>'methods'</li><li>'base'</li></ol>\n",
              "</li>\n",
              "</ol>\n"
            ],
            "text/latex": [
              "\\begin{enumerate}\n",
              "\\item \\begin{enumerate*}\n",
              "\\item 'rpart'\n",
              "\\item 'data.table'\n",
              "\\item 'stats'\n",
              "\\item 'graphics'\n",
              "\\item 'grDevices'\n",
              "\\item 'utils'\n",
              "\\item 'datasets'\n",
              "\\item 'methods'\n",
              "\\item 'base'\n",
              "\\end{enumerate*}\n",
              "\n",
              "\\item \\begin{enumerate*}\n",
              "\\item 'rpart'\n",
              "\\item 'data.table'\n",
              "\\item 'stats'\n",
              "\\item 'graphics'\n",
              "\\item 'grDevices'\n",
              "\\item 'utils'\n",
              "\\item 'datasets'\n",
              "\\item 'methods'\n",
              "\\item 'base'\n",
              "\\end{enumerate*}\n",
              "\n",
              "\\item \\begin{enumerate*}\n",
              "\\item 'rpart'\n",
              "\\item 'data.table'\n",
              "\\item 'stats'\n",
              "\\item 'graphics'\n",
              "\\item 'grDevices'\n",
              "\\item 'utils'\n",
              "\\item 'datasets'\n",
              "\\item 'methods'\n",
              "\\item 'base'\n",
              "\\end{enumerate*}\n",
              "\n",
              "\\item \\begin{enumerate*}\n",
              "\\item 'rpart'\n",
              "\\item 'data.table'\n",
              "\\item 'stats'\n",
              "\\item 'graphics'\n",
              "\\item 'grDevices'\n",
              "\\item 'utils'\n",
              "\\item 'datasets'\n",
              "\\item 'methods'\n",
              "\\item 'base'\n",
              "\\end{enumerate*}\n",
              "\n",
              "\\item \\begin{enumerate*}\n",
              "\\item 'rpart'\n",
              "\\item 'data.table'\n",
              "\\item 'stats'\n",
              "\\item 'graphics'\n",
              "\\item 'grDevices'\n",
              "\\item 'utils'\n",
              "\\item 'datasets'\n",
              "\\item 'methods'\n",
              "\\item 'base'\n",
              "\\end{enumerate*}\n",
              "\n",
              "\\item \\begin{enumerate*}\n",
              "\\item 'rpart'\n",
              "\\item 'data.table'\n",
              "\\item 'stats'\n",
              "\\item 'graphics'\n",
              "\\item 'grDevices'\n",
              "\\item 'utils'\n",
              "\\item 'datasets'\n",
              "\\item 'methods'\n",
              "\\item 'base'\n",
              "\\end{enumerate*}\n",
              "\n",
              "\\item \\begin{enumerate*}\n",
              "\\item 'rpart'\n",
              "\\item 'data.table'\n",
              "\\item 'stats'\n",
              "\\item 'graphics'\n",
              "\\item 'grDevices'\n",
              "\\item 'utils'\n",
              "\\item 'datasets'\n",
              "\\item 'methods'\n",
              "\\item 'base'\n",
              "\\end{enumerate*}\n",
              "\n",
              "\\item \\begin{enumerate*}\n",
              "\\item 'rpart'\n",
              "\\item 'data.table'\n",
              "\\item 'stats'\n",
              "\\item 'graphics'\n",
              "\\item 'grDevices'\n",
              "\\item 'utils'\n",
              "\\item 'datasets'\n",
              "\\item 'methods'\n",
              "\\item 'base'\n",
              "\\end{enumerate*}\n",
              "\n",
              "\\item \\begin{enumerate*}\n",
              "\\item 'rpart'\n",
              "\\item 'data.table'\n",
              "\\item 'stats'\n",
              "\\item 'graphics'\n",
              "\\item 'grDevices'\n",
              "\\item 'utils'\n",
              "\\item 'datasets'\n",
              "\\item 'methods'\n",
              "\\item 'base'\n",
              "\\end{enumerate*}\n",
              "\n",
              "\\item \\begin{enumerate*}\n",
              "\\item 'rpart'\n",
              "\\item 'data.table'\n",
              "\\item 'stats'\n",
              "\\item 'graphics'\n",
              "\\item 'grDevices'\n",
              "\\item 'utils'\n",
              "\\item 'datasets'\n",
              "\\item 'methods'\n",
              "\\item 'base'\n",
              "\\end{enumerate*}\n",
              "\n",
              "\\item \\begin{enumerate*}\n",
              "\\item 'rpart'\n",
              "\\item 'data.table'\n",
              "\\item 'stats'\n",
              "\\item 'graphics'\n",
              "\\item 'grDevices'\n",
              "\\item 'utils'\n",
              "\\item 'datasets'\n",
              "\\item 'methods'\n",
              "\\item 'base'\n",
              "\\end{enumerate*}\n",
              "\n",
              "\\item \\begin{enumerate*}\n",
              "\\item 'rpart'\n",
              "\\item 'data.table'\n",
              "\\item 'stats'\n",
              "\\item 'graphics'\n",
              "\\item 'grDevices'\n",
              "\\item 'utils'\n",
              "\\item 'datasets'\n",
              "\\item 'methods'\n",
              "\\item 'base'\n",
              "\\end{enumerate*}\n",
              "\n",
              "\\item \\begin{enumerate*}\n",
              "\\item 'rpart'\n",
              "\\item 'data.table'\n",
              "\\item 'stats'\n",
              "\\item 'graphics'\n",
              "\\item 'grDevices'\n",
              "\\item 'utils'\n",
              "\\item 'datasets'\n",
              "\\item 'methods'\n",
              "\\item 'base'\n",
              "\\end{enumerate*}\n",
              "\n",
              "\\item \\begin{enumerate*}\n",
              "\\item 'rpart'\n",
              "\\item 'data.table'\n",
              "\\item 'stats'\n",
              "\\item 'graphics'\n",
              "\\item 'grDevices'\n",
              "\\item 'utils'\n",
              "\\item 'datasets'\n",
              "\\item 'methods'\n",
              "\\item 'base'\n",
              "\\end{enumerate*}\n",
              "\n",
              "\\item \\begin{enumerate*}\n",
              "\\item 'rpart'\n",
              "\\item 'data.table'\n",
              "\\item 'stats'\n",
              "\\item 'graphics'\n",
              "\\item 'grDevices'\n",
              "\\item 'utils'\n",
              "\\item 'datasets'\n",
              "\\item 'methods'\n",
              "\\item 'base'\n",
              "\\end{enumerate*}\n",
              "\n",
              "\\end{enumerate}\n"
            ],
            "text/markdown": [
              "1. 1. 'rpart'\n",
              "2. 'data.table'\n",
              "3. 'stats'\n",
              "4. 'graphics'\n",
              "5. 'grDevices'\n",
              "6. 'utils'\n",
              "7. 'datasets'\n",
              "8. 'methods'\n",
              "9. 'base'\n",
              "\n",
              "\n",
              "\n",
              "2. 1. 'rpart'\n",
              "2. 'data.table'\n",
              "3. 'stats'\n",
              "4. 'graphics'\n",
              "5. 'grDevices'\n",
              "6. 'utils'\n",
              "7. 'datasets'\n",
              "8. 'methods'\n",
              "9. 'base'\n",
              "\n",
              "\n",
              "\n",
              "3. 1. 'rpart'\n",
              "2. 'data.table'\n",
              "3. 'stats'\n",
              "4. 'graphics'\n",
              "5. 'grDevices'\n",
              "6. 'utils'\n",
              "7. 'datasets'\n",
              "8. 'methods'\n",
              "9. 'base'\n",
              "\n",
              "\n",
              "\n",
              "4. 1. 'rpart'\n",
              "2. 'data.table'\n",
              "3. 'stats'\n",
              "4. 'graphics'\n",
              "5. 'grDevices'\n",
              "6. 'utils'\n",
              "7. 'datasets'\n",
              "8. 'methods'\n",
              "9. 'base'\n",
              "\n",
              "\n",
              "\n",
              "5. 1. 'rpart'\n",
              "2. 'data.table'\n",
              "3. 'stats'\n",
              "4. 'graphics'\n",
              "5. 'grDevices'\n",
              "6. 'utils'\n",
              "7. 'datasets'\n",
              "8. 'methods'\n",
              "9. 'base'\n",
              "\n",
              "\n",
              "\n",
              "6. 1. 'rpart'\n",
              "2. 'data.table'\n",
              "3. 'stats'\n",
              "4. 'graphics'\n",
              "5. 'grDevices'\n",
              "6. 'utils'\n",
              "7. 'datasets'\n",
              "8. 'methods'\n",
              "9. 'base'\n",
              "\n",
              "\n",
              "\n",
              "7. 1. 'rpart'\n",
              "2. 'data.table'\n",
              "3. 'stats'\n",
              "4. 'graphics'\n",
              "5. 'grDevices'\n",
              "6. 'utils'\n",
              "7. 'datasets'\n",
              "8. 'methods'\n",
              "9. 'base'\n",
              "\n",
              "\n",
              "\n",
              "8. 1. 'rpart'\n",
              "2. 'data.table'\n",
              "3. 'stats'\n",
              "4. 'graphics'\n",
              "5. 'grDevices'\n",
              "6. 'utils'\n",
              "7. 'datasets'\n",
              "8. 'methods'\n",
              "9. 'base'\n",
              "\n",
              "\n",
              "\n",
              "9. 1. 'rpart'\n",
              "2. 'data.table'\n",
              "3. 'stats'\n",
              "4. 'graphics'\n",
              "5. 'grDevices'\n",
              "6. 'utils'\n",
              "7. 'datasets'\n",
              "8. 'methods'\n",
              "9. 'base'\n",
              "\n",
              "\n",
              "\n",
              "10. 1. 'rpart'\n",
              "2. 'data.table'\n",
              "3. 'stats'\n",
              "4. 'graphics'\n",
              "5. 'grDevices'\n",
              "6. 'utils'\n",
              "7. 'datasets'\n",
              "8. 'methods'\n",
              "9. 'base'\n",
              "\n",
              "\n",
              "\n",
              "11. 1. 'rpart'\n",
              "2. 'data.table'\n",
              "3. 'stats'\n",
              "4. 'graphics'\n",
              "5. 'grDevices'\n",
              "6. 'utils'\n",
              "7. 'datasets'\n",
              "8. 'methods'\n",
              "9. 'base'\n",
              "\n",
              "\n",
              "\n",
              "12. 1. 'rpart'\n",
              "2. 'data.table'\n",
              "3. 'stats'\n",
              "4. 'graphics'\n",
              "5. 'grDevices'\n",
              "6. 'utils'\n",
              "7. 'datasets'\n",
              "8. 'methods'\n",
              "9. 'base'\n",
              "\n",
              "\n",
              "\n",
              "13. 1. 'rpart'\n",
              "2. 'data.table'\n",
              "3. 'stats'\n",
              "4. 'graphics'\n",
              "5. 'grDevices'\n",
              "6. 'utils'\n",
              "7. 'datasets'\n",
              "8. 'methods'\n",
              "9. 'base'\n",
              "\n",
              "\n",
              "\n",
              "14. 1. 'rpart'\n",
              "2. 'data.table'\n",
              "3. 'stats'\n",
              "4. 'graphics'\n",
              "5. 'grDevices'\n",
              "6. 'utils'\n",
              "7. 'datasets'\n",
              "8. 'methods'\n",
              "9. 'base'\n",
              "\n",
              "\n",
              "\n",
              "15. 1. 'rpart'\n",
              "2. 'data.table'\n",
              "3. 'stats'\n",
              "4. 'graphics'\n",
              "5. 'grDevices'\n",
              "6. 'utils'\n",
              "7. 'datasets'\n",
              "8. 'methods'\n",
              "9. 'base'\n",
              "\n",
              "\n",
              "\n",
              "\n",
              "\n"
            ],
            "text/plain": [
              "[[1]]\n",
              "[1] \"rpart\"      \"data.table\" \"stats\"      \"graphics\"   \"grDevices\" \n",
              "[6] \"utils\"      \"datasets\"   \"methods\"    \"base\"      \n",
              "\n",
              "[[2]]\n",
              "[1] \"rpart\"      \"data.table\" \"stats\"      \"graphics\"   \"grDevices\" \n",
              "[6] \"utils\"      \"datasets\"   \"methods\"    \"base\"      \n",
              "\n",
              "[[3]]\n",
              "[1] \"rpart\"      \"data.table\" \"stats\"      \"graphics\"   \"grDevices\" \n",
              "[6] \"utils\"      \"datasets\"   \"methods\"    \"base\"      \n",
              "\n",
              "[[4]]\n",
              "[1] \"rpart\"      \"data.table\" \"stats\"      \"graphics\"   \"grDevices\" \n",
              "[6] \"utils\"      \"datasets\"   \"methods\"    \"base\"      \n",
              "\n",
              "[[5]]\n",
              "[1] \"rpart\"      \"data.table\" \"stats\"      \"graphics\"   \"grDevices\" \n",
              "[6] \"utils\"      \"datasets\"   \"methods\"    \"base\"      \n",
              "\n",
              "[[6]]\n",
              "[1] \"rpart\"      \"data.table\" \"stats\"      \"graphics\"   \"grDevices\" \n",
              "[6] \"utils\"      \"datasets\"   \"methods\"    \"base\"      \n",
              "\n",
              "[[7]]\n",
              "[1] \"rpart\"      \"data.table\" \"stats\"      \"graphics\"   \"grDevices\" \n",
              "[6] \"utils\"      \"datasets\"   \"methods\"    \"base\"      \n",
              "\n",
              "[[8]]\n",
              "[1] \"rpart\"      \"data.table\" \"stats\"      \"graphics\"   \"grDevices\" \n",
              "[6] \"utils\"      \"datasets\"   \"methods\"    \"base\"      \n",
              "\n",
              "[[9]]\n",
              "[1] \"rpart\"      \"data.table\" \"stats\"      \"graphics\"   \"grDevices\" \n",
              "[6] \"utils\"      \"datasets\"   \"methods\"    \"base\"      \n",
              "\n",
              "[[10]]\n",
              "[1] \"rpart\"      \"data.table\" \"stats\"      \"graphics\"   \"grDevices\" \n",
              "[6] \"utils\"      \"datasets\"   \"methods\"    \"base\"      \n",
              "\n",
              "[[11]]\n",
              "[1] \"rpart\"      \"data.table\" \"stats\"      \"graphics\"   \"grDevices\" \n",
              "[6] \"utils\"      \"datasets\"   \"methods\"    \"base\"      \n",
              "\n",
              "[[12]]\n",
              "[1] \"rpart\"      \"data.table\" \"stats\"      \"graphics\"   \"grDevices\" \n",
              "[6] \"utils\"      \"datasets\"   \"methods\"    \"base\"      \n",
              "\n",
              "[[13]]\n",
              "[1] \"rpart\"      \"data.table\" \"stats\"      \"graphics\"   \"grDevices\" \n",
              "[6] \"utils\"      \"datasets\"   \"methods\"    \"base\"      \n",
              "\n",
              "[[14]]\n",
              "[1] \"rpart\"      \"data.table\" \"stats\"      \"graphics\"   \"grDevices\" \n",
              "[6] \"utils\"      \"datasets\"   \"methods\"    \"base\"      \n",
              "\n",
              "[[15]]\n",
              "[1] \"rpart\"      \"data.table\" \"stats\"      \"graphics\"   \"grDevices\" \n",
              "[6] \"utils\"      \"datasets\"   \"methods\"    \"base\"      \n"
            ]
          },
          "metadata": {},
          "output_type": "display_data"
        },
        {
          "data": {
            "text/plain": [
              "[1] \"2025-08-27 19:02:42 -03\""
            ]
          },
          "metadata": {},
          "output_type": "display_data"
        }
      ],
      "source": [
        "# Version paralelizable en Windows\n",
        "# Cargar librerías necesarias\n",
        "library(parallel)\n",
        "library(data.table)\n",
        "library(rpart)\n",
        "\n",
        "# Función wrapper que encapsula los parámetros\n",
        "DosArbolesWrapper <- function(semilla, training_pct, param_rpart1, param_rpart2, dataset) {\n",
        "  \n",
        "  # fuerzo impresion\n",
        "  print(paste(semilla, Sys.time()))\n",
        "  flush.console()\n",
        "  \n",
        "  # particiono estratificadamente el dataset\n",
        "  particionar(dataset,\n",
        "    division = c(training_pct, 100L - training_pct),\n",
        "    agrupa = \"clase_ternaria\",\n",
        "    seed = semilla\n",
        "  )\n",
        "  \n",
        "  # genero el modelo 1\n",
        "  modelo1 <- rpart(\"clase_ternaria ~ .\",\n",
        "    data = dataset[fold == 1],\n",
        "    xval = 0,\n",
        "    control = param_rpart1\n",
        "  )\n",
        "  \n",
        "  # aplico el modelo a los datos de testing\n",
        "  prediccion1 <- predict(modelo1,\n",
        "    dataset[fold == 2],\n",
        "    type = \"prob\"\n",
        "  )\n",
        "  \n",
        "  # calculo la ganancia en testing\n",
        "  ganancia_test1 <- dataset[\n",
        "    fold == 2,\n",
        "    sum(ifelse(prediccion1[, \"BAJA+2\"] > 0.025,\n",
        "      ifelse(clase_ternaria == \"BAJA+2\", 780000, -20000),\n",
        "      0\n",
        "    ))\n",
        "  ]\n",
        "  \n",
        "  # escalo la ganancia\n",
        "  ganancia_test_normalizada1 <- ganancia_test1 / ((100 - training_pct) / 100)\n",
        "  \n",
        "  # genero el modelo 2\n",
        "  modelo2 <- rpart(\"clase_ternaria ~ .\",\n",
        "    data = dataset[fold == 1],\n",
        "    xval = 0,\n",
        "    control = param_rpart2\n",
        "  )\n",
        "  \n",
        "  # aplico el modelo a los datos de testing\n",
        "  prediccion2 <- predict(modelo2,\n",
        "    dataset[fold == 2],\n",
        "    type = \"prob\"\n",
        "  )\n",
        "  \n",
        "  # calculo la ganancia en testing\n",
        "  ganancia_test2 <- dataset[\n",
        "    fold == 2,\n",
        "    sum(ifelse(prediccion2[, \"BAJA+2\"] > 0.025,\n",
        "      ifelse(clase_ternaria == \"BAJA+2\", 780000, -20000),\n",
        "      0\n",
        "    ))\n",
        "  ]\n",
        "  \n",
        "  # escalo la ganancia\n",
        "  ganancia_test_normalizada2 <- ganancia_test2 / ((100 - training_pct) / 100)\n",
        "  \n",
        "  return(list(\n",
        "    \"semilla\" = semilla,\n",
        "    \"ganancia1\" = ganancia_test_normalizada1,\n",
        "    \"ganancia2\" = ganancia_test_normalizada2\n",
        "  ))\n",
        "}\n",
        "\n",
        "# VERSIÓN 1: Usando parLapply (recomendada)\n",
        "Sys.time()\n",
        "\n",
        "# Crear cluster\n",
        "num_cores <- detectCores() - 1  # dejo un core libre\n",
        "cl <- makeCluster(num_cores)\n",
        "\n",
        "# Exportar funciones y datos al cluster\n",
        "clusterExport(cl, c(\"particionar\", \"DosArbolesWrapper\", \"dataset\", \"PARAM\"))\n",
        "\n",
        "# Exportar librerías necesarias a cada worker\n",
        "clusterEvalQ(cl, {\n",
        "  library(data.table)\n",
        "  library(rpart)\n",
        "})\n",
        "\n",
        "# Ejecutar en paralelo\n",
        "salidas <- parLapply(cl, PARAM$semillas, function(semilla) {\n",
        "  DosArbolesWrapper(\n",
        "    semilla = semilla,\n",
        "    training_pct = PARAM$training_pct,\n",
        "    param_rpart1 = PARAM$rpart1,\n",
        "    param_rpart2 = PARAM$rpart2,\n",
        "    dataset = copy(dataset)  # importante hacer copia para evitar conflictos\n",
        "  )\n",
        "})\n",
        "\n",
        "# Cerrar el cluster\n",
        "stopCluster(cl)\n",
        "\n",
        "Sys.time()"
      ]
    },
    {
      "cell_type": "code",
      "execution_count": 62,
      "metadata": {
=======
>>>>>>> 4c354cd (Actualización del repositorio)
        "colab": {
          "base_uri": "https://localhost:8080/",
          "height": 725
        },
        "id": "_g-_kccdNrum",
        "outputId": "536a7ee0-8243-4866-f6ba-06108b9af045",
        "vscode": {
          "languageId": "r"
        }
      },
      "outputs": [
        {
          "data": {
            "text/html": [
              "<table class=\"dataframe\">\n",
              "<caption>A data.table: 20 × 3</caption>\n",
              "<thead>\n",
              "\t<tr><th scope=col>semilla</th><th scope=col>ganancia1</th><th scope=col>ganancia2</th></tr>\n",
              "\t<tr><th scope=col>&lt;int&gt;</th><th scope=col>&lt;dbl&gt;</th><th scope=col>&lt;dbl&gt;</th></tr>\n",
              "</thead>\n",
              "<tbody>\n",
              "\t<tr><td>590819</td><td>286333333</td><td>253933333</td></tr>\n",
              "\t<tr><td>526937</td><td>268000000</td><td>220666667</td></tr>\n",
              "\t<tr><td>753937</td><td>251666667</td><td>253400000</td></tr>\n",
              "\t<tr><td>101173</td><td>290400000</td><td>241133333</td></tr>\n",
              "\t<tr><td>715727</td><td>248333333</td><td>194933333</td></tr>\n",
              "\t<tr><td>522959</td><td>292400000</td><td>236866667</td></tr>\n",
              "\t<tr><td>975883</td><td>313200000</td><td>256666667</td></tr>\n",
              "\t<tr><td>703657</td><td>247000000</td><td>232266667</td></tr>\n",
              "\t<tr><td>631469</td><td>273600000</td><td>231533333</td></tr>\n",
              "\t<tr><td>662617</td><td>293933333</td><td>231600000</td></tr>\n",
              "\t<tr><td>552031</td><td>304400000</td><td>259866667</td></tr>\n",
              "\t<tr><td>195281</td><td>299933333</td><td>224266667</td></tr>\n",
              "\t<tr><td>326999</td><td>321800000</td><td>250400000</td></tr>\n",
              "\t<tr><td>452269</td><td>255333333</td><td>248133333</td></tr>\n",
              "\t<tr><td>576221</td><td>298666667</td><td>216466667</td></tr>\n",
              "\t<tr><td>293729</td><td>271200000</td><td>235200000</td></tr>\n",
              "\t<tr><td>658079</td><td>323066667</td><td>273266667</td></tr>\n",
              "\t<tr><td>341461</td><td>309266667</td><td>265333333</td></tr>\n",
              "\t<tr><td>193873</td><td>286400000</td><td>287200000</td></tr>\n",
              "\t<tr><td>961139</td><td>272933333</td><td>225800000</td></tr>\n",
              "</tbody>\n",
              "</table>\n"
            ],
            "text/latex": [
              "A data.table: 20 × 3\n",
              "\\begin{tabular}{lll}\n",
              " semilla & ganancia1 & ganancia2\\\\\n",
              " <int> & <dbl> & <dbl>\\\\\n",
              "\\hline\n",
              "\t 590819 & 286333333 & 253933333\\\\\n",
              "\t 526937 & 268000000 & 220666667\\\\\n",
              "\t 753937 & 251666667 & 253400000\\\\\n",
              "\t 101173 & 290400000 & 241133333\\\\\n",
              "\t 715727 & 248333333 & 194933333\\\\\n",
              "\t 522959 & 292400000 & 236866667\\\\\n",
              "\t 975883 & 313200000 & 256666667\\\\\n",
              "\t 703657 & 247000000 & 232266667\\\\\n",
              "\t 631469 & 273600000 & 231533333\\\\\n",
              "\t 662617 & 293933333 & 231600000\\\\\n",
              "\t 552031 & 304400000 & 259866667\\\\\n",
              "\t 195281 & 299933333 & 224266667\\\\\n",
              "\t 326999 & 321800000 & 250400000\\\\\n",
              "\t 452269 & 255333333 & 248133333\\\\\n",
              "\t 576221 & 298666667 & 216466667\\\\\n",
              "\t 293729 & 271200000 & 235200000\\\\\n",
              "\t 658079 & 323066667 & 273266667\\\\\n",
              "\t 341461 & 309266667 & 265333333\\\\\n",
              "\t 193873 & 286400000 & 287200000\\\\\n",
              "\t 961139 & 272933333 & 225800000\\\\\n",
              "\\end{tabular}\n"
            ],
            "text/markdown": [
              "\n",
              "A data.table: 20 × 3\n",
              "\n",
              "| semilla &lt;int&gt; | ganancia1 &lt;dbl&gt; | ganancia2 &lt;dbl&gt; |\n",
              "|---|---|---|\n",
              "| 590819 | 286333333 | 253933333 |\n",
              "| 526937 | 268000000 | 220666667 |\n",
              "| 753937 | 251666667 | 253400000 |\n",
              "| 101173 | 290400000 | 241133333 |\n",
              "| 715727 | 248333333 | 194933333 |\n",
              "| 522959 | 292400000 | 236866667 |\n",
              "| 975883 | 313200000 | 256666667 |\n",
              "| 703657 | 247000000 | 232266667 |\n",
              "| 631469 | 273600000 | 231533333 |\n",
              "| 662617 | 293933333 | 231600000 |\n",
              "| 552031 | 304400000 | 259866667 |\n",
              "| 195281 | 299933333 | 224266667 |\n",
              "| 326999 | 321800000 | 250400000 |\n",
              "| 452269 | 255333333 | 248133333 |\n",
              "| 576221 | 298666667 | 216466667 |\n",
              "| 293729 | 271200000 | 235200000 |\n",
              "| 658079 | 323066667 | 273266667 |\n",
              "| 341461 | 309266667 | 265333333 |\n",
              "| 193873 | 286400000 | 287200000 |\n",
              "| 961139 | 272933333 | 225800000 |\n",
              "\n"
            ],
            "text/plain": [
              "   semilla ganancia1 ganancia2\n",
              "1  590819  286333333 253933333\n",
              "2  526937  268000000 220666667\n",
              "3  753937  251666667 253400000\n",
              "4  101173  290400000 241133333\n",
              "5  715727  248333333 194933333\n",
              "6  522959  292400000 236866667\n",
              "7  975883  313200000 256666667\n",
              "8  703657  247000000 232266667\n",
              "9  631469  273600000 231533333\n",
              "10 662617  293933333 231600000\n",
              "11 552031  304400000 259866667\n",
              "12 195281  299933333 224266667\n",
              "13 326999  321800000 250400000\n",
              "14 452269  255333333 248133333\n",
              "15 576221  298666667 216466667\n",
              "16 293729  271200000 235200000\n",
              "17 658079  323066667 273266667\n",
              "18 341461  309266667 265333333\n",
              "19 193873  286400000 287200000\n",
              "20 961139  272933333 225800000"
            ]
          },
          "metadata": {},
          "output_type": "display_data"
        }
      ],
      "source": [
        "# paso la lista a vector\n",
        "tb_salida <- rbindlist(salidas)\n",
        "tb_salida"
      ]
    },
    {
      "cell_type": "code",
<<<<<<< HEAD
      "execution_count": 63,
=======
      "execution_count": null,
>>>>>>> 4c354cd (Actualización del repositorio)
      "metadata": {
        "colab": {
          "base_uri": "https://localhost:8080/",
          "height": 437
        },
        "id": "-O0rg6btNrun",
        "outputId": "b336011f-1f76-4bfb-db29-77e7b32f7499",
        "vscode": {
          "languageId": "r"
        }
      },
      "outputs": [
        {
          "data": {
<<<<<<< HEAD
            "image/png": "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",
=======
            "image/png": "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",
>>>>>>> 4c354cd (Actualización del repositorio)
            "text/plain": [
              "plot without title"
            ]
          },
          "metadata": {
            "image/png": {
              "height": 420,
              "width": 420
            }
          },
          "output_type": "display_data"
        }
      ],
      "source": [
        "grafico <- ggplot( tb_salida, aes(x=ganancia1)) + geom_density(alpha=0.25, fill=\"green\", color=\"green\")  +\n",
        "             geom_density(data=tb_salida, aes(x=ganancia2), fill=\"purple\", color=\"purple\",  alpha=0.10)\n",
        "\n",
        "print(grafico)"
      ]
    },
    {
      "cell_type": "code",
<<<<<<< HEAD
      "execution_count": 64,
=======
      "execution_count": null,
>>>>>>> 4c354cd (Actualización del repositorio)
      "metadata": {
        "colab": {
          "base_uri": "https://localhost:8080/",
          "height": 34
        },
        "id": "uSqrazOyU_LC",
        "outputId": "d375d0d2-5e10-458e-cc4d-2936ea33c2b8",
        "vscode": {
          "languageId": "r"
        }
      },
      "outputs": [
        {
          "data": {
            "text/html": [
<<<<<<< HEAD
              "<strong>pdf:</strong> 2"
            ],
            "text/latex": [
              "\\textbf{pdf:} 2"
            ],
            "text/markdown": [
              "**pdf:** 2"
            ],
            "text/plain": [
              "pdf \n",
              "  2 "
=======
              "<strong>agg_record_2146034412:</strong> 2"
            ],
            "text/latex": [
              "\\textbf{agg\\textbackslash{}\\_record\\textbackslash{}\\_2146034412:} 2"
            ],
            "text/markdown": [
              "**agg_record_2146034412:** 2"
            ],
            "text/plain": [
              "agg_record_2146034412 \n",
              "                    2 "
>>>>>>> 4c354cd (Actualización del repositorio)
            ]
          },
          "metadata": {},
          "output_type": "display_data"
        }
      ],
      "source": [
        "# imprimo en un .pdf  que va a la carpeta del experimento\n",
        "pdf(\"densidad_dos.pdf\")\n",
        "print(grafico)\n",
        "dev.off()"
      ]
    },
    {
      "cell_type": "code",
<<<<<<< HEAD
      "execution_count": 65,
=======
      "execution_count": null,
>>>>>>> 4c354cd (Actualización del repositorio)
      "metadata": {
        "colab": {
          "base_uri": "https://localhost:8080/"
        },
        "id": "LGv0LB_4R7US",
        "outputId": "f5453b1a-f627-4812-d7b5-8d30659c69c8",
        "vscode": {
          "languageId": "r"
        }
      },
      "outputs": [
        {
          "name": "stdout",
          "output_type": "stream",
          "text": [
            "      arbol1    arbol2\n",
            "       <num>     <num>\n",
            "1: 285393333 241946667\n",
            "   prob( m1 > m2)\n",
            "            <num>\n",
            "1:            0.9\n"
          ]
        }
      ],
      "source": [
        "print( tb_salida[ , list( \"arbol1\" = mean( ganancia1),  \"arbol2\" = mean(ganancia2) ) ] )\n",
        "\n",
        "print( tb_salida[ , list( \"prob( m1 > m2)\" = sum(ganancia1 > ganancia2 )/ .N ) ]  )"
      ]
    },
    {
      "cell_type": "markdown",
      "metadata": {
        "id": "F6lFJf1VTi8b"
      },
      "source": [
        "### Acciones a realizar\n",
        "* Reportar la  los resultados en la planilla colaborativa hoja  **C2-dosModelos**\n",
        "* ¿Todos los alumnos hubieran elegido el mismo modelo aun con 20 semillas?"
      ]
    },
    {
      "cell_type": "markdown",
      "metadata": {
        "id": "aOpy-XBKTi8n"
      },
      "source": [
        "\n",
        "\n",
        "---\n",
        "\n"
      ]
    },
    {
      "cell_type": "markdown",
      "metadata": {
        "id": "EdzjiJf-dsEK"
      },
      "source": [
        "# 6 Comparando dos buenos  modelos\n",
        "## Clase 02  Experimento 6"
      ]
    },
    {
      "cell_type": "markdown",
      "metadata": {
        "id": "FcBjp5XxdsEt"
      },
      "source": [
        "## 6.1  Objetivos\n",
        "Presentar a los alumnos la dificultad que surge en la comparación de dos muy distintos, pero ambos buenos, modelos predictivos, y el costo computacional asociado a esa comparación\n",
        "<br>Comparación simple de media de ganancias, versus probabilidad que un modelo sea superior a otro.\n",
        "<br>Limitaciones de la MonteCarlo Cross Validation\n",
        "<br>Existencia del Test de Wilcoxon"
      ]
    },
    {
      "cell_type": "markdown",
      "metadata": {
        "id": "tYcOIcwCdsEu"
      },
      "source": [
        "## 6.2 Introduccion\n",
        "Estos son los dos arboles de muy distinta profundidad.\n",
        "<br>¿Cuál de ellos es mejor? ¿Cuál elijo?\n",
        "\n",
        "| Hiperparámetro | Arbol 1 | Arbol 2 |\n",
        "| --- | --: |  ---: |\n",
        "| cp | -1 | -1 |\n",
        "|minsplit | 700 | 115 |\n",
        "|minbucket | 350 | 5 |\n",
        "|maxdepth | 8 | 6 |\n",
        "\n"
      ]
    },
    {
      "cell_type": "markdown",
      "metadata": {
        "id": "r0NDA7GgdsEu"
      },
      "source": [
        "## 6.3 Dos buenos modelos"
      ]
    },
    {
      "cell_type": "markdown",
      "metadata": {
        "id": "21SJmGd7dsEv"
      },
      "source": [
        "Esta parte se debe correr con el runtime en lenguaje **R** Ir al menu, Runtime -> Change Runtime Tipe -> Runtime type -> R"
      ]
    },
    {
      "cell_type": "markdown",
      "metadata": {
        "id": "Ne0e08KUt87w"
      },
      "source": [
        "El tiempo de corrida es de alrededor de 50 minutos"
      ]
    },
    {
      "cell_type": "markdown",
      "metadata": {
        "id": "q02SEGNwdsEv"
      },
      "source": [
        "limpio el ambiente de R"
      ]
    },
    {
      "cell_type": "code",
<<<<<<< HEAD
      "execution_count": 66,
=======
      "execution_count": null,
>>>>>>> 4c354cd (Actualización del repositorio)
      "metadata": {
        "id": "6c2ZJstWdsEw",
        "vscode": {
          "languageId": "r"
        }
      },
<<<<<<< HEAD
      "outputs": [
        {
          "data": {
            "text/html": [
              "<table class=\"dataframe\">\n",
              "<caption>A matrix: 2 × 6 of type dbl</caption>\n",
              "<thead>\n",
              "\t<tr><th></th><th scope=col>used</th><th scope=col>(Mb)</th><th scope=col>gc trigger</th><th scope=col>(Mb)</th><th scope=col>max used</th><th scope=col>(Mb)</th></tr>\n",
              "</thead>\n",
              "<tbody>\n",
              "\t<tr><th scope=row>Ncells</th><td> 1347668</td><td> 72.0</td><td>  2238977</td><td> 119.6</td><td>  2238977</td><td> 119.6</td></tr>\n",
              "\t<tr><th scope=row>Vcells</th><td>40050817</td><td>305.6</td><td>701396823</td><td>5351.3</td><td>986718250</td><td>7528.1</td></tr>\n",
              "</tbody>\n",
              "</table>\n"
            ],
            "text/latex": [
              "A matrix: 2 × 6 of type dbl\n",
              "\\begin{tabular}{r|llllll}\n",
              "  & used & (Mb) & gc trigger & (Mb) & max used & (Mb)\\\\\n",
              "\\hline\n",
              "\tNcells &  1347668 &  72.0 &   2238977 &  119.6 &   2238977 &  119.6\\\\\n",
              "\tVcells & 40050817 & 305.6 & 701396823 & 5351.3 & 986718250 & 7528.1\\\\\n",
              "\\end{tabular}\n"
            ],
            "text/markdown": [
              "\n",
              "A matrix: 2 × 6 of type dbl\n",
              "\n",
              "| <!--/--> | used | (Mb) | gc trigger | (Mb) | max used | (Mb) |\n",
              "|---|---|---|---|---|---|---|\n",
              "| Ncells |  1347668 |  72.0 |   2238977 |  119.6 |   2238977 |  119.6 |\n",
              "| Vcells | 40050817 | 305.6 | 701396823 | 5351.3 | 986718250 | 7528.1 |\n",
              "\n"
            ],
            "text/plain": [
              "       used     (Mb)  gc trigger (Mb)   max used  (Mb)  \n",
              "Ncells  1347668  72.0   2238977   119.6   2238977  119.6\n",
              "Vcells 40050817 305.6 701396823  5351.3 986718250 7528.1"
            ]
          },
          "metadata": {},
          "output_type": "display_data"
        }
      ],
=======
      "outputs": [],
>>>>>>> 4c354cd (Actualización del repositorio)
      "source": [
        "# limpio la memoria\n",
        "rm(list=ls(all.names=TRUE)) # remove all objects\n",
        "gc(full=TRUE, verbose=FALSE) # garbage collection"
      ]
    },
    {
      "cell_type": "markdown",
      "metadata": {
        "id": "62MIW0r1dsEx"
      },
      "source": [
        "* Instalacion de la libreria  rpart.plot  para dibujar el arbol\n",
        "* invocacion de las librerias  **data.table** y  **rpart**"
      ]
    },
    {
      "cell_type": "code",
<<<<<<< HEAD
      "execution_count": 67,
=======
      "execution_count": null,
>>>>>>> 4c354cd (Actualización del repositorio)
      "metadata": {
        "id": "2Ke4n-N8dsEy",
        "vscode": {
          "languageId": "r"
        }
      },
      "outputs": [],
      "source": [
        "# cargo las librerias que necesito\n",
        "require(\"data.table\")\n",
        "require(\"rpart\")\n",
        "require(\"parallel\")\n",
        "\n",
        "if(!require(\"R.utils\")) install.packages(\"R.utils\")\n",
        "require(\"R.utils\")\n",
        "\n",
        "if (!require(\"primes\")) install.packages(\"primes\")\n",
        "require(\"primes\")\n",
        "\n",
        "require(\"ggplot2\")"
      ]
    },
    {
      "cell_type": "markdown",
      "metadata": {
        "id": "UHSoeqi4dsEz"
      },
      "source": [
        "###  Accion a Realizar\n",
        "PARAM$semilla_primigenia  debe reemplazarse por SU primer semilla"
      ]
    },
    {
      "cell_type": "code",
<<<<<<< HEAD
      "execution_count": 68,
=======
      "execution_count": null,
>>>>>>> 4c354cd (Actualización del repositorio)
      "metadata": {
        "id": "f08_sqfAdsEz",
        "vscode": {
          "languageId": "r"
        }
      },
      "outputs": [],
      "source": [
        "PARAM <- list()\n",
        "PARAM$semilla_primigenia <- 200003\n",
        "PARAM$qsemillas <- 50\n",
        "PARAM$training_pct <- 70L     # entre 1 y 100\n"
      ]
    },
    {
      "cell_type": "code",
<<<<<<< HEAD
      "execution_count": 69,
=======
      "execution_count": null,
>>>>>>> 4c354cd (Actualización del repositorio)
      "metadata": {
        "id": "L735D9rydsE0",
        "vscode": {
          "languageId": "r"
        }
      },
      "outputs": [],
      "source": [
        "# los dos arboles\n",
        "PARAM$rpart1 <- list (\n",
        "  \"cp\" = -1,\n",
        "  \"minsplit\" = 750,\n",
        "  \"minbucket\" = 350,\n",
        "  \"maxdepth\" = 8\n",
        ")\n",
        "\n",
        "\n",
        "PARAM$rpart2 <- list (\n",
        "  \"cp\" = -1,\n",
        "  \"minsplit\" = 115,\n",
        "  \"minbucket\" = 5,\n",
        "  \"maxdepth\" = 6\n",
        ")\n"
      ]
    },
    {
      "cell_type": "code",
<<<<<<< HEAD
      "execution_count": 74,
=======
      "execution_count": null,
>>>>>>> 4c354cd (Actualización del repositorio)
      "metadata": {
        "id": "O56epLUGdsE1",
        "vscode": {
          "languageId": "r"
        }
      },
      "outputs": [],
      "source": [
        "# particionar agrega una columna llamada fold a un dataset\n",
        "#  que consiste en una particion estratificada segun agrupa\n",
        "\n",
        "# particionar( data=dataset, division=c(70,30),\n",
        "#  agrupa=clase_ternaria, seed=semilla)   crea una particion 70, 30\n",
        "\n",
        "particionar <- function(\n",
        "    data, division, agrupa = \"\",\n",
        "    campo = \"fold\", start = 1, seed = NA) {\n",
        "  if (!is.na(seed)) set.seed(seed)\n",
        "\n",
        "  bloque <- unlist(mapply(function(x, y) {\n",
        "    rep(y, x)\n",
        "  }, division, seq(from = start, length.out = length(division))))\n",
        "\n",
        "  data[, (campo) := sample(rep(bloque, ceiling(.N / length(bloque))))[1:.N],\n",
        "    by = agrupa\n",
        "  ]\n",
        "}\n"
      ]
    },
    {
      "cell_type": "code",
      "execution_count": null,
      "metadata": {
        "id": "Bv_NorLhdsE1",
        "vscode": {
          "languageId": "r"
        }
      },
      "outputs": [],
      "source": [
        "DosArbolesEstimarGanancia <- function(semilla, training_pct, param_rpart1, param_rpart2) {\n",
        "  # fuerzo impresion\n",
        "  print( paste( semilla, Sys.time()) )\n",
        "  flush.console()\n",
        "\n",
        "  # particiono estratificadamente el dataset\n",
        "  particionar(dataset,\n",
        "    division = c(training_pct, 100L -training_pct),\n",
        "    agrupa = \"clase_ternaria\",\n",
        "    seed = semilla # aqui se usa SU semilla\n",
        "  )\n",
        "\n",
        "  # genero el modelo\n",
        "  # predecir clase_ternaria a partir del resto\n",
        "  modelo1 <- rpart(\"clase_ternaria ~ .\",\n",
        "    data = dataset[fold == 1], # fold==1  es training,  el 70% de los datos\n",
        "    xval = 0,\n",
        "    control = param_rpart1\n",
        "  ) # aqui van los parametros del arbol\n",
        "\n",
        "  # aplico el modelo a los datos de testing\n",
        "  prediccion1 <- predict(modelo1, # el modelo que genere recien\n",
        "    dataset[fold == 2], # fold==2  es testing, el 30% de los datos\n",
        "    type = \"prob\"\n",
        "  ) # type= \"prob\"  es que devuelva la probabilidad\n",
        "\n",
        "\n",
        "  # calculo la ganancia en testing  qu es fold==2\n",
        "  ganancia_test1 <- dataset[\n",
        "    fold == 2,\n",
        "    sum(ifelse(prediccion1[, \"BAJA+2\"] > 0.025,\n",
        "      ifelse(clase_ternaria == \"BAJA+2\", 780000, -20000),\n",
        "      0\n",
        "    ))\n",
        "  ]\n",
        "\n",
        "  # escalo la ganancia como si fuera todo el dataset\n",
        "  ganancia_test_normalizada1 <- ganancia_test1 / (( 100 - training_pct ) / 100 )\n",
        "\n",
        "  modelo2 <- rpart(\"clase_ternaria ~ .\",\n",
        "    data = dataset[fold == 1], # fold==1  es training,  el 70% de los datos\n",
        "    xval = 0,\n",
        "    control = param_rpart2\n",
        "  ) # aqui van los parametros del arbol\n",
        "\n",
        "  # aplico el modelo a los datos de testing\n",
        "  prediccion2 <- predict(modelo2, # el modelo que genere recien\n",
        "    dataset[fold == 2], # fold==2  es testing, el 30% de los datos\n",
        "    type = \"prob\"\n",
        "  ) # type= \"prob\"  es que devuelva la probabilidad\n",
        "\n",
        "\n",
        "  # calculo la ganancia en testing  qu es fold==2\n",
        "  ganancia_test2 <- dataset[\n",
        "    fold == 2,\n",
        "    sum(ifelse(prediccion2[, \"BAJA+2\"] > 0.025,\n",
        "      ifelse(clase_ternaria == \"BAJA+2\", 780000, -20000),\n",
        "      0\n",
        "    ))\n",
        "  ]\n",
        "\n",
        "  # escalo la ganancia como si fuera todo el dataset\n",
        "  ganancia_test_normalizada2 <- ganancia_test2 / (( 100 - training_pct ) / 100 )\n",
        "\n",
        "  return(list(\n",
        "    \"semilla\" = semilla,\n",
        "    \"ganancia1\" = ganancia_test_normalizada1,\n",
        "    \"ganancia2\" = ganancia_test_normalizada2\n",
        "  ))\n",
        "}"
      ]
    },
    {
      "cell_type": "code",
      "execution_count": null,
      "metadata": {
        "id": "N9GarblIdsE3",
        "vscode": {
          "languageId": "r"
        }
      },
      "outputs": [],
      "source": [
        "# carpeta de trabajo\n",
        "setwd(\"/content/buckets/b1/exp\")\n",
        "experimento <- \"exp0206\"\n",
        "dir.create(experimento, showWarnings=FALSE)\n",
        "setwd( paste0(\"/content/buckets/b1/exp/\", experimento ))"
      ]
    },
    {
      "cell_type": "code",
<<<<<<< HEAD
      "execution_count": 70,
=======
      "execution_count": null,
>>>>>>> 4c354cd (Actualización del repositorio)
      "metadata": {
        "id": "Z05r3wdTdsE3",
        "vscode": {
          "languageId": "r"
        }
      },
<<<<<<< HEAD
      "outputs": [
        {
          "data": {
            "text/html": [
              "978439"
            ],
            "text/latex": [
              "978439"
            ],
            "text/markdown": [
              "978439"
            ],
            "text/plain": [
              "[1] 978439"
            ]
          },
          "metadata": {},
          "output_type": "display_data"
        }
      ],
      "source": [
        "# lectura del dataset\n",
        "#dataset <- fread(\"/content/datasets/competencia_01.csv.gz\")\n",
        "dataset <- fread(\"./competencia_01.csv.gz\")\n",
=======
      "outputs": [],
      "source": [
        "# lectura del dataset\n",
        "dataset <- fread(\"/content/datasets/competencia_01.csv.gz\")\n",
>>>>>>> 4c354cd (Actualización del repositorio)
        "nrow(dataset)"
      ]
    },
    {
      "cell_type": "code",
<<<<<<< HEAD
      "execution_count": 71,
=======
      "execution_count": null,
>>>>>>> 4c354cd (Actualización del repositorio)
      "metadata": {
        "id": "ncex-cvvlYf9",
        "vscode": {
          "languageId": "r"
        }
      },
<<<<<<< HEAD
      "outputs": [
        {
          "data": {
            "text/html": [
              "163418"
            ],
            "text/latex": [
              "163418"
            ],
            "text/markdown": [
              "163418"
            ],
            "text/plain": [
              "[1] 163418"
            ]
          },
          "metadata": {},
          "output_type": "display_data"
        },
        {
          "data": {
            "text/html": [
              "<table class=\"dataframe\">\n",
              "<caption>A data.table: 3 × 3</caption>\n",
              "<thead>\n",
              "\t<tr><th scope=col>foto_mes</th><th scope=col>clase_ternaria</th><th scope=col>N</th></tr>\n",
              "\t<tr><th scope=col>&lt;int&gt;</th><th scope=col>&lt;chr&gt;</th><th scope=col>&lt;int&gt;</th></tr>\n",
              "</thead>\n",
              "<tbody>\n",
              "\t<tr><td>202104</td><td>CONTINUA</td><td>161333</td></tr>\n",
              "\t<tr><td>202104</td><td>BAJA+1  </td><td>   955</td></tr>\n",
              "\t<tr><td>202104</td><td>BAJA+2  </td><td>  1130</td></tr>\n",
              "</tbody>\n",
              "</table>\n"
            ],
            "text/latex": [
              "A data.table: 3 × 3\n",
              "\\begin{tabular}{lll}\n",
              " foto\\_mes & clase\\_ternaria & N\\\\\n",
              " <int> & <chr> & <int>\\\\\n",
              "\\hline\n",
              "\t 202104 & CONTINUA & 161333\\\\\n",
              "\t 202104 & BAJA+1   &    955\\\\\n",
              "\t 202104 & BAJA+2   &   1130\\\\\n",
              "\\end{tabular}\n"
            ],
            "text/markdown": [
              "\n",
              "A data.table: 3 × 3\n",
              "\n",
              "| foto_mes &lt;int&gt; | clase_ternaria &lt;chr&gt; | N &lt;int&gt; |\n",
              "|---|---|---|\n",
              "| 202104 | CONTINUA | 161333 |\n",
              "| 202104 | BAJA+1   |    955 |\n",
              "| 202104 | BAJA+2   |   1130 |\n",
              "\n"
            ],
            "text/plain": [
              "  foto_mes clase_ternaria N     \n",
              "1 202104   CONTINUA       161333\n",
              "2 202104   BAJA+1            955\n",
              "3 202104   BAJA+2           1130"
            ]
          },
          "metadata": {},
          "output_type": "display_data"
        }
      ],
=======
      "outputs": [],
>>>>>>> 4c354cd (Actualización del repositorio)
      "source": [
        "# trabajo solo con los datos de 202104, ultimo mes con clase_ternaria completa\n",
        "# filtro datos\n",
        "dataset <- dataset[foto_mes==202104]\n",
        "\n",
        "invisible(gc(full=TRUE, verbose=FALSE)) # garbage collection\n",
        "\n",
        "nrow(dataset)\n",
        "dataset[, .N, list(foto_mes,clase_ternaria)]"
      ]
    },
    {
      "cell_type": "code",
<<<<<<< HEAD
      "execution_count": 72,
=======
      "execution_count": null,
>>>>>>> 4c354cd (Actualización del repositorio)
      "metadata": {
        "id": "m8ODrVrndsE4",
        "vscode": {
          "languageId": "r"
        }
      },
      "outputs": [],
      "source": [
        "# genero numeros primos\n",
        "primos <- generate_primes(min = 100000, max = 1000000)\n",
        "set.seed(PARAM$semilla_primigenia) # inicializo\n",
        "\n",
        "# me quedo con PARAM$qsemillas   semillas\n",
        "PARAM$semillas <- sample(primos, PARAM$qsemillas )"
      ]
    },
    {
      "cell_type": "code",
      "execution_count": null,
      "metadata": {
        "id": "KQBhUXxJdsE5",
        "vscode": {
          "languageId": "r"
        }
      },
      "outputs": [],
      "source": [
        "# la funcion mcmapply  llama a la funcion DosArbolesEstimarGanancia\n",
        "#  tantas veces como valores tenga el vector  PARAM$semillas\n",
        "Sys.time()\n",
        "\n",
        "salidas <- mcmapply( DosArbolesEstimarGanancia,\n",
        "  PARAM$semillas, # paso el vector de semillas\n",
        "  MoreArgs = list(PARAM$training_pct, PARAM$rpart1, PARAM$rpart2), # aqui paso el segundo parametro\n",
        "  SIMPLIFY = FALSE,\n",
        "  mc.cores = detectCores()\n",
        ")\n",
        "\n",
        "Sys.time()"
      ]
    },
    {
      "cell_type": "code",
<<<<<<< HEAD
      "execution_count": 75,
      "metadata": {
        "vscode": {
          "languageId": "r"
        }
      },
      "outputs": [
        {
          "data": {
            "text/plain": [
              "[1] \"2025-08-27 19:53:51 -03\""
            ]
          },
          "metadata": {},
          "output_type": "display_data"
        },
        {
          "data": {
            "text/html": [
              "<ol>\n",
              "\t<li><style>\n",
              ".list-inline {list-style: none; margin:0; padding: 0}\n",
              ".list-inline>li {display: inline-block}\n",
              ".list-inline>li:not(:last-child)::after {content: \"\\00b7\"; padding: 0 .5ex}\n",
              "</style>\n",
              "<ol class=list-inline><li>'rpart'</li><li>'data.table'</li><li>'stats'</li><li>'graphics'</li><li>'grDevices'</li><li>'utils'</li><li>'datasets'</li><li>'methods'</li><li>'base'</li></ol>\n",
              "</li>\n",
              "\t<li><style>\n",
              ".list-inline {list-style: none; margin:0; padding: 0}\n",
              ".list-inline>li {display: inline-block}\n",
              ".list-inline>li:not(:last-child)::after {content: \"\\00b7\"; padding: 0 .5ex}\n",
              "</style>\n",
              "<ol class=list-inline><li>'rpart'</li><li>'data.table'</li><li>'stats'</li><li>'graphics'</li><li>'grDevices'</li><li>'utils'</li><li>'datasets'</li><li>'methods'</li><li>'base'</li></ol>\n",
              "</li>\n",
              "\t<li><style>\n",
              ".list-inline {list-style: none; margin:0; padding: 0}\n",
              ".list-inline>li {display: inline-block}\n",
              ".list-inline>li:not(:last-child)::after {content: \"\\00b7\"; padding: 0 .5ex}\n",
              "</style>\n",
              "<ol class=list-inline><li>'rpart'</li><li>'data.table'</li><li>'stats'</li><li>'graphics'</li><li>'grDevices'</li><li>'utils'</li><li>'datasets'</li><li>'methods'</li><li>'base'</li></ol>\n",
              "</li>\n",
              "\t<li><style>\n",
              ".list-inline {list-style: none; margin:0; padding: 0}\n",
              ".list-inline>li {display: inline-block}\n",
              ".list-inline>li:not(:last-child)::after {content: \"\\00b7\"; padding: 0 .5ex}\n",
              "</style>\n",
              "<ol class=list-inline><li>'rpart'</li><li>'data.table'</li><li>'stats'</li><li>'graphics'</li><li>'grDevices'</li><li>'utils'</li><li>'datasets'</li><li>'methods'</li><li>'base'</li></ol>\n",
              "</li>\n",
              "\t<li><style>\n",
              ".list-inline {list-style: none; margin:0; padding: 0}\n",
              ".list-inline>li {display: inline-block}\n",
              ".list-inline>li:not(:last-child)::after {content: \"\\00b7\"; padding: 0 .5ex}\n",
              "</style>\n",
              "<ol class=list-inline><li>'rpart'</li><li>'data.table'</li><li>'stats'</li><li>'graphics'</li><li>'grDevices'</li><li>'utils'</li><li>'datasets'</li><li>'methods'</li><li>'base'</li></ol>\n",
              "</li>\n",
              "\t<li><style>\n",
              ".list-inline {list-style: none; margin:0; padding: 0}\n",
              ".list-inline>li {display: inline-block}\n",
              ".list-inline>li:not(:last-child)::after {content: \"\\00b7\"; padding: 0 .5ex}\n",
              "</style>\n",
              "<ol class=list-inline><li>'rpart'</li><li>'data.table'</li><li>'stats'</li><li>'graphics'</li><li>'grDevices'</li><li>'utils'</li><li>'datasets'</li><li>'methods'</li><li>'base'</li></ol>\n",
              "</li>\n",
              "\t<li><style>\n",
              ".list-inline {list-style: none; margin:0; padding: 0}\n",
              ".list-inline>li {display: inline-block}\n",
              ".list-inline>li:not(:last-child)::after {content: \"\\00b7\"; padding: 0 .5ex}\n",
              "</style>\n",
              "<ol class=list-inline><li>'rpart'</li><li>'data.table'</li><li>'stats'</li><li>'graphics'</li><li>'grDevices'</li><li>'utils'</li><li>'datasets'</li><li>'methods'</li><li>'base'</li></ol>\n",
              "</li>\n",
              "\t<li><style>\n",
              ".list-inline {list-style: none; margin:0; padding: 0}\n",
              ".list-inline>li {display: inline-block}\n",
              ".list-inline>li:not(:last-child)::after {content: \"\\00b7\"; padding: 0 .5ex}\n",
              "</style>\n",
              "<ol class=list-inline><li>'rpart'</li><li>'data.table'</li><li>'stats'</li><li>'graphics'</li><li>'grDevices'</li><li>'utils'</li><li>'datasets'</li><li>'methods'</li><li>'base'</li></ol>\n",
              "</li>\n",
              "\t<li><style>\n",
              ".list-inline {list-style: none; margin:0; padding: 0}\n",
              ".list-inline>li {display: inline-block}\n",
              ".list-inline>li:not(:last-child)::after {content: \"\\00b7\"; padding: 0 .5ex}\n",
              "</style>\n",
              "<ol class=list-inline><li>'rpart'</li><li>'data.table'</li><li>'stats'</li><li>'graphics'</li><li>'grDevices'</li><li>'utils'</li><li>'datasets'</li><li>'methods'</li><li>'base'</li></ol>\n",
              "</li>\n",
              "\t<li><style>\n",
              ".list-inline {list-style: none; margin:0; padding: 0}\n",
              ".list-inline>li {display: inline-block}\n",
              ".list-inline>li:not(:last-child)::after {content: \"\\00b7\"; padding: 0 .5ex}\n",
              "</style>\n",
              "<ol class=list-inline><li>'rpart'</li><li>'data.table'</li><li>'stats'</li><li>'graphics'</li><li>'grDevices'</li><li>'utils'</li><li>'datasets'</li><li>'methods'</li><li>'base'</li></ol>\n",
              "</li>\n",
              "\t<li><style>\n",
              ".list-inline {list-style: none; margin:0; padding: 0}\n",
              ".list-inline>li {display: inline-block}\n",
              ".list-inline>li:not(:last-child)::after {content: \"\\00b7\"; padding: 0 .5ex}\n",
              "</style>\n",
              "<ol class=list-inline><li>'rpart'</li><li>'data.table'</li><li>'stats'</li><li>'graphics'</li><li>'grDevices'</li><li>'utils'</li><li>'datasets'</li><li>'methods'</li><li>'base'</li></ol>\n",
              "</li>\n",
              "\t<li><style>\n",
              ".list-inline {list-style: none; margin:0; padding: 0}\n",
              ".list-inline>li {display: inline-block}\n",
              ".list-inline>li:not(:last-child)::after {content: \"\\00b7\"; padding: 0 .5ex}\n",
              "</style>\n",
              "<ol class=list-inline><li>'rpart'</li><li>'data.table'</li><li>'stats'</li><li>'graphics'</li><li>'grDevices'</li><li>'utils'</li><li>'datasets'</li><li>'methods'</li><li>'base'</li></ol>\n",
              "</li>\n",
              "\t<li><style>\n",
              ".list-inline {list-style: none; margin:0; padding: 0}\n",
              ".list-inline>li {display: inline-block}\n",
              ".list-inline>li:not(:last-child)::after {content: \"\\00b7\"; padding: 0 .5ex}\n",
              "</style>\n",
              "<ol class=list-inline><li>'rpart'</li><li>'data.table'</li><li>'stats'</li><li>'graphics'</li><li>'grDevices'</li><li>'utils'</li><li>'datasets'</li><li>'methods'</li><li>'base'</li></ol>\n",
              "</li>\n",
              "\t<li><style>\n",
              ".list-inline {list-style: none; margin:0; padding: 0}\n",
              ".list-inline>li {display: inline-block}\n",
              ".list-inline>li:not(:last-child)::after {content: \"\\00b7\"; padding: 0 .5ex}\n",
              "</style>\n",
              "<ol class=list-inline><li>'rpart'</li><li>'data.table'</li><li>'stats'</li><li>'graphics'</li><li>'grDevices'</li><li>'utils'</li><li>'datasets'</li><li>'methods'</li><li>'base'</li></ol>\n",
              "</li>\n",
              "\t<li><style>\n",
              ".list-inline {list-style: none; margin:0; padding: 0}\n",
              ".list-inline>li {display: inline-block}\n",
              ".list-inline>li:not(:last-child)::after {content: \"\\00b7\"; padding: 0 .5ex}\n",
              "</style>\n",
              "<ol class=list-inline><li>'rpart'</li><li>'data.table'</li><li>'stats'</li><li>'graphics'</li><li>'grDevices'</li><li>'utils'</li><li>'datasets'</li><li>'methods'</li><li>'base'</li></ol>\n",
              "</li>\n",
              "</ol>\n"
            ],
            "text/latex": [
              "\\begin{enumerate}\n",
              "\\item \\begin{enumerate*}\n",
              "\\item 'rpart'\n",
              "\\item 'data.table'\n",
              "\\item 'stats'\n",
              "\\item 'graphics'\n",
              "\\item 'grDevices'\n",
              "\\item 'utils'\n",
              "\\item 'datasets'\n",
              "\\item 'methods'\n",
              "\\item 'base'\n",
              "\\end{enumerate*}\n",
              "\n",
              "\\item \\begin{enumerate*}\n",
              "\\item 'rpart'\n",
              "\\item 'data.table'\n",
              "\\item 'stats'\n",
              "\\item 'graphics'\n",
              "\\item 'grDevices'\n",
              "\\item 'utils'\n",
              "\\item 'datasets'\n",
              "\\item 'methods'\n",
              "\\item 'base'\n",
              "\\end{enumerate*}\n",
              "\n",
              "\\item \\begin{enumerate*}\n",
              "\\item 'rpart'\n",
              "\\item 'data.table'\n",
              "\\item 'stats'\n",
              "\\item 'graphics'\n",
              "\\item 'grDevices'\n",
              "\\item 'utils'\n",
              "\\item 'datasets'\n",
              "\\item 'methods'\n",
              "\\item 'base'\n",
              "\\end{enumerate*}\n",
              "\n",
              "\\item \\begin{enumerate*}\n",
              "\\item 'rpart'\n",
              "\\item 'data.table'\n",
              "\\item 'stats'\n",
              "\\item 'graphics'\n",
              "\\item 'grDevices'\n",
              "\\item 'utils'\n",
              "\\item 'datasets'\n",
              "\\item 'methods'\n",
              "\\item 'base'\n",
              "\\end{enumerate*}\n",
              "\n",
              "\\item \\begin{enumerate*}\n",
              "\\item 'rpart'\n",
              "\\item 'data.table'\n",
              "\\item 'stats'\n",
              "\\item 'graphics'\n",
              "\\item 'grDevices'\n",
              "\\item 'utils'\n",
              "\\item 'datasets'\n",
              "\\item 'methods'\n",
              "\\item 'base'\n",
              "\\end{enumerate*}\n",
              "\n",
              "\\item \\begin{enumerate*}\n",
              "\\item 'rpart'\n",
              "\\item 'data.table'\n",
              "\\item 'stats'\n",
              "\\item 'graphics'\n",
              "\\item 'grDevices'\n",
              "\\item 'utils'\n",
              "\\item 'datasets'\n",
              "\\item 'methods'\n",
              "\\item 'base'\n",
              "\\end{enumerate*}\n",
              "\n",
              "\\item \\begin{enumerate*}\n",
              "\\item 'rpart'\n",
              "\\item 'data.table'\n",
              "\\item 'stats'\n",
              "\\item 'graphics'\n",
              "\\item 'grDevices'\n",
              "\\item 'utils'\n",
              "\\item 'datasets'\n",
              "\\item 'methods'\n",
              "\\item 'base'\n",
              "\\end{enumerate*}\n",
              "\n",
              "\\item \\begin{enumerate*}\n",
              "\\item 'rpart'\n",
              "\\item 'data.table'\n",
              "\\item 'stats'\n",
              "\\item 'graphics'\n",
              "\\item 'grDevices'\n",
              "\\item 'utils'\n",
              "\\item 'datasets'\n",
              "\\item 'methods'\n",
              "\\item 'base'\n",
              "\\end{enumerate*}\n",
              "\n",
              "\\item \\begin{enumerate*}\n",
              "\\item 'rpart'\n",
              "\\item 'data.table'\n",
              "\\item 'stats'\n",
              "\\item 'graphics'\n",
              "\\item 'grDevices'\n",
              "\\item 'utils'\n",
              "\\item 'datasets'\n",
              "\\item 'methods'\n",
              "\\item 'base'\n",
              "\\end{enumerate*}\n",
              "\n",
              "\\item \\begin{enumerate*}\n",
              "\\item 'rpart'\n",
              "\\item 'data.table'\n",
              "\\item 'stats'\n",
              "\\item 'graphics'\n",
              "\\item 'grDevices'\n",
              "\\item 'utils'\n",
              "\\item 'datasets'\n",
              "\\item 'methods'\n",
              "\\item 'base'\n",
              "\\end{enumerate*}\n",
              "\n",
              "\\item \\begin{enumerate*}\n",
              "\\item 'rpart'\n",
              "\\item 'data.table'\n",
              "\\item 'stats'\n",
              "\\item 'graphics'\n",
              "\\item 'grDevices'\n",
              "\\item 'utils'\n",
              "\\item 'datasets'\n",
              "\\item 'methods'\n",
              "\\item 'base'\n",
              "\\end{enumerate*}\n",
              "\n",
              "\\item \\begin{enumerate*}\n",
              "\\item 'rpart'\n",
              "\\item 'data.table'\n",
              "\\item 'stats'\n",
              "\\item 'graphics'\n",
              "\\item 'grDevices'\n",
              "\\item 'utils'\n",
              "\\item 'datasets'\n",
              "\\item 'methods'\n",
              "\\item 'base'\n",
              "\\end{enumerate*}\n",
              "\n",
              "\\item \\begin{enumerate*}\n",
              "\\item 'rpart'\n",
              "\\item 'data.table'\n",
              "\\item 'stats'\n",
              "\\item 'graphics'\n",
              "\\item 'grDevices'\n",
              "\\item 'utils'\n",
              "\\item 'datasets'\n",
              "\\item 'methods'\n",
              "\\item 'base'\n",
              "\\end{enumerate*}\n",
              "\n",
              "\\item \\begin{enumerate*}\n",
              "\\item 'rpart'\n",
              "\\item 'data.table'\n",
              "\\item 'stats'\n",
              "\\item 'graphics'\n",
              "\\item 'grDevices'\n",
              "\\item 'utils'\n",
              "\\item 'datasets'\n",
              "\\item 'methods'\n",
              "\\item 'base'\n",
              "\\end{enumerate*}\n",
              "\n",
              "\\item \\begin{enumerate*}\n",
              "\\item 'rpart'\n",
              "\\item 'data.table'\n",
              "\\item 'stats'\n",
              "\\item 'graphics'\n",
              "\\item 'grDevices'\n",
              "\\item 'utils'\n",
              "\\item 'datasets'\n",
              "\\item 'methods'\n",
              "\\item 'base'\n",
              "\\end{enumerate*}\n",
              "\n",
              "\\end{enumerate}\n"
            ],
            "text/markdown": [
              "1. 1. 'rpart'\n",
              "2. 'data.table'\n",
              "3. 'stats'\n",
              "4. 'graphics'\n",
              "5. 'grDevices'\n",
              "6. 'utils'\n",
              "7. 'datasets'\n",
              "8. 'methods'\n",
              "9. 'base'\n",
              "\n",
              "\n",
              "\n",
              "2. 1. 'rpart'\n",
              "2. 'data.table'\n",
              "3. 'stats'\n",
              "4. 'graphics'\n",
              "5. 'grDevices'\n",
              "6. 'utils'\n",
              "7. 'datasets'\n",
              "8. 'methods'\n",
              "9. 'base'\n",
              "\n",
              "\n",
              "\n",
              "3. 1. 'rpart'\n",
              "2. 'data.table'\n",
              "3. 'stats'\n",
              "4. 'graphics'\n",
              "5. 'grDevices'\n",
              "6. 'utils'\n",
              "7. 'datasets'\n",
              "8. 'methods'\n",
              "9. 'base'\n",
              "\n",
              "\n",
              "\n",
              "4. 1. 'rpart'\n",
              "2. 'data.table'\n",
              "3. 'stats'\n",
              "4. 'graphics'\n",
              "5. 'grDevices'\n",
              "6. 'utils'\n",
              "7. 'datasets'\n",
              "8. 'methods'\n",
              "9. 'base'\n",
              "\n",
              "\n",
              "\n",
              "5. 1. 'rpart'\n",
              "2. 'data.table'\n",
              "3. 'stats'\n",
              "4. 'graphics'\n",
              "5. 'grDevices'\n",
              "6. 'utils'\n",
              "7. 'datasets'\n",
              "8. 'methods'\n",
              "9. 'base'\n",
              "\n",
              "\n",
              "\n",
              "6. 1. 'rpart'\n",
              "2. 'data.table'\n",
              "3. 'stats'\n",
              "4. 'graphics'\n",
              "5. 'grDevices'\n",
              "6. 'utils'\n",
              "7. 'datasets'\n",
              "8. 'methods'\n",
              "9. 'base'\n",
              "\n",
              "\n",
              "\n",
              "7. 1. 'rpart'\n",
              "2. 'data.table'\n",
              "3. 'stats'\n",
              "4. 'graphics'\n",
              "5. 'grDevices'\n",
              "6. 'utils'\n",
              "7. 'datasets'\n",
              "8. 'methods'\n",
              "9. 'base'\n",
              "\n",
              "\n",
              "\n",
              "8. 1. 'rpart'\n",
              "2. 'data.table'\n",
              "3. 'stats'\n",
              "4. 'graphics'\n",
              "5. 'grDevices'\n",
              "6. 'utils'\n",
              "7. 'datasets'\n",
              "8. 'methods'\n",
              "9. 'base'\n",
              "\n",
              "\n",
              "\n",
              "9. 1. 'rpart'\n",
              "2. 'data.table'\n",
              "3. 'stats'\n",
              "4. 'graphics'\n",
              "5. 'grDevices'\n",
              "6. 'utils'\n",
              "7. 'datasets'\n",
              "8. 'methods'\n",
              "9. 'base'\n",
              "\n",
              "\n",
              "\n",
              "10. 1. 'rpart'\n",
              "2. 'data.table'\n",
              "3. 'stats'\n",
              "4. 'graphics'\n",
              "5. 'grDevices'\n",
              "6. 'utils'\n",
              "7. 'datasets'\n",
              "8. 'methods'\n",
              "9. 'base'\n",
              "\n",
              "\n",
              "\n",
              "11. 1. 'rpart'\n",
              "2. 'data.table'\n",
              "3. 'stats'\n",
              "4. 'graphics'\n",
              "5. 'grDevices'\n",
              "6. 'utils'\n",
              "7. 'datasets'\n",
              "8. 'methods'\n",
              "9. 'base'\n",
              "\n",
              "\n",
              "\n",
              "12. 1. 'rpart'\n",
              "2. 'data.table'\n",
              "3. 'stats'\n",
              "4. 'graphics'\n",
              "5. 'grDevices'\n",
              "6. 'utils'\n",
              "7. 'datasets'\n",
              "8. 'methods'\n",
              "9. 'base'\n",
              "\n",
              "\n",
              "\n",
              "13. 1. 'rpart'\n",
              "2. 'data.table'\n",
              "3. 'stats'\n",
              "4. 'graphics'\n",
              "5. 'grDevices'\n",
              "6. 'utils'\n",
              "7. 'datasets'\n",
              "8. 'methods'\n",
              "9. 'base'\n",
              "\n",
              "\n",
              "\n",
              "14. 1. 'rpart'\n",
              "2. 'data.table'\n",
              "3. 'stats'\n",
              "4. 'graphics'\n",
              "5. 'grDevices'\n",
              "6. 'utils'\n",
              "7. 'datasets'\n",
              "8. 'methods'\n",
              "9. 'base'\n",
              "\n",
              "\n",
              "\n",
              "15. 1. 'rpart'\n",
              "2. 'data.table'\n",
              "3. 'stats'\n",
              "4. 'graphics'\n",
              "5. 'grDevices'\n",
              "6. 'utils'\n",
              "7. 'datasets'\n",
              "8. 'methods'\n",
              "9. 'base'\n",
              "\n",
              "\n",
              "\n",
              "\n",
              "\n"
            ],
            "text/plain": [
              "[[1]]\n",
              "[1] \"rpart\"      \"data.table\" \"stats\"      \"graphics\"   \"grDevices\" \n",
              "[6] \"utils\"      \"datasets\"   \"methods\"    \"base\"      \n",
              "\n",
              "[[2]]\n",
              "[1] \"rpart\"      \"data.table\" \"stats\"      \"graphics\"   \"grDevices\" \n",
              "[6] \"utils\"      \"datasets\"   \"methods\"    \"base\"      \n",
              "\n",
              "[[3]]\n",
              "[1] \"rpart\"      \"data.table\" \"stats\"      \"graphics\"   \"grDevices\" \n",
              "[6] \"utils\"      \"datasets\"   \"methods\"    \"base\"      \n",
              "\n",
              "[[4]]\n",
              "[1] \"rpart\"      \"data.table\" \"stats\"      \"graphics\"   \"grDevices\" \n",
              "[6] \"utils\"      \"datasets\"   \"methods\"    \"base\"      \n",
              "\n",
              "[[5]]\n",
              "[1] \"rpart\"      \"data.table\" \"stats\"      \"graphics\"   \"grDevices\" \n",
              "[6] \"utils\"      \"datasets\"   \"methods\"    \"base\"      \n",
              "\n",
              "[[6]]\n",
              "[1] \"rpart\"      \"data.table\" \"stats\"      \"graphics\"   \"grDevices\" \n",
              "[6] \"utils\"      \"datasets\"   \"methods\"    \"base\"      \n",
              "\n",
              "[[7]]\n",
              "[1] \"rpart\"      \"data.table\" \"stats\"      \"graphics\"   \"grDevices\" \n",
              "[6] \"utils\"      \"datasets\"   \"methods\"    \"base\"      \n",
              "\n",
              "[[8]]\n",
              "[1] \"rpart\"      \"data.table\" \"stats\"      \"graphics\"   \"grDevices\" \n",
              "[6] \"utils\"      \"datasets\"   \"methods\"    \"base\"      \n",
              "\n",
              "[[9]]\n",
              "[1] \"rpart\"      \"data.table\" \"stats\"      \"graphics\"   \"grDevices\" \n",
              "[6] \"utils\"      \"datasets\"   \"methods\"    \"base\"      \n",
              "\n",
              "[[10]]\n",
              "[1] \"rpart\"      \"data.table\" \"stats\"      \"graphics\"   \"grDevices\" \n",
              "[6] \"utils\"      \"datasets\"   \"methods\"    \"base\"      \n",
              "\n",
              "[[11]]\n",
              "[1] \"rpart\"      \"data.table\" \"stats\"      \"graphics\"   \"grDevices\" \n",
              "[6] \"utils\"      \"datasets\"   \"methods\"    \"base\"      \n",
              "\n",
              "[[12]]\n",
              "[1] \"rpart\"      \"data.table\" \"stats\"      \"graphics\"   \"grDevices\" \n",
              "[6] \"utils\"      \"datasets\"   \"methods\"    \"base\"      \n",
              "\n",
              "[[13]]\n",
              "[1] \"rpart\"      \"data.table\" \"stats\"      \"graphics\"   \"grDevices\" \n",
              "[6] \"utils\"      \"datasets\"   \"methods\"    \"base\"      \n",
              "\n",
              "[[14]]\n",
              "[1] \"rpart\"      \"data.table\" \"stats\"      \"graphics\"   \"grDevices\" \n",
              "[6] \"utils\"      \"datasets\"   \"methods\"    \"base\"      \n",
              "\n",
              "[[15]]\n",
              "[1] \"rpart\"      \"data.table\" \"stats\"      \"graphics\"   \"grDevices\" \n",
              "[6] \"utils\"      \"datasets\"   \"methods\"    \"base\"      \n"
            ]
          },
          "metadata": {},
          "output_type": "display_data"
        },
        {
          "data": {
            "text/plain": [
              "[1] \"2025-08-27 20:18:43 -03\""
            ]
          },
          "metadata": {},
          "output_type": "display_data"
        }
      ],
      "source": [
        "# Versión paralelizable en Windows\n",
        "# Cargar librería necesaria\n",
        "library(parallel)\n",
        "\n",
        "# Función modificada para trabajar con copia local del dataset\n",
        "DosArbolesEstimarGanancia_parallel <- function(semilla, training_pct, param_rpart1, param_rpart2, dataset_original) {\n",
        "  \n",
        "  # Crear copia local para evitar conflictos entre workers\n",
        "  dataset <- copy(dataset_original)\n",
        "  \n",
        "  # fuerzo impresion\n",
        "  print(paste(semilla, Sys.time()))\n",
        "  flush.console()\n",
        "\n",
        "  # particiono estratificadamente el dataset\n",
        "  particionar(dataset,\n",
        "    division = c(training_pct, 100L - training_pct),\n",
        "    agrupa = \"clase_ternaria\",\n",
        "    seed = semilla\n",
        "  )\n",
        "\n",
        "  # genero el modelo 1\n",
        "  modelo1 <- rpart(\"clase_ternaria ~ .\",\n",
        "    data = dataset[fold == 1],\n",
        "    xval = 0,\n",
        "    control = param_rpart1\n",
        "  )\n",
        "\n",
        "  # aplico el modelo a los datos de testing\n",
        "  prediccion1 <- predict(modelo1,\n",
        "    dataset[fold == 2],\n",
        "    type = \"prob\"\n",
        "  )\n",
        "\n",
        "  # calculo la ganancia en testing\n",
        "  ganancia_test1 <- dataset[\n",
        "    fold == 2,\n",
        "    sum(ifelse(prediccion1[, \"BAJA+2\"] > 0.025,\n",
        "      ifelse(clase_ternaria == \"BAJA+2\", 780000, -20000),\n",
        "      0\n",
        "    ))\n",
        "  ]\n",
        "\n",
        "  # escalo la ganancia como si fuera todo el dataset\n",
        "  ganancia_test_normalizada1 <- ganancia_test1 / ((100 - training_pct) / 100)\n",
        "\n",
        "  # genero el modelo 2\n",
        "  modelo2 <- rpart(\"clase_ternaria ~ .\",\n",
        "    data = dataset[fold == 1],\n",
        "    xval = 0,\n",
        "    control = param_rpart2\n",
        "  )\n",
        "\n",
        "  # aplico el modelo a los datos de testing\n",
        "  prediccion2 <- predict(modelo2,\n",
        "    dataset[fold == 2],\n",
        "    type = \"prob\"\n",
        "  )\n",
        "\n",
        "  # calculo la ganancia en testing\n",
        "  ganancia_test2 <- dataset[\n",
        "    fold == 2,\n",
        "    sum(ifelse(prediccion2[, \"BAJA+2\"] > 0.025,\n",
        "      ifelse(clase_ternaria == \"BAJA+2\", 780000, -20000),\n",
        "      0\n",
        "    ))\n",
        "  ]\n",
        "\n",
        "  # escalo la ganancia como si fuera todo el dataset\n",
        "  ganancia_test_normalizada2 <- ganancia_test2 / ((100 - training_pct) / 100)\n",
        "\n",
        "  return(list(\n",
        "    \"semilla\" = semilla,\n",
        "    \"ganancia1\" = ganancia_test_normalizada1,\n",
        "    \"ganancia2\" = ganancia_test_normalizada2\n",
        "  ))\n",
        "}\n",
        "\n",
        "# EJECUCIÓN PARALELA PARA WINDOWS\n",
        "Sys.time()\n",
        "\n",
        "# Crear cluster (dejo un core libre para el sistema)\n",
        "num_cores <- max(1, detectCores() - 1)\n",
        "cl <- makeCluster(num_cores)\n",
        "\n",
        "# Exportar funciones y datos necesarios a todos los workers\n",
        "clusterExport(cl, c(\n",
        "  \"particionar\", \n",
        "  \"DosArbolesEstimarGanancia_parallel\", \n",
        "  \"dataset\", \n",
        "  \"PARAM\"\n",
        "))\n",
        "\n",
        "# Cargar las librerías necesarias en cada worker\n",
        "clusterEvalQ(cl, {\n",
        "  library(data.table)\n",
        "  library(rpart)\n",
        "})\n",
        "\n",
        "# Ejecutar en paralelo\n",
        "salidas <- parLapply(cl, PARAM$semillas, function(semilla) {\n",
        "  DosArbolesEstimarGanancia_parallel(\n",
        "    semilla = semilla,\n",
        "    training_pct = PARAM$training_pct,\n",
        "    param_rpart1 = PARAM$rpart1,\n",
        "    param_rpart2 = PARAM$rpart2,\n",
        "    dataset_original = dataset\n",
        "  )\n",
        "})\n",
        "\n",
        "# IMPORTANTE: Cerrar el cluster para liberar recursos\n",
        "stopCluster(cl)\n",
        "\n",
        "Sys.time()"
      ]
    },
    {
      "cell_type": "code",
      "execution_count": 76,
=======
      "execution_count": null,
>>>>>>> 4c354cd (Actualización del repositorio)
      "metadata": {
        "id": "N0eS1CFFdsE5",
        "vscode": {
          "languageId": "r"
        }
      },
<<<<<<< HEAD
      "outputs": [
        {
          "data": {
            "text/html": [
              "<table class=\"dataframe\">\n",
              "<caption>A data.table: 50 × 3</caption>\n",
              "<thead>\n",
              "\t<tr><th scope=col>semilla</th><th scope=col>ganancia1</th><th scope=col>ganancia2</th></tr>\n",
              "\t<tr><th scope=col>&lt;int&gt;</th><th scope=col>&lt;dbl&gt;</th><th scope=col>&lt;dbl&gt;</th></tr>\n",
              "</thead>\n",
              "<tbody>\n",
              "\t<tr><td>590819</td><td>302600000</td><td>272800000</td></tr>\n",
              "\t<tr><td>526937</td><td>263666667</td><td>262866667</td></tr>\n",
              "\t<tr><td>753937</td><td>296466667</td><td>284733333</td></tr>\n",
              "\t<tr><td>101173</td><td>273933333</td><td>277133333</td></tr>\n",
              "\t<tr><td>715727</td><td>279400000</td><td>252266667</td></tr>\n",
              "\t<tr><td>522959</td><td>295800000</td><td>313866667</td></tr>\n",
              "\t<tr><td>975883</td><td>304800000</td><td>269400000</td></tr>\n",
              "\t<tr><td>703657</td><td>244933333</td><td>224600000</td></tr>\n",
              "\t<tr><td>631469</td><td>257800000</td><td>266933333</td></tr>\n",
              "\t<tr><td>662617</td><td>322933333</td><td>292200000</td></tr>\n",
              "\t<tr><td>552031</td><td>294333333</td><td>307800000</td></tr>\n",
              "\t<tr><td>195281</td><td>295866667</td><td>312333333</td></tr>\n",
              "\t<tr><td>326999</td><td>323733333</td><td>330000000</td></tr>\n",
              "\t<tr><td>452269</td><td>272066667</td><td>247066667</td></tr>\n",
              "\t<tr><td>576221</td><td>323733333</td><td>278200000</td></tr>\n",
              "\t<tr><td>293729</td><td>274400000</td><td>278466667</td></tr>\n",
              "\t<tr><td>658079</td><td>299800000</td><td>327266667</td></tr>\n",
              "\t<tr><td>341461</td><td>291000000</td><td>309400000</td></tr>\n",
              "\t<tr><td>193873</td><td>295466667</td><td>301200000</td></tr>\n",
              "\t<tr><td>961139</td><td>266400000</td><td>279533333</td></tr>\n",
              "\t<tr><td>754513</td><td>300066667</td><td>319933333</td></tr>\n",
              "\t<tr><td>856759</td><td>283733333</td><td>288400000</td></tr>\n",
              "\t<tr><td>402307</td><td>291466667</td><td>281000000</td></tr>\n",
              "\t<tr><td>706417</td><td>317266667</td><td>315200000</td></tr>\n",
              "\t<tr><td>586457</td><td>268666667</td><td>268866667</td></tr>\n",
              "\t<tr><td>260461</td><td>274200000</td><td>302466667</td></tr>\n",
              "\t<tr><td>808373</td><td>284666667</td><td>285666667</td></tr>\n",
              "\t<tr><td>986933</td><td>269266667</td><td>289333333</td></tr>\n",
              "\t<tr><td>251879</td><td>317600000</td><td>325333333</td></tr>\n",
              "\t<tr><td>829453</td><td>329066667</td><td>288200000</td></tr>\n",
              "\t<tr><td>208189</td><td>304333333</td><td>314400000</td></tr>\n",
              "\t<tr><td>690721</td><td>278800000</td><td>272866667</td></tr>\n",
              "\t<tr><td>658117</td><td>273866667</td><td>283533333</td></tr>\n",
              "\t<tr><td>885509</td><td>249733333</td><td>247666667</td></tr>\n",
              "\t<tr><td>816019</td><td>327733333</td><td>310466667</td></tr>\n",
              "\t<tr><td>526739</td><td>297066667</td><td>321933333</td></tr>\n",
              "\t<tr><td>236471</td><td>304066667</td><td>280200000</td></tr>\n",
              "\t<tr><td>147089</td><td>285200000</td><td>273200000</td></tr>\n",
              "\t<tr><td>550607</td><td>300933333</td><td>297666667</td></tr>\n",
              "\t<tr><td>249863</td><td>298733333</td><td>304600000</td></tr>\n",
              "\t<tr><td>398369</td><td>270266667</td><td>269000000</td></tr>\n",
              "\t<tr><td>866857</td><td>284333333</td><td>278666667</td></tr>\n",
              "\t<tr><td>864781</td><td>293933333</td><td>306200000</td></tr>\n",
              "\t<tr><td>518831</td><td>309400000</td><td>294733333</td></tr>\n",
              "\t<tr><td>170081</td><td>321000000</td><td>330933333</td></tr>\n",
              "\t<tr><td>111653</td><td>284400000</td><td>293200000</td></tr>\n",
              "\t<tr><td>157627</td><td>283933333</td><td>281466667</td></tr>\n",
              "\t<tr><td>381569</td><td>302733333</td><td>326666667</td></tr>\n",
              "\t<tr><td>674903</td><td>293200000</td><td>290466667</td></tr>\n",
              "\t<tr><td>858503</td><td>312066667</td><td>300266667</td></tr>\n",
              "</tbody>\n",
              "</table>\n"
            ],
            "text/latex": [
              "A data.table: 50 × 3\n",
              "\\begin{tabular}{lll}\n",
              " semilla & ganancia1 & ganancia2\\\\\n",
              " <int> & <dbl> & <dbl>\\\\\n",
              "\\hline\n",
              "\t 590819 & 302600000 & 272800000\\\\\n",
              "\t 526937 & 263666667 & 262866667\\\\\n",
              "\t 753937 & 296466667 & 284733333\\\\\n",
              "\t 101173 & 273933333 & 277133333\\\\\n",
              "\t 715727 & 279400000 & 252266667\\\\\n",
              "\t 522959 & 295800000 & 313866667\\\\\n",
              "\t 975883 & 304800000 & 269400000\\\\\n",
              "\t 703657 & 244933333 & 224600000\\\\\n",
              "\t 631469 & 257800000 & 266933333\\\\\n",
              "\t 662617 & 322933333 & 292200000\\\\\n",
              "\t 552031 & 294333333 & 307800000\\\\\n",
              "\t 195281 & 295866667 & 312333333\\\\\n",
              "\t 326999 & 323733333 & 330000000\\\\\n",
              "\t 452269 & 272066667 & 247066667\\\\\n",
              "\t 576221 & 323733333 & 278200000\\\\\n",
              "\t 293729 & 274400000 & 278466667\\\\\n",
              "\t 658079 & 299800000 & 327266667\\\\\n",
              "\t 341461 & 291000000 & 309400000\\\\\n",
              "\t 193873 & 295466667 & 301200000\\\\\n",
              "\t 961139 & 266400000 & 279533333\\\\\n",
              "\t 754513 & 300066667 & 319933333\\\\\n",
              "\t 856759 & 283733333 & 288400000\\\\\n",
              "\t 402307 & 291466667 & 281000000\\\\\n",
              "\t 706417 & 317266667 & 315200000\\\\\n",
              "\t 586457 & 268666667 & 268866667\\\\\n",
              "\t 260461 & 274200000 & 302466667\\\\\n",
              "\t 808373 & 284666667 & 285666667\\\\\n",
              "\t 986933 & 269266667 & 289333333\\\\\n",
              "\t 251879 & 317600000 & 325333333\\\\\n",
              "\t 829453 & 329066667 & 288200000\\\\\n",
              "\t 208189 & 304333333 & 314400000\\\\\n",
              "\t 690721 & 278800000 & 272866667\\\\\n",
              "\t 658117 & 273866667 & 283533333\\\\\n",
              "\t 885509 & 249733333 & 247666667\\\\\n",
              "\t 816019 & 327733333 & 310466667\\\\\n",
              "\t 526739 & 297066667 & 321933333\\\\\n",
              "\t 236471 & 304066667 & 280200000\\\\\n",
              "\t 147089 & 285200000 & 273200000\\\\\n",
              "\t 550607 & 300933333 & 297666667\\\\\n",
              "\t 249863 & 298733333 & 304600000\\\\\n",
              "\t 398369 & 270266667 & 269000000\\\\\n",
              "\t 866857 & 284333333 & 278666667\\\\\n",
              "\t 864781 & 293933333 & 306200000\\\\\n",
              "\t 518831 & 309400000 & 294733333\\\\\n",
              "\t 170081 & 321000000 & 330933333\\\\\n",
              "\t 111653 & 284400000 & 293200000\\\\\n",
              "\t 157627 & 283933333 & 281466667\\\\\n",
              "\t 381569 & 302733333 & 326666667\\\\\n",
              "\t 674903 & 293200000 & 290466667\\\\\n",
              "\t 858503 & 312066667 & 300266667\\\\\n",
              "\\end{tabular}\n"
            ],
            "text/markdown": [
              "\n",
              "A data.table: 50 × 3\n",
              "\n",
              "| semilla &lt;int&gt; | ganancia1 &lt;dbl&gt; | ganancia2 &lt;dbl&gt; |\n",
              "|---|---|---|\n",
              "| 590819 | 302600000 | 272800000 |\n",
              "| 526937 | 263666667 | 262866667 |\n",
              "| 753937 | 296466667 | 284733333 |\n",
              "| 101173 | 273933333 | 277133333 |\n",
              "| 715727 | 279400000 | 252266667 |\n",
              "| 522959 | 295800000 | 313866667 |\n",
              "| 975883 | 304800000 | 269400000 |\n",
              "| 703657 | 244933333 | 224600000 |\n",
              "| 631469 | 257800000 | 266933333 |\n",
              "| 662617 | 322933333 | 292200000 |\n",
              "| 552031 | 294333333 | 307800000 |\n",
              "| 195281 | 295866667 | 312333333 |\n",
              "| 326999 | 323733333 | 330000000 |\n",
              "| 452269 | 272066667 | 247066667 |\n",
              "| 576221 | 323733333 | 278200000 |\n",
              "| 293729 | 274400000 | 278466667 |\n",
              "| 658079 | 299800000 | 327266667 |\n",
              "| 341461 | 291000000 | 309400000 |\n",
              "| 193873 | 295466667 | 301200000 |\n",
              "| 961139 | 266400000 | 279533333 |\n",
              "| 754513 | 300066667 | 319933333 |\n",
              "| 856759 | 283733333 | 288400000 |\n",
              "| 402307 | 291466667 | 281000000 |\n",
              "| 706417 | 317266667 | 315200000 |\n",
              "| 586457 | 268666667 | 268866667 |\n",
              "| 260461 | 274200000 | 302466667 |\n",
              "| 808373 | 284666667 | 285666667 |\n",
              "| 986933 | 269266667 | 289333333 |\n",
              "| 251879 | 317600000 | 325333333 |\n",
              "| 829453 | 329066667 | 288200000 |\n",
              "| 208189 | 304333333 | 314400000 |\n",
              "| 690721 | 278800000 | 272866667 |\n",
              "| 658117 | 273866667 | 283533333 |\n",
              "| 885509 | 249733333 | 247666667 |\n",
              "| 816019 | 327733333 | 310466667 |\n",
              "| 526739 | 297066667 | 321933333 |\n",
              "| 236471 | 304066667 | 280200000 |\n",
              "| 147089 | 285200000 | 273200000 |\n",
              "| 550607 | 300933333 | 297666667 |\n",
              "| 249863 | 298733333 | 304600000 |\n",
              "| 398369 | 270266667 | 269000000 |\n",
              "| 866857 | 284333333 | 278666667 |\n",
              "| 864781 | 293933333 | 306200000 |\n",
              "| 518831 | 309400000 | 294733333 |\n",
              "| 170081 | 321000000 | 330933333 |\n",
              "| 111653 | 284400000 | 293200000 |\n",
              "| 157627 | 283933333 | 281466667 |\n",
              "| 381569 | 302733333 | 326666667 |\n",
              "| 674903 | 293200000 | 290466667 |\n",
              "| 858503 | 312066667 | 300266667 |\n",
              "\n"
            ],
            "text/plain": [
              "   semilla ganancia1 ganancia2\n",
              "1  590819  302600000 272800000\n",
              "2  526937  263666667 262866667\n",
              "3  753937  296466667 284733333\n",
              "4  101173  273933333 277133333\n",
              "5  715727  279400000 252266667\n",
              "6  522959  295800000 313866667\n",
              "7  975883  304800000 269400000\n",
              "8  703657  244933333 224600000\n",
              "9  631469  257800000 266933333\n",
              "10 662617  322933333 292200000\n",
              "11 552031  294333333 307800000\n",
              "12 195281  295866667 312333333\n",
              "13 326999  323733333 330000000\n",
              "14 452269  272066667 247066667\n",
              "15 576221  323733333 278200000\n",
              "16 293729  274400000 278466667\n",
              "17 658079  299800000 327266667\n",
              "18 341461  291000000 309400000\n",
              "19 193873  295466667 301200000\n",
              "20 961139  266400000 279533333\n",
              "21 754513  300066667 319933333\n",
              "22 856759  283733333 288400000\n",
              "23 402307  291466667 281000000\n",
              "24 706417  317266667 315200000\n",
              "25 586457  268666667 268866667\n",
              "26 260461  274200000 302466667\n",
              "27 808373  284666667 285666667\n",
              "28 986933  269266667 289333333\n",
              "29 251879  317600000 325333333\n",
              "30 829453  329066667 288200000\n",
              "31 208189  304333333 314400000\n",
              "32 690721  278800000 272866667\n",
              "33 658117  273866667 283533333\n",
              "34 885509  249733333 247666667\n",
              "35 816019  327733333 310466667\n",
              "36 526739  297066667 321933333\n",
              "37 236471  304066667 280200000\n",
              "38 147089  285200000 273200000\n",
              "39 550607  300933333 297666667\n",
              "40 249863  298733333 304600000\n",
              "41 398369  270266667 269000000\n",
              "42 866857  284333333 278666667\n",
              "43 864781  293933333 306200000\n",
              "44 518831  309400000 294733333\n",
              "45 170081  321000000 330933333\n",
              "46 111653  284400000 293200000\n",
              "47 157627  283933333 281466667\n",
              "48 381569  302733333 326666667\n",
              "49 674903  293200000 290466667\n",
              "50 858503  312066667 300266667"
            ]
          },
          "metadata": {},
          "output_type": "display_data"
        }
      ],
=======
      "outputs": [],
>>>>>>> 4c354cd (Actualización del repositorio)
      "source": [
        "# paso la lista a vector\n",
        "tb_salida <- rbindlist(salidas)\n",
        "tb_salida"
      ]
    },
    {
      "cell_type": "code",
<<<<<<< HEAD
      "execution_count": 77,
=======
      "execution_count": null,
>>>>>>> 4c354cd (Actualización del repositorio)
      "metadata": {
        "id": "6vf28ujAdsE6",
        "vscode": {
          "languageId": "r"
        }
      },
<<<<<<< HEAD
      "outputs": [
        {
          "data": {
            "image/png": "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",
            "text/plain": [
              "plot without title"
            ]
          },
          "metadata": {
            "image/png": {
              "height": 420,
              "width": 420
            }
          },
          "output_type": "display_data"
        }
      ],
=======
      "outputs": [],
>>>>>>> 4c354cd (Actualización del repositorio)
      "source": [
        "grafico <- ggplot( tb_salida, aes(x=ganancia1), fill=\"green\", color=\"green\") + geom_density(alpha=0.25)  +\n",
        "             geom_density(data=tb_salida, aes(x=ganancia2), fill=\"purple\", color=\"purple\",  alpha=0.10)\n",
        "\n",
        "print(grafico)"
      ]
    },
    {
      "cell_type": "code",
<<<<<<< HEAD
      "execution_count": 78,
=======
      "execution_count": null,
>>>>>>> 4c354cd (Actualización del repositorio)
      "metadata": {
        "id": "TA9lLa6-dsE6",
        "vscode": {
          "languageId": "r"
        }
      },
<<<<<<< HEAD
      "outputs": [
        {
          "data": {
            "text/html": [
              "<strong>pdf:</strong> 2"
            ],
            "text/latex": [
              "\\textbf{pdf:} 2"
            ],
            "text/markdown": [
              "**pdf:** 2"
            ],
            "text/plain": [
              "pdf \n",
              "  2 "
            ]
          },
          "metadata": {},
          "output_type": "display_data"
        }
      ],
=======
      "outputs": [],
>>>>>>> 4c354cd (Actualización del repositorio)
      "source": [
        "# imprimo en un .pdf  que va a la carpeta del experimento\n",
        "pdf(\"densidad_dos.pdf\")\n",
        "print(grafico)\n",
        "dev.off()"
      ]
    },
    {
      "cell_type": "code",
<<<<<<< HEAD
      "execution_count": 79,
=======
      "execution_count": null,
>>>>>>> 4c354cd (Actualización del repositorio)
      "metadata": {
        "id": "xAOpyZTqdsE7",
        "vscode": {
          "languageId": "r"
        }
      },
<<<<<<< HEAD
      "outputs": [
        {
          "name": "stdout",
          "output_type": "stream",
          "text": [
            "      arbol1    arbol2\n",
            "       <num>     <num>\n",
            "1: 291817333 290612000\n"
          ]
        }
      ],
=======
      "outputs": [],
>>>>>>> 4c354cd (Actualización del repositorio)
      "source": [
        "# medias de las ganancias\n",
        "print( tb_salida[ , list( \"arbol1\" = mean( ganancia1),  \"arbol2\" = mean(ganancia2) ) ] )\n"
      ]
    },
    {
      "cell_type": "code",
<<<<<<< HEAD
      "execution_count": 80,
=======
      "execution_count": null,
>>>>>>> 4c354cd (Actualización del repositorio)
      "metadata": {
        "id": "8rdPIcfzgob7",
        "vscode": {
          "languageId": "r"
        }
      },
<<<<<<< HEAD
      "outputs": [
        {
          "name": "stdout",
          "output_type": "stream",
          "text": [
            "   prob( m1 > m2)\n",
            "            <num>\n",
            "1:           0.48\n"
          ]
        }
      ],
=======
      "outputs": [],
>>>>>>> 4c354cd (Actualización del repositorio)
      "source": [
        "# probabilidad que m1 sea mayor a m2\n",
        "print( tb_salida[ , list( \"prob( m1 > m2)\" = sum(ganancia1 > ganancia2 )/ .N ) ]  )"
      ]
    },
    {
      "cell_type": "markdown",
      "metadata": {
        "id": "nNNJWYRadsE7"
      },
      "source": [
        "### Acciones a realizar\n",
        "* Reportar la  los resultados en la planilla colaborativa hoja  **C2-dosBuenos**\n"
      ]
    },
    {
      "cell_type": "markdown",
      "metadata": {
        "id": "LTBEq6SEdsE8"
      },
      "source": [
        "\n",
        "\n",
        "---\n",
        "\n"
      ]
    },
    {
      "cell_type": "markdown",
      "metadata": {
        "id": "ebcTZX7Sg1Le"
      },
      "source": []
    },
    {
      "cell_type": "markdown",
      "metadata": {
        "id": "RAtn4x6Bg1u1"
      },
      "source": [
        "# 7 Test de Wilcoxon\n",
        "## Clase 02  Experimento 7"
      ]
    },
    {
      "cell_type": "markdown",
      "metadata": {
<<<<<<< HEAD
=======
        "id": "RWxjnSsVg_ol"
      },
      "source": []
    },
    {
      "cell_type": "markdown",
      "metadata": {
>>>>>>> 4c354cd (Actualización del repositorio)
        "id": "Gf0LF3ywhAEU"
      },
      "source": [
        "## 7.1  Objetivos\n",
        "\n",
        "¿Como calcular la cantidad mínima de semillas que hacen falta para tener cierta certeza que un modelo es superior a otro?"
      ]
    },
    {
      "cell_type": "markdown",
      "metadata": {
        "id": "k4PJGTDViZne"
      },
      "source": [
        "## 7.2  Introduccion\n",
        "\n",
        "| Hiperparámetro | Arbol 1 | Arbol 2 |\n",
        "| --- | --: |  ---: |\n",
        "| cp | -1 | -1 |\n",
        "|minsplit | 170 | 250 |\n",
        "|minbucket | 70 | 125 |\n",
        "|maxdepth | 7 | 20 |\n",
        "\n",
        "<br>\n",
        "<br>\n",
        "\n",
        "\n",
        "| ordinal | semilla | ganancia1 | ganancia2 | p-value |\n",
        "| --- | --- |  --- |  --- |  --- |\n",
        "| 1 |378821 | 301,800,000 | 252,666,667 | 1.000 |\n",
        "| 2 | 964333  | 314,800,000  | 224,266,667 | 0.500 |\n",
        "| 3 | 187049 | 326,600,000 | 278,000,000 | 0.250 |\n",
        "| 4 | 205151 | 299,733,333 | 235,266,667 | 0.125 |\n",
        "| 5 | 813697 | 275,333,333 | 205,600,000 |  0.063 |\n",
        "| 6 | 344719 | 290,800,000 | 251,533,333 | 0.031 |\n",
        "|7 |127217  | 268,200,000 | 219,800,000 |0.016 |\n",
        "| 8 | 464371 | 271,866,667 | 270,800,000 | 0.008 |\n",
        "| 9 | 645137 | 252,400,000| 261,733,333 | 0.004|\n",
        "\n",
        "\n"
      ]
    },
    {
      "cell_type": "markdown",
      "metadata": {
        "id": "gAeSRdWRhg61"
      },
      "source": [
        "## 7.3 Codigo Test de Wilcoxon"
      ]
    },
    {
      "cell_type": "code",
<<<<<<< HEAD
      "execution_count": 81,
=======
      "execution_count": null,
>>>>>>> 4c354cd (Actualización del repositorio)
      "metadata": {
        "id": "6r5M0J0HdsE8",
        "vscode": {
          "languageId": "r"
        }
      },
<<<<<<< HEAD
      "outputs": [
        {
          "data": {
            "text/plain": [
              "\n",
              "\tWilcoxon signed rank exact test\n",
              "\n",
              "data:  c(301800000) and c(252666667)\n",
              "V = 1, p-value = 1\n",
              "alternative hypothesis: true location shift is not equal to 0\n"
            ]
          },
          "metadata": {},
          "output_type": "display_data"
        }
      ],
=======
      "outputs": [],
>>>>>>> 4c354cd (Actualización del repositorio)
      "source": [
        "# 1 sola ganancia\n",
        "wilcox.test(\n",
        "  c(301800000),\n",
        "  c(252666667),\n",
        "  paired = TRUE\n",
        ")\n"
      ]
    },
    {
      "cell_type": "code",
<<<<<<< HEAD
      "execution_count": 82,
=======
      "execution_count": null,
>>>>>>> 4c354cd (Actualización del repositorio)
      "metadata": {
        "id": "1pscqL9vLzYE",
        "vscode": {
          "languageId": "r"
        }
      },
<<<<<<< HEAD
      "outputs": [
        {
          "data": {
            "text/plain": [
              "\n",
              "\tWilcoxon signed rank exact test\n",
              "\n",
              "data:  c(301800000, 314800000) and c(252666667, 224266667)\n",
              "V = 3, p-value = 0.5\n",
              "alternative hypothesis: true location shift is not equal to 0\n"
            ]
          },
          "metadata": {},
          "output_type": "display_data"
        }
      ],
=======
      "outputs": [],
>>>>>>> 4c354cd (Actualización del repositorio)
      "source": [
        "# 2 ganancias\n",
        "wilcox.test(\n",
        "  c(301800000, 314800000),\n",
        "  c(252666667, 224266667),\n",
        "  paired = TRUE\n",
        ")\n"
      ]
    },
    {
      "cell_type": "code",
<<<<<<< HEAD
      "execution_count": 83,
=======
      "execution_count": null,
>>>>>>> 4c354cd (Actualización del repositorio)
      "metadata": {
        "id": "p3f_mtKwhSHA",
        "vscode": {
          "languageId": "r"
        }
      },
<<<<<<< HEAD
      "outputs": [
        {
          "data": {
            "text/plain": [
              "\n",
              "\tWilcoxon signed rank exact test\n",
              "\n",
              "data:  c(301800000, 314800000, 326600000) and c(252666667, 224266667, 2.78e+08)\n",
              "V = 6, p-value = 0.25\n",
              "alternative hypothesis: true location shift is not equal to 0\n"
            ]
          },
          "metadata": {},
          "output_type": "display_data"
        }
      ],
=======
      "outputs": [],
>>>>>>> 4c354cd (Actualización del repositorio)
      "source": [
        "# 3 ganancias\n",
        "wilcox.test(\n",
        "  c(301800000, 314800000, 326600000),\n",
        "  c(252666667, 224266667, 278000000),\n",
        "  paired = TRUE\n",
        ")"
      ]
    },
    {
      "cell_type": "code",
<<<<<<< HEAD
      "execution_count": 84,
=======
      "execution_count": null,
>>>>>>> 4c354cd (Actualización del repositorio)
      "metadata": {
        "id": "-ijX69r9hT6Z",
        "vscode": {
          "languageId": "r"
        }
      },
<<<<<<< HEAD
      "outputs": [
        {
          "data": {
            "text/plain": [
              "\n",
              "\tWilcoxon signed rank exact test\n",
              "\n",
              "data:  c(301800000, 314800000, 326600000, 299733333) and c(252666667, 224266667, 2.78e+08, 235266667)\n",
              "V = 10, p-value = 0.125\n",
              "alternative hypothesis: true location shift is not equal to 0\n"
            ]
          },
          "metadata": {},
          "output_type": "display_data"
        }
      ],
=======
      "outputs": [],
>>>>>>> 4c354cd (Actualización del repositorio)
      "source": [
        "# 4 ganancias\n",
        "wilcox.test(\n",
        "  c(301800000, 314800000, 326600000, 299733333),\n",
        "  c(252666667, 224266667, 278000000, 235266667),\n",
        "  paired = TRUE\n",
        ")\n"
      ]
    },
    {
      "cell_type": "code",
<<<<<<< HEAD
      "execution_count": 85,
=======
      "execution_count": null,
>>>>>>> 4c354cd (Actualización del repositorio)
      "metadata": {
        "id": "X9J_CHGehVfr",
        "vscode": {
          "languageId": "r"
        }
      },
<<<<<<< HEAD
      "outputs": [
        {
          "data": {
            "text/plain": [
              "\n",
              "\tWilcoxon signed rank exact test\n",
              "\n",
              "data:  c(301800000, 314800000, 326600000, 299733333, 275333333) and c(252666667, 224266667, 2.78e+08, 235266667, 205600000)\n",
              "V = 15, p-value = 0.0625\n",
              "alternative hypothesis: true location shift is not equal to 0\n"
            ]
          },
          "metadata": {},
          "output_type": "display_data"
        }
      ],
=======
      "outputs": [],
>>>>>>> 4c354cd (Actualización del repositorio)
      "source": [
        "# 5 ganancias\n",
        "wilcox.test(\n",
        "  c(301800000, 314800000, 326600000, 299733333, 275333333),\n",
        "  c(252666667, 224266667, 278000000, 235266667, 205600000),\n",
        "  paired = TRUE\n",
        ")"
      ]
    },
    {
      "cell_type": "code",
<<<<<<< HEAD
      "execution_count": 86,
=======
      "execution_count": null,
>>>>>>> 4c354cd (Actualización del repositorio)
      "metadata": {
        "id": "H3CNNonOhXp0",
        "vscode": {
          "languageId": "r"
        }
      },
<<<<<<< HEAD
      "outputs": [
        {
          "data": {
            "text/plain": [
              "\n",
              "\tWilcoxon signed rank exact test\n",
              "\n",
              "data:  c(301800000, 314800000, 326600000, 299733333, 275333333, 290800000) and c(252666667, 224266667, 2.78e+08, 235266667, 205600000, 251533333)\n",
              "V = 21, p-value = 0.03125\n",
              "alternative hypothesis: true location shift is not equal to 0\n"
            ]
          },
          "metadata": {},
          "output_type": "display_data"
        }
      ],
=======
      "outputs": [],
>>>>>>> 4c354cd (Actualización del repositorio)
      "source": [
        "# 6 ganancias\n",
        "wilcox.test(\n",
        "  c(301800000, 314800000, 326600000, 299733333, 275333333, 290800000),\n",
        "  c(252666667, 224266667, 278000000, 235266667, 205600000, 251533333),\n",
        "  paired = TRUE\n",
        ")"
      ]
    },
    {
      "cell_type": "code",
<<<<<<< HEAD
      "execution_count": 87,
=======
      "execution_count": null,
>>>>>>> 4c354cd (Actualización del repositorio)
      "metadata": {
        "id": "NTW8kwY8hamz",
        "vscode": {
          "languageId": "r"
        }
      },
<<<<<<< HEAD
      "outputs": [
        {
          "data": {
            "text/plain": [
              "\n",
              "\tWilcoxon signed rank exact test\n",
              "\n",
              "data:  c(301800000, 314800000, 326600000, 299733333, 275333333, 290800000, 268200000) and c(252666667, 224266667, 2.78e+08, 235266667, 205600000, 251533333, 219800000)\n",
              "V = 28, p-value = 0.01563\n",
              "alternative hypothesis: true location shift is not equal to 0\n"
            ]
          },
          "metadata": {},
          "output_type": "display_data"
        }
      ],
=======
      "outputs": [],
>>>>>>> 4c354cd (Actualización del repositorio)
      "source": [
        "# Finalmente el p-value es  0.03125  < 0.05\n",
        "# hicieron falta  SEIS semillas, seis ganancias, para\n",
        "#   afirmar que el modelo 1 es superior al modelo 2\n",
        "\n",
        "# 7 ganancias\n",
        "wilcox.test(\n",
        "  c(301800000, 314800000, 326600000, 299733333, 275333333, 290800000, 268200000),\n",
        "  c(252666667, 224266667, 278000000, 235266667, 205600000, 251533333, 219800000),\n",
        "  paired = TRUE\n",
        ")\n"
      ]
    },
    {
      "cell_type": "code",
<<<<<<< HEAD
      "execution_count": 88,
=======
      "execution_count": null,
>>>>>>> 4c354cd (Actualización del repositorio)
      "metadata": {
        "id": "Xks918w8hcgC",
        "vscode": {
          "languageId": "r"
        }
      },
<<<<<<< HEAD
      "outputs": [
        {
          "data": {
            "text/plain": [
              "\n",
              "\tWilcoxon signed rank exact test\n",
              "\n",
              "data:  c(301800000, 314800000, 326600000, 299733333, 275333333, 290800000, 268200000, 271866667) and c(252666667, 224266667, 2.78e+08, 235266667, 205600000, 251533333, 219800000, 270800000)\n",
              "V = 36, p-value = 0.007813\n",
              "alternative hypothesis: true location shift is not equal to 0\n"
            ]
          },
          "metadata": {},
          "output_type": "display_data"
        }
      ],
=======
      "outputs": [],
>>>>>>> 4c354cd (Actualización del repositorio)
      "source": [
        "# 8 ganancias\n",
        "wilcox.test(\n",
        "  c(301800000, 314800000, 326600000, 299733333, 275333333, 290800000, 268200000, 271866667),\n",
        "  c(252666667, 224266667, 278000000, 235266667, 205600000, 251533333, 219800000, 270800000),\n",
        "  paired = TRUE\n",
        ")\n"
      ]
    },
    {
      "cell_type": "code",
<<<<<<< HEAD
      "execution_count": 89,
=======
      "execution_count": null,
>>>>>>> 4c354cd (Actualización del repositorio)
      "metadata": {
        "id": "5x8L1PMGhdJR",
        "vscode": {
          "languageId": "r"
        }
      },
<<<<<<< HEAD
      "outputs": [
        {
          "data": {
            "text/plain": [
              "\n",
              "\tWilcoxon signed rank exact test\n",
              "\n",
              "data:  c(301800000, 314800000, 326600000, 299733333, 275333333, 290800000, 268200000, 271866667, 252400000) and c(252666667, 224266667, 2.78e+08, 235266667, 205600000, 251533333, 219800000, 270800000, 261733333)\n",
              "V = 43, p-value = 0.01172\n",
              "alternative hypothesis: true location shift is not equal to 0\n"
            ]
          },
          "metadata": {},
          "output_type": "display_data"
        }
      ],
=======
      "outputs": [],
>>>>>>> 4c354cd (Actualización del repositorio)
      "source": [
        "# 9 ganancias\n",
        "wilcox.test(\n",
        "  c(301800000, 314800000, 326600000, 299733333, 275333333, 290800000, 268200000, 271866667, 252400000),\n",
        "  c(252666667, 224266667, 278000000, 235266667, 205600000, 251533333, 219800000, 270800000, 261733333),\n",
        "  paired = TRUE\n",
        ")"
      ]
    },
    {
      "cell_type": "markdown",
      "metadata": {
        "id": "Qjay2WBIkhNm"
      },
      "source": [
        "\n",
        "\n",
        "---\n",
        "\n"
      ]
    },
    {
      "cell_type": "markdown",
      "metadata": {
        "id": "g2aqxlCIk3fk"
      },
      "source": [
        "# 8 Comparando automaticamente modelos con test de Wilcoxon\n",
        "## Clase 02  Experimento 8"
      ]
    },
    {
      "cell_type": "markdown",
      "metadata": {
<<<<<<< HEAD
=======
        "id": "FhCY4sH8k3fw"
      },
      "source": []
    },
    {
      "cell_type": "markdown",
      "metadata": {
>>>>>>> 4c354cd (Actualización del repositorio)
        "id": "a_ZVBKBHk3fx"
      },
      "source": [
        "## 8.1  Objetivos\n",
        "\n",
        "Proveer un script que permita comparar dos arboles de decisión con la librería rpart utilizando la menor cantidad de cómputo que permita el Test de Wilxcoxon"
      ]
    },
    {
      "cell_type": "markdown",
      "metadata": {
        "id": "qCd56L0Ik3fx"
      },
      "source": [
        "## 8.2  Introduccion\n",
        "\n",
        "| Hiperparámetro | Arbol 1 | Arbol 2 |\n",
        "| --- | --- |  --- |\n",
        "| cp | -1 | -1 |\n",
        "|minsplit | 1050 | 650 |\n",
        "|minbucket | 550 | 300 |\n",
        "|maxdepth |67 | 6 |\n",
        "\n",
        "\n"
      ]
    },
    {
      "cell_type": "markdown",
      "metadata": {
        "id": "NBtQsG3vk3fx"
      },
      "source": [
        "## 8.3 Codigo comparacion automatica Wilcoxon"
      ]
    },
    {
      "cell_type": "markdown",
      "metadata": {
        "id": "-ARzDPORlpG6"
      },
      "source": [
        "Esta parte se debe correr con el runtime en lenguaje **R** Ir al menu, Runtime -> Change Runtime Tipe -> Runtime type -> R"
      ]
    },
    {
      "cell_type": "markdown",
      "metadata": {
        "id": "-Sy-sLMXlpHI"
      },
      "source": [
        "limpio el ambiente de R"
      ]
    },
    {
      "cell_type": "code",
<<<<<<< HEAD
      "execution_count": 90,
=======
      "execution_count": null,
>>>>>>> 4c354cd (Actualización del repositorio)
      "metadata": {
        "id": "ZpST7lcHlpHI",
        "vscode": {
          "languageId": "r"
        }
      },
<<<<<<< HEAD
      "outputs": [
        {
          "data": {
            "text/html": [
              "<table class=\"dataframe\">\n",
              "<caption>A matrix: 2 × 6 of type dbl</caption>\n",
              "<thead>\n",
              "\t<tr><th></th><th scope=col>used</th><th scope=col>(Mb)</th><th scope=col>gc trigger</th><th scope=col>(Mb)</th><th scope=col>max used</th><th scope=col>(Mb)</th></tr>\n",
              "</thead>\n",
              "<tbody>\n",
              "\t<tr><th scope=row>Ncells</th><td> 1353403</td><td> 72.3</td><td>  2238977</td><td> 119.6</td><td>  2238977</td><td> 119.6</td></tr>\n",
              "\t<tr><th scope=row>Vcells</th><td>40036525</td><td>305.5</td><td>448893968</td><td>3424.8</td><td>986718250</td><td>7528.1</td></tr>\n",
              "</tbody>\n",
              "</table>\n"
            ],
            "text/latex": [
              "A matrix: 2 × 6 of type dbl\n",
              "\\begin{tabular}{r|llllll}\n",
              "  & used & (Mb) & gc trigger & (Mb) & max used & (Mb)\\\\\n",
              "\\hline\n",
              "\tNcells &  1353403 &  72.3 &   2238977 &  119.6 &   2238977 &  119.6\\\\\n",
              "\tVcells & 40036525 & 305.5 & 448893968 & 3424.8 & 986718250 & 7528.1\\\\\n",
              "\\end{tabular}\n"
            ],
            "text/markdown": [
              "\n",
              "A matrix: 2 × 6 of type dbl\n",
              "\n",
              "| <!--/--> | used | (Mb) | gc trigger | (Mb) | max used | (Mb) |\n",
              "|---|---|---|---|---|---|---|\n",
              "| Ncells |  1353403 |  72.3 |   2238977 |  119.6 |   2238977 |  119.6 |\n",
              "| Vcells | 40036525 | 305.5 | 448893968 | 3424.8 | 986718250 | 7528.1 |\n",
              "\n"
            ],
            "text/plain": [
              "       used     (Mb)  gc trigger (Mb)   max used  (Mb)  \n",
              "Ncells  1353403  72.3   2238977   119.6   2238977  119.6\n",
              "Vcells 40036525 305.5 448893968  3424.8 986718250 7528.1"
            ]
          },
          "metadata": {},
          "output_type": "display_data"
        }
      ],
=======
      "outputs": [],
>>>>>>> 4c354cd (Actualización del repositorio)
      "source": [
        "# limpio la memoria\n",
        "rm(list=ls(all.names=TRUE)) # remove all objects\n",
        "gc(full=TRUE, verbose=FALSE) # garbage collection"
      ]
    },
    {
      "cell_type": "markdown",
      "metadata": {
        "id": "jHhAx3cvlpHJ"
      },
      "source": [
        "* Instalacion de la libreria  rpart.plot  para dibujar el arbol\n",
        "* invocacion de las librerias  **data.table** y  **rpart**"
      ]
    },
    {
      "cell_type": "code",
<<<<<<< HEAD
      "execution_count": 91,
=======
      "execution_count": null,
>>>>>>> 4c354cd (Actualización del repositorio)
      "metadata": {
        "id": "cbPnXeeqlpHJ",
        "vscode": {
          "languageId": "r"
        }
      },
      "outputs": [],
      "source": [
        "# cargo las librerias que necesito\n",
        "require(\"data.table\")\n",
        "require(\"rpart\")\n",
        "require(\"parallel\")\n",
        "\n",
        "if(!require(\"R.utils\")) install.packages(\"R.utils\")\n",
        "require(\"R.utils\")\n",
        "\n",
        "if (!require(\"primes\")) install.packages(\"primes\")\n",
        "require(\"primes\")\n",
        "\n",
        "require(\"ggplot2\")"
      ]
    },
    {
      "cell_type": "markdown",
      "metadata": {
        "id": "_GQk_NEUlpHK"
      },
      "source": [
        "###  Accion a Realizar\n",
        "PARAM$semilla_primigenia  debe reemplazarse por SU primer semilla"
      ]
    },
    {
      "cell_type": "code",
<<<<<<< HEAD
      "execution_count": 92,
=======
      "execution_count": null,
>>>>>>> 4c354cd (Actualización del repositorio)
      "metadata": {
        "id": "Do801PIHlpHK",
        "vscode": {
          "languageId": "r"
        }
      },
      "outputs": [],
      "source": [
        "PARAM <- list()\n",
        "PARAM$semilla_primigenia <- 200003\n",
        "PARAM$qsemillas_tope <- 50\n",
        "PARAM$training_pct <- 70L     # entre 1 y 100\n"
      ]
    },
    {
      "cell_type": "code",
<<<<<<< HEAD
      "execution_count": 93,
=======
      "execution_count": null,
>>>>>>> 4c354cd (Actualización del repositorio)
      "metadata": {
        "id": "KlC7gTc7lpHK",
        "vscode": {
          "languageId": "r"
        }
      },
      "outputs": [],
      "source": [
        "# los dos arboles\n",
        "PARAM$rpart1 <- list (\n",
        "  \"cp\" = -1,\n",
        "  \"minsplit\" = 800,\n",
        "  \"minbucket\" = 400,\n",
        "  \"maxdepth\" = 7\n",
        ")\n",
        "\n",
        "\n",
        "PARAM$rpart2 <- list (\n",
        "  \"cp\" = -1,\n",
        "  \"minsplit\" = 650,\n",
        "  \"minbucket\" = 300,\n",
        "  \"maxdepth\" = 6\n",
        ")\n"
      ]
    },
    {
      "cell_type": "code",
<<<<<<< HEAD
      "execution_count": 94,
=======
      "execution_count": null,
>>>>>>> 4c354cd (Actualización del repositorio)
      "metadata": {
        "id": "I7hOkZrxlpHL",
        "vscode": {
          "languageId": "r"
        }
      },
      "outputs": [],
      "source": [
        "# particionar agrega una columna llamada fold a un dataset\n",
        "#  que consiste en una particion estratificada segun agrupa\n",
        "\n",
        "# particionar( data=dataset, division=c(70,30),\n",
        "#  agrupa=clase_ternaria, seed=semilla)   crea una particion 70, 30\n",
        "\n",
        "particionar <- function(\n",
        "    data, division, agrupa = \"\",\n",
        "    campo = \"fold\", start = 1, seed = NA) {\n",
        "  if (!is.na(seed)) set.seed(seed)\n",
        "\n",
        "  bloque <- unlist(mapply(function(x, y) {\n",
        "    rep(y, x)\n",
        "  }, division, seq(from = start, length.out = length(division))))\n",
        "\n",
        "  data[, (campo) := sample(rep(bloque, ceiling(.N / length(bloque))))[1:.N],\n",
        "    by = agrupa\n",
        "  ]\n",
        "}\n"
      ]
    },
    {
      "cell_type": "code",
<<<<<<< HEAD
      "execution_count": 95,
=======
      "execution_count": null,
>>>>>>> 4c354cd (Actualización del repositorio)
      "metadata": {
        "id": "vFpBSFBYlpHL",
        "vscode": {
          "languageId": "r"
        }
      },
      "outputs": [],
      "source": [
        "DosArbolesEstimarGanancia <- function(semilla, training_pct, param_rpart1, param_rpart2) {\n",
        "  # particiono estratificadamente el dataset\n",
        "  particionar(dataset,\n",
        "    division = c(training_pct, 100L -training_pct),\n",
        "    agrupa = \"clase_ternaria\",\n",
        "    seed = semilla # aqui se usa SU semilla\n",
        "  )\n",
        "\n",
        "  # genero el modelo\n",
        "  # predecir clase_ternaria a partir del resto\n",
        "  modelo1 <- rpart(\"clase_ternaria ~ .\",\n",
        "    data = dataset[fold == 1], # fold==1  es training,  el 70% de los datos\n",
        "    xval = 0,\n",
        "    control = param_rpart1\n",
        "  ) # aqui van los parametros del arbol\n",
        "\n",
        "  # aplico el modelo a los datos de testing\n",
        "  prediccion1 <- predict(modelo1, # el modelo que genere recien\n",
        "    dataset[fold == 2], # fold==2  es testing, el 30% de los datos\n",
        "    type = \"prob\"\n",
        "  ) # type= \"prob\"  es que devuelva la probabilidad\n",
        "\n",
        "\n",
        "  # calculo la ganancia en testing  qu es fold==2\n",
        "  ganancia_test1 <- dataset[\n",
        "    fold == 2,\n",
        "    sum(ifelse(prediccion1[, \"BAJA+2\"] > 0.025,\n",
        "      ifelse(clase_ternaria == \"BAJA+2\", 780000, -20000),\n",
        "      0\n",
        "    ))\n",
        "  ]\n",
        "\n",
        "  # escalo la ganancia como si fuera todo el dataset\n",
        "  ganancia_test_normalizada1 <- ganancia_test1 / (( 100 - training_pct ) / 100 )\n",
        "\n",
        "  modelo2 <- rpart(\"clase_ternaria ~ .\",\n",
        "    data = dataset[fold == 1], # fold==1  es training,  el 70% de los datos\n",
        "    xval = 0,\n",
        "    control = param_rpart2\n",
        "  ) # aqui van los parametros del arbol\n",
        "\n",
        "  # aplico el modelo a los datos de testing\n",
        "  prediccion2 <- predict(modelo2, # el modelo que genere recien\n",
        "    dataset[fold == 2], # fold==2  es testing, el 30% de los datos\n",
        "    type = \"prob\"\n",
        "  ) # type= \"prob\"  es que devuelva la probabilidad\n",
        "\n",
        "\n",
        "  # calculo la ganancia en testing  qu es fold==2\n",
        "  ganancia_test2 <- dataset[\n",
        "    fold == 2,\n",
        "    sum(ifelse(prediccion2[, \"BAJA+2\"] > 0.025,\n",
        "      ifelse(clase_ternaria == \"BAJA+2\", 780000, -20000),\n",
        "      0\n",
        "    ))\n",
        "  ]\n",
        "\n",
        "  # escalo la ganancia como si fuera todo el dataset\n",
        "  ganancia_test_normalizada2 <- ganancia_test2 / (( 100 - training_pct ) / 100 )\n",
        "\n",
        "  return(list(\n",
        "    \"semilla\" = semilla,\n",
        "    \"ganancia1\" = ganancia_test_normalizada1,\n",
        "    \"ganancia2\" = ganancia_test_normalizada2\n",
        "  ))\n",
        "}"
      ]
    },
    {
      "cell_type": "code",
<<<<<<< HEAD
      "execution_count": 96,
=======
      "execution_count": null,
>>>>>>> 4c354cd (Actualización del repositorio)
      "metadata": {
        "id": "Cp8RnA_NmE8g",
        "vscode": {
          "languageId": "r"
        }
      },
      "outputs": [],
      "source": [
        "# 1  ->  el modelo 1 es mejor\n",
        "# 2  ->  el modelo 2 es mejor\n",
        "# 0  ->  No se pudo determinar con el tope de qsemillas_tope\n",
        "\n",
        "\n",
        "MejorArbol <- function( qsemillas_tope, training_pct, param_rpart1, param_rpart2) {\n",
        "\n",
        "  # genero numeros primos\n",
        "  primos <- generate_primes(min = 100000, max = 1000000)\n",
        "  set.seed(PARAM$semilla_primigenia) # inicializo\n",
        "  # me quedo con PARAM$qsemillas   semillas\n",
        "  semillas <- sample(primos, qsemillas_tope )\n",
        "\n",
        "  pvalue <- 1.0\n",
        "  isem <- 1\n",
        "  vgan1 <- c() # almaceno ganancias del modelo1\n",
        "  vgan2 <- c() # almaceno ganancias del modelo2\n",
        "\n",
        "  while( (isem <= qsemillas_tope)  & (pvalue > 0.05) ) {\n",
        "\n",
        "    res <- DosArbolesEstimarGanancia(\n",
        "       semillas[ isem ],\n",
        "       training_pct,\n",
        "       param_rpart1,\n",
        "       param_rpart2\n",
        "    )\n",
        "\n",
        "    vgan1 <- c( vgan1, res$ganancia1 )\n",
        "    vgan2 <- c( vgan2, res$ganancia2 )\n",
        "\n",
        "    wt <- wilcox.test( vgan1, vgan2, paired=TRUE )\n",
        "    pvalue <- wt$p.value\n",
        "\n",
        "    cat( isem, res$ganancia1, res$ganancia2, pvalue, \"\\n\" )\n",
        "    flush.console()\n",
        "    isem <- isem + 1\n",
        "  }\n",
        "\n",
        "  out <- 0\n",
        "\n",
        "  if( pvalue < 0.05 & mean(vgan1) > mean(vgan2)  )  out <- 1\n",
        "  if( pvalue < 0.05 & mean(vgan1) < mean(vgan2)  )  out <- 2\n",
        "\n",
        "\n",
        "  return( list( \"out\" = out,\n",
        "    \"qsemillas\" = length(vgan1),\n",
        "    \"m1\" = mean( vgan1 ),\n",
        "    \"m2\" = mean( vgan2 )\n",
        "   ) )\n",
        "}\n"
      ]
    },
    {
      "cell_type": "code",
      "execution_count": null,
      "metadata": {
        "id": "r1motpfOlpHM",
        "vscode": {
          "languageId": "r"
        }
      },
      "outputs": [],
      "source": [
        "# carpeta de trabajo\n",
        "setwd(\"/content/buckets/b1/exp\")\n",
        "experimento <- \"exp0208\"\n",
        "dir.create(experimento, showWarnings=FALSE)\n",
        "setwd( paste0(\"/content/buckets/b1/exp/\", experimento ))"
      ]
    },
    {
      "cell_type": "code",
<<<<<<< HEAD
      "execution_count": 97,
=======
      "execution_count": null,
>>>>>>> 4c354cd (Actualización del repositorio)
      "metadata": {
        "id": "hT0LaKWumTSu",
        "vscode": {
          "languageId": "r"
        }
      },
<<<<<<< HEAD
      "outputs": [
        {
          "data": {
            "text/html": [
              "978439"
            ],
            "text/latex": [
              "978439"
            ],
            "text/markdown": [
              "978439"
            ],
            "text/plain": [
              "[1] 978439"
            ]
          },
          "metadata": {},
          "output_type": "display_data"
        }
      ],
      "source": [
        "# lectura del dataset\n",
        "#dataset <- fread(\"/content/datasets/competencia_01.csv.gz\")\n",
        "dataset <- fread(\"./competencia_01.csv.gz\")\n",
=======
      "outputs": [],
      "source": [
        "# lectura del dataset\n",
        "dataset <- fread(\"/content/datasets/competencia_01.csv.gz\")\n",
>>>>>>> 4c354cd (Actualización del repositorio)
        "nrow(dataset)"
      ]
    },
    {
      "cell_type": "code",
<<<<<<< HEAD
      "execution_count": 98,
=======
      "execution_count": null,
>>>>>>> 4c354cd (Actualización del repositorio)
      "metadata": {
        "id": "h44RRyhymYR4",
        "vscode": {
          "languageId": "r"
        }
      },
<<<<<<< HEAD
      "outputs": [
        {
          "data": {
            "text/html": [
              "163418"
            ],
            "text/latex": [
              "163418"
            ],
            "text/markdown": [
              "163418"
            ],
            "text/plain": [
              "[1] 163418"
            ]
          },
          "metadata": {},
          "output_type": "display_data"
        },
        {
          "data": {
            "text/html": [
              "<table class=\"dataframe\">\n",
              "<caption>A data.table: 3 × 3</caption>\n",
              "<thead>\n",
              "\t<tr><th scope=col>foto_mes</th><th scope=col>clase_ternaria</th><th scope=col>N</th></tr>\n",
              "\t<tr><th scope=col>&lt;int&gt;</th><th scope=col>&lt;chr&gt;</th><th scope=col>&lt;int&gt;</th></tr>\n",
              "</thead>\n",
              "<tbody>\n",
              "\t<tr><td>202104</td><td>CONTINUA</td><td>161333</td></tr>\n",
              "\t<tr><td>202104</td><td>BAJA+1  </td><td>   955</td></tr>\n",
              "\t<tr><td>202104</td><td>BAJA+2  </td><td>  1130</td></tr>\n",
              "</tbody>\n",
              "</table>\n"
            ],
            "text/latex": [
              "A data.table: 3 × 3\n",
              "\\begin{tabular}{lll}\n",
              " foto\\_mes & clase\\_ternaria & N\\\\\n",
              " <int> & <chr> & <int>\\\\\n",
              "\\hline\n",
              "\t 202104 & CONTINUA & 161333\\\\\n",
              "\t 202104 & BAJA+1   &    955\\\\\n",
              "\t 202104 & BAJA+2   &   1130\\\\\n",
              "\\end{tabular}\n"
            ],
            "text/markdown": [
              "\n",
              "A data.table: 3 × 3\n",
              "\n",
              "| foto_mes &lt;int&gt; | clase_ternaria &lt;chr&gt; | N &lt;int&gt; |\n",
              "|---|---|---|\n",
              "| 202104 | CONTINUA | 161333 |\n",
              "| 202104 | BAJA+1   |    955 |\n",
              "| 202104 | BAJA+2   |   1130 |\n",
              "\n"
            ],
            "text/plain": [
              "  foto_mes clase_ternaria N     \n",
              "1 202104   CONTINUA       161333\n",
              "2 202104   BAJA+1            955\n",
              "3 202104   BAJA+2           1130"
            ]
          },
          "metadata": {},
          "output_type": "display_data"
        }
      ],
=======
      "outputs": [],
>>>>>>> 4c354cd (Actualización del repositorio)
      "source": [
        "# trabajo solo con los datos de 202104, ultimo mes con clase_ternaria completa\n",
        "# filtro datos\n",
        "dataset <- dataset[foto_mes==202104]\n",
        "\n",
        "invisible(gc(full=TRUE, verbose=FALSE)) # garbage collection\n",
        "\n",
        "nrow(dataset)\n",
        "dataset[, .N, list(foto_mes,clase_ternaria)]"
      ]
    },
    {
      "cell_type": "code",
<<<<<<< HEAD
      "execution_count": 99,
=======
      "execution_count": null,
>>>>>>> 4c354cd (Actualización del repositorio)
      "metadata": {
        "id": "wsk0F77ambVW",
        "vscode": {
          "languageId": "r"
        }
      },
<<<<<<< HEAD
      "outputs": [
        {
          "data": {
            "text/plain": [
              "[1] \"2025-08-27 20:20:01 -03\""
            ]
          },
          "metadata": {},
          "output_type": "display_data"
        },
        {
          "name": "stdout",
          "output_type": "stream",
          "text": [
            "1 304400000 3.02e+08 1 \n",
            "2 269533333 2.64e+08 0.5 \n",
            "3 288333333 268333333 0.25 \n",
            "4 302600000 287200000 0.125 \n",
            "5 274866667 285133333 0.3125 \n",
            "6 308800000 284600000 0.15625 \n",
            "7 310400000 299933333 0.078125 \n",
            "8 246066667 259400000 0.1953125 \n",
            "9 259133333 265533333 0.3007812 \n",
            "10 322733333 327466667 0.375 \n",
            "11 288933333 301266667 0.5771484 \n",
            "12 295933333 277266667 0.3393555 \n",
            "13 329400000 332333333 0.4143066 \n",
            "14 268933333 266733333 0.4262695 \n"
          ]
        },
        {
          "name": "stderr",
          "output_type": "stream",
          "text": [
            "Warning message in wilcox.test.default(vgan1, vgan2, paired = TRUE):\n",
            "\"cannot compute exact p-value with ties\"\n"
          ]
        },
        {
          "name": "stdout",
          "output_type": "stream",
          "text": [
            "15 320200000 317800000 0.4101039 \n"
          ]
        },
        {
          "name": "stderr",
          "output_type": "stream",
          "text": [
            "Warning message in wilcox.test.default(vgan1, vgan2, paired = TRUE):\n",
            "\"cannot compute exact p-value with ties\"\n"
          ]
        },
        {
          "name": "stdout",
          "output_type": "stream",
          "text": [
            "16 273866667 3e+08 0.7367478 \n"
          ]
        },
        {
          "name": "stderr",
          "output_type": "stream",
          "text": [
            "Warning message in wilcox.test.default(vgan1, vgan2, paired = TRUE):\n",
            "\"cannot compute exact p-value with ties\"\n"
          ]
        },
        {
          "name": "stdout",
          "output_type": "stream",
          "text": [
            "17 303266667 294666667 0.6025116 \n"
          ]
        },
        {
          "name": "stderr",
          "output_type": "stream",
          "text": [
            "Warning message in wilcox.test.default(vgan1, vgan2, paired = TRUE):\n",
            "\"cannot compute exact p-value with ties\"\n"
          ]
        },
        {
          "name": "stdout",
          "output_type": "stream",
          "text": [
            "18 280866667 300466667 0.8616909 \n"
          ]
        },
        {
          "name": "stderr",
          "output_type": "stream",
          "text": [
            "Warning message in wilcox.test.default(vgan1, vgan2, paired = TRUE):\n",
            "\"cannot compute exact p-value with ties\"\n"
          ]
        },
        {
          "name": "stdout",
          "output_type": "stream",
          "text": [
            "19 309866667 306200000 0.7936293 \n"
          ]
        },
        {
          "name": "stderr",
          "output_type": "stream",
          "text": [
            "Warning message in wilcox.test.default(vgan1, vgan2, paired = TRUE):\n",
            "\"cannot compute exact p-value with ties\"\n"
          ]
        },
        {
          "name": "stdout",
          "output_type": "stream",
          "text": [
            "20 263800000 249866667 0.588252 \n"
          ]
        },
        {
          "name": "stderr",
          "output_type": "stream",
          "text": [
            "Warning message in wilcox.test.default(vgan1, vgan2, paired = TRUE):\n",
            "\"cannot compute exact p-value with ties\"\n"
          ]
        },
        {
          "name": "stdout",
          "output_type": "stream",
          "text": [
            "21 316333333 286066667 0.3848434 \n"
          ]
        },
        {
          "name": "stderr",
          "output_type": "stream",
          "text": [
            "Warning message in wilcox.test.default(vgan1, vgan2, paired = TRUE):\n",
            "\"cannot compute exact p-value with ties\"\n"
          ]
        },
        {
          "name": "stdout",
          "output_type": "stream",
          "text": [
            "22 280533333 288866667 0.475047 \n"
          ]
        },
        {
          "name": "stderr",
          "output_type": "stream",
          "text": [
            "Warning message in wilcox.test.default(vgan1, vgan2, paired = TRUE):\n",
            "\"cannot compute exact p-value with ties\"\n"
          ]
        },
        {
          "name": "stdout",
          "output_type": "stream",
          "text": [
            "23 301533333 302066667 0.4747371 \n"
          ]
        },
        {
          "name": "stderr",
          "output_type": "stream",
          "text": [
            "Warning message in wilcox.test.default(vgan1, vgan2, paired = TRUE):\n",
            "\"cannot compute exact p-value with ties\"\n"
          ]
        },
        {
          "name": "stdout",
          "output_type": "stream",
          "text": [
            "24 307333333 323200000 0.6578527 \n"
          ]
        },
        {
          "name": "stderr",
          "output_type": "stream",
          "text": [
            "Warning message in wilcox.test.default(vgan1, vgan2, paired = TRUE):\n",
            "\"cannot compute exact p-value with ties\"\n"
          ]
        },
        {
          "name": "stdout",
          "output_type": "stream",
          "text": [
            "25 264200000 277400000 0.808646 \n"
          ]
        },
        {
          "name": "stderr",
          "output_type": "stream",
          "text": [
            "Warning message in wilcox.test.default(vgan1, vgan2, paired = TRUE):\n",
            "\"cannot compute exact p-value with ties\"\n"
          ]
        },
        {
          "name": "stdout",
          "output_type": "stream",
          "text": [
            "26 287866667 302333333 0.9797367 \n"
          ]
        },
        {
          "name": "stderr",
          "output_type": "stream",
          "text": [
            "Warning message in wilcox.test.default(vgan1, vgan2, paired = TRUE):\n",
            "\"cannot compute exact p-value with ties\"\n"
          ]
        },
        {
          "name": "stdout",
          "output_type": "stream",
          "text": [
            "27 291533333 298866667 0.9329845 \n"
          ]
        },
        {
          "name": "stderr",
          "output_type": "stream",
          "text": [
            "Warning message in wilcox.test.default(vgan1, vgan2, paired = TRUE):\n",
            "\"cannot compute exact p-value with ties\"\n"
          ]
        },
        {
          "name": "stdout",
          "output_type": "stream",
          "text": [
            "28 243400000 252133333 0.8110221 \n"
          ]
        },
        {
          "name": "stderr",
          "output_type": "stream",
          "text": [
            "Warning message in wilcox.test.default(vgan1, vgan2, paired = TRUE):\n",
            "\"cannot compute exact p-value with ties\"\n"
          ]
        },
        {
          "name": "stdout",
          "output_type": "stream",
          "text": [
            "29 321133333 329466667 0.7131597 \n"
          ]
        },
        {
          "name": "stderr",
          "output_type": "stream",
          "text": [
            "Warning message in wilcox.test.default(vgan1, vgan2, paired = TRUE):\n",
            "\"cannot compute exact p-value with ties\"\n"
          ]
        },
        {
          "name": "stdout",
          "output_type": "stream",
          "text": [
            "30 310533333 330600000 0.5371801 \n"
          ]
        },
        {
          "name": "stderr",
          "output_type": "stream",
          "text": [
            "Warning message in wilcox.test.default(vgan1, vgan2, paired = TRUE):\n",
            "\"cannot compute exact p-value with ties\"\n"
          ]
        },
        {
          "name": "stdout",
          "output_type": "stream",
          "text": [
            "31 296266667 308466667 0.4388712 \n"
          ]
        },
        {
          "name": "stderr",
          "output_type": "stream",
          "text": [
            "Warning message in wilcox.test.default(vgan1, vgan2, paired = TRUE):\n",
            "\"cannot compute exact p-value with ties\"\n"
          ]
        },
        {
          "name": "stdout",
          "output_type": "stream",
          "text": [
            "32 286333333 283066667 0.4601254 \n"
          ]
        },
        {
          "name": "stderr",
          "output_type": "stream",
          "text": [
            "Warning message in wilcox.test.default(vgan1, vgan2, paired = TRUE):\n",
            "\"cannot compute exact p-value with ties\"\n"
          ]
        },
        {
          "name": "stdout",
          "output_type": "stream",
          "text": [
            "33 282400000 272333333 0.5554173 \n"
          ]
        },
        {
          "name": "stderr",
          "output_type": "stream",
          "text": [
            "Warning message in wilcox.test.default(vgan1, vgan2, paired = TRUE):\n",
            "\"cannot compute exact p-value with ties\"\n"
          ]
        },
        {
          "name": "stdout",
          "output_type": "stream",
          "text": [
            "34 245866667 245266667 0.5726142 \n"
          ]
        },
        {
          "name": "stderr",
          "output_type": "stream",
          "text": [
            "Warning message in wilcox.test.default(vgan1, vgan2, paired = TRUE):\n",
            "\"cannot compute exact p-value with ties\"\n"
          ]
        },
        {
          "name": "stdout",
          "output_type": "stream",
          "text": [
            "35 320600000 316733333 0.6058821 \n"
          ]
        },
        {
          "name": "stderr",
          "output_type": "stream",
          "text": [
            "Warning message in wilcox.test.default(vgan1, vgan2, paired = TRUE):\n",
            "\"cannot compute exact p-value with ties\"\n"
          ]
        },
        {
          "name": "stdout",
          "output_type": "stream",
          "text": [
            "36 301200000 267866667 0.8320296 \n"
          ]
        },
        {
          "name": "stderr",
          "output_type": "stream",
          "text": [
            "Warning message in wilcox.test.default(vgan1, vgan2, paired = TRUE):\n",
            "\"cannot compute exact p-value with ties\"\n"
          ]
        },
        {
          "name": "stdout",
          "output_type": "stream",
          "text": [
            "37 301733333 301666667 0.8445105 \n"
          ]
        },
        {
          "name": "stderr",
          "output_type": "stream",
          "text": [
            "Warning message in wilcox.test.default(vgan1, vgan2, paired = TRUE):\n",
            "\"cannot compute exact p-value with ties\"\n"
          ]
        },
        {
          "name": "stdout",
          "output_type": "stream",
          "text": [
            "38 298200000 288600000 0.9537402 \n"
          ]
        },
        {
          "name": "stderr",
          "output_type": "stream",
          "text": [
            "Warning message in wilcox.test.default(vgan1, vgan2, paired = TRUE):\n",
            "\"cannot compute exact p-value with ties\"\n"
          ]
        },
        {
          "name": "stdout",
          "output_type": "stream",
          "text": [
            "39 295800000 288466667 0.9888655 \n"
          ]
        },
        {
          "name": "stderr",
          "output_type": "stream",
          "text": [
            "Warning message in wilcox.test.default(vgan1, vgan2, paired = TRUE):\n",
            "\"cannot compute exact p-value with ties\"\n"
          ]
        },
        {
          "name": "stdout",
          "output_type": "stream",
          "text": [
            "40 313066667 299066667 0.8297143 \n"
          ]
        },
        {
          "name": "stderr",
          "output_type": "stream",
          "text": [
            "Warning message in wilcox.test.default(vgan1, vgan2, paired = TRUE):\n",
            "\"cannot compute exact p-value with ties\"\n"
          ]
        },
        {
          "name": "stdout",
          "output_type": "stream",
          "text": [
            "41 2.85e+08 275200000 0.7312921 \n"
          ]
        },
        {
          "name": "stderr",
          "output_type": "stream",
          "text": [
            "Warning message in wilcox.test.default(vgan1, vgan2, paired = TRUE):\n",
            "\"cannot compute exact p-value with ties\"\n"
          ]
        },
        {
          "name": "stdout",
          "output_type": "stream",
          "text": [
            "42 277933333 2.92e+08 0.8856613 \n"
          ]
        },
        {
          "name": "stderr",
          "output_type": "stream",
          "text": [
            "Warning message in wilcox.test.default(vgan1, vgan2, paired = TRUE):\n",
            "\"cannot compute exact p-value with ties\"\n"
          ]
        },
        {
          "name": "stdout",
          "output_type": "stream",
          "text": [
            "43 293800000 289466667 0.8467988 \n"
          ]
        },
        {
          "name": "stderr",
          "output_type": "stream",
          "text": [
            "Warning message in wilcox.test.default(vgan1, vgan2, paired = TRUE):\n",
            "\"cannot compute exact p-value with ties\"\n"
          ]
        },
        {
          "name": "stdout",
          "output_type": "stream",
          "text": [
            "44 304866667 298933333 0.7973712 \n"
          ]
        },
        {
          "name": "stderr",
          "output_type": "stream",
          "text": [
            "Warning message in wilcox.test.default(vgan1, vgan2, paired = TRUE):\n",
            "\"cannot compute exact p-value with ties\"\n"
          ]
        },
        {
          "name": "stdout",
          "output_type": "stream",
          "text": [
            "45 328933333 314400000 0.6475584 \n"
          ]
        },
        {
          "name": "stderr",
          "output_type": "stream",
          "text": [
            "Warning message in wilcox.test.default(vgan1, vgan2, paired = TRUE):\n",
            "\"cannot compute exact p-value with ties\"\n"
          ]
        },
        {
          "name": "stdout",
          "output_type": "stream",
          "text": [
            "46 276666667 282400000 0.7143589 \n"
          ]
        },
        {
          "name": "stderr",
          "output_type": "stream",
          "text": [
            "Warning message in wilcox.test.default(vgan1, vgan2, paired = TRUE):\n",
            "\"cannot compute exact p-value with ties\"\n"
          ]
        },
        {
          "name": "stdout",
          "output_type": "stream",
          "text": [
            "47 296066667 276066667 0.5605458 \n"
          ]
        },
        {
          "name": "stderr",
          "output_type": "stream",
          "text": [
            "Warning message in wilcox.test.default(vgan1, vgan2, paired = TRUE):\n",
            "\"cannot compute exact p-value with ties\"\n"
          ]
        },
        {
          "name": "stdout",
          "output_type": "stream",
          "text": [
            "48 308200000 332533333 0.735007 \n"
          ]
        },
        {
          "name": "stderr",
          "output_type": "stream",
          "text": [
            "Warning message in wilcox.test.default(vgan1, vgan2, paired = TRUE):\n",
            "\"cannot compute exact p-value with ties\"\n"
          ]
        },
        {
          "name": "stdout",
          "output_type": "stream",
          "text": [
            "49 281733333 308800000 0.9168134 \n",
            "50 3.2e+08 297866667 0.7537208 \n",
            "$out\n",
            "[1] 0\n",
            "\n",
            "$qsemillas\n",
            "[1] 50\n",
            "\n",
            "$m1\n",
            "[1] 293220000\n",
            "\n",
            "$m2\n",
            "[1] 292408000\n",
            "\n"
          ]
        },
        {
          "data": {
            "text/plain": [
              "[1] \"2025-08-27 21:05:50 -03\""
            ]
          },
          "metadata": {},
          "output_type": "display_data"
        }
      ],
=======
      "outputs": [],
>>>>>>> 4c354cd (Actualización del repositorio)
      "source": [
        "Sys.time()\n",
        "\n",
        "comparacion <- MejorArbol(\n",
        "   PARAM$qsemillas_tope,\n",
        "   PARAM$training_pct,\n",
        "   PARAM$rpart1,\n",
        "   PARAM$rpart2\n",
        " )\n",
        "\n",
        "\n",
        "print( comparacion )\n",
        "\n",
        "Sys.time()"
      ]
    },
    {
      "cell_type": "markdown",
      "metadata": {
        "id": "d2br1bgJlpHQ"
      },
      "source": [
        "### Acciones a realizar\n",
        "* Reportar la  los resultados en la planilla colaborativa hoja  **C2-Wilcox**\n"
      ]
    },
    {
      "cell_type": "markdown",
      "metadata": {
        "id": "x7SebtV2lpHQ"
      },
      "source": [
        "\n",
        "\n",
        "---\n",
        "\n"
      ]
    }
  ],
  "metadata": {
    "colab": {
      "provenance": []
    },
    "kernelspec": {
      "display_name": "R",
      "language": "R",
      "name": "ir"
    },
    "language_info": {
      "codemirror_mode": "r",
      "file_extension": ".r",
      "mimetype": "text/x-r-source",
      "name": "R",
      "pygments_lexer": "r",
<<<<<<< HEAD
      "version": "4.5.1"
=======
      "version": "4.4.3"
>>>>>>> 4c354cd (Actualización del repositorio)
    }
  },
  "nbformat": 4,
  "nbformat_minor": 0
}
